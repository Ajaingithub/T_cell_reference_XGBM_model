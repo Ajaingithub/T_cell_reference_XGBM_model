{
 "cells": [
  {
   "cell_type": "code",
   "execution_count": 1,
   "id": "ffbee927",
   "metadata": {},
   "outputs": [],
   "source": [
    "import pandas as pd\n",
    "CD4 = pd.read_csv(\"/research/labs/immunology/goronzy_weyand/GoronzyLab_Mayo/Abhinav/scCITESeq/Ines/Run02_and_Run03_analysis/downstream_analysis/Integrated_Run/Table/CD4_RNA_ADT_merged_2.csv\", \n",
    "                  index_col=[0])\n"
   ]
  },
  {
   "cell_type": "markdown",
   "id": "b8a15142",
   "metadata": {},
   "source": [
    "new_list = old_list\n",
    "As you can see from the output both variables old_list and new_list share the same id i.e 140673303268168.\n",
    "So, if you want to modify any values in new_list or old_list, the change is visible in both.\n",
    "In the above program, we use deepcopy() function to create copy which looks similar.\n",
    "However, if you make changes to any nested objects in original object old_list, you’ll see no changes to the copy new_list.\n"
   ]
  },
  {
   "cell_type": "code",
   "execution_count": 2,
   "id": "2f6dc7af",
   "metadata": {},
   "outputs": [],
   "source": [
    "# simply assigning it using \"=\" make changes in the variable \n",
    "import copy\n",
    "CD4_3 = copy.deepcopy(CD4)"
   ]
  },
  {
   "cell_type": "code",
   "execution_count": 2,
   "id": "1f21ab24",
   "metadata": {},
   "outputs": [
    {
     "data": {
      "text/plain": [
       "[]"
      ]
     },
     "execution_count": 2,
     "metadata": {},
     "output_type": "execute_result"
    }
   ],
   "source": [
    "who_ls"
   ]
  },
  {
   "cell_type": "code",
   "execution_count": 4,
   "id": "d1cfbc7d",
   "metadata": {},
   "outputs": [
    {
     "data": {
      "text/plain": [
       "'3.9.9 | packaged by conda-forge | (main, Dec 20 2021, 02:41:03) \\n[GCC 9.4.0]'"
      ]
     },
     "execution_count": 4,
     "metadata": {},
     "output_type": "execute_result"
    }
   ],
   "source": [
    "import sys\n",
    "sys.version"
   ]
  },
  {
   "cell_type": "code",
   "execution_count": 6,
   "id": "a5c4a512",
   "metadata": {},
   "outputs": [
    {
     "name": "stdout",
     "output_type": "stream",
     "text": [
      "(22188, 19961)\n",
      "(22188, 19961)\n"
     ]
    }
   ],
   "source": [
    "print(CD4_3.shape)\n",
    "print(CD4.shape)"
   ]
  },
  {
   "cell_type": "markdown",
   "id": "7e0c65ef",
   "metadata": {},
   "source": [
    "# Building a proper model with optimization"
   ]
  },
  {
   "cell_type": "code",
   "execution_count": 99,
   "id": "b0aba4e3",
   "metadata": {},
   "outputs": [],
   "source": [
    "## Data Cleaning\n",
    "## Removing the column with values less than 0.1%\n",
    "from numpy import unique\n",
    "# making a list to append to it\n",
    "res = []\n",
    "res1 = []\n",
    "res2 = []\n",
    "res3 = []\n",
    "for i in range(CD4_3.shape[1]):\n",
    "    num = len(unique(CD4_3.iloc[:,i]))\n",
    "    percentage = float(num) / CD4_3.shape[0] * 100\n",
    "    if percentage < 0.1:\n",
    "        res.append(i)\n",
    "        res1.append(num)\n",
    "        res2.append(percentage)"
   ]
  },
  {
   "cell_type": "code",
   "execution_count": 101,
   "id": "462c66ff",
   "metadata": {
    "collapsed": true
   },
   "outputs": [
    {
     "name": "stdout",
     "output_type": "stream",
     "text": [
      "      index  num  percentage\n",
      "0        49   20    0.090139\n",
      "1       110    4    0.018028\n",
      "2       159    9    0.040562\n",
      "3       190   13    0.058590\n",
      "4       194   21    0.094646\n",
      "...     ...  ...         ...\n",
      "4162  19916    4    0.018028\n",
      "4163  19917    2    0.009014\n",
      "4164  19918    2    0.009014\n",
      "4165  19919    3    0.013521\n",
      "4166  19960    9    0.040562\n",
      "\n",
      "[4167 rows x 3 columns]\n",
      "(4167, 3)\n"
     ]
    }
   ],
   "source": [
    "# converting the list to dataframe. the process is List -> Dict -> Dataframe\n",
    "d = {'index':res,'num':res1,'percentage':res2}\n",
    "df=pd.DataFrame(d)\n",
    "print(df)\n",
    "print(df.shape)"
   ]
  },
  {
   "cell_type": "code",
   "execution_count": 112,
   "id": "830f2b42",
   "metadata": {
    "collapsed": true
   },
   "outputs": [
    {
     "data": {
      "text/plain": [
       "0.000000    22169\n",
       "1.517320        1\n",
       "0.969513        1\n",
       "0.692298        1\n",
       "1.102763        1\n",
       "0.908149        1\n",
       "0.450061        1\n",
       "0.507067        1\n",
       "0.510133        1\n",
       "0.569210        1\n",
       "0.709593        1\n",
       "0.675241        1\n",
       "0.767173        1\n",
       "0.504819        1\n",
       "1.022448        1\n",
       "0.577761        1\n",
       "0.952861        1\n",
       "1.224736        1\n",
       "0.874397        1\n",
       "0.858265        1\n",
       "Name: AL109917.1, dtype: int64"
      ]
     },
     "execution_count": 112,
     "metadata": {},
     "output_type": "execute_result"
    }
   ],
   "source": [
    "# just checking that it is removing the correct column\n",
    "CD4.iloc[:,49].value_counts()"
   ]
  },
  {
   "cell_type": "code",
   "execution_count": 113,
   "id": "0a6632e0",
   "metadata": {},
   "outputs": [
    {
     "name": "stdout",
     "output_type": "stream",
     "text": [
      "(22188, 19961)\n",
      "(22188, 15796)\n"
     ]
    }
   ],
   "source": [
    "print(CD4_3.shape)\n",
    "CD4_3.drop(CD4_3.columns[res[0:4165]], axis=1,inplace=True)\n",
    "print(CD4_3.shape)"
   ]
  },
  {
   "cell_type": "code",
   "execution_count": 242,
   "id": "873aed8e",
   "metadata": {
    "collapsed": true
   },
   "outputs": [
    {
     "data": {
      "text/plain": [
       "[49,\n",
       " 110,\n",
       " 159,\n",
       " 190,\n",
       " 194,\n",
       " 199,\n",
       " 304,\n",
       " 340,\n",
       " 368,\n",
       " 405,\n",
       " 430,\n",
       " 436,\n",
       " 457,\n",
       " 462,\n",
       " 467,\n",
       " 478,\n",
       " 480,\n",
       " 501,\n",
       " 505,\n",
       " 528,\n",
       " 554,\n",
       " 561,\n",
       " 580,\n",
       " 603,\n",
       " 607,\n",
       " 613,\n",
       " 620,\n",
       " 624,\n",
       " 649,\n",
       " 650,\n",
       " 653,\n",
       " 656,\n",
       " 657,\n",
       " 660,\n",
       " 699,\n",
       " 707,\n",
       " 738,\n",
       " 741,\n",
       " 747,\n",
       " 760,\n",
       " 795,\n",
       " 829,\n",
       " 844,\n",
       " 869,\n",
       " 874,\n",
       " 884,\n",
       " 899,\n",
       " 903,\n",
       " 908,\n",
       " 931,\n",
       " 943,\n",
       " 974,\n",
       " 1024,\n",
       " 1025,\n",
       " 1028,\n",
       " 1033,\n",
       " 1035,\n",
       " 1065,\n",
       " 1076,\n",
       " 1087,\n",
       " 1099,\n",
       " 1127,\n",
       " 1128,\n",
       " 1140,\n",
       " 1142,\n",
       " 1145,\n",
       " 1157,\n",
       " 1170,\n",
       " 1203,\n",
       " 1233,\n",
       " 1257,\n",
       " 1299,\n",
       " 1310,\n",
       " 1339,\n",
       " 1340,\n",
       " 1355,\n",
       " 1367,\n",
       " 1378,\n",
       " 1380,\n",
       " 1390,\n",
       " 1407,\n",
       " 1410,\n",
       " 1415,\n",
       " 1423,\n",
       " 1426,\n",
       " 1430,\n",
       " 1445,\n",
       " 1452,\n",
       " 1464,\n",
       " 1468,\n",
       " 1472,\n",
       " 1488,\n",
       " 1491,\n",
       " 1500,\n",
       " 1509,\n",
       " 1516,\n",
       " 1519,\n",
       " 1526,\n",
       " 1536,\n",
       " 1585,\n",
       " 1600,\n",
       " 1602,\n",
       " 1613,\n",
       " 1620,\n",
       " 1623,\n",
       " 1630,\n",
       " 1632,\n",
       " 1639,\n",
       " 1652,\n",
       " 1662,\n",
       " 1668,\n",
       " 1673,\n",
       " 1674,\n",
       " 1675,\n",
       " 1676,\n",
       " 1686,\n",
       " 1721,\n",
       " 1726,\n",
       " 1727,\n",
       " 1737,\n",
       " 1749,\n",
       " 1750,\n",
       " 1759,\n",
       " 1770,\n",
       " 1786,\n",
       " 1789,\n",
       " 1816,\n",
       " 1828,\n",
       " 1839,\n",
       " 1848,\n",
       " 1877,\n",
       " 1878,\n",
       " 1883,\n",
       " 1885,\n",
       " 1909,\n",
       " 1953,\n",
       " 1961,\n",
       " 1963,\n",
       " 1976,\n",
       " 1984,\n",
       " 2024,\n",
       " 2059,\n",
       " 2072,\n",
       " 2079,\n",
       " 2095,\n",
       " 2109,\n",
       " 2133,\n",
       " 2149,\n",
       " 2154,\n",
       " 2184,\n",
       " 2222,\n",
       " 2230,\n",
       " 2236,\n",
       " 2251,\n",
       " 2257,\n",
       " 2295,\n",
       " 2299,\n",
       " 2336,\n",
       " 2368,\n",
       " 2385,\n",
       " 2387,\n",
       " 2393,\n",
       " 2394,\n",
       " 2403,\n",
       " 2416,\n",
       " 2452,\n",
       " 2458,\n",
       " 2462,\n",
       " 2469,\n",
       " 2475,\n",
       " 2476,\n",
       " 2491,\n",
       " 2518,\n",
       " 2555,\n",
       " 2586,\n",
       " 2601,\n",
       " 2621,\n",
       " 2622,\n",
       " 2640,\n",
       " 2658,\n",
       " 2661,\n",
       " 2682,\n",
       " 2694,\n",
       " 2697,\n",
       " 2699,\n",
       " 2720,\n",
       " 2721,\n",
       " 2791,\n",
       " 2869,\n",
       " 2932,\n",
       " 2958,\n",
       " 2965,\n",
       " 2977,\n",
       " 2983,\n",
       " 3004,\n",
       " 3023,\n",
       " 3027,\n",
       " 3075,\n",
       " 3146,\n",
       " 3147,\n",
       " 3194,\n",
       " 3217,\n",
       " 3239,\n",
       " 3265,\n",
       " 3309,\n",
       " 3316,\n",
       " 3324,\n",
       " 3334,\n",
       " 3348,\n",
       " 3352,\n",
       " 3367,\n",
       " 3369,\n",
       " 3387,\n",
       " 3402,\n",
       " 3426,\n",
       " 3431,\n",
       " 3467,\n",
       " 3515,\n",
       " 3523,\n",
       " 3529,\n",
       " 3552,\n",
       " 3558,\n",
       " 3575,\n",
       " 3578,\n",
       " 3579,\n",
       " 3597,\n",
       " 3601,\n",
       " 3613,\n",
       " 3619,\n",
       " 3630,\n",
       " 3644,\n",
       " 3668,\n",
       " 3679,\n",
       " 3680,\n",
       " 3764,\n",
       " 3771,\n",
       " 3776,\n",
       " 3779,\n",
       " 3782,\n",
       " 3786,\n",
       " 3787,\n",
       " 3804,\n",
       " 3822,\n",
       " 3826,\n",
       " 3834,\n",
       " 3845,\n",
       " 3849,\n",
       " 3851,\n",
       " 3883,\n",
       " 3891,\n",
       " 3908,\n",
       " 3917,\n",
       " 3920,\n",
       " 3921,\n",
       " 3940,\n",
       " 3946,\n",
       " 3982,\n",
       " 4000,\n",
       " 4005,\n",
       " 4032,\n",
       " 4041,\n",
       " 4043,\n",
       " 4059,\n",
       " 4070,\n",
       " 4079,\n",
       " 4084,\n",
       " 4085,\n",
       " 4095,\n",
       " 4097,\n",
       " 4101,\n",
       " 4128,\n",
       " 4139,\n",
       " 4147,\n",
       " 4154,\n",
       " 4169,\n",
       " 4176,\n",
       " 4191,\n",
       " 4197,\n",
       " 4209,\n",
       " 4219,\n",
       " 4252,\n",
       " 4295,\n",
       " 4296,\n",
       " 4299,\n",
       " 4302,\n",
       " 4312,\n",
       " 4320,\n",
       " 4353,\n",
       " 4354,\n",
       " 4381,\n",
       " 4386,\n",
       " 4399,\n",
       " 4409,\n",
       " 4423,\n",
       " 4461,\n",
       " 4475,\n",
       " 4556,\n",
       " 4567,\n",
       " 4569,\n",
       " 4584,\n",
       " 4589,\n",
       " 4606,\n",
       " 4615,\n",
       " 4618,\n",
       " 4625,\n",
       " 4630,\n",
       " 4632,\n",
       " 4666,\n",
       " 4670,\n",
       " 4705,\n",
       " 4738,\n",
       " 4754,\n",
       " 4756,\n",
       " 4757,\n",
       " 4760,\n",
       " 4767,\n",
       " 4791,\n",
       " 4795,\n",
       " 4800,\n",
       " 4801,\n",
       " 4829,\n",
       " 4845,\n",
       " 4862,\n",
       " 4892,\n",
       " 4906,\n",
       " 4916,\n",
       " 4948,\n",
       " 4953,\n",
       " 4954,\n",
       " 4961,\n",
       " 4965,\n",
       " 4967,\n",
       " 4970,\n",
       " 4973,\n",
       " 4986,\n",
       " 4998,\n",
       " 5000,\n",
       " 5001,\n",
       " 5020,\n",
       " 5032,\n",
       " 5045,\n",
       " 5060,\n",
       " 5065,\n",
       " 5073,\n",
       " 5112,\n",
       " 5123,\n",
       " 5135,\n",
       " 5167,\n",
       " 5169,\n",
       " 5174,\n",
       " 5184,\n",
       " 5217,\n",
       " 5230,\n",
       " 5240,\n",
       " 5251,\n",
       " 5267,\n",
       " 5311,\n",
       " 5361,\n",
       " 5368,\n",
       " 5373,\n",
       " 5403,\n",
       " 5419,\n",
       " 5422,\n",
       " 5423,\n",
       " 5457,\n",
       " 5461,\n",
       " 5472,\n",
       " 5483,\n",
       " 5486,\n",
       " 5514,\n",
       " 5580,\n",
       " 5584,\n",
       " 5590,\n",
       " 5606,\n",
       " 5620,\n",
       " 5623,\n",
       " 5627,\n",
       " 5635,\n",
       " 5647,\n",
       " 5651,\n",
       " 5652,\n",
       " 5667,\n",
       " 5668,\n",
       " 5683,\n",
       " 5720,\n",
       " 5749,\n",
       " 5760,\n",
       " 5777,\n",
       " 5783,\n",
       " 5814,\n",
       " 5815,\n",
       " 5816,\n",
       " 5823,\n",
       " 5829,\n",
       " 5838,\n",
       " 5854,\n",
       " 5888,\n",
       " 5900,\n",
       " 5908,\n",
       " 5922,\n",
       " 5931,\n",
       " 5935,\n",
       " 5937,\n",
       " 5948,\n",
       " 5953,\n",
       " 5954,\n",
       " 5961,\n",
       " 5962,\n",
       " 5984,\n",
       " 5986,\n",
       " 6015,\n",
       " 6017,\n",
       " 6018,\n",
       " 6021,\n",
       " 6026,\n",
       " 6031,\n",
       " 6033,\n",
       " 6047,\n",
       " 6061,\n",
       " 6068,\n",
       " 6095,\n",
       " 6107,\n",
       " 6117,\n",
       " 6186,\n",
       " 6187,\n",
       " 6201,\n",
       " 6209,\n",
       " 6218,\n",
       " 6223,\n",
       " 6228,\n",
       " 6230,\n",
       " 6241,\n",
       " 6259,\n",
       " 6267,\n",
       " 6288,\n",
       " 6289,\n",
       " 6301,\n",
       " 6306,\n",
       " 6365,\n",
       " 6369,\n",
       " 6379,\n",
       " 6384,\n",
       " 6387,\n",
       " 6398,\n",
       " 6401,\n",
       " 6426,\n",
       " 6435,\n",
       " 6502,\n",
       " 6516,\n",
       " 6519,\n",
       " 6528,\n",
       " 6576,\n",
       " 6613,\n",
       " 6623,\n",
       " 6637,\n",
       " 6641,\n",
       " 6647,\n",
       " 6666,\n",
       " 6677,\n",
       " 6678,\n",
       " 6684,\n",
       " 6700,\n",
       " 6740,\n",
       " 6757,\n",
       " 6765,\n",
       " 6769,\n",
       " 6773,\n",
       " 6799,\n",
       " 6812,\n",
       " 6813,\n",
       " 6820,\n",
       " 6854,\n",
       " 6857,\n",
       " 6876,\n",
       " 6879,\n",
       " 6947,\n",
       " 6965,\n",
       " 6977,\n",
       " 7007,\n",
       " 7011,\n",
       " 7013,\n",
       " 7021,\n",
       " 7029,\n",
       " 7048,\n",
       " 7061,\n",
       " 7080,\n",
       " 7081,\n",
       " 7086,\n",
       " 7087,\n",
       " 7092,\n",
       " 7101,\n",
       " 7122,\n",
       " 7126,\n",
       " 7129,\n",
       " 7141,\n",
       " 7152,\n",
       " 7165,\n",
       " 7168,\n",
       " 7224,\n",
       " 7241,\n",
       " 7260,\n",
       " 7276,\n",
       " 7292,\n",
       " 7339,\n",
       " 7350,\n",
       " 7368,\n",
       " 7376,\n",
       " 7396,\n",
       " 7398,\n",
       " 7401,\n",
       " 7404,\n",
       " 7409,\n",
       " 7427,\n",
       " 7444,\n",
       " 7465,\n",
       " 7475,\n",
       " 7479,\n",
       " 7487,\n",
       " 7493,\n",
       " 7504,\n",
       " 7590,\n",
       " 7615,\n",
       " 7629,\n",
       " 7645,\n",
       " 7656,\n",
       " 7662,\n",
       " 7663,\n",
       " 7737,\n",
       " 7760,\n",
       " 7764,\n",
       " 7773,\n",
       " 7796,\n",
       " 7832,\n",
       " 7833,\n",
       " 7886,\n",
       " 7909,\n",
       " 7911,\n",
       " 7949,\n",
       " 7950,\n",
       " 7960,\n",
       " 7988,\n",
       " 7995,\n",
       " 7997,\n",
       " 8002,\n",
       " 8020,\n",
       " 8022,\n",
       " 8031,\n",
       " 8050,\n",
       " 8098,\n",
       " 8104,\n",
       " 8107,\n",
       " 8115,\n",
       " 8144,\n",
       " 8148,\n",
       " 8153,\n",
       " 8154,\n",
       " 8163,\n",
       " 8179,\n",
       " 8204,\n",
       " 8206,\n",
       " 8245,\n",
       " 8256,\n",
       " 8262,\n",
       " 8311,\n",
       " 8327,\n",
       " 8328,\n",
       " 8333,\n",
       " 8342,\n",
       " 8349,\n",
       " 8350,\n",
       " 8380,\n",
       " 8423,\n",
       " 8433,\n",
       " 8438,\n",
       " 8469,\n",
       " 8474,\n",
       " 8544,\n",
       " 8571,\n",
       " 8574,\n",
       " 8581,\n",
       " 8626,\n",
       " 8635,\n",
       " 8642,\n",
       " 8652,\n",
       " 8659,\n",
       " 8678,\n",
       " 8679,\n",
       " 8686,\n",
       " 8694,\n",
       " 8705,\n",
       " 8714,\n",
       " 8729,\n",
       " 8738,\n",
       " 8782,\n",
       " 8809,\n",
       " 8969,\n",
       " 8987,\n",
       " 9013,\n",
       " 9039,\n",
       " 9060,\n",
       " 9072,\n",
       " 9086,\n",
       " 9126,\n",
       " 9139,\n",
       " 9176,\n",
       " 9198,\n",
       " 9206,\n",
       " 9248,\n",
       " 9253,\n",
       " 9265,\n",
       " 9267,\n",
       " 9274,\n",
       " 9295,\n",
       " 9298,\n",
       " 9324,\n",
       " 9326,\n",
       " 9331,\n",
       " 9340,\n",
       " 9352,\n",
       " 9381,\n",
       " 9422,\n",
       " 9437,\n",
       " 9439,\n",
       " 9462,\n",
       " 9471,\n",
       " 9474,\n",
       " 9478,\n",
       " 9481,\n",
       " 9502,\n",
       " 9510,\n",
       " 9518,\n",
       " 9522,\n",
       " 9526,\n",
       " 9539,\n",
       " 9549,\n",
       " 9557,\n",
       " 9566,\n",
       " 9571,\n",
       " 9580,\n",
       " 9586,\n",
       " 9591,\n",
       " 9594,\n",
       " 9595,\n",
       " 9602,\n",
       " 9621,\n",
       " 9627,\n",
       " 9631,\n",
       " 9659,\n",
       " 9670,\n",
       " 9694,\n",
       " 9695,\n",
       " 9702,\n",
       " 9704,\n",
       " 9768,\n",
       " 9805,\n",
       " 9821,\n",
       " 9839,\n",
       " 9854,\n",
       " 9924,\n",
       " 9940,\n",
       " 9962,\n",
       " 9978,\n",
       " 10025,\n",
       " 10028,\n",
       " 10034,\n",
       " 10053,\n",
       " 10068,\n",
       " 10081,\n",
       " 10101,\n",
       " 10106,\n",
       " 10144,\n",
       " 10159,\n",
       " 10188,\n",
       " 10191,\n",
       " 10200,\n",
       " 10203,\n",
       " 10207,\n",
       " 10238,\n",
       " 10241,\n",
       " 10288,\n",
       " 10315,\n",
       " 10333,\n",
       " 10342,\n",
       " 10354,\n",
       " 10360,\n",
       " 10361,\n",
       " 10374,\n",
       " 10402,\n",
       " 10413,\n",
       " 10445,\n",
       " 10451,\n",
       " 10537,\n",
       " 10543,\n",
       " 10620,\n",
       " 10629,\n",
       " 10632,\n",
       " 10652,\n",
       " 10703,\n",
       " 10715,\n",
       " 10748,\n",
       " 10758,\n",
       " 10785,\n",
       " 10796,\n",
       " 10852,\n",
       " 10864,\n",
       " 10865,\n",
       " 10866,\n",
       " 10892,\n",
       " 10902,\n",
       " 10903,\n",
       " 10905,\n",
       " 10906,\n",
       " 10940,\n",
       " 10944,\n",
       " 10964,\n",
       " 11028,\n",
       " 11042,\n",
       " 11045,\n",
       " 11054,\n",
       " 11057,\n",
       " 11061,\n",
       " 11063,\n",
       " 11069,\n",
       " 11074,\n",
       " 11104,\n",
       " 11106,\n",
       " 11129,\n",
       " 11130,\n",
       " 11138,\n",
       " 11144,\n",
       " 11156,\n",
       " 11157,\n",
       " 11160,\n",
       " 11163,\n",
       " 11175,\n",
       " 11210,\n",
       " 11213,\n",
       " 11217,\n",
       " 11238,\n",
       " 11270,\n",
       " 11273,\n",
       " 11282,\n",
       " 11288,\n",
       " 11292,\n",
       " 11309,\n",
       " 11314,\n",
       " 11323,\n",
       " 11325,\n",
       " 11326,\n",
       " 11348,\n",
       " 11350,\n",
       " 11355,\n",
       " 11372,\n",
       " 11384,\n",
       " 11403,\n",
       " 11405,\n",
       " 11525,\n",
       " 11550,\n",
       " 11560,\n",
       " 11589,\n",
       " 11614,\n",
       " 11626,\n",
       " 11628,\n",
       " 11664,\n",
       " 11668,\n",
       " 11669,\n",
       " 11686,\n",
       " 11713,\n",
       " 11719,\n",
       " 11723,\n",
       " 11739,\n",
       " 11746,\n",
       " 11766,\n",
       " 11788,\n",
       " 11816,\n",
       " 11824,\n",
       " 11827,\n",
       " 11844,\n",
       " 11855,\n",
       " 11861,\n",
       " 11881,\n",
       " 11883,\n",
       " 11894,\n",
       " 11905,\n",
       " 11914,\n",
       " 11924,\n",
       " 11932,\n",
       " 11949,\n",
       " 11998,\n",
       " 12045,\n",
       " 12064,\n",
       " 12065,\n",
       " 12104,\n",
       " 12147,\n",
       " 12157,\n",
       " 12161,\n",
       " 12184,\n",
       " 12185,\n",
       " 12188,\n",
       " 12221,\n",
       " 12223,\n",
       " 12245,\n",
       " 12258,\n",
       " 12269,\n",
       " 12286,\n",
       " 12299,\n",
       " 12318,\n",
       " 12327,\n",
       " 12334,\n",
       " 12364,\n",
       " 12366,\n",
       " 12367,\n",
       " 12369,\n",
       " 12375,\n",
       " 12378,\n",
       " 12390,\n",
       " 12396,\n",
       " 12399,\n",
       " 12401,\n",
       " 12404,\n",
       " 12435,\n",
       " 12441,\n",
       " 12445,\n",
       " 12450,\n",
       " 12456,\n",
       " 12480,\n",
       " 12509,\n",
       " 12514,\n",
       " 12517,\n",
       " 12519,\n",
       " 12526,\n",
       " 12533,\n",
       " 12539,\n",
       " 12545,\n",
       " 12561,\n",
       " 12568,\n",
       " 12572,\n",
       " 12583,\n",
       " 12656,\n",
       " 12680,\n",
       " 12723,\n",
       " 12746,\n",
       " 12755,\n",
       " 12771,\n",
       " 12798,\n",
       " 12808,\n",
       " 12855,\n",
       " 12860,\n",
       " 12869,\n",
       " 12875,\n",
       " 12876,\n",
       " 12882,\n",
       " 12888,\n",
       " 12914,\n",
       " 12926,\n",
       " 12936,\n",
       " 12945,\n",
       " 13007,\n",
       " 13033,\n",
       " 13039,\n",
       " 13053,\n",
       " 13055,\n",
       " 13105,\n",
       " 13117,\n",
       " 13136,\n",
       " 13150,\n",
       " 13183,\n",
       " 13230,\n",
       " 13244,\n",
       " 13254,\n",
       " 13268,\n",
       " 13287,\n",
       " 13293,\n",
       " 13298,\n",
       " 13307,\n",
       " 13309,\n",
       " 13357,\n",
       " 13373,\n",
       " 13397,\n",
       " 13407,\n",
       " 13426,\n",
       " 13451,\n",
       " 13487,\n",
       " 13488,\n",
       " 13489,\n",
       " 13498,\n",
       " 13501,\n",
       " 13523,\n",
       " 13524,\n",
       " 13525,\n",
       " 13572,\n",
       " 13574,\n",
       " 13592,\n",
       " 13613,\n",
       " 13629,\n",
       " 13655,\n",
       " 13717,\n",
       " 13722,\n",
       " 13741,\n",
       " 13746,\n",
       " 13757,\n",
       " 13765,\n",
       " 13785,\n",
       " 13813,\n",
       " 13824,\n",
       " 13845,\n",
       " 13878,\n",
       " 13884,\n",
       " 13909,\n",
       " 13915,\n",
       " 13932,\n",
       " 13954,\n",
       " 13959,\n",
       " 13970,\n",
       " 13991,\n",
       " 14028,\n",
       " 14093,\n",
       " 14116,\n",
       " 14125,\n",
       " 14145,\n",
       " 14160,\n",
       " 14171,\n",
       " 14181,\n",
       " 14189,\n",
       " 14194,\n",
       " 14237,\n",
       " 14255,\n",
       " 14268,\n",
       " 14312,\n",
       " 14334,\n",
       " 14343,\n",
       " 14420,\n",
       " 14436,\n",
       " 14463,\n",
       " 14477,\n",
       " 14519,\n",
       " 14537,\n",
       " 14544,\n",
       " 14553,\n",
       " 14575,\n",
       " 14591,\n",
       " 14594,\n",
       " 14603,\n",
       " 14608,\n",
       " 14652,\n",
       " 14653,\n",
       " 14670,\n",
       " 14695,\n",
       " 14701,\n",
       " 14705,\n",
       " 14707,\n",
       " 14753,\n",
       " 14767,\n",
       " 14775,\n",
       " 14787,\n",
       " 14788,\n",
       " 14797,\n",
       " 14839,\n",
       " 14847,\n",
       " 14870,\n",
       " 14889,\n",
       " 14891,\n",
       " 14923,\n",
       " 14973,\n",
       " 14995,\n",
       " 14998,\n",
       " 15000,\n",
       " 15002,\n",
       " 15032,\n",
       " 15055,\n",
       " 15072,\n",
       " 15098,\n",
       " 15104,\n",
       " 15107,\n",
       " 15113,\n",
       " 15125,\n",
       " 15128,\n",
       " 15151,\n",
       " 15158,\n",
       " 15177,\n",
       " 15181,\n",
       " 15202,\n",
       " 15212,\n",
       " 15235,\n",
       " 15238,\n",
       " 15267,\n",
       " 15268,\n",
       " 15274,\n",
       " 15312,\n",
       " 15322,\n",
       " 15330,\n",
       " 15339,\n",
       " 15362,\n",
       " 15366,\n",
       " 15368,\n",
       " 15411,\n",
       " 15412,\n",
       " 15417,\n",
       " 15443,\n",
       " 15469,\n",
       " ...]"
      ]
     },
     "execution_count": 242,
     "metadata": {},
     "output_type": "execute_result"
    }
   ],
   "source": [
    "res[0:4165]"
   ]
  },
  {
   "cell_type": "code",
   "execution_count": 122,
   "id": "fbc795c2",
   "metadata": {},
   "outputs": [
    {
     "name": "stdout",
     "output_type": "stream",
     "text": [
      "(22188, 15795) (22188,)\n"
     ]
    }
   ],
   "source": [
    "# Remove column with low variance that we would do in feature selection. However we can use the Lasso in the feature seleciton\n",
    "from sklearn.feature_selection import VarianceThreshold\n",
    "data = CD4_3.values\n",
    "X = data[:, :-1]\n",
    "y = data[:, -1]\n",
    "print(X.shape, y.shape)"
   ]
  },
  {
   "cell_type": "code",
   "execution_count": 125,
   "id": "dc86fb05",
   "metadata": {
    "scrolled": true
   },
   "outputs": [
    {
     "name": "stdout",
     "output_type": "stream",
     "text": [
      "(22188, 15795)\n"
     ]
    }
   ],
   "source": [
    "# define the transform\n",
    "transform = VarianceThreshold()\n",
    "# transform the input data\n",
    "X_sel = transform.fit_transform(X)\n",
    "print(X_sel.shape)"
   ]
  },
  {
   "cell_type": "code",
   "execution_count": 127,
   "id": "dced7c6e",
   "metadata": {},
   "outputs": [
    {
     "name": "stdout",
     "output_type": "stream",
     "text": [
      ">Threshold=0.00, Features=15795\n",
      ">Threshold=0.05, Features=6966\n",
      ">Threshold=0.10, Features=4687\n",
      ">Threshold=0.15, Features=3351\n",
      ">Threshold=0.20, Features=2504\n",
      ">Threshold=0.25, Features=1898\n",
      ">Threshold=0.30, Features=1449\n",
      ">Threshold=0.35, Features=1149\n",
      ">Threshold=0.40, Features=890\n",
      ">Threshold=0.45, Features=671\n",
      ">Threshold=0.50, Features=501\n"
     ]
    }
   ],
   "source": [
    "# apply transform with each threshold\n",
    "# define thresholds to check\n",
    "import numpy as np\n",
    "thresholds = np.arange(0.0, 0.55, 0.05)\n",
    "results = list()\n",
    "for t in thresholds:\n",
    "\t# define the transform\n",
    "\ttransform = VarianceThreshold(threshold=t)\n",
    "\t# transform the input data\n",
    "\tX_sel = transform.fit_transform(X)\n",
    "\t# determine the number of input features\n",
    "\tn_features = X_sel.shape[1]\n",
    "\tprint('>Threshold=%.2f, Features=%d' % (t, n_features))\n",
    "\t# store the result\n",
    "\tresults.append(n_features)"
   ]
  },
  {
   "cell_type": "code",
   "execution_count": 131,
   "id": "a49dad91",
   "metadata": {},
   "outputs": [
    {
     "data": {
      "image/png": "[encoded data removed]",
      "text/plain": [
       "<Figure size 432x288 with 1 Axes>"
      ]
     },
     "metadata": {
      "needs_background": "light"
     },
     "output_type": "display_data"
    }
   ],
   "source": [
    "from matplotlib import pyplot\n",
    "pyplot.plot(thresholds, results)\n",
    "pyplot.show()"
   ]
  },
  {
   "cell_type": "code",
   "execution_count": 137,
   "id": "45c66e58",
   "metadata": {},
   "outputs": [],
   "source": [
    "CD4_nocelltypes = CD4_3.iloc[:,:-1]"
   ]
  },
  {
   "cell_type": "code",
   "execution_count": 189,
   "id": "281aaf3b",
   "metadata": {},
   "outputs": [],
   "source": [
    "## if we need the features also to work with, we will look into the alternative\n",
    "## Keep the variance threshold to be 0.1\n",
    "transform = VarianceThreshold(threshold=0.1)\n",
    "_ = transform.fit(X)\n",
    "mask = transform.get_support()"
   ]
  },
  {
   "cell_type": "code",
   "execution_count": 205,
   "id": "f3b4ae2c",
   "metadata": {},
   "outputs": [],
   "source": [
    "CD4_3_nocelltype_feature_sel = CD4_3_nocelltype.iloc[:,mask]"
   ]
  },
  {
   "cell_type": "markdown",
   "id": "83b9af47",
   "metadata": {},
   "source": [
    "Since we have cleaned up the columns now we will clean up the rows.\n",
    "Rows that have identical data are probably useless, if not dangerously misleading during model evaluation.\n",
    "remove the duplicated rows. \n",
    "\n",
    "The pandas function duplicated() \n"
   ]
  },
  {
   "cell_type": "code",
   "execution_count": 208,
   "id": "82498b61",
   "metadata": {},
   "outputs": [
    {
     "name": "stdout",
     "output_type": "stream",
     "text": [
      "False\n"
     ]
    }
   ],
   "source": [
    "dups = CD4_3_nocelltype_feature_sel.duplicated()\n",
    "print(dups.any())\n",
    "# There is no duplicated row in our dataset"
   ]
  },
  {
   "cell_type": "code",
   "execution_count": 214,
   "id": "a71f2b43",
   "metadata": {},
   "outputs": [
    {
     "data": {
      "text/plain": [
       "Index(['NOC2L', 'ISG15', 'TNFRSF18', 'TNFRSF4', 'SDF4', 'UBE2J2', 'AURKAIP1',\n",
       "       'CCNL2', 'MRPL20', 'SSU72',\n",
       "       ...\n",
       "       'CD95-Fas-protein', 'CD278-ICOS-protein', 'KLRG1-MAFA-protein',\n",
       "       'CD25-protein', 'CD27-protein', 'CD127-IL7R-protein', 'CD31-protein',\n",
       "       'CD69-protein', 'CD62L-protein', 'CD314-NKG2D-protein'],\n",
       "      dtype='object', length=4687)"
      ]
     },
     "execution_count": 214,
     "metadata": {},
     "output_type": "execute_result"
    }
   ],
   "source": [
    "df_column = CD4_3_nocelltype_feature_sel.columns"
   ]
  },
  {
   "cell_type": "code",
   "execution_count": 234,
   "id": "fb465261",
   "metadata": {},
   "outputs": [],
   "source": [
    "`MT_ribo_genename = CD4_3_nocelltype_feature_sel.columns[CD4_3_nocelltype_feature_sel.columns.str.match('(MT)|(RPL)|(RPS)')]"
   ]
  },
  {
   "cell_type": "code",
   "execution_count": 251,
   "id": "4bf844a2",
   "metadata": {},
   "outputs": [],
   "source": [
    "CD4_4_nocelltype_feature_sel = CD4_3_nocelltype_feature_sel"
   ]
  },
  {
   "cell_type": "code",
   "execution_count": 266,
   "id": "93e339e2",
   "metadata": {},
   "outputs": [],
   "source": [
    "CD4_4_nocelltype_feature_sel = CD4_3_nocelltype_feature_sel.drop(MT_ribo_genename.tolist(),axis=1)"
   ]
  },
  {
   "cell_type": "code",
   "execution_count": 267,
   "id": "a537d0e9",
   "metadata": {},
   "outputs": [
    {
     "data": {
      "text/plain": [
       "(22188, 4571)"
      ]
     },
     "execution_count": 267,
     "metadata": {},
     "output_type": "execute_result"
    }
   ],
   "source": [
    "CD4_4_nocelltype_feature_sel.shape"
   ]
  },
  {
   "cell_type": "code",
   "execution_count": 268,
   "id": "e812eb72",
   "metadata": {
    "collapsed": true
   },
   "outputs": [
    {
     "data": {
      "text/html": [
       "<div>\n",
       "<style scoped>\n",
       "    .dataframe tbody tr th:only-of-type {\n",
       "        vertical-align: middle;\n",
       "    }\n",
       "\n",
       "    .dataframe tbody tr th {\n",
       "        vertical-align: top;\n",
       "    }\n",
       "\n",
       "    .dataframe thead th {\n",
       "        text-align: right;\n",
       "    }\n",
       "</style>\n",
       "<table border=\"1\" class=\"dataframe\">\n",
       "  <thead>\n",
       "    <tr style=\"text-align: right;\">\n",
       "      <th></th>\n",
       "      <th>NOC2L</th>\n",
       "      <th>ISG15</th>\n",
       "      <th>TNFRSF18</th>\n",
       "      <th>TNFRSF4</th>\n",
       "      <th>SDF4</th>\n",
       "      <th>UBE2J2</th>\n",
       "      <th>AURKAIP1</th>\n",
       "      <th>CCNL2</th>\n",
       "      <th>MRPL20</th>\n",
       "      <th>SSU72</th>\n",
       "      <th>...</th>\n",
       "      <th>CD95-Fas-protein</th>\n",
       "      <th>CD278-ICOS-protein</th>\n",
       "      <th>KLRG1-MAFA-protein</th>\n",
       "      <th>CD25-protein</th>\n",
       "      <th>CD27-protein</th>\n",
       "      <th>CD127-IL7R-protein</th>\n",
       "      <th>CD31-protein</th>\n",
       "      <th>CD69-protein</th>\n",
       "      <th>CD62L-protein</th>\n",
       "      <th>CD314-NKG2D-protein</th>\n",
       "    </tr>\n",
       "  </thead>\n",
       "  <tbody>\n",
       "    <tr>\n",
       "      <th>DMSO_BB22005_AAACCCATCACTCGAA-1</th>\n",
       "      <td>0.919785</td>\n",
       "      <td>0.919785</td>\n",
       "      <td>0.000000</td>\n",
       "      <td>1.709510</td>\n",
       "      <td>0.000000</td>\n",
       "      <td>0.000000</td>\n",
       "      <td>0.000000</td>\n",
       "      <td>0.919785</td>\n",
       "      <td>0.000000</td>\n",
       "      <td>0.000000</td>\n",
       "      <td>...</td>\n",
       "      <td>1.599700</td>\n",
       "      <td>1.057083</td>\n",
       "      <td>0.272310</td>\n",
       "      <td>0.878993</td>\n",
       "      <td>1.057083</td>\n",
       "      <td>0.662163</td>\n",
       "      <td>0.533117</td>\n",
       "      <td>1.759973</td>\n",
       "      <td>0.910965</td>\n",
       "      <td>1.455456</td>\n",
       "    </tr>\n",
       "    <tr>\n",
       "      <th>DMSO_BB22005_AAACGCTTCGTAGGAG-1</th>\n",
       "      <td>0.000000</td>\n",
       "      <td>1.266319</td>\n",
       "      <td>0.000000</td>\n",
       "      <td>1.266319</td>\n",
       "      <td>0.000000</td>\n",
       "      <td>0.000000</td>\n",
       "      <td>0.000000</td>\n",
       "      <td>0.000000</td>\n",
       "      <td>0.000000</td>\n",
       "      <td>1.266319</td>\n",
       "      <td>...</td>\n",
       "      <td>1.817220</td>\n",
       "      <td>1.359406</td>\n",
       "      <td>0.240041</td>\n",
       "      <td>2.302401</td>\n",
       "      <td>1.623246</td>\n",
       "      <td>0.341426</td>\n",
       "      <td>0.403721</td>\n",
       "      <td>1.510041</td>\n",
       "      <td>1.195758</td>\n",
       "      <td>1.415845</td>\n",
       "    </tr>\n",
       "    <tr>\n",
       "      <th>DMSO_BB22005_AAAGAACAGCAAATGT-1</th>\n",
       "      <td>1.082735</td>\n",
       "      <td>0.000000</td>\n",
       "      <td>0.000000</td>\n",
       "      <td>0.000000</td>\n",
       "      <td>0.000000</td>\n",
       "      <td>0.000000</td>\n",
       "      <td>1.082735</td>\n",
       "      <td>0.000000</td>\n",
       "      <td>1.082735</td>\n",
       "      <td>0.000000</td>\n",
       "      <td>...</td>\n",
       "      <td>0.797677</td>\n",
       "      <td>1.132723</td>\n",
       "      <td>0.408782</td>\n",
       "      <td>0.718839</td>\n",
       "      <td>2.451406</td>\n",
       "      <td>0.489334</td>\n",
       "      <td>1.960360</td>\n",
       "      <td>1.530189</td>\n",
       "      <td>2.372198</td>\n",
       "      <td>0.971232</td>\n",
       "    </tr>\n",
       "    <tr>\n",
       "      <th>DMSO_BB22005_AAAGAACCAAGTGATA-1</th>\n",
       "      <td>0.000000</td>\n",
       "      <td>1.435328</td>\n",
       "      <td>2.624965</td>\n",
       "      <td>2.734667</td>\n",
       "      <td>2.197509</td>\n",
       "      <td>0.955708</td>\n",
       "      <td>0.955708</td>\n",
       "      <td>0.955708</td>\n",
       "      <td>1.758123</td>\n",
       "      <td>0.000000</td>\n",
       "      <td>...</td>\n",
       "      <td>1.897337</td>\n",
       "      <td>1.665835</td>\n",
       "      <td>0.167211</td>\n",
       "      <td>2.837225</td>\n",
       "      <td>2.386945</td>\n",
       "      <td>0.401464</td>\n",
       "      <td>0.401464</td>\n",
       "      <td>1.718489</td>\n",
       "      <td>1.330268</td>\n",
       "      <td>0.999173</td>\n",
       "    </tr>\n",
       "    <tr>\n",
       "      <th>DMSO_BB22005_AAAGGATGTATCAAGA-1</th>\n",
       "      <td>0.000000</td>\n",
       "      <td>0.000000</td>\n",
       "      <td>1.447895</td>\n",
       "      <td>0.000000</td>\n",
       "      <td>0.965871</td>\n",
       "      <td>0.000000</td>\n",
       "      <td>0.000000</td>\n",
       "      <td>0.000000</td>\n",
       "      <td>0.000000</td>\n",
       "      <td>0.965871</td>\n",
       "      <td>...</td>\n",
       "      <td>1.419099</td>\n",
       "      <td>0.757320</td>\n",
       "      <td>0.683877</td>\n",
       "      <td>1.098893</td>\n",
       "      <td>1.381882</td>\n",
       "      <td>1.463754</td>\n",
       "      <td>0.373645</td>\n",
       "      <td>1.271758</td>\n",
       "      <td>0.495781</td>\n",
       "      <td>1.303015</td>\n",
       "    </tr>\n",
       "    <tr>\n",
       "      <th>...</th>\n",
       "      <td>...</td>\n",
       "      <td>...</td>\n",
       "      <td>...</td>\n",
       "      <td>...</td>\n",
       "      <td>...</td>\n",
       "      <td>...</td>\n",
       "      <td>...</td>\n",
       "      <td>...</td>\n",
       "      <td>...</td>\n",
       "      <td>...</td>\n",
       "      <td>...</td>\n",
       "      <td>...</td>\n",
       "      <td>...</td>\n",
       "      <td>...</td>\n",
       "      <td>...</td>\n",
       "      <td>...</td>\n",
       "      <td>...</td>\n",
       "      <td>...</td>\n",
       "      <td>...</td>\n",
       "      <td>...</td>\n",
       "      <td>...</td>\n",
       "    </tr>\n",
       "    <tr>\n",
       "      <th>gE_BB22008_TTTGGTTAGGACACTG-1</th>\n",
       "      <td>0.000000</td>\n",
       "      <td>1.230966</td>\n",
       "      <td>0.000000</td>\n",
       "      <td>1.954635</td>\n",
       "      <td>0.794018</td>\n",
       "      <td>0.794018</td>\n",
       "      <td>0.000000</td>\n",
       "      <td>0.000000</td>\n",
       "      <td>0.794018</td>\n",
       "      <td>1.230966</td>\n",
       "      <td>...</td>\n",
       "      <td>1.500781</td>\n",
       "      <td>1.098004</td>\n",
       "      <td>0.528884</td>\n",
       "      <td>1.521290</td>\n",
       "      <td>0.657201</td>\n",
       "      <td>0.770909</td>\n",
       "      <td>0.412878</td>\n",
       "      <td>1.763496</td>\n",
       "      <td>0.412878</td>\n",
       "      <td>1.128531</td>\n",
       "    </tr>\n",
       "    <tr>\n",
       "      <th>gE_BB22008_TTTGGTTCAACCTAAC-1</th>\n",
       "      <td>0.000000</td>\n",
       "      <td>0.000000</td>\n",
       "      <td>0.000000</td>\n",
       "      <td>0.000000</td>\n",
       "      <td>0.000000</td>\n",
       "      <td>0.000000</td>\n",
       "      <td>0.000000</td>\n",
       "      <td>1.088189</td>\n",
       "      <td>0.000000</td>\n",
       "      <td>1.088189</td>\n",
       "      <td>...</td>\n",
       "      <td>1.379330</td>\n",
       "      <td>1.422404</td>\n",
       "      <td>0.273614</td>\n",
       "      <td>0.664811</td>\n",
       "      <td>1.361567</td>\n",
       "      <td>0.700152</td>\n",
       "      <td>0.734286</td>\n",
       "      <td>1.396783</td>\n",
       "      <td>1.206816</td>\n",
       "      <td>1.130773</td>\n",
       "    </tr>\n",
       "    <tr>\n",
       "      <th>gE_BB22008_TTTGGTTGTCAACATC-1</th>\n",
       "      <td>0.000000</td>\n",
       "      <td>0.000000</td>\n",
       "      <td>0.000000</td>\n",
       "      <td>0.000000</td>\n",
       "      <td>0.000000</td>\n",
       "      <td>0.000000</td>\n",
       "      <td>0.000000</td>\n",
       "      <td>0.000000</td>\n",
       "      <td>0.000000</td>\n",
       "      <td>0.000000</td>\n",
       "      <td>...</td>\n",
       "      <td>0.895122</td>\n",
       "      <td>0.617202</td>\n",
       "      <td>1.183030</td>\n",
       "      <td>0.748376</td>\n",
       "      <td>1.227511</td>\n",
       "      <td>1.100084</td>\n",
       "      <td>1.062315</td>\n",
       "      <td>1.799755</td>\n",
       "      <td>0.555250</td>\n",
       "      <td>1.596271</td>\n",
       "    </tr>\n",
       "    <tr>\n",
       "      <th>gE_BB22008_TTTGGTTTCAGCTCTC-1</th>\n",
       "      <td>0.000000</td>\n",
       "      <td>0.000000</td>\n",
       "      <td>0.000000</td>\n",
       "      <td>0.000000</td>\n",
       "      <td>0.000000</td>\n",
       "      <td>0.000000</td>\n",
       "      <td>0.000000</td>\n",
       "      <td>0.000000</td>\n",
       "      <td>0.000000</td>\n",
       "      <td>0.000000</td>\n",
       "      <td>...</td>\n",
       "      <td>1.577589</td>\n",
       "      <td>1.190488</td>\n",
       "      <td>0.417521</td>\n",
       "      <td>0.849580</td>\n",
       "      <td>1.646488</td>\n",
       "      <td>0.525275</td>\n",
       "      <td>0.575089</td>\n",
       "      <td>1.646488</td>\n",
       "      <td>0.575089</td>\n",
       "      <td>1.402653</td>\n",
       "    </tr>\n",
       "    <tr>\n",
       "      <th>gE_BB22008_TTTGTTGTCGAGATGG-1</th>\n",
       "      <td>0.000000</td>\n",
       "      <td>1.070617</td>\n",
       "      <td>0.000000</td>\n",
       "      <td>0.000000</td>\n",
       "      <td>0.000000</td>\n",
       "      <td>0.000000</td>\n",
       "      <td>1.070617</td>\n",
       "      <td>0.000000</td>\n",
       "      <td>0.000000</td>\n",
       "      <td>0.000000</td>\n",
       "      <td>...</td>\n",
       "      <td>1.178934</td>\n",
       "      <td>0.981620</td>\n",
       "      <td>0.355502</td>\n",
       "      <td>0.735558</td>\n",
       "      <td>1.363705</td>\n",
       "      <td>1.104613</td>\n",
       "      <td>0.299570</td>\n",
       "      <td>1.759974</td>\n",
       "      <td>0.382336</td>\n",
       "      <td>1.280986</td>\n",
       "    </tr>\n",
       "  </tbody>\n",
       "</table>\n",
       "<p>22188 rows × 4571 columns</p>\n",
       "</div>"
      ],
      "text/plain": [
       "                                    NOC2L     ISG15  TNFRSF18   TNFRSF4  \\\n",
       "DMSO_BB22005_AAACCCATCACTCGAA-1  0.919785  0.919785  0.000000  1.709510   \n",
       "DMSO_BB22005_AAACGCTTCGTAGGAG-1  0.000000  1.266319  0.000000  1.266319   \n",
       "DMSO_BB22005_AAAGAACAGCAAATGT-1  1.082735  0.000000  0.000000  0.000000   \n",
       "DMSO_BB22005_AAAGAACCAAGTGATA-1  0.000000  1.435328  2.624965  2.734667   \n",
       "DMSO_BB22005_AAAGGATGTATCAAGA-1  0.000000  0.000000  1.447895  0.000000   \n",
       "...                                   ...       ...       ...       ...   \n",
       "gE_BB22008_TTTGGTTAGGACACTG-1    0.000000  1.230966  0.000000  1.954635   \n",
       "gE_BB22008_TTTGGTTCAACCTAAC-1    0.000000  0.000000  0.000000  0.000000   \n",
       "gE_BB22008_TTTGGTTGTCAACATC-1    0.000000  0.000000  0.000000  0.000000   \n",
       "gE_BB22008_TTTGGTTTCAGCTCTC-1    0.000000  0.000000  0.000000  0.000000   \n",
       "gE_BB22008_TTTGTTGTCGAGATGG-1    0.000000  1.070617  0.000000  0.000000   \n",
       "\n",
       "                                     SDF4    UBE2J2  AURKAIP1     CCNL2  \\\n",
       "DMSO_BB22005_AAACCCATCACTCGAA-1  0.000000  0.000000  0.000000  0.919785   \n",
       "DMSO_BB22005_AAACGCTTCGTAGGAG-1  0.000000  0.000000  0.000000  0.000000   \n",
       "DMSO_BB22005_AAAGAACAGCAAATGT-1  0.000000  0.000000  1.082735  0.000000   \n",
       "DMSO_BB22005_AAAGAACCAAGTGATA-1  2.197509  0.955708  0.955708  0.955708   \n",
       "DMSO_BB22005_AAAGGATGTATCAAGA-1  0.965871  0.000000  0.000000  0.000000   \n",
       "...                                   ...       ...       ...       ...   \n",
       "gE_BB22008_TTTGGTTAGGACACTG-1    0.794018  0.794018  0.000000  0.000000   \n",
       "gE_BB22008_TTTGGTTCAACCTAAC-1    0.000000  0.000000  0.000000  1.088189   \n",
       "gE_BB22008_TTTGGTTGTCAACATC-1    0.000000  0.000000  0.000000  0.000000   \n",
       "gE_BB22008_TTTGGTTTCAGCTCTC-1    0.000000  0.000000  0.000000  0.000000   \n",
       "gE_BB22008_TTTGTTGTCGAGATGG-1    0.000000  0.000000  1.070617  0.000000   \n",
       "\n",
       "                                   MRPL20     SSU72  ...  CD95-Fas-protein  \\\n",
       "DMSO_BB22005_AAACCCATCACTCGAA-1  0.000000  0.000000  ...          1.599700   \n",
       "DMSO_BB22005_AAACGCTTCGTAGGAG-1  0.000000  1.266319  ...          1.817220   \n",
       "DMSO_BB22005_AAAGAACAGCAAATGT-1  1.082735  0.000000  ...          0.797677   \n",
       "DMSO_BB22005_AAAGAACCAAGTGATA-1  1.758123  0.000000  ...          1.897337   \n",
       "DMSO_BB22005_AAAGGATGTATCAAGA-1  0.000000  0.965871  ...          1.419099   \n",
       "...                                   ...       ...  ...               ...   \n",
       "gE_BB22008_TTTGGTTAGGACACTG-1    0.794018  1.230966  ...          1.500781   \n",
       "gE_BB22008_TTTGGTTCAACCTAAC-1    0.000000  1.088189  ...          1.379330   \n",
       "gE_BB22008_TTTGGTTGTCAACATC-1    0.000000  0.000000  ...          0.895122   \n",
       "gE_BB22008_TTTGGTTTCAGCTCTC-1    0.000000  0.000000  ...          1.577589   \n",
       "gE_BB22008_TTTGTTGTCGAGATGG-1    0.000000  0.000000  ...          1.178934   \n",
       "\n",
       "                                 CD278-ICOS-protein  KLRG1-MAFA-protein  \\\n",
       "DMSO_BB22005_AAACCCATCACTCGAA-1            1.057083            0.272310   \n",
       "DMSO_BB22005_AAACGCTTCGTAGGAG-1            1.359406            0.240041   \n",
       "DMSO_BB22005_AAAGAACAGCAAATGT-1            1.132723            0.408782   \n",
       "DMSO_BB22005_AAAGAACCAAGTGATA-1            1.665835            0.167211   \n",
       "DMSO_BB22005_AAAGGATGTATCAAGA-1            0.757320            0.683877   \n",
       "...                                             ...                 ...   \n",
       "gE_BB22008_TTTGGTTAGGACACTG-1              1.098004            0.528884   \n",
       "gE_BB22008_TTTGGTTCAACCTAAC-1              1.422404            0.273614   \n",
       "gE_BB22008_TTTGGTTGTCAACATC-1              0.617202            1.183030   \n",
       "gE_BB22008_TTTGGTTTCAGCTCTC-1              1.190488            0.417521   \n",
       "gE_BB22008_TTTGTTGTCGAGATGG-1              0.981620            0.355502   \n",
       "\n",
       "                                 CD25-protein  CD27-protein  \\\n",
       "DMSO_BB22005_AAACCCATCACTCGAA-1      0.878993      1.057083   \n",
       "DMSO_BB22005_AAACGCTTCGTAGGAG-1      2.302401      1.623246   \n",
       "DMSO_BB22005_AAAGAACAGCAAATGT-1      0.718839      2.451406   \n",
       "DMSO_BB22005_AAAGAACCAAGTGATA-1      2.837225      2.386945   \n",
       "DMSO_BB22005_AAAGGATGTATCAAGA-1      1.098893      1.381882   \n",
       "...                                       ...           ...   \n",
       "gE_BB22008_TTTGGTTAGGACACTG-1        1.521290      0.657201   \n",
       "gE_BB22008_TTTGGTTCAACCTAAC-1        0.664811      1.361567   \n",
       "gE_BB22008_TTTGGTTGTCAACATC-1        0.748376      1.227511   \n",
       "gE_BB22008_TTTGGTTTCAGCTCTC-1        0.849580      1.646488   \n",
       "gE_BB22008_TTTGTTGTCGAGATGG-1        0.735558      1.363705   \n",
       "\n",
       "                                 CD127-IL7R-protein  CD31-protein  \\\n",
       "DMSO_BB22005_AAACCCATCACTCGAA-1            0.662163      0.533117   \n",
       "DMSO_BB22005_AAACGCTTCGTAGGAG-1            0.341426      0.403721   \n",
       "DMSO_BB22005_AAAGAACAGCAAATGT-1            0.489334      1.960360   \n",
       "DMSO_BB22005_AAAGAACCAAGTGATA-1            0.401464      0.401464   \n",
       "DMSO_BB22005_AAAGGATGTATCAAGA-1            1.463754      0.373645   \n",
       "...                                             ...           ...   \n",
       "gE_BB22008_TTTGGTTAGGACACTG-1              0.770909      0.412878   \n",
       "gE_BB22008_TTTGGTTCAACCTAAC-1              0.700152      0.734286   \n",
       "gE_BB22008_TTTGGTTGTCAACATC-1              1.100084      1.062315   \n",
       "gE_BB22008_TTTGGTTTCAGCTCTC-1              0.525275      0.575089   \n",
       "gE_BB22008_TTTGTTGTCGAGATGG-1              1.104613      0.299570   \n",
       "\n",
       "                                 CD69-protein  CD62L-protein  \\\n",
       "DMSO_BB22005_AAACCCATCACTCGAA-1      1.759973       0.910965   \n",
       "DMSO_BB22005_AAACGCTTCGTAGGAG-1      1.510041       1.195758   \n",
       "DMSO_BB22005_AAAGAACAGCAAATGT-1      1.530189       2.372198   \n",
       "DMSO_BB22005_AAAGAACCAAGTGATA-1      1.718489       1.330268   \n",
       "DMSO_BB22005_AAAGGATGTATCAAGA-1      1.271758       0.495781   \n",
       "...                                       ...            ...   \n",
       "gE_BB22008_TTTGGTTAGGACACTG-1        1.763496       0.412878   \n",
       "gE_BB22008_TTTGGTTCAACCTAAC-1        1.396783       1.206816   \n",
       "gE_BB22008_TTTGGTTGTCAACATC-1        1.799755       0.555250   \n",
       "gE_BB22008_TTTGGTTTCAGCTCTC-1        1.646488       0.575089   \n",
       "gE_BB22008_TTTGTTGTCGAGATGG-1        1.759974       0.382336   \n",
       "\n",
       "                                 CD314-NKG2D-protein  \n",
       "DMSO_BB22005_AAACCCATCACTCGAA-1             1.455456  \n",
       "DMSO_BB22005_AAACGCTTCGTAGGAG-1             1.415845  \n",
       "DMSO_BB22005_AAAGAACAGCAAATGT-1             0.971232  \n",
       "DMSO_BB22005_AAAGAACCAAGTGATA-1             0.999173  \n",
       "DMSO_BB22005_AAAGGATGTATCAAGA-1             1.303015  \n",
       "...                                              ...  \n",
       "gE_BB22008_TTTGGTTAGGACACTG-1               1.128531  \n",
       "gE_BB22008_TTTGGTTCAACCTAAC-1               1.130773  \n",
       "gE_BB22008_TTTGGTTGTCAACATC-1               1.596271  \n",
       "gE_BB22008_TTTGGTTTCAGCTCTC-1               1.402653  \n",
       "gE_BB22008_TTTGTTGTCGAGATGG-1               1.280986  \n",
       "\n",
       "[22188 rows x 4571 columns]"
      ]
     },
     "execution_count": 268,
     "metadata": {},
     "output_type": "execute_result"
    }
   ],
   "source": [
    "CD4_4_nocelltype_feature_sel"
   ]
  },
  {
   "cell_type": "code",
   "execution_count": 703,
   "id": "451bd8d6",
   "metadata": {},
   "outputs": [
    {
     "data": {
      "text/plain": [
       "celltype               \n",
       "EM                         5670\n",
       "Tregs                      5355\n",
       "CM                         4576\n",
       "CM or EM                   1913\n",
       "Naive or stem-cell like    1708\n",
       "CD4 TEMRA                  1190\n",
       "DN / NKT                    827\n",
       "DP EM or non-TEMRA          808\n",
       "unassigned                  141\n",
       "dtype: int64"
      ]
     },
     "execution_count": 703,
     "metadata": {},
     "output_type": "execute_result"
    }
   ],
   "source": [
    "CD4_celltypes = pd.DataFrame(CD4.iloc[:,-1])\n",
    "CD4_celltypes.value_counts()"
   ]
  },
  {
   "cell_type": "code",
   "execution_count": 705,
   "id": "117620d6",
   "metadata": {},
   "outputs": [
    {
     "ename": "TypeError",
     "evalue": "'DataFrame' object is not callable",
     "output_type": "error",
     "traceback": [
      "\u001b[0;31m---------------------------------------------------------------------------\u001b[0m",
      "\u001b[0;31mTypeError\u001b[0m                                 Traceback (most recent call last)",
      "Input \u001b[0;32mIn [705]\u001b[0m, in \u001b[0;36m<cell line: 1>\u001b[0;34m()\u001b[0m\n\u001b[0;32m----> 1\u001b[0m \u001b[43mpd\u001b[49m\u001b[38;5;241;43m.\u001b[39;49m\u001b[43mDataFrame\u001b[49m\u001b[43m(\u001b[49m\u001b[43mCD4\u001b[49m\u001b[38;5;241;43m.\u001b[39;49m\u001b[43miloc\u001b[49m\u001b[43m[\u001b[49m\u001b[43m:\u001b[49m\u001b[43m,\u001b[49m\u001b[38;5;241;43m-\u001b[39;49m\u001b[38;5;241;43m1\u001b[39;49m\u001b[43m]\u001b[49m\u001b[43m)\u001b[49m\u001b[43m(\u001b[49m\u001b[43mCD4\u001b[49m\u001b[38;5;241;43m.\u001b[39;49m\u001b[43miloc\u001b[49m\u001b[43m[\u001b[49m\u001b[43m:\u001b[49m\u001b[43m,\u001b[49m\u001b[38;5;241;43m-\u001b[39;49m\u001b[38;5;241;43m1\u001b[39;49m\u001b[43m]\u001b[49m\u001b[43m)\u001b[49m\n",
      "\u001b[0;31mTypeError\u001b[0m: 'DataFrame' object is not callable"
     ]
    }
   ],
   "source": [
    "pd.DataFrame(CD4.iloc[:,-1])(CD4.iloc[:,-1])"
   ]
  },
  {
   "cell_type": "code",
   "execution_count": 292,
   "id": "f44ee28d",
   "metadata": {
    "collapsed": true
   },
   "outputs": [
    {
     "data": {
      "text/plain": [
       "0    5670\n",
       "1    5355\n",
       "2    4576\n",
       "3    1913\n",
       "4    1708\n",
       "5    1190\n",
       "6     827\n",
       "7     808\n",
       "8     141\n",
       "Name: celltype, dtype: int64"
      ]
     },
     "execution_count": 292,
     "metadata": {},
     "output_type": "execute_result"
    }
   ],
   "source": [
    "# Need to convert the cell types to the float values\n",
    "CD4_celltypes_float = CD4_celltypes['celltype'].map({\"EM\":0,\"Tregs\":1,\"CM\":2,\"CM or EM\":3,\"Naive or stem-cell like\":4,\"CD4 TEMRA\":5,\n",
    "                              \"DN / NKT\":6,\"DP EM or non-TEMRA\":7,\"unassigned\":8})\n",
    "CD4_celltypes_float.value_counts()"
   ]
  },
  {
   "cell_type": "code",
   "execution_count": 710,
   "id": "8399f37d",
   "metadata": {},
   "outputs": [
    {
     "data": {
      "text/plain": [
       "celltype               \n",
       "EM                         5670\n",
       "Tregs                      5355\n",
       "CM                         4576\n",
       "CM or EM                   1913\n",
       "Naive or stem-cell like    1708\n",
       "CD4 TEMRA                  1190\n",
       "DN / NKT                    827\n",
       "DP EM or non-TEMRA          808\n",
       "unassigned                  141\n",
       "dtype: int64"
      ]
     },
     "execution_count": 710,
     "metadata": {},
     "output_type": "execute_result"
    }
   ],
   "source": [
    "pd.DataFrame(CD4.iloc[:,-1]).value_counts()"
   ]
  },
  {
   "cell_type": "code",
   "execution_count": 293,
   "id": "9974b5c7",
   "metadata": {},
   "outputs": [],
   "source": [
    "## If you go down in the section of the feature selection we have selected features based on the Lasso regression \n",
    "x = np.array(CD4_4_nocelltype_feature_sel)\n",
    "y = np.array(CD4_celltypes_float)\n",
    "from sklearn.model_selection import train_test_split\n",
    "xtrain, xtest, ytrain, ytest = train_test_split(x, y, \n",
    "                                                test_size=0.2, \n",
    "                                                random_state=42)"
   ]
  },
  {
   "cell_type": "code",
   "execution_count": 294,
   "id": "a3e9956b",
   "metadata": {
    "collapsed": true
   },
   "outputs": [
    {
     "name": "stdout",
     "output_type": "stream",
     "text": [
      "(17750, 4571) (4438, 4571) (17750,) (4438,)\n"
     ]
    }
   ],
   "source": [
    "print(xtrain.shape,xtest.shape,ytrain.shape,ytest.shape)"
   ]
  },
  {
   "cell_type": "markdown",
   "id": "937c2d5b",
   "metadata": {},
   "source": [
    "Tuning the parameter for model to learn using Lasso CV alpha values"
   ]
  },
  {
   "cell_type": "code",
   "execution_count": 297,
   "id": "38ffb1a5",
   "metadata": {
    "collapsed": true
   },
   "outputs": [
    {
     "name": "stdout",
     "output_type": "stream",
     "text": [
      "alpha 0.03448\n"
     ]
    },
    {
     "ename": "NameError",
     "evalue": "name 'RepeatedKFold' is not defined",
     "output_type": "error",
     "traceback": [
      "\u001b[0;31m---------------------------------------------------------------------------\u001b[0m",
      "\u001b[0;31mNameError\u001b[0m                                 Traceback (most recent call last)",
      "Input \u001b[0;32mIn [297]\u001b[0m, in \u001b[0;36m<cell line: 14>\u001b[0;34m()\u001b[0m\n\u001b[1;32m     12\u001b[0m \u001b[38;5;28mprint\u001b[39m(\u001b[38;5;124m'\u001b[39m\u001b[38;5;124malpha \u001b[39m\u001b[38;5;132;01m%.5f\u001b[39;00m\u001b[38;5;124m'\u001b[39m \u001b[38;5;241m%\u001b[39m (reg[\u001b[38;5;241m-\u001b[39m\u001b[38;5;241m1\u001b[39m]\u001b[38;5;241m.\u001b[39malpha_))\n\u001b[1;32m     13\u001b[0m \u001b[38;5;66;03m# define the model evaluation method\u001b[39;00m\n\u001b[0;32m---> 14\u001b[0m cv \u001b[38;5;241m=\u001b[39m \u001b[43mRepeatedKFold\u001b[49m(n_splits\u001b[38;5;241m=\u001b[39m\u001b[38;5;241m10\u001b[39m, n_repeats\u001b[38;5;241m=\u001b[39m\u001b[38;5;241m3\u001b[39m, random_state\u001b[38;5;241m=\u001b[39m\u001b[38;5;241m1\u001b[39m)\n\u001b[1;32m     15\u001b[0m \u001b[38;5;66;03m# evaluate model\u001b[39;00m\n\u001b[1;32m     16\u001b[0m scores \u001b[38;5;241m=\u001b[39m cross_val_score(model, xtrain, ytrain, scoring\u001b[38;5;241m=\u001b[39m\u001b[38;5;124m'\u001b[39m\u001b[38;5;124mneg_mean_absolute_error\u001b[39m\u001b[38;5;124m'\u001b[39m, cv\u001b[38;5;241m=\u001b[39mcv, n_jobs\u001b[38;5;241m=\u001b[39m\u001b[38;5;241m-\u001b[39m\u001b[38;5;241m1\u001b[39m)\n",
      "\u001b[0;31mNameError\u001b[0m: name 'RepeatedKFold' is not defined"
     ]
    }
   ],
   "source": [
    "# Tuning the hyper parameter i.e. alpha using the CV\n",
    "# Also by looking at the graph we can say that tips are mainly correlated with total bill.\n",
    "# Selecting the alpha via Cross Validation using 20-fold cross validation\n",
    "from sklearn.model_selection import cross_val_score\n",
    "from sklearn.linear_model import LassoCV\n",
    "from sklearn.linear_model import Lasso\n",
    "from sklearn.pipeline import make_pipeline\n",
    "from sklearn.preprocessing import StandardScaler\n",
    "from numpy import absolute\n",
    "reg = make_pipeline(StandardScaler(), LassoCV(cv=20,tol = 0.01)).fit(xtrain, ytrain)\n",
    "model = Lasso(alpha=reg[-1].alpha_,tol = 0.01)\n",
    "print('alpha %.5f' % (reg[-1].alpha_))\n"
   ]
  },
  {
   "cell_type": "code",
   "execution_count": 298,
   "id": "ae2f6667",
   "metadata": {
    "collapsed": true
   },
   "outputs": [
    {
     "ename": "NameError",
     "evalue": "name 'mean' is not defined",
     "output_type": "error",
     "traceback": [
      "\u001b[0;31m---------------------------------------------------------------------------\u001b[0m",
      "\u001b[0;31mNameError\u001b[0m                                 Traceback (most recent call last)",
      "Input \u001b[0;32mIn [298]\u001b[0m, in \u001b[0;36m<cell line: 8>\u001b[0;34m()\u001b[0m\n\u001b[1;32m      6\u001b[0m \u001b[38;5;66;03m# model performance\u001b[39;00m\n\u001b[1;32m      7\u001b[0m scores \u001b[38;5;241m=\u001b[39m absolute(scores)\n\u001b[0;32m----> 8\u001b[0m \u001b[38;5;28mprint\u001b[39m(\u001b[38;5;124m'\u001b[39m\u001b[38;5;124mMean MAE \u001b[39m\u001b[38;5;132;01m%.3f\u001b[39;00m\u001b[38;5;124m (\u001b[39m\u001b[38;5;132;01m%.3f\u001b[39;00m\u001b[38;5;124m)\u001b[39m\u001b[38;5;124m'\u001b[39m \u001b[38;5;241m%\u001b[39m(\u001b[43mmean\u001b[49m(scores), std(scores)))\n\u001b[1;32m      9\u001b[0m \u001b[38;5;66;03m# Model Performance on test dataset\u001b[39;00m\n\u001b[1;32m     10\u001b[0m model\u001b[38;5;241m.\u001b[39mfit(xtrain,ytrain)\n",
      "\u001b[0;31mNameError\u001b[0m: name 'mean' is not defined"
     ]
    }
   ],
   "source": [
    "from sklearn.model_selection import RepeatedKFold\n",
    "# define the model evaluation method\n",
    "cv = RepeatedKFold(n_splits=10, n_repeats=3, random_state=1)\n",
    "# evaluate model\n",
    "scores = cross_val_score(model, xtrain, ytrain, scoring='neg_mean_absolute_error', cv=cv, n_jobs=-1)"
   ]
  },
  {
   "cell_type": "code",
   "execution_count": 301,
   "id": "d23be99f",
   "metadata": {},
   "outputs": [
    {
     "name": "stdout",
     "output_type": "stream",
     "text": [
      "Mean MAE 1.527 (0.025)\n",
      "Model accuracy on train dataset 0.029\n",
      "Model accuracy on test dataset 0.021\n"
     ]
    }
   ],
   "source": [
    "import numpy as np\n",
    "from statistics import mean\n",
    "# report performance\n",
    "# model performance\n",
    "scores = absolute(scores)\n",
    "print('Mean MAE %.3f (%.3f)' %(mean(scores), np.std(scores)))\n",
    "# Model Performance on test dataset\n",
    "model.fit(xtrain,ytrain)\n",
    "print('Model accuracy on train dataset %.3f' % (model.score(xtrain, ytrain)))\n",
    "print('Model accuracy on test dataset %.3f' % (model.score(xtest, ytest)))"
   ]
  },
  {
   "cell_type": "code",
   "execution_count": 323,
   "id": "3bb58f98",
   "metadata": {},
   "outputs": [],
   "source": [
    "from sklearn import preprocessing\n",
    "from sklearn.model_selection import train_test_split\n",
    "x = np.array(CD4_4_nocelltype_feature_sel)\n",
    "y = CD4_celltypes[\"celltype\"]\n",
    "scaler = preprocessing.StandardScaler().fit(x)\n",
    "scaler\n",
    "x_scaled = scaler.transform(x)\n",
    "\n",
    "xtrain, xtest, ytrain, ytest = train_test_split(x_scaled, y, \n",
    "                                                test_size=0.2, \n",
    "                                                random_state=42)"
   ]
  },
  {
   "cell_type": "code",
   "execution_count": 327,
   "id": "93531062",
   "metadata": {
    "collapsed": true
   },
   "outputs": [
    {
     "data": {
      "text/plain": [
       "array([[ 2.40944743,  0.95851453, -0.7239188 , ...,  0.30671659,\n",
       "         0.12482244,  0.74596136],\n",
       "       [-0.34835152,  1.55588492, -0.7239188 , ..., -0.25079888,\n",
       "         0.66896047,  0.64552458],\n",
       "       [ 2.89802135, -0.62704839, -0.7239188 , ..., -0.2058565 ,\n",
       "         2.91672329, -0.48182821],\n",
       "       ...,\n",
       "       [-0.34835152, -0.62704839, -0.7239188 , ...,  0.39545672,\n",
       "        -0.55482304,  1.10301049],\n",
       "       [-0.34835152, -0.62704839, -0.7239188 , ...,  0.0535688 ,\n",
       "        -0.51691771,  0.61207589],\n",
       "       [-0.34835152,  1.21852504, -0.7239188 , ...,  0.30671848,\n",
       "        -0.88520031,  0.30357905]])"
      ]
     },
     "execution_count": 327,
     "metadata": {},
     "output_type": "execute_result"
    }
   ],
   "source": [
    "x_scaled"
   ]
  },
  {
   "cell_type": "code",
   "execution_count": 329,
   "id": "ed0a0bdb",
   "metadata": {},
   "outputs": [
    {
     "data": {
      "text/plain": [
       "LogisticRegression(max_iter=10000)"
      ]
     },
     "execution_count": 329,
     "metadata": {},
     "output_type": "execute_result"
    }
   ],
   "source": [
    "from sklearn.linear_model import LogisticRegression\n",
    "model = LogisticRegression(max_iter=10000)\n",
    "model.fit(xtrain,ytrain)"
   ]
  },
  {
   "cell_type": "code",
   "execution_count": 330,
   "id": "1891628a",
   "metadata": {},
   "outputs": [
    {
     "name": "stdout",
     "output_type": "stream",
     "text": [
      "0.8501971830985916\n",
      "0.18634520054078413\n"
     ]
    }
   ],
   "source": [
    "# Use score method to get accuracy of model\n",
    "print(model.score(xtrain,ytrain))\n",
    "print(model.score(xtest,ytest))"
   ]
  },
  {
   "cell_type": "code",
   "execution_count": 328,
   "id": "efa11e07",
   "metadata": {
    "collapsed": true
   },
   "outputs": [
    {
     "name": "stdout",
     "output_type": "stream",
     "text": [
      "Help on class LogisticRegression in module sklearn.linear_model._logistic:\n",
      "\n",
      "class LogisticRegression(sklearn.linear_model._base.LinearClassifierMixin, sklearn.linear_model._base.SparseCoefMixin, sklearn.base.BaseEstimator)\n",
      " |  LogisticRegression(penalty='l2', *, dual=False, tol=0.0001, C=1.0, fit_intercept=True, intercept_scaling=1, class_weight=None, random_state=None, solver='lbfgs', max_iter=100, multi_class='auto', verbose=0, warm_start=False, n_jobs=None, l1_ratio=None)\n",
      " |  \n",
      " |  Logistic Regression (aka logit, MaxEnt) classifier.\n",
      " |  \n",
      " |  In the multiclass case, the training algorithm uses the one-vs-rest (OvR)\n",
      " |  scheme if the 'multi_class' option is set to 'ovr', and uses the\n",
      " |  cross-entropy loss if the 'multi_class' option is set to 'multinomial'.\n",
      " |  (Currently the 'multinomial' option is supported only by the 'lbfgs',\n",
      " |  'sag', 'saga' and 'newton-cg' solvers.)\n",
      " |  \n",
      " |  This class implements regularized logistic regression using the\n",
      " |  'liblinear' library, 'newton-cg', 'sag', 'saga' and 'lbfgs' solvers. **Note\n",
      " |  that regularization is applied by default**. It can handle both dense\n",
      " |  and sparse input. Use C-ordered arrays or CSR matrices containing 64-bit\n",
      " |  floats for optimal performance; any other input format will be converted\n",
      " |  (and copied).\n",
      " |  \n",
      " |  The 'newton-cg', 'sag', and 'lbfgs' solvers support only L2 regularization\n",
      " |  with primal formulation, or no regularization. The 'liblinear' solver\n",
      " |  supports both L1 and L2 regularization, with a dual formulation only for\n",
      " |  the L2 penalty. The Elastic-Net regularization is only supported by the\n",
      " |  'saga' solver.\n",
      " |  \n",
      " |  Read more in the :ref:`User Guide <logistic_regression>`.\n",
      " |  \n",
      " |  Parameters\n",
      " |  ----------\n",
      " |  penalty : {'l1', 'l2', 'elasticnet', 'none'}, default='l2'\n",
      " |      Specify the norm of the penalty:\n",
      " |  \n",
      " |      - `'none'`: no penalty is added;\n",
      " |      - `'l2'`: add a L2 penalty term and it is the default choice;\n",
      " |      - `'l1'`: add a L1 penalty term;\n",
      " |      - `'elasticnet'`: both L1 and L2 penalty terms are added.\n",
      " |  \n",
      " |      .. warning::\n",
      " |         Some penalties may not work with some solvers. See the parameter\n",
      " |         `solver` below, to know the compatibility between the penalty and\n",
      " |         solver.\n",
      " |  \n",
      " |      .. versionadded:: 0.19\n",
      " |         l1 penalty with SAGA solver (allowing 'multinomial' + L1)\n",
      " |  \n",
      " |  dual : bool, default=False\n",
      " |      Dual or primal formulation. Dual formulation is only implemented for\n",
      " |      l2 penalty with liblinear solver. Prefer dual=False when\n",
      " |      n_samples > n_features.\n",
      " |  \n",
      " |  tol : float, default=1e-4\n",
      " |      Tolerance for stopping criteria.\n",
      " |  \n",
      " |  C : float, default=1.0\n",
      " |      Inverse of regularization strength; must be a positive float.\n",
      " |      Like in support vector machines, smaller values specify stronger\n",
      " |      regularization.\n",
      " |  \n",
      " |  fit_intercept : bool, default=True\n",
      " |      Specifies if a constant (a.k.a. bias or intercept) should be\n",
      " |      added to the decision function.\n",
      " |  \n",
      " |  intercept_scaling : float, default=1\n",
      " |      Useful only when the solver 'liblinear' is used\n",
      " |      and self.fit_intercept is set to True. In this case, x becomes\n",
      " |      [x, self.intercept_scaling],\n",
      " |      i.e. a \"synthetic\" feature with constant value equal to\n",
      " |      intercept_scaling is appended to the instance vector.\n",
      " |      The intercept becomes ``intercept_scaling * synthetic_feature_weight``.\n",
      " |  \n",
      " |      Note! the synthetic feature weight is subject to l1/l2 regularization\n",
      " |      as all other features.\n",
      " |      To lessen the effect of regularization on synthetic feature weight\n",
      " |      (and therefore on the intercept) intercept_scaling has to be increased.\n",
      " |  \n",
      " |  class_weight : dict or 'balanced', default=None\n",
      " |      Weights associated with classes in the form ``{class_label: weight}``.\n",
      " |      If not given, all classes are supposed to have weight one.\n",
      " |  \n",
      " |      The \"balanced\" mode uses the values of y to automatically adjust\n",
      " |      weights inversely proportional to class frequencies in the input data\n",
      " |      as ``n_samples / (n_classes * np.bincount(y))``.\n",
      " |  \n",
      " |      Note that these weights will be multiplied with sample_weight (passed\n",
      " |      through the fit method) if sample_weight is specified.\n",
      " |  \n",
      " |      .. versionadded:: 0.17\n",
      " |         *class_weight='balanced'*\n",
      " |  \n",
      " |  random_state : int, RandomState instance, default=None\n",
      " |      Used when ``solver`` == 'sag', 'saga' or 'liblinear' to shuffle the\n",
      " |      data. See :term:`Glossary <random_state>` for details.\n",
      " |  \n",
      " |  solver : {'newton-cg', 'lbfgs', 'liblinear', 'sag', 'saga'},             default='lbfgs'\n",
      " |  \n",
      " |      Algorithm to use in the optimization problem. Default is 'lbfgs'.\n",
      " |      To choose a solver, you might want to consider the following aspects:\n",
      " |  \n",
      " |          - For small datasets, 'liblinear' is a good choice, whereas 'sag'\n",
      " |            and 'saga' are faster for large ones;\n",
      " |          - For multiclass problems, only 'newton-cg', 'sag', 'saga' and\n",
      " |            'lbfgs' handle multinomial loss;\n",
      " |          - 'liblinear' is limited to one-versus-rest schemes.\n",
      " |  \n",
      " |      .. warning::\n",
      " |         The choice of the algorithm depends on the penalty chosen:\n",
      " |         Supported penalties by solver:\n",
      " |  \n",
      " |         - 'newton-cg'   -   ['l2', 'none']\n",
      " |         - 'lbfgs'       -   ['l2', 'none']\n",
      " |         - 'liblinear'   -   ['l1', 'l2']\n",
      " |         - 'sag'         -   ['l2', 'none']\n",
      " |         - 'saga'        -   ['elasticnet', 'l1', 'l2', 'none']\n",
      " |  \n",
      " |      .. note::\n",
      " |         'sag' and 'saga' fast convergence is only guaranteed on\n",
      " |         features with approximately the same scale. You can\n",
      " |         preprocess the data with a scaler from :mod:`sklearn.preprocessing`.\n",
      " |  \n",
      " |      .. seealso::\n",
      " |         Refer to the User Guide for more information regarding\n",
      " |         :class:`LogisticRegression` and more specifically the\n",
      " |         `Table <https://scikit-learn.org/dev/modules/linear_model.html#logistic-regression>`_\n",
      " |         summarazing solver/penalty supports.\n",
      " |         <!--\n",
      " |         # noqa: E501\n",
      " |         -->\n",
      " |  \n",
      " |      .. versionadded:: 0.17\n",
      " |         Stochastic Average Gradient descent solver.\n",
      " |      .. versionadded:: 0.19\n",
      " |         SAGA solver.\n",
      " |      .. versionchanged:: 0.22\n",
      " |          The default solver changed from 'liblinear' to 'lbfgs' in 0.22.\n",
      " |  \n",
      " |  max_iter : int, default=100\n",
      " |      Maximum number of iterations taken for the solvers to converge.\n",
      " |  \n",
      " |  multi_class : {'auto', 'ovr', 'multinomial'}, default='auto'\n",
      " |      If the option chosen is 'ovr', then a binary problem is fit for each\n",
      " |      label. For 'multinomial' the loss minimised is the multinomial loss fit\n",
      " |      across the entire probability distribution, *even when the data is\n",
      " |      binary*. 'multinomial' is unavailable when solver='liblinear'.\n",
      " |      'auto' selects 'ovr' if the data is binary, or if solver='liblinear',\n",
      " |      and otherwise selects 'multinomial'.\n",
      " |  \n",
      " |      .. versionadded:: 0.18\n",
      " |         Stochastic Average Gradient descent solver for 'multinomial' case.\n",
      " |      .. versionchanged:: 0.22\n",
      " |          Default changed from 'ovr' to 'auto' in 0.22.\n",
      " |  \n",
      " |  verbose : int, default=0\n",
      " |      For the liblinear and lbfgs solvers set verbose to any positive\n",
      " |      number for verbosity.\n",
      " |  \n",
      " |  warm_start : bool, default=False\n",
      " |      When set to True, reuse the solution of the previous call to fit as\n",
      " |      initialization, otherwise, just erase the previous solution.\n",
      " |      Useless for liblinear solver. See :term:`the Glossary <warm_start>`.\n",
      " |  \n",
      " |      .. versionadded:: 0.17\n",
      " |         *warm_start* to support *lbfgs*, *newton-cg*, *sag*, *saga* solvers.\n",
      " |  \n",
      " |  n_jobs : int, default=None\n",
      " |      Number of CPU cores used when parallelizing over classes if\n",
      " |      multi_class='ovr'\". This parameter is ignored when the ``solver`` is\n",
      " |      set to 'liblinear' regardless of whether 'multi_class' is specified or\n",
      " |      not. ``None`` means 1 unless in a :obj:`joblib.parallel_backend`\n",
      " |      context. ``-1`` means using all processors.\n",
      " |      See :term:`Glossary <n_jobs>` for more details.\n",
      " |  \n",
      " |  l1_ratio : float, default=None\n",
      " |      The Elastic-Net mixing parameter, with ``0 <= l1_ratio <= 1``. Only\n",
      " |      used if ``penalty='elasticnet'``. Setting ``l1_ratio=0`` is equivalent\n",
      " |      to using ``penalty='l2'``, while setting ``l1_ratio=1`` is equivalent\n",
      " |      to using ``penalty='l1'``. For ``0 < l1_ratio <1``, the penalty is a\n",
      " |      combination of L1 and L2.\n",
      " |  \n",
      " |  Attributes\n",
      " |  ----------\n",
      " |  \n",
      " |  classes_ : ndarray of shape (n_classes, )\n",
      " |      A list of class labels known to the classifier.\n",
      " |  \n",
      " |  coef_ : ndarray of shape (1, n_features) or (n_classes, n_features)\n",
      " |      Coefficient of the features in the decision function.\n",
      " |  \n",
      " |      `coef_` is of shape (1, n_features) when the given problem is binary.\n",
      " |      In particular, when `multi_class='multinomial'`, `coef_` corresponds\n",
      " |      to outcome 1 (True) and `-coef_` corresponds to outcome 0 (False).\n",
      " |  \n",
      " |  intercept_ : ndarray of shape (1,) or (n_classes,)\n",
      " |      Intercept (a.k.a. bias) added to the decision function.\n",
      " |  \n",
      " |      If `fit_intercept` is set to False, the intercept is set to zero.\n",
      " |      `intercept_` is of shape (1,) when the given problem is binary.\n",
      " |      In particular, when `multi_class='multinomial'`, `intercept_`\n",
      " |      corresponds to outcome 1 (True) and `-intercept_` corresponds to\n",
      " |      outcome 0 (False).\n",
      " |  \n",
      " |  n_features_in_ : int\n",
      " |      Number of features seen during :term:`fit`.\n",
      " |  \n",
      " |      .. versionadded:: 0.24\n",
      " |  \n",
      " |  feature_names_in_ : ndarray of shape (`n_features_in_`,)\n",
      " |      Names of features seen during :term:`fit`. Defined only when `X`\n",
      " |      has feature names that are all strings.\n",
      " |  \n",
      " |      .. versionadded:: 1.0\n",
      " |  \n",
      " |  n_iter_ : ndarray of shape (n_classes,) or (1, )\n",
      " |      Actual number of iterations for all classes. If binary or multinomial,\n",
      " |      it returns only 1 element. For liblinear solver, only the maximum\n",
      " |      number of iteration across all classes is given.\n",
      " |  \n",
      " |      .. versionchanged:: 0.20\n",
      " |  \n",
      " |          In SciPy <= 1.0.0 the number of lbfgs iterations may exceed\n",
      " |          ``max_iter``. ``n_iter_`` will now report at most ``max_iter``.\n",
      " |  \n",
      " |  See Also\n",
      " |  --------\n",
      " |  SGDClassifier : Incrementally trained logistic regression (when given\n",
      " |      the parameter ``loss=\"log\"``).\n",
      " |  LogisticRegressionCV : Logistic regression with built-in cross validation.\n",
      " |  \n",
      " |  Notes\n",
      " |  -----\n",
      " |  The underlying C implementation uses a random number generator to\n",
      " |  select features when fitting the model. It is thus not uncommon,\n",
      " |  to have slightly different results for the same input data. If\n",
      " |  that happens, try with a smaller tol parameter.\n",
      " |  \n",
      " |  Predict output may not match that of standalone liblinear in certain\n",
      " |  cases. See :ref:`differences from liblinear <liblinear_differences>`\n",
      " |  in the narrative documentation.\n",
      " |  \n",
      " |  References\n",
      " |  ----------\n",
      " |  \n",
      " |  L-BFGS-B -- Software for Large-scale Bound-constrained Optimization\n",
      " |      Ciyou Zhu, Richard Byrd, Jorge Nocedal and Jose Luis Morales.\n",
      " |      http://users.iems.northwestern.edu/~nocedal/lbfgsb.html\n",
      " |  \n",
      " |  LIBLINEAR -- A Library for Large Linear Classification\n",
      " |      https://www.csie.ntu.edu.tw/~cjlin/liblinear/\n",
      " |  \n",
      " |  SAG -- Mark Schmidt, Nicolas Le Roux, and Francis Bach\n",
      " |      Minimizing Finite Sums with the Stochastic Average Gradient\n",
      " |      https://hal.inria.fr/hal-00860051/document\n",
      " |  \n",
      " |  SAGA -- Defazio, A., Bach F. & Lacoste-Julien S. (2014).\n",
      " |      SAGA: A Fast Incremental Gradient Method With Support\n",
      " |      for Non-Strongly Convex Composite Objectives\n",
      " |      https://arxiv.org/abs/1407.0202\n",
      " |  \n",
      " |  Hsiang-Fu Yu, Fang-Lan Huang, Chih-Jen Lin (2011). Dual coordinate descent\n",
      " |      methods for logistic regression and maximum entropy models.\n",
      " |      Machine Learning 85(1-2):41-75.\n",
      " |      https://www.csie.ntu.edu.tw/~cjlin/papers/maxent_dual.pdf\n",
      " |  \n",
      " |  Examples\n",
      " |  --------\n",
      " |  >>> from sklearn.datasets import load_iris\n",
      " |  >>> from sklearn.linear_model import LogisticRegression\n",
      " |  >>> X, y = load_iris(return_X_y=True)\n",
      " |  >>> clf = LogisticRegression(random_state=0).fit(X, y)\n",
      " |  >>> clf.predict(X[:2, :])\n",
      " |  array([0, 0])\n",
      " |  >>> clf.predict_proba(X[:2, :])\n",
      " |  array([[9.8...e-01, 1.8...e-02, 1.4...e-08],\n",
      " |         [9.7...e-01, 2.8...e-02, ...e-08]])\n",
      " |  >>> clf.score(X, y)\n",
      " |  0.97...\n",
      " |  \n",
      " |  Method resolution order:\n",
      " |      LogisticRegression\n",
      " |      sklearn.linear_model._base.LinearClassifierMixin\n",
      " |      sklearn.base.ClassifierMixin\n",
      " |      sklearn.linear_model._base.SparseCoefMixin\n",
      " |      sklearn.base.BaseEstimator\n",
      " |      builtins.object\n",
      " |  \n",
      " |  Methods defined here:\n",
      " |  \n",
      " |  __init__(self, penalty='l2', *, dual=False, tol=0.0001, C=1.0, fit_intercept=True, intercept_scaling=1, class_weight=None, random_state=None, solver='lbfgs', max_iter=100, multi_class='auto', verbose=0, warm_start=False, n_jobs=None, l1_ratio=None)\n",
      " |      Initialize self.  See help(type(self)) for accurate signature.\n",
      " |  \n",
      " |  fit(self, X, y, sample_weight=None)\n",
      " |      Fit the model according to the given training data.\n",
      " |      \n",
      " |      Parameters\n",
      " |      ----------\n",
      " |      X : {array-like, sparse matrix} of shape (n_samples, n_features)\n",
      " |          Training vector, where `n_samples` is the number of samples and\n",
      " |          `n_features` is the number of features.\n",
      " |      \n",
      " |      y : array-like of shape (n_samples,)\n",
      " |          Target vector relative to X.\n",
      " |      \n",
      " |      sample_weight : array-like of shape (n_samples,) default=None\n",
      " |          Array of weights that are assigned to individual samples.\n",
      " |          If not provided, then each sample is given unit weight.\n",
      " |      \n",
      " |          .. versionadded:: 0.17\n",
      " |             *sample_weight* support to LogisticRegression.\n",
      " |      \n",
      " |      Returns\n",
      " |      -------\n",
      " |      self\n",
      " |          Fitted estimator.\n",
      " |      \n",
      " |      Notes\n",
      " |      -----\n",
      " |      The SAGA solver supports both float64 and float32 bit arrays.\n",
      " |  \n",
      " |  predict_log_proba(self, X)\n",
      " |      Predict logarithm of probability estimates.\n",
      " |      \n",
      " |      The returned estimates for all classes are ordered by the\n",
      " |      label of classes.\n",
      " |      \n",
      " |      Parameters\n",
      " |      ----------\n",
      " |      X : array-like of shape (n_samples, n_features)\n",
      " |          Vector to be scored, where `n_samples` is the number of samples and\n",
      " |          `n_features` is the number of features.\n",
      " |      \n",
      " |      Returns\n",
      " |      -------\n",
      " |      T : array-like of shape (n_samples, n_classes)\n",
      " |          Returns the log-probability of the sample for each class in the\n",
      " |          model, where classes are ordered as they are in ``self.classes_``.\n",
      " |  \n",
      " |  predict_proba(self, X)\n",
      " |      Probability estimates.\n",
      " |      \n",
      " |      The returned estimates for all classes are ordered by the\n",
      " |      label of classes.\n",
      " |      \n",
      " |      For a multi_class problem, if multi_class is set to be \"multinomial\"\n",
      " |      the softmax function is used to find the predicted probability of\n",
      " |      each class.\n",
      " |      Else use a one-vs-rest approach, i.e calculate the probability\n",
      " |      of each class assuming it to be positive using the logistic function.\n",
      " |      and normalize these values across all the classes.\n",
      " |      \n",
      " |      Parameters\n",
      " |      ----------\n",
      " |      X : array-like of shape (n_samples, n_features)\n",
      " |          Vector to be scored, where `n_samples` is the number of samples and\n",
      " |          `n_features` is the number of features.\n",
      " |      \n",
      " |      Returns\n",
      " |      -------\n",
      " |      T : array-like of shape (n_samples, n_classes)\n",
      " |          Returns the probability of the sample for each class in the model,\n",
      " |          where classes are ordered as they are in ``self.classes_``.\n",
      " |  \n",
      " |  ----------------------------------------------------------------------\n",
      " |  Methods inherited from sklearn.linear_model._base.LinearClassifierMixin:\n",
      " |  \n",
      " |  decision_function(self, X)\n",
      " |      Predict confidence scores for samples.\n",
      " |      \n",
      " |      The confidence score for a sample is proportional to the signed\n",
      " |      distance of that sample to the hyperplane.\n",
      " |      \n",
      " |      Parameters\n",
      " |      ----------\n",
      " |      X : {array-like, sparse matrix} of shape (n_samples, n_features)\n",
      " |          The data matrix for which we want to get the confidence scores.\n",
      " |      \n",
      " |      Returns\n",
      " |      -------\n",
      " |      scores : ndarray of shape (n_samples,) or (n_samples, n_classes)\n",
      " |          Confidence scores per `(n_samples, n_classes)` combination. In the\n",
      " |          binary case, confidence score for `self.classes_[1]` where >0 means\n",
      " |          this class would be predicted.\n",
      " |  \n",
      " |  predict(self, X)\n",
      " |      Predict class labels for samples in X.\n",
      " |      \n",
      " |      Parameters\n",
      " |      ----------\n",
      " |      X : {array-like, sparse matrix} of shape (n_samples, n_features)\n",
      " |          The data matrix for which we want to get the predictions.\n",
      " |      \n",
      " |      Returns\n",
      " |      -------\n",
      " |      y_pred : ndarray of shape (n_samples,)\n",
      " |          Vector containing the class labels for each sample.\n",
      " |  \n",
      " |  ----------------------------------------------------------------------\n",
      " |  Methods inherited from sklearn.base.ClassifierMixin:\n",
      " |  \n",
      " |  score(self, X, y, sample_weight=None)\n",
      " |      Return the mean accuracy on the given test data and labels.\n",
      " |      \n",
      " |      In multi-label classification, this is the subset accuracy\n",
      " |      which is a harsh metric since you require for each sample that\n",
      " |      each label set be correctly predicted.\n",
      " |      \n",
      " |      Parameters\n",
      " |      ----------\n",
      " |      X : array-like of shape (n_samples, n_features)\n",
      " |          Test samples.\n",
      " |      \n",
      " |      y : array-like of shape (n_samples,) or (n_samples, n_outputs)\n",
      " |          True labels for `X`.\n",
      " |      \n",
      " |      sample_weight : array-like of shape (n_samples,), default=None\n",
      " |          Sample weights.\n",
      " |      \n",
      " |      Returns\n",
      " |      -------\n",
      " |      score : float\n",
      " |          Mean accuracy of ``self.predict(X)`` wrt. `y`.\n",
      " |  \n",
      " |  ----------------------------------------------------------------------\n",
      " |  Data descriptors inherited from sklearn.base.ClassifierMixin:\n",
      " |  \n",
      " |  __dict__\n",
      " |      dictionary for instance variables (if defined)\n",
      " |  \n",
      " |  __weakref__\n",
      " |      list of weak references to the object (if defined)\n",
      " |  \n",
      " |  ----------------------------------------------------------------------\n",
      " |  Methods inherited from sklearn.linear_model._base.SparseCoefMixin:\n",
      " |  \n",
      " |  densify(self)\n",
      " |      Convert coefficient matrix to dense array format.\n",
      " |      \n",
      " |      Converts the ``coef_`` member (back) to a numpy.ndarray. This is the\n",
      " |      default format of ``coef_`` and is required for fitting, so calling\n",
      " |      this method is only required on models that have previously been\n",
      " |      sparsified; otherwise, it is a no-op.\n",
      " |      \n",
      " |      Returns\n",
      " |      -------\n",
      " |      self\n",
      " |          Fitted estimator.\n",
      " |  \n",
      " |  sparsify(self)\n",
      " |      Convert coefficient matrix to sparse format.\n",
      " |      \n",
      " |      Converts the ``coef_`` member to a scipy.sparse matrix, which for\n",
      " |      L1-regularized models can be much more memory- and storage-efficient\n",
      " |      than the usual numpy.ndarray representation.\n",
      " |      \n",
      " |      The ``intercept_`` member is not converted.\n",
      " |      \n",
      " |      Returns\n",
      " |      -------\n",
      " |      self\n",
      " |          Fitted estimator.\n",
      " |      \n",
      " |      Notes\n",
      " |      -----\n",
      " |      For non-sparse models, i.e. when there are not many zeros in ``coef_``,\n",
      " |      this may actually *increase* memory usage, so use this method with\n",
      " |      care. A rule of thumb is that the number of zero elements, which can\n",
      " |      be computed with ``(coef_ == 0).sum()``, must be more than 50% for this\n",
      " |      to provide significant benefits.\n",
      " |      \n",
      " |      After calling this method, further fitting with the partial_fit\n",
      " |      method (if any) will not work until you call densify.\n",
      " |  \n",
      " |  ----------------------------------------------------------------------\n",
      " |  Methods inherited from sklearn.base.BaseEstimator:\n",
      " |  \n",
      " |  __getstate__(self)\n",
      " |  \n",
      " |  __repr__(self, N_CHAR_MAX=700)\n",
      " |      Return repr(self).\n",
      " |  \n",
      " |  __setstate__(self, state)\n",
      " |  \n",
      " |  get_params(self, deep=True)\n",
      " |      Get parameters for this estimator.\n",
      " |      \n",
      " |      Parameters\n",
      " |      ----------\n",
      " |      deep : bool, default=True\n",
      " |          If True, will return the parameters for this estimator and\n",
      " |          contained subobjects that are estimators.\n",
      " |      \n",
      " |      Returns\n",
      " |      -------\n",
      " |      params : dict\n",
      " |          Parameter names mapped to their values.\n",
      " |  \n",
      " |  set_params(self, **params)\n",
      " |      Set the parameters of this estimator.\n",
      " |      \n",
      " |      The method works on simple estimators as well as on nested objects\n",
      " |      (such as :class:`~sklearn.pipeline.Pipeline`). The latter have\n",
      " |      parameters of the form ``<component>__<parameter>`` so that it's\n",
      " |      possible to update each component of a nested object.\n",
      " |      \n",
      " |      Parameters\n",
      " |      ----------\n",
      " |      **params : dict\n",
      " |          Estimator parameters.\n",
      " |      \n",
      " |      Returns\n",
      " |      -------\n",
      " |      self : estimator instance\n",
      " |          Estimator instance.\n",
      "\n"
     ]
    }
   ],
   "source": [
    "help(LogisticRegression)"
   ]
  },
  {
   "cell_type": "markdown",
   "id": "36068159",
   "metadata": {},
   "source": [
    "# Feature Selection for each cell type with Variance Threshold 0.5"
   ]
  },
  {
   "cell_type": "code",
   "execution_count": 374,
   "id": "967f86b3",
   "metadata": {},
   "outputs": [],
   "source": [
    "import pandas as pd\n",
    "CD4 = pd.read_csv(\"/research/labs/immunology/goronzy_weyand/GoronzyLab_Mayo/Abhinav/scCITESeq/Ines/Run02_and_Run03_analysis/downstream_analysis/Integrated_Run/Table/CD4_RNA_ADT_merged_2.csv\", \n",
    "                  index_col=[0])"
   ]
  },
  {
   "cell_type": "code",
   "execution_count": 533,
   "id": "5e1260cb",
   "metadata": {},
   "outputs": [],
   "source": [
    "## Data Cleaning\n",
    "## Removing the column with values less than 0.1%\n",
    "from numpy import unique\n",
    "# making a list to append to it\n",
    "res = []\n",
    "res1 = []\n",
    "res2 = []\n",
    "for i in range(CD4.shape[1]):\n",
    "    num = len(unique(CD4.iloc[:,i]))\n",
    "    percentage = float(num) / CD4.shape[0] * 100\n",
    "    if percentage < 0.02:\n",
    "        res.append(i)\n",
    "        res1.append(num)\n",
    "        res2.append(percentage)"
   ]
  },
  {
   "cell_type": "code",
   "execution_count": 534,
   "id": "d283b231",
   "metadata": {},
   "outputs": [
    {
     "name": "stdout",
     "output_type": "stream",
     "text": [
      "(1386, 3)\n"
     ]
    }
   ],
   "source": [
    "# converting the list to dataframe. the process is List -> Dict -> Dataframe\n",
    "d = {'index':res,'num':res1,'percentage':res2}\n",
    "df=pd.DataFrame(d)\n",
    "print(df.shape)"
   ]
  },
  {
   "cell_type": "code",
   "execution_count": 535,
   "id": "ea4d2654",
   "metadata": {},
   "outputs": [],
   "source": [
    "import copy\n",
    "CD4_3 = copy.deepcopy(CD4)"
   ]
  },
  {
   "cell_type": "code",
   "execution_count": 536,
   "id": "e327baf3",
   "metadata": {},
   "outputs": [
    {
     "name": "stdout",
     "output_type": "stream",
     "text": [
      "(22188, 19961)\n",
      "(22188, 18576)\n"
     ]
    }
   ],
   "source": [
    "print(CD4_3.shape)\n",
    "CD4_3.drop(CD4_3.columns[res[0:len(res)-1]], axis=1,inplace=True)\n",
    "print(CD4_3.shape)"
   ]
  },
  {
   "cell_type": "code",
   "execution_count": 537,
   "id": "76b2239c",
   "metadata": {},
   "outputs": [],
   "source": [
    "MT_ribo_genename = CD4_3.columns[CD4_3.columns.str.match('(MT)|(RPL)|(RPS)')]"
   ]
  },
  {
   "cell_type": "code",
   "execution_count": 538,
   "id": "0fb3ada2",
   "metadata": {},
   "outputs": [
    {
     "name": "stdout",
     "output_type": "stream",
     "text": [
      "(22188, 18576)\n",
      "(22188, 18391)\n"
     ]
    }
   ],
   "source": [
    "import copy\n",
    "CD4_4 = copy.deepcopy(CD4_3)\n",
    "print(CD4_4.shape)\n",
    "CD4_4.drop(MT_ribo_genename, axis=1, inplace=True)\n",
    "print(CD4_4.shape)"
   ]
  },
  {
   "cell_type": "code",
   "execution_count": 539,
   "id": "2e7c909b",
   "metadata": {},
   "outputs": [
    {
     "data": {
      "text/plain": [
       "EM                         5670\n",
       "Tregs                      5355\n",
       "CM                         4576\n",
       "CM or EM                   1913\n",
       "Naive or stem-cell like    1708\n",
       "CD4 TEMRA                  1190\n",
       "DN / NKT                    827\n",
       "DP EM or non-TEMRA          808\n",
       "unassigned                  141\n",
       "Name: celltype, dtype: int64"
      ]
     },
     "execution_count": 539,
     "metadata": {},
     "output_type": "execute_result"
    }
   ],
   "source": [
    "CD4_4.iloc[:,-1].value_counts()"
   ]
  },
  {
   "cell_type": "markdown",
   "id": "8100c6b6",
   "metadata": {},
   "source": [
    "Need to extract out the dataframes of each cell types than find out the Variance threshold for the features."
   ]
  },
  {
   "cell_type": "code",
   "execution_count": 401,
   "id": "e15bd808",
   "metadata": {
    "collapsed": true
   },
   "outputs": [
    {
     "data": {
      "text/html": [
       "<div>\n",
       "<style scoped>\n",
       "    .dataframe tbody tr th:only-of-type {\n",
       "        vertical-align: middle;\n",
       "    }\n",
       "\n",
       "    .dataframe tbody tr th {\n",
       "        vertical-align: top;\n",
       "    }\n",
       "\n",
       "    .dataframe thead th {\n",
       "        text-align: right;\n",
       "    }\n",
       "</style>\n",
       "<table border=\"1\" class=\"dataframe\">\n",
       "  <thead>\n",
       "    <tr style=\"text-align: right;\">\n",
       "      <th></th>\n",
       "      <th>AL627309.5</th>\n",
       "      <th>LINC01409</th>\n",
       "      <th>LINC01128</th>\n",
       "      <th>LINC00115</th>\n",
       "      <th>FAM41C</th>\n",
       "      <th>NOC2L</th>\n",
       "      <th>KLHL17</th>\n",
       "      <th>PLEKHN1</th>\n",
       "      <th>HES4</th>\n",
       "      <th>ISG15</th>\n",
       "      <th>...</th>\n",
       "      <th>CD62L-protein</th>\n",
       "      <th>TIGIT-VSTM3-protein</th>\n",
       "      <th>CD223-LAG3-protein</th>\n",
       "      <th>CD366-Tim3-protein</th>\n",
       "      <th>CD16-protein</th>\n",
       "      <th>CD85j-ILT2-protein</th>\n",
       "      <th>CD314-NKG2D-protein</th>\n",
       "      <th>CD63-protein</th>\n",
       "      <th>CD335-NKp46-protein</th>\n",
       "      <th>celltype</th>\n",
       "    </tr>\n",
       "  </thead>\n",
       "  <tbody>\n",
       "    <tr>\n",
       "      <th>DMSO_BB22005_AAAGGATTCACCGGGT-1</th>\n",
       "      <td>0.0</td>\n",
       "      <td>0.0</td>\n",
       "      <td>0.0</td>\n",
       "      <td>0.0</td>\n",
       "      <td>0.0</td>\n",
       "      <td>0.000000</td>\n",
       "      <td>0.0</td>\n",
       "      <td>0.0</td>\n",
       "      <td>0.0</td>\n",
       "      <td>1.236400</td>\n",
       "      <td>...</td>\n",
       "      <td>0.402974</td>\n",
       "      <td>0.303415</td>\n",
       "      <td>0.514921</td>\n",
       "      <td>0.671458</td>\n",
       "      <td>0.034834</td>\n",
       "      <td>0.354433</td>\n",
       "      <td>1.128629</td>\n",
       "      <td>0.911802</td>\n",
       "      <td>0.514921</td>\n",
       "      <td>EM</td>\n",
       "    </tr>\n",
       "    <tr>\n",
       "      <th>DMSO_BB22005_AACCATGGTTGCATTG-1</th>\n",
       "      <td>0.0</td>\n",
       "      <td>0.0</td>\n",
       "      <td>0.0</td>\n",
       "      <td>0.0</td>\n",
       "      <td>0.0</td>\n",
       "      <td>0.000000</td>\n",
       "      <td>0.0</td>\n",
       "      <td>0.0</td>\n",
       "      <td>0.0</td>\n",
       "      <td>0.000000</td>\n",
       "      <td>...</td>\n",
       "      <td>2.155831</td>\n",
       "      <td>0.209763</td>\n",
       "      <td>0.236436</td>\n",
       "      <td>0.641961</td>\n",
       "      <td>0.209763</td>\n",
       "      <td>0.236436</td>\n",
       "      <td>1.087589</td>\n",
       "      <td>0.641961</td>\n",
       "      <td>0.587887</td>\n",
       "      <td>EM</td>\n",
       "    </tr>\n",
       "    <tr>\n",
       "      <th>DMSO_BB22005_AACGGGATCGGCGATC-1</th>\n",
       "      <td>0.0</td>\n",
       "      <td>0.0</td>\n",
       "      <td>0.0</td>\n",
       "      <td>0.0</td>\n",
       "      <td>0.0</td>\n",
       "      <td>0.000000</td>\n",
       "      <td>0.0</td>\n",
       "      <td>0.0</td>\n",
       "      <td>0.0</td>\n",
       "      <td>1.373018</td>\n",
       "      <td>...</td>\n",
       "      <td>2.476922</td>\n",
       "      <td>0.372836</td>\n",
       "      <td>0.351870</td>\n",
       "      <td>0.705168</td>\n",
       "      <td>0.058501</td>\n",
       "      <td>0.286197</td>\n",
       "      <td>1.226668</td>\n",
       "      <td>0.776937</td>\n",
       "      <td>0.508448</td>\n",
       "      <td>EM</td>\n",
       "    </tr>\n",
       "    <tr>\n",
       "      <th>DMSO_BB22005_AAGCCATTCAACGAGG-1</th>\n",
       "      <td>0.0</td>\n",
       "      <td>0.0</td>\n",
       "      <td>0.0</td>\n",
       "      <td>0.0</td>\n",
       "      <td>0.0</td>\n",
       "      <td>0.000000</td>\n",
       "      <td>0.0</td>\n",
       "      <td>0.0</td>\n",
       "      <td>0.0</td>\n",
       "      <td>1.719843</td>\n",
       "      <td>...</td>\n",
       "      <td>1.600385</td>\n",
       "      <td>0.185535</td>\n",
       "      <td>0.451595</td>\n",
       "      <td>0.722748</td>\n",
       "      <td>0.078391</td>\n",
       "      <td>0.251076</td>\n",
       "      <td>1.316880</td>\n",
       "      <td>0.780427</td>\n",
       "      <td>0.312584</td>\n",
       "      <td>EM</td>\n",
       "    </tr>\n",
       "    <tr>\n",
       "      <th>DMSO_BB22005_AAGGAATAGTCCTGCG-1</th>\n",
       "      <td>0.0</td>\n",
       "      <td>0.0</td>\n",
       "      <td>0.0</td>\n",
       "      <td>0.0</td>\n",
       "      <td>0.0</td>\n",
       "      <td>0.865613</td>\n",
       "      <td>0.0</td>\n",
       "      <td>0.0</td>\n",
       "      <td>0.0</td>\n",
       "      <td>0.865613</td>\n",
       "      <td>...</td>\n",
       "      <td>1.594292</td>\n",
       "      <td>0.487337</td>\n",
       "      <td>0.420887</td>\n",
       "      <td>0.741440</td>\n",
       "      <td>0.190062</td>\n",
       "      <td>0.312120</td>\n",
       "      <td>1.299890</td>\n",
       "      <td>0.549645</td>\n",
       "      <td>0.608297</td>\n",
       "      <td>EM</td>\n",
       "    </tr>\n",
       "    <tr>\n",
       "      <th>...</th>\n",
       "      <td>...</td>\n",
       "      <td>...</td>\n",
       "      <td>...</td>\n",
       "      <td>...</td>\n",
       "      <td>...</td>\n",
       "      <td>...</td>\n",
       "      <td>...</td>\n",
       "      <td>...</td>\n",
       "      <td>...</td>\n",
       "      <td>...</td>\n",
       "      <td>...</td>\n",
       "      <td>...</td>\n",
       "      <td>...</td>\n",
       "      <td>...</td>\n",
       "      <td>...</td>\n",
       "      <td>...</td>\n",
       "      <td>...</td>\n",
       "      <td>...</td>\n",
       "      <td>...</td>\n",
       "      <td>...</td>\n",
       "      <td>...</td>\n",
       "    </tr>\n",
       "    <tr>\n",
       "      <th>gE_BB22008_TTTCCTCTCTGAATGC-1</th>\n",
       "      <td>0.0</td>\n",
       "      <td>0.0</td>\n",
       "      <td>0.0</td>\n",
       "      <td>0.0</td>\n",
       "      <td>0.0</td>\n",
       "      <td>0.000000</td>\n",
       "      <td>0.0</td>\n",
       "      <td>0.0</td>\n",
       "      <td>0.0</td>\n",
       "      <td>1.084546</td>\n",
       "      <td>...</td>\n",
       "      <td>0.797257</td>\n",
       "      <td>0.517286</td>\n",
       "      <td>0.433064</td>\n",
       "      <td>0.517286</td>\n",
       "      <td>0.000000</td>\n",
       "      <td>0.239794</td>\n",
       "      <td>0.856514</td>\n",
       "      <td>0.797257</td>\n",
       "      <td>0.433064</td>\n",
       "      <td>EM</td>\n",
       "    </tr>\n",
       "    <tr>\n",
       "      <th>gE_BB22008_TTTGGAGTCTTTCAGT-1</th>\n",
       "      <td>0.0</td>\n",
       "      <td>0.0</td>\n",
       "      <td>0.0</td>\n",
       "      <td>0.0</td>\n",
       "      <td>0.0</td>\n",
       "      <td>0.000000</td>\n",
       "      <td>0.0</td>\n",
       "      <td>0.0</td>\n",
       "      <td>0.0</td>\n",
       "      <td>0.000000</td>\n",
       "      <td>...</td>\n",
       "      <td>1.153796</td>\n",
       "      <td>0.474778</td>\n",
       "      <td>0.501418</td>\n",
       "      <td>0.795394</td>\n",
       "      <td>0.042489</td>\n",
       "      <td>0.329762</td>\n",
       "      <td>1.395820</td>\n",
       "      <td>0.852510</td>\n",
       "      <td>0.527367</td>\n",
       "      <td>EM</td>\n",
       "    </tr>\n",
       "    <tr>\n",
       "      <th>gE_BB22008_TTTGGTTAGGACACTG-1</th>\n",
       "      <td>0.0</td>\n",
       "      <td>0.0</td>\n",
       "      <td>0.0</td>\n",
       "      <td>0.0</td>\n",
       "      <td>0.0</td>\n",
       "      <td>0.000000</td>\n",
       "      <td>0.0</td>\n",
       "      <td>0.0</td>\n",
       "      <td>0.0</td>\n",
       "      <td>1.230966</td>\n",
       "      <td>...</td>\n",
       "      <td>0.412878</td>\n",
       "      <td>0.170482</td>\n",
       "      <td>0.501120</td>\n",
       "      <td>0.657201</td>\n",
       "      <td>0.045422</td>\n",
       "      <td>0.349404</td>\n",
       "      <td>1.128531</td>\n",
       "      <td>0.872997</td>\n",
       "      <td>0.412878</td>\n",
       "      <td>EM</td>\n",
       "    </tr>\n",
       "    <tr>\n",
       "      <th>gE_BB22008_TTTGGTTTCAGCTCTC-1</th>\n",
       "      <td>0.0</td>\n",
       "      <td>0.0</td>\n",
       "      <td>0.0</td>\n",
       "      <td>0.0</td>\n",
       "      <td>0.0</td>\n",
       "      <td>0.000000</td>\n",
       "      <td>0.0</td>\n",
       "      <td>0.0</td>\n",
       "      <td>0.0</td>\n",
       "      <td>0.000000</td>\n",
       "      <td>...</td>\n",
       "      <td>0.575089</td>\n",
       "      <td>0.328328</td>\n",
       "      <td>0.358951</td>\n",
       "      <td>0.732160</td>\n",
       "      <td>0.230394</td>\n",
       "      <td>0.264116</td>\n",
       "      <td>1.402653</td>\n",
       "      <td>0.732160</td>\n",
       "      <td>0.230394</td>\n",
       "      <td>EM</td>\n",
       "    </tr>\n",
       "    <tr>\n",
       "      <th>gE_BB22008_TTTGTTGTCGAGATGG-1</th>\n",
       "      <td>0.0</td>\n",
       "      <td>0.0</td>\n",
       "      <td>0.0</td>\n",
       "      <td>0.0</td>\n",
       "      <td>0.0</td>\n",
       "      <td>0.000000</td>\n",
       "      <td>0.0</td>\n",
       "      <td>0.0</td>\n",
       "      <td>0.0</td>\n",
       "      <td>1.070617</td>\n",
       "      <td>...</td>\n",
       "      <td>0.382336</td>\n",
       "      <td>0.299570</td>\n",
       "      <td>0.574462</td>\n",
       "      <td>0.753985</td>\n",
       "      <td>0.177346</td>\n",
       "      <td>0.458773</td>\n",
       "      <td>1.280986</td>\n",
       "      <td>0.697651</td>\n",
       "      <td>0.408470</td>\n",
       "      <td>EM</td>\n",
       "    </tr>\n",
       "  </tbody>\n",
       "</table>\n",
       "<p>5670 rows × 19961 columns</p>\n",
       "</div>"
      ],
      "text/plain": [
       "                                 AL627309.5  LINC01409  LINC01128  LINC00115  \\\n",
       "DMSO_BB22005_AAAGGATTCACCGGGT-1         0.0        0.0        0.0        0.0   \n",
       "DMSO_BB22005_AACCATGGTTGCATTG-1         0.0        0.0        0.0        0.0   \n",
       "DMSO_BB22005_AACGGGATCGGCGATC-1         0.0        0.0        0.0        0.0   \n",
       "DMSO_BB22005_AAGCCATTCAACGAGG-1         0.0        0.0        0.0        0.0   \n",
       "DMSO_BB22005_AAGGAATAGTCCTGCG-1         0.0        0.0        0.0        0.0   \n",
       "...                                     ...        ...        ...        ...   \n",
       "gE_BB22008_TTTCCTCTCTGAATGC-1           0.0        0.0        0.0        0.0   \n",
       "gE_BB22008_TTTGGAGTCTTTCAGT-1           0.0        0.0        0.0        0.0   \n",
       "gE_BB22008_TTTGGTTAGGACACTG-1           0.0        0.0        0.0        0.0   \n",
       "gE_BB22008_TTTGGTTTCAGCTCTC-1           0.0        0.0        0.0        0.0   \n",
       "gE_BB22008_TTTGTTGTCGAGATGG-1           0.0        0.0        0.0        0.0   \n",
       "\n",
       "                                 FAM41C     NOC2L  KLHL17  PLEKHN1  HES4  \\\n",
       "DMSO_BB22005_AAAGGATTCACCGGGT-1     0.0  0.000000     0.0      0.0   0.0   \n",
       "DMSO_BB22005_AACCATGGTTGCATTG-1     0.0  0.000000     0.0      0.0   0.0   \n",
       "DMSO_BB22005_AACGGGATCGGCGATC-1     0.0  0.000000     0.0      0.0   0.0   \n",
       "DMSO_BB22005_AAGCCATTCAACGAGG-1     0.0  0.000000     0.0      0.0   0.0   \n",
       "DMSO_BB22005_AAGGAATAGTCCTGCG-1     0.0  0.865613     0.0      0.0   0.0   \n",
       "...                                 ...       ...     ...      ...   ...   \n",
       "gE_BB22008_TTTCCTCTCTGAATGC-1       0.0  0.000000     0.0      0.0   0.0   \n",
       "gE_BB22008_TTTGGAGTCTTTCAGT-1       0.0  0.000000     0.0      0.0   0.0   \n",
       "gE_BB22008_TTTGGTTAGGACACTG-1       0.0  0.000000     0.0      0.0   0.0   \n",
       "gE_BB22008_TTTGGTTTCAGCTCTC-1       0.0  0.000000     0.0      0.0   0.0   \n",
       "gE_BB22008_TTTGTTGTCGAGATGG-1       0.0  0.000000     0.0      0.0   0.0   \n",
       "\n",
       "                                    ISG15  ...  CD62L-protein  \\\n",
       "DMSO_BB22005_AAAGGATTCACCGGGT-1  1.236400  ...       0.402974   \n",
       "DMSO_BB22005_AACCATGGTTGCATTG-1  0.000000  ...       2.155831   \n",
       "DMSO_BB22005_AACGGGATCGGCGATC-1  1.373018  ...       2.476922   \n",
       "DMSO_BB22005_AAGCCATTCAACGAGG-1  1.719843  ...       1.600385   \n",
       "DMSO_BB22005_AAGGAATAGTCCTGCG-1  0.865613  ...       1.594292   \n",
       "...                                   ...  ...            ...   \n",
       "gE_BB22008_TTTCCTCTCTGAATGC-1    1.084546  ...       0.797257   \n",
       "gE_BB22008_TTTGGAGTCTTTCAGT-1    0.000000  ...       1.153796   \n",
       "gE_BB22008_TTTGGTTAGGACACTG-1    1.230966  ...       0.412878   \n",
       "gE_BB22008_TTTGGTTTCAGCTCTC-1    0.000000  ...       0.575089   \n",
       "gE_BB22008_TTTGTTGTCGAGATGG-1    1.070617  ...       0.382336   \n",
       "\n",
       "                                 TIGIT-VSTM3-protein  CD223-LAG3-protein  \\\n",
       "DMSO_BB22005_AAAGGATTCACCGGGT-1             0.303415            0.514921   \n",
       "DMSO_BB22005_AACCATGGTTGCATTG-1             0.209763            0.236436   \n",
       "DMSO_BB22005_AACGGGATCGGCGATC-1             0.372836            0.351870   \n",
       "DMSO_BB22005_AAGCCATTCAACGAGG-1             0.185535            0.451595   \n",
       "DMSO_BB22005_AAGGAATAGTCCTGCG-1             0.487337            0.420887   \n",
       "...                                              ...                 ...   \n",
       "gE_BB22008_TTTCCTCTCTGAATGC-1               0.517286            0.433064   \n",
       "gE_BB22008_TTTGGAGTCTTTCAGT-1               0.474778            0.501418   \n",
       "gE_BB22008_TTTGGTTAGGACACTG-1               0.170482            0.501120   \n",
       "gE_BB22008_TTTGGTTTCAGCTCTC-1               0.328328            0.358951   \n",
       "gE_BB22008_TTTGTTGTCGAGATGG-1               0.299570            0.574462   \n",
       "\n",
       "                                 CD366-Tim3-protein  CD16-protein  \\\n",
       "DMSO_BB22005_AAAGGATTCACCGGGT-1            0.671458      0.034834   \n",
       "DMSO_BB22005_AACCATGGTTGCATTG-1            0.641961      0.209763   \n",
       "DMSO_BB22005_AACGGGATCGGCGATC-1            0.705168      0.058501   \n",
       "DMSO_BB22005_AAGCCATTCAACGAGG-1            0.722748      0.078391   \n",
       "DMSO_BB22005_AAGGAATAGTCCTGCG-1            0.741440      0.190062   \n",
       "...                                             ...           ...   \n",
       "gE_BB22008_TTTCCTCTCTGAATGC-1              0.517286      0.000000   \n",
       "gE_BB22008_TTTGGAGTCTTTCAGT-1              0.795394      0.042489   \n",
       "gE_BB22008_TTTGGTTAGGACACTG-1              0.657201      0.045422   \n",
       "gE_BB22008_TTTGGTTTCAGCTCTC-1              0.732160      0.230394   \n",
       "gE_BB22008_TTTGTTGTCGAGATGG-1              0.753985      0.177346   \n",
       "\n",
       "                                 CD85j-ILT2-protein  CD314-NKG2D-protein  \\\n",
       "DMSO_BB22005_AAAGGATTCACCGGGT-1            0.354433             1.128629   \n",
       "DMSO_BB22005_AACCATGGTTGCATTG-1            0.236436             1.087589   \n",
       "DMSO_BB22005_AACGGGATCGGCGATC-1            0.286197             1.226668   \n",
       "DMSO_BB22005_AAGCCATTCAACGAGG-1            0.251076             1.316880   \n",
       "DMSO_BB22005_AAGGAATAGTCCTGCG-1            0.312120             1.299890   \n",
       "...                                             ...                  ...   \n",
       "gE_BB22008_TTTCCTCTCTGAATGC-1              0.239794             0.856514   \n",
       "gE_BB22008_TTTGGAGTCTTTCAGT-1              0.329762             1.395820   \n",
       "gE_BB22008_TTTGGTTAGGACACTG-1              0.349404             1.128531   \n",
       "gE_BB22008_TTTGGTTTCAGCTCTC-1              0.264116             1.402653   \n",
       "gE_BB22008_TTTGTTGTCGAGATGG-1              0.458773             1.280986   \n",
       "\n",
       "                                 CD63-protein  CD335-NKp46-protein  celltype  \n",
       "DMSO_BB22005_AAAGGATTCACCGGGT-1      0.911802             0.514921        EM  \n",
       "DMSO_BB22005_AACCATGGTTGCATTG-1      0.641961             0.587887        EM  \n",
       "DMSO_BB22005_AACGGGATCGGCGATC-1      0.776937             0.508448        EM  \n",
       "DMSO_BB22005_AAGCCATTCAACGAGG-1      0.780427             0.312584        EM  \n",
       "DMSO_BB22005_AAGGAATAGTCCTGCG-1      0.549645             0.608297        EM  \n",
       "...                                       ...                  ...       ...  \n",
       "gE_BB22008_TTTCCTCTCTGAATGC-1        0.797257             0.433064        EM  \n",
       "gE_BB22008_TTTGGAGTCTTTCAGT-1        0.852510             0.527367        EM  \n",
       "gE_BB22008_TTTGGTTAGGACACTG-1        0.872997             0.412878        EM  \n",
       "gE_BB22008_TTTGGTTTCAGCTCTC-1        0.732160             0.230394        EM  \n",
       "gE_BB22008_TTTGTTGTCGAGATGG-1        0.697651             0.408470        EM  \n",
       "\n",
       "[5670 rows x 19961 columns]"
      ]
     },
     "execution_count": 401,
     "metadata": {},
     "output_type": "execute_result"
    }
   ],
   "source": [
    "CD4_EM = CD4_4.loc[CD4_3.iloc[:,-1].str.match(\"EM\")]"
   ]
  },
  {
   "cell_type": "code",
   "execution_count": 540,
   "id": "1ebc101a",
   "metadata": {},
   "outputs": [],
   "source": [
    "celltypes = unique(CD4_4.iloc[:,-1])\n",
    "\n",
    "# Removing the unassigned from the array\n",
    "import numpy as np\n",
    "celltypes_3 = np.delete(celltypes,8)\n",
    "\n",
    "for p in range(len(celltypes_3)):\n",
    "    df = CD4_4.loc[CD4_4.iloc[:,-1] == (celltypes_3[p])]\n",
    "    celltypes_2[p] = df"
   ]
  },
  {
   "cell_type": "code",
   "execution_count": 541,
   "id": "6bdec7ed",
   "metadata": {
    "collapsed": true
   },
   "outputs": [
    {
     "name": "stdout",
     "output_type": "stream",
     "text": [
      "(1190, 18391)\n",
      "(4576, 18391)\n",
      "(1913, 18391)\n",
      "(827, 18391)\n",
      "(808, 18391)\n",
      "(5670, 18391)\n",
      "(1708, 18391)\n",
      "(5355, 18391)\n"
     ]
    },
    {
     "data": {
      "text/plain": [
       "EM                         5670\n",
       "Tregs                      5355\n",
       "CM                         4576\n",
       "CM or EM                   1913\n",
       "Naive or stem-cell like    1708\n",
       "CD4 TEMRA                  1190\n",
       "DN / NKT                    827\n",
       "DP EM or non-TEMRA          808\n",
       "unassigned                  141\n",
       "Name: celltype, dtype: int64"
      ]
     },
     "execution_count": 541,
     "metadata": {},
     "output_type": "execute_result"
    }
   ],
   "source": [
    "## To check whether the extraction is correct or not\n",
    "for p in range(8):\n",
    "    print(celltypes_2[p].shape)\n",
    "\n",
    "CD4_4.iloc[:,-1].value_counts()"
   ]
  },
  {
   "cell_type": "code",
   "execution_count": 542,
   "id": "0adb4da0",
   "metadata": {},
   "outputs": [],
   "source": [
    "res = [] # assigning a list\n",
    "for i in celltypes_unique.tolist():\n",
    "    new = i.replace(' ','_').replace('DN_/',\"DN\")\n",
    "    res.append(new)"
   ]
  },
  {
   "cell_type": "code",
   "execution_count": 543,
   "id": "8a497ff2",
   "metadata": {},
   "outputs": [],
   "source": [
    "celltype_dict = {}\n",
    "for p in range(8):\n",
    "    celltype_dict[res[p]] = celltypes_2[p]"
   ]
  },
  {
   "cell_type": "code",
   "execution_count": 544,
   "id": "67e99f7e",
   "metadata": {},
   "outputs": [
    {
     "data": {
      "text/plain": [
       "8"
      ]
     },
     "execution_count": 544,
     "metadata": {},
     "output_type": "execute_result"
    }
   ],
   "source": [
    "len(celltype_dict)"
   ]
  },
  {
   "cell_type": "code",
   "execution_count": 545,
   "id": "a103d3e3",
   "metadata": {},
   "outputs": [
    {
     "name": "stdout",
     "output_type": "stream",
     "text": [
      "(1190, 18391)\n",
      "(4576, 18391)\n",
      "(1913, 18391)\n",
      "(827, 18391)\n",
      "(808, 18391)\n",
      "(5670, 18391)\n",
      "(1708, 18391)\n",
      "(5355, 18391)\n"
     ]
    }
   ],
   "source": [
    "for p in range(len(celltype_dict)):\n",
    "    print(celltype_dict[res[p]].shape)"
   ]
  },
  {
   "cell_type": "code",
   "execution_count": 546,
   "id": "4aa8ea8b",
   "metadata": {},
   "outputs": [
    {
     "data": {
      "text/plain": [
       "dict_keys(['CD4_TEMRA', 'CM', 'CM_or_EM', 'DN_NKT', 'DP_EM_or_non-TEMRA', 'EM', 'Naive_or_stem-cell_like', 'Tregs'])"
      ]
     },
     "execution_count": 546,
     "metadata": {},
     "output_type": "execute_result"
    }
   ],
   "source": [
    "celltype_dict.keys()"
   ]
  },
  {
   "cell_type": "markdown",
   "id": "06c4b82f",
   "metadata": {},
   "source": [
    "## Variance Threshold for each celltype keeping threshold 0.5"
   ]
  },
  {
   "cell_type": "code",
   "execution_count": 558,
   "id": "d0549780",
   "metadata": {},
   "outputs": [
    {
     "name": "stdout",
     "output_type": "stream",
     "text": [
      "(5355, 18390) (5355,)\n"
     ]
    }
   ],
   "source": [
    "from sklearn.feature_selection import VarianceThreshold\n",
    "data = celltype_dict[res[p]].values\n",
    "X = data[:, :-1]\n",
    "y = data[:, -1]\n",
    "print(X.shape, y.shape)"
   ]
  },
  {
   "cell_type": "code",
   "execution_count": 615,
   "id": "a838865d",
   "metadata": {},
   "outputs": [
    {
     "name": "stdout",
     "output_type": "stream",
     "text": [
      "(5355, 420)\n"
     ]
    }
   ],
   "source": [
    "# define the transform\n",
    "transform = VarianceThreshold(threshold=0.5)\n",
    "# transform the input data\n",
    "X_sel = transform.fit_transform(X)\n",
    "print(X_sel.shape)"
   ]
  },
  {
   "cell_type": "markdown",
   "id": "e492b5dc",
   "metadata": {},
   "source": [
    "### Alternative way to perform the variance threshold to identify the features also"
   ]
  },
  {
   "cell_type": "code",
   "execution_count": 617,
   "id": "a931a6e7",
   "metadata": {},
   "outputs": [
    {
     "data": {
      "text/plain": [
       "(5355, 18390)"
      ]
     },
     "execution_count": 617,
     "metadata": {},
     "output_type": "execute_result"
    }
   ],
   "source": [
    "# since from the X we have removed the column with the cell type, so we will make a dataframe which will remove the cell types\n",
    "CD4_nocelltype = pd.DataFrame(celltype_dict[res[p]]).iloc[:,:-1]\n",
    "CD4_nocelltype.shape"
   ]
  },
  {
   "cell_type": "code",
   "execution_count": 619,
   "id": "b9f0e8d5",
   "metadata": {
    "collapsed": true
   },
   "outputs": [
    {
     "name": "stdout",
     "output_type": "stream",
     "text": [
      "(1190, 18390) (1190,)\n",
      "(4576, 18390) (4576,)\n",
      "(1913, 18390) (1913,)\n",
      "(827, 18390) (827,)\n",
      "(808, 18390) (808,)\n",
      "(5670, 18390) (5670,)\n",
      "(1708, 18390) (1708,)\n",
      "(5355, 18390) (5355,)\n"
     ]
    }
   ],
   "source": [
    "features = {} # making a dict where selected features will be map to the values\n",
    "\n",
    "from sklearn.feature_selection import VarianceThreshold\n",
    "for ct in res:\n",
    "    data = celltype_dict[ct].values\n",
    "    X = data[:, :-1]\n",
    "    y = data[:, -1]\n",
    "    print(X.shape, y.shape)\n",
    "    transform = VarianceThreshold(threshold=0.5)\n",
    "    _ = transform.fit(X)\n",
    "    mask = transform.get_support()\n",
    "    features[ct] = CD4_nocelltype.iloc[:,mask].columns"
   ]
  },
  {
   "cell_type": "code",
   "execution_count": 622,
   "id": "d94a10c6",
   "metadata": {
    "collapsed": true
   },
   "outputs": [
    {
     "name": "stdout",
     "output_type": "stream",
     "text": [
      "Index(['TNFRSF18', 'TNFRSF4', 'PARK7', 'ENO1', 'TNFRSF1B', 'HP1BP3', 'CDC42',\n",
      "       'SRRM1', 'SYF2', 'RSRP1',\n",
      "       ...\n",
      "       'COX7B', 'PGK1', 'P2RY10', 'ITM2A', 'TSC22D3', 'SEPTIN6', 'NDUFA1',\n",
      "       'STAG2', 'SSR4', 'CD25-protein'],\n",
      "      dtype='object', length=561)\n",
      "Index(['TNFRSF18', 'TNFRSF4', 'PARK7', 'ENO1', 'TNFRSF1B', 'HP1BP3', 'CDC42',\n",
      "       'SRRM1', 'SYF2', 'RSRP1',\n",
      "       ...\n",
      "       'ATRX', 'COX7B', 'PGK1', 'P2RY10', 'TSC22D3', 'SEPTIN6', 'NDUFA1',\n",
      "       'SSR4', 'DDX3Y', 'CD25-protein'],\n",
      "      dtype='object', length=502)\n",
      "Index(['TNFRSF18', 'TNFRSF4', 'PARK7', 'ENO1', 'TNFRSF1B', 'HP1BP3', 'CDC42',\n",
      "       'SRRM1', 'SYF2', 'RSRP1',\n",
      "       ...\n",
      "       'IL2RG', 'XIST', 'ATRX', 'COX7B', 'PGK1', 'TSC22D3', 'SEPTIN6',\n",
      "       'NDUFA1', 'SSR4', 'CD25-protein'],\n",
      "      dtype='object', length=477)\n",
      "Index(['TNFRSF18', 'TNFRSF4', 'PARK7', 'ENO1', 'TNFRSF1B', 'HP1BP3', 'CDC42',\n",
      "       'SRRM1', 'SYF2', 'RSRP1',\n",
      "       ...\n",
      "       'IL2RG', 'ATRX', 'COX7B', 'PGK1', 'ITM2A', 'TSC22D3', 'NDUFA1', 'SSR4',\n",
      "       'DDX3Y', 'CD25-protein'],\n",
      "      dtype='object', length=514)\n",
      "Index(['TNFRSF18', 'TNFRSF4', 'PARK7', 'ENO1', 'TNFRSF1B', 'HP1BP3', 'CDC42',\n",
      "       'RCAN3', 'SRRM1', 'SYF2',\n",
      "       ...\n",
      "       'XIST', 'ATRX', 'COX7B', 'PGK1', 'P2RY10', 'TSC22D3', 'SEPTIN6',\n",
      "       'NDUFA1', 'SSR4', 'CD25-protein'],\n",
      "      dtype='object', length=546)\n",
      "Index(['TNFRSF18', 'TNFRSF4', 'PARK7', 'ENO1', 'TNFRSF1B', 'HP1BP3', 'CDC42',\n",
      "       'SRRM1', 'SYF2', 'RSRP1',\n",
      "       ...\n",
      "       'DDX3X', 'UXT', 'PLP2', 'IL2RG', 'ATRX', 'PGK1', 'TSC22D3', 'SEPTIN6',\n",
      "       'SSR4', 'CD25-protein'],\n",
      "      dtype='object', length=449)\n",
      "Index(['TNFRSF18', 'TNFRSF4', 'PARK7', 'ENO1', 'TNFRSF1B', 'HP1BP3', 'CDC42',\n",
      "       'SRRM1', 'SYF2', 'RSRP1',\n",
      "       ...\n",
      "       'DDX3X', 'UXT', 'PLP2', 'IL2RG', 'ATRX', 'PGK1', 'TSC22D3', 'SEPTIN6',\n",
      "       'SSR4', 'CD25-protein'],\n",
      "      dtype='object', length=441)\n",
      "Index(['TNFRSF18', 'TNFRSF4', 'PARK7', 'ENO1', 'TNFRSF1B', 'HP1BP3', 'CDC42',\n",
      "       'SRRM1', 'SYF2', 'RSRP1',\n",
      "       ...\n",
      "       'SAT1', 'DDX3X', 'UXT', 'PLP2', 'IL2RG', 'ATRX', 'PGK1', 'TSC22D3',\n",
      "       'SSR4', 'CD25-protein'],\n",
      "      dtype='object', length=420)\n"
     ]
    }
   ],
   "source": [
    "for i in res:\n",
    "    print(features[i])"
   ]
  },
  {
   "cell_type": "code",
   "execution_count": 610,
   "id": "169e3c8b",
   "metadata": {},
   "outputs": [],
   "source": [
    "CD4_nocelltype_masked = CD4_nocelltype.iloc[:,mask]"
   ]
  },
  {
   "cell_type": "code",
   "execution_count": 613,
   "id": "dcfc6cc5",
   "metadata": {},
   "outputs": [],
   "source": [
    "bool = CD4_nocelltype_masked.columns.str.match(\"IL2RA\")"
   ]
  },
  {
   "cell_type": "code",
   "execution_count": 614,
   "id": "194dc581",
   "metadata": {
    "collapsed": true
   },
   "outputs": [
    {
     "data": {
      "text/html": [
       "<div>\n",
       "<style scoped>\n",
       "    .dataframe tbody tr th:only-of-type {\n",
       "        vertical-align: middle;\n",
       "    }\n",
       "\n",
       "    .dataframe tbody tr th {\n",
       "        vertical-align: top;\n",
       "    }\n",
       "\n",
       "    .dataframe thead th {\n",
       "        text-align: right;\n",
       "    }\n",
       "</style>\n",
       "<table border=\"1\" class=\"dataframe\">\n",
       "  <thead>\n",
       "    <tr style=\"text-align: right;\">\n",
       "      <th></th>\n",
       "      <th>IL2RA</th>\n",
       "    </tr>\n",
       "  </thead>\n",
       "  <tbody>\n",
       "    <tr>\n",
       "      <th>DMSO_BB22005_AGCCAGCTCAGCGTCG-1</th>\n",
       "      <td>3.714282</td>\n",
       "    </tr>\n",
       "    <tr>\n",
       "      <th>DMSO_BB22005_AGGCCACAGTTGCTCA-1</th>\n",
       "      <td>3.213163</td>\n",
       "    </tr>\n",
       "    <tr>\n",
       "      <th>DMSO_BB22005_AGTAGCTCAATGCAAA-1</th>\n",
       "      <td>0.905069</td>\n",
       "    </tr>\n",
       "    <tr>\n",
       "      <th>DMSO_BB22005_ATCACAGTCTCCCATG-1</th>\n",
       "      <td>0.000000</td>\n",
       "    </tr>\n",
       "    <tr>\n",
       "      <th>DMSO_BB22005_ATCCATTCAGAACCGA-1</th>\n",
       "      <td>3.345302</td>\n",
       "    </tr>\n",
       "    <tr>\n",
       "      <th>...</th>\n",
       "      <td>...</td>\n",
       "    </tr>\n",
       "    <tr>\n",
       "      <th>gE_BB22008_TTTATGCCAGCATACT-1</th>\n",
       "      <td>1.384460</td>\n",
       "    </tr>\n",
       "    <tr>\n",
       "      <th>gE_BB22008_TTTCACAAGGGTGAGG-1</th>\n",
       "      <td>0.000000</td>\n",
       "    </tr>\n",
       "    <tr>\n",
       "      <th>gE_BB22008_TTTCACAGTAACCCGC-1</th>\n",
       "      <td>0.880717</td>\n",
       "    </tr>\n",
       "    <tr>\n",
       "      <th>gE_BB22008_TTTCAGTGTTTCACAG-1</th>\n",
       "      <td>0.000000</td>\n",
       "    </tr>\n",
       "    <tr>\n",
       "      <th>gE_BB22008_TTTCATGGTTGTAAAG-1</th>\n",
       "      <td>0.000000</td>\n",
       "    </tr>\n",
       "  </tbody>\n",
       "</table>\n",
       "<p>5355 rows × 1 columns</p>\n",
       "</div>"
      ],
      "text/plain": [
       "                                    IL2RA\n",
       "DMSO_BB22005_AGCCAGCTCAGCGTCG-1  3.714282\n",
       "DMSO_BB22005_AGGCCACAGTTGCTCA-1  3.213163\n",
       "DMSO_BB22005_AGTAGCTCAATGCAAA-1  0.905069\n",
       "DMSO_BB22005_ATCACAGTCTCCCATG-1  0.000000\n",
       "DMSO_BB22005_ATCCATTCAGAACCGA-1  3.345302\n",
       "...                                   ...\n",
       "gE_BB22008_TTTATGCCAGCATACT-1    1.384460\n",
       "gE_BB22008_TTTCACAAGGGTGAGG-1    0.000000\n",
       "gE_BB22008_TTTCACAGTAACCCGC-1    0.880717\n",
       "gE_BB22008_TTTCAGTGTTTCACAG-1    0.000000\n",
       "gE_BB22008_TTTCATGGTTGTAAAG-1    0.000000\n",
       "\n",
       "[5355 rows x 1 columns]"
      ]
     },
     "execution_count": 614,
     "metadata": {},
     "output_type": "execute_result"
    }
   ],
   "source": [
    "CD4_nocelltype_masked.iloc[:,bool]"
   ]
  },
  {
   "cell_type": "code",
   "execution_count": 616,
   "id": "930efe3c",
   "metadata": {
    "collapsed": true
   },
   "outputs": [
    {
     "data": {
      "text/plain": [
       "['CD4_TEMRA',\n",
       " 'CM',\n",
       " 'CM_or_EM',\n",
       " 'DN_NKT',\n",
       " 'DP_EM_or_non-TEMRA',\n",
       " 'EM',\n",
       " 'Naive_or_stem-cell_like',\n",
       " 'Tregs']"
      ]
     },
     "execution_count": 616,
     "metadata": {},
     "output_type": "execute_result"
    }
   ],
   "source": [
    "res"
   ]
  },
  {
   "cell_type": "markdown",
   "id": "5c8b99f6",
   "metadata": {},
   "source": [
    "### Feature Selection\n",
    "Feature selection by separating out each cell types does not provide much better result as all the cell types are more over providing the same result.\n",
    "\n",
    "We will be use Recursive Feature Elimination that is wrapper to select the subset of the features.\n",
    "\n",
    "RFE works by searching for a subset of features by starting with all features in the training dataset and successfully removing features until the desired number remains.\n",
    "\n",
    "### But RFE is very slow, we cannot use for so many features.\n",
    "Need to use LASSO or Ridge regression to decrease it.\n"
   ]
  },
  {
   "cell_type": "code",
   "execution_count": 624,
   "id": "216471f5",
   "metadata": {},
   "outputs": [
    {
     "name": "stdout",
     "output_type": "stream",
     "text": [
      "1.0.2\n"
     ]
    }
   ],
   "source": [
    "import sklearn\n",
    "print(sklearn.__version__)"
   ]
  },
  {
   "cell_type": "code",
   "execution_count": 633,
   "id": "038c5092",
   "metadata": {},
   "outputs": [
    {
     "name": "stdout",
     "output_type": "stream",
     "text": [
      "(22188, 18575) (22188,)\n"
     ]
    }
   ],
   "source": [
    "data = CD4_3.values\n",
    "X = data[:, :-1]\n",
    "y = data[:, -1]\n",
    "print(X.shape, y.shape)"
   ]
  },
  {
   "cell_type": "code",
   "execution_count": 632,
   "id": "e98aeb8d",
   "metadata": {
    "collapsed": true
   },
   "outputs": [
    {
     "name": "stdout",
     "output_type": "stream",
     "text": [
      "StandardScaler()\n"
     ]
    },
    {
     "ename": "KeyboardInterrupt",
     "evalue": "",
     "output_type": "error",
     "traceback": [
      "\u001b[0;31m---------------------------------------------------------------------------\u001b[0m",
      "\u001b[0;31mKeyboardInterrupt\u001b[0m                         Traceback (most recent call last)",
      "Input \u001b[0;32mIn [632]\u001b[0m, in \u001b[0;36m<cell line: 10>\u001b[0;34m()\u001b[0m\n\u001b[1;32m      7\u001b[0m \u001b[38;5;28mprint\u001b[39m(scaler)\n\u001b[1;32m      8\u001b[0m X_scaled \u001b[38;5;241m=\u001b[39m scaler\u001b[38;5;241m.\u001b[39mtransform(X)\n\u001b[0;32m---> 10\u001b[0m \u001b[43mrfe\u001b[49m\u001b[38;5;241;43m.\u001b[39;49m\u001b[43mfit\u001b[49m\u001b[43m(\u001b[49m\u001b[43mX_scaled\u001b[49m\u001b[43m,\u001b[49m\u001b[43m \u001b[49m\u001b[43my\u001b[49m\u001b[43m)\u001b[49m\n\u001b[1;32m     11\u001b[0m \u001b[38;5;66;03m# transform the data\u001b[39;00m\n\u001b[1;32m     12\u001b[0m X, y \u001b[38;5;241m=\u001b[39m rfe\u001b[38;5;241m.\u001b[39mtransform(X_scaled, y)\n",
      "File \u001b[0;32m/research/labs/immunology/goronzy_weyand/GoronzyLab_Mayo/Abhinav/miniconda3/lib/python3.9/site-packages/sklearn/feature_selection/_rfe.py:222\u001b[0m, in \u001b[0;36mRFE.fit\u001b[0;34m(self, X, y, **fit_params)\u001b[0m\n\u001b[1;32m    202\u001b[0m \u001b[38;5;28;01mdef\u001b[39;00m \u001b[38;5;21mfit\u001b[39m(\u001b[38;5;28mself\u001b[39m, X, y, \u001b[38;5;241m*\u001b[39m\u001b[38;5;241m*\u001b[39mfit_params):\n\u001b[1;32m    203\u001b[0m     \u001b[38;5;124;03m\"\"\"Fit the RFE model and then the underlying estimator on the selected features.\u001b[39;00m\n\u001b[1;32m    204\u001b[0m \n\u001b[1;32m    205\u001b[0m \u001b[38;5;124;03m    Parameters\u001b[39;00m\n\u001b[0;32m   (...)\u001b[0m\n\u001b[1;32m    220\u001b[0m \u001b[38;5;124;03m        Fitted estimator.\u001b[39;00m\n\u001b[1;32m    221\u001b[0m \u001b[38;5;124;03m    \"\"\"\u001b[39;00m\n\u001b[0;32m--> 222\u001b[0m     \u001b[38;5;28;01mreturn\u001b[39;00m \u001b[38;5;28;43mself\u001b[39;49m\u001b[38;5;241;43m.\u001b[39;49m\u001b[43m_fit\u001b[49m\u001b[43m(\u001b[49m\u001b[43mX\u001b[49m\u001b[43m,\u001b[49m\u001b[43m \u001b[49m\u001b[43my\u001b[49m\u001b[43m,\u001b[49m\u001b[43m \u001b[49m\u001b[38;5;241;43m*\u001b[39;49m\u001b[38;5;241;43m*\u001b[39;49m\u001b[43mfit_params\u001b[49m\u001b[43m)\u001b[49m\n",
      "File \u001b[0;32m/research/labs/immunology/goronzy_weyand/GoronzyLab_Mayo/Abhinav/miniconda3/lib/python3.9/site-packages/sklearn/feature_selection/_rfe.py:283\u001b[0m, in \u001b[0;36mRFE._fit\u001b[0;34m(self, X, y, step_score, **fit_params)\u001b[0m\n\u001b[1;32m    280\u001b[0m \u001b[38;5;28;01mif\u001b[39;00m \u001b[38;5;28mself\u001b[39m\u001b[38;5;241m.\u001b[39mverbose \u001b[38;5;241m>\u001b[39m \u001b[38;5;241m0\u001b[39m:\n\u001b[1;32m    281\u001b[0m     \u001b[38;5;28mprint\u001b[39m(\u001b[38;5;124m\"\u001b[39m\u001b[38;5;124mFitting estimator with \u001b[39m\u001b[38;5;132;01m%d\u001b[39;00m\u001b[38;5;124m features.\u001b[39m\u001b[38;5;124m\"\u001b[39m \u001b[38;5;241m%\u001b[39m np\u001b[38;5;241m.\u001b[39msum(support_))\n\u001b[0;32m--> 283\u001b[0m \u001b[43mestimator\u001b[49m\u001b[38;5;241;43m.\u001b[39;49m\u001b[43mfit\u001b[49m\u001b[43m(\u001b[49m\u001b[43mX\u001b[49m\u001b[43m[\u001b[49m\u001b[43m:\u001b[49m\u001b[43m,\u001b[49m\u001b[43m \u001b[49m\u001b[43mfeatures\u001b[49m\u001b[43m]\u001b[49m\u001b[43m,\u001b[49m\u001b[43m \u001b[49m\u001b[43my\u001b[49m\u001b[43m,\u001b[49m\u001b[43m \u001b[49m\u001b[38;5;241;43m*\u001b[39;49m\u001b[38;5;241;43m*\u001b[39;49m\u001b[43mfit_params\u001b[49m\u001b[43m)\u001b[49m\n\u001b[1;32m    285\u001b[0m \u001b[38;5;66;03m# Get importance and rank them\u001b[39;00m\n\u001b[1;32m    286\u001b[0m importances \u001b[38;5;241m=\u001b[39m _get_feature_importances(\n\u001b[1;32m    287\u001b[0m     estimator,\n\u001b[1;32m    288\u001b[0m     \u001b[38;5;28mself\u001b[39m\u001b[38;5;241m.\u001b[39mimportance_getter,\n\u001b[1;32m    289\u001b[0m     transform_func\u001b[38;5;241m=\u001b[39m\u001b[38;5;124m\"\u001b[39m\u001b[38;5;124msquare\u001b[39m\u001b[38;5;124m\"\u001b[39m,\n\u001b[1;32m    290\u001b[0m )\n",
      "File \u001b[0;32m/research/labs/immunology/goronzy_weyand/GoronzyLab_Mayo/Abhinav/miniconda3/lib/python3.9/site-packages/sklearn/linear_model/_logistic.py:1589\u001b[0m, in \u001b[0;36mLogisticRegression.fit\u001b[0;34m(self, X, y, sample_weight)\u001b[0m\n\u001b[1;32m   1587\u001b[0m \u001b[38;5;28;01melse\u001b[39;00m:\n\u001b[1;32m   1588\u001b[0m     prefer \u001b[38;5;241m=\u001b[39m \u001b[38;5;124m\"\u001b[39m\u001b[38;5;124mprocesses\u001b[39m\u001b[38;5;124m\"\u001b[39m\n\u001b[0;32m-> 1589\u001b[0m fold_coefs_ \u001b[38;5;241m=\u001b[39m \u001b[43mParallel\u001b[49m\u001b[43m(\u001b[49m\n\u001b[1;32m   1590\u001b[0m \u001b[43m    \u001b[49m\u001b[43mn_jobs\u001b[49m\u001b[38;5;241;43m=\u001b[39;49m\u001b[38;5;28;43mself\u001b[39;49m\u001b[38;5;241;43m.\u001b[39;49m\u001b[43mn_jobs\u001b[49m\u001b[43m,\u001b[49m\n\u001b[1;32m   1591\u001b[0m \u001b[43m    \u001b[49m\u001b[43mverbose\u001b[49m\u001b[38;5;241;43m=\u001b[39;49m\u001b[38;5;28;43mself\u001b[39;49m\u001b[38;5;241;43m.\u001b[39;49m\u001b[43mverbose\u001b[49m\u001b[43m,\u001b[49m\n\u001b[1;32m   1592\u001b[0m \u001b[43m    \u001b[49m\u001b[38;5;241;43m*\u001b[39;49m\u001b[38;5;241;43m*\u001b[39;49m\u001b[43m_joblib_parallel_args\u001b[49m\u001b[43m(\u001b[49m\u001b[43mprefer\u001b[49m\u001b[38;5;241;43m=\u001b[39;49m\u001b[43mprefer\u001b[49m\u001b[43m)\u001b[49m\u001b[43m,\u001b[49m\n\u001b[1;32m   1593\u001b[0m \u001b[43m\u001b[49m\u001b[43m)\u001b[49m\u001b[43m(\u001b[49m\n\u001b[1;32m   1594\u001b[0m \u001b[43m    \u001b[49m\u001b[43mpath_func\u001b[49m\u001b[43m(\u001b[49m\n\u001b[1;32m   1595\u001b[0m \u001b[43m        \u001b[49m\u001b[43mX\u001b[49m\u001b[43m,\u001b[49m\n\u001b[1;32m   1596\u001b[0m \u001b[43m        \u001b[49m\u001b[43my\u001b[49m\u001b[43m,\u001b[49m\n\u001b[1;32m   1597\u001b[0m \u001b[43m        \u001b[49m\u001b[43mpos_class\u001b[49m\u001b[38;5;241;43m=\u001b[39;49m\u001b[43mclass_\u001b[49m\u001b[43m,\u001b[49m\n\u001b[1;32m   1598\u001b[0m \u001b[43m        \u001b[49m\u001b[43mCs\u001b[49m\u001b[38;5;241;43m=\u001b[39;49m\u001b[43m[\u001b[49m\u001b[43mC_\u001b[49m\u001b[43m]\u001b[49m\u001b[43m,\u001b[49m\n\u001b[1;32m   1599\u001b[0m \u001b[43m        \u001b[49m\u001b[43ml1_ratio\u001b[49m\u001b[38;5;241;43m=\u001b[39;49m\u001b[38;5;28;43mself\u001b[39;49m\u001b[38;5;241;43m.\u001b[39;49m\u001b[43ml1_ratio\u001b[49m\u001b[43m,\u001b[49m\n\u001b[1;32m   1600\u001b[0m \u001b[43m        \u001b[49m\u001b[43mfit_intercept\u001b[49m\u001b[38;5;241;43m=\u001b[39;49m\u001b[38;5;28;43mself\u001b[39;49m\u001b[38;5;241;43m.\u001b[39;49m\u001b[43mfit_intercept\u001b[49m\u001b[43m,\u001b[49m\n\u001b[1;32m   1601\u001b[0m \u001b[43m        \u001b[49m\u001b[43mtol\u001b[49m\u001b[38;5;241;43m=\u001b[39;49m\u001b[38;5;28;43mself\u001b[39;49m\u001b[38;5;241;43m.\u001b[39;49m\u001b[43mtol\u001b[49m\u001b[43m,\u001b[49m\n\u001b[1;32m   1602\u001b[0m \u001b[43m        \u001b[49m\u001b[43mverbose\u001b[49m\u001b[38;5;241;43m=\u001b[39;49m\u001b[38;5;28;43mself\u001b[39;49m\u001b[38;5;241;43m.\u001b[39;49m\u001b[43mverbose\u001b[49m\u001b[43m,\u001b[49m\n\u001b[1;32m   1603\u001b[0m \u001b[43m        \u001b[49m\u001b[43msolver\u001b[49m\u001b[38;5;241;43m=\u001b[39;49m\u001b[43msolver\u001b[49m\u001b[43m,\u001b[49m\n\u001b[1;32m   1604\u001b[0m \u001b[43m        \u001b[49m\u001b[43mmulti_class\u001b[49m\u001b[38;5;241;43m=\u001b[39;49m\u001b[43mmulti_class\u001b[49m\u001b[43m,\u001b[49m\n\u001b[1;32m   1605\u001b[0m \u001b[43m        \u001b[49m\u001b[43mmax_iter\u001b[49m\u001b[38;5;241;43m=\u001b[39;49m\u001b[38;5;28;43mself\u001b[39;49m\u001b[38;5;241;43m.\u001b[39;49m\u001b[43mmax_iter\u001b[49m\u001b[43m,\u001b[49m\n\u001b[1;32m   1606\u001b[0m \u001b[43m        \u001b[49m\u001b[43mclass_weight\u001b[49m\u001b[38;5;241;43m=\u001b[39;49m\u001b[38;5;28;43mself\u001b[39;49m\u001b[38;5;241;43m.\u001b[39;49m\u001b[43mclass_weight\u001b[49m\u001b[43m,\u001b[49m\n\u001b[1;32m   1607\u001b[0m \u001b[43m        \u001b[49m\u001b[43mcheck_input\u001b[49m\u001b[38;5;241;43m=\u001b[39;49m\u001b[38;5;28;43;01mFalse\u001b[39;49;00m\u001b[43m,\u001b[49m\n\u001b[1;32m   1608\u001b[0m \u001b[43m        \u001b[49m\u001b[43mrandom_state\u001b[49m\u001b[38;5;241;43m=\u001b[39;49m\u001b[38;5;28;43mself\u001b[39;49m\u001b[38;5;241;43m.\u001b[39;49m\u001b[43mrandom_state\u001b[49m\u001b[43m,\u001b[49m\n\u001b[1;32m   1609\u001b[0m \u001b[43m        \u001b[49m\u001b[43mcoef\u001b[49m\u001b[38;5;241;43m=\u001b[39;49m\u001b[43mwarm_start_coef_\u001b[49m\u001b[43m,\u001b[49m\n\u001b[1;32m   1610\u001b[0m \u001b[43m        \u001b[49m\u001b[43mpenalty\u001b[49m\u001b[38;5;241;43m=\u001b[39;49m\u001b[43mpenalty\u001b[49m\u001b[43m,\u001b[49m\n\u001b[1;32m   1611\u001b[0m \u001b[43m        \u001b[49m\u001b[43mmax_squared_sum\u001b[49m\u001b[38;5;241;43m=\u001b[39;49m\u001b[43mmax_squared_sum\u001b[49m\u001b[43m,\u001b[49m\n\u001b[1;32m   1612\u001b[0m \u001b[43m        \u001b[49m\u001b[43msample_weight\u001b[49m\u001b[38;5;241;43m=\u001b[39;49m\u001b[43msample_weight\u001b[49m\u001b[43m,\u001b[49m\n\u001b[1;32m   1613\u001b[0m \u001b[43m    \u001b[49m\u001b[43m)\u001b[49m\n\u001b[1;32m   1614\u001b[0m \u001b[43m    \u001b[49m\u001b[38;5;28;43;01mfor\u001b[39;49;00m\u001b[43m \u001b[49m\u001b[43mclass_\u001b[49m\u001b[43m,\u001b[49m\u001b[43m \u001b[49m\u001b[43mwarm_start_coef_\u001b[49m\u001b[43m \u001b[49m\u001b[38;5;129;43;01min\u001b[39;49;00m\u001b[43m \u001b[49m\u001b[38;5;28;43mzip\u001b[39;49m\u001b[43m(\u001b[49m\u001b[43mclasses_\u001b[49m\u001b[43m,\u001b[49m\u001b[43m \u001b[49m\u001b[43mwarm_start_coef\u001b[49m\u001b[43m)\u001b[49m\n\u001b[1;32m   1615\u001b[0m \u001b[43m\u001b[49m\u001b[43m)\u001b[49m\n\u001b[1;32m   1617\u001b[0m fold_coefs_, _, n_iter_ \u001b[38;5;241m=\u001b[39m \u001b[38;5;28mzip\u001b[39m(\u001b[38;5;241m*\u001b[39mfold_coefs_)\n\u001b[1;32m   1618\u001b[0m \u001b[38;5;28mself\u001b[39m\u001b[38;5;241m.\u001b[39mn_iter_ \u001b[38;5;241m=\u001b[39m np\u001b[38;5;241m.\u001b[39masarray(n_iter_, dtype\u001b[38;5;241m=\u001b[39mnp\u001b[38;5;241m.\u001b[39mint32)[:, \u001b[38;5;241m0\u001b[39m]\n",
      "File \u001b[0;32m/research/labs/immunology/goronzy_weyand/GoronzyLab_Mayo/Abhinav/miniconda3/lib/python3.9/site-packages/joblib/parallel.py:1043\u001b[0m, in \u001b[0;36mParallel.__call__\u001b[0;34m(self, iterable)\u001b[0m\n\u001b[1;32m   1034\u001b[0m \u001b[38;5;28;01mtry\u001b[39;00m:\n\u001b[1;32m   1035\u001b[0m     \u001b[38;5;66;03m# Only set self._iterating to True if at least a batch\u001b[39;00m\n\u001b[1;32m   1036\u001b[0m     \u001b[38;5;66;03m# was dispatched. In particular this covers the edge\u001b[39;00m\n\u001b[0;32m   (...)\u001b[0m\n\u001b[1;32m   1040\u001b[0m     \u001b[38;5;66;03m# was very quick and its callback already dispatched all the\u001b[39;00m\n\u001b[1;32m   1041\u001b[0m     \u001b[38;5;66;03m# remaining jobs.\u001b[39;00m\n\u001b[1;32m   1042\u001b[0m     \u001b[38;5;28mself\u001b[39m\u001b[38;5;241m.\u001b[39m_iterating \u001b[38;5;241m=\u001b[39m \u001b[38;5;28;01mFalse\u001b[39;00m\n\u001b[0;32m-> 1043\u001b[0m     \u001b[38;5;28;01mif\u001b[39;00m \u001b[38;5;28;43mself\u001b[39;49m\u001b[38;5;241;43m.\u001b[39;49m\u001b[43mdispatch_one_batch\u001b[49m\u001b[43m(\u001b[49m\u001b[43miterator\u001b[49m\u001b[43m)\u001b[49m:\n\u001b[1;32m   1044\u001b[0m         \u001b[38;5;28mself\u001b[39m\u001b[38;5;241m.\u001b[39m_iterating \u001b[38;5;241m=\u001b[39m \u001b[38;5;28mself\u001b[39m\u001b[38;5;241m.\u001b[39m_original_iterator \u001b[38;5;129;01mis\u001b[39;00m \u001b[38;5;129;01mnot\u001b[39;00m \u001b[38;5;28;01mNone\u001b[39;00m\n\u001b[1;32m   1046\u001b[0m     \u001b[38;5;28;01mwhile\u001b[39;00m \u001b[38;5;28mself\u001b[39m\u001b[38;5;241m.\u001b[39mdispatch_one_batch(iterator):\n",
      "File \u001b[0;32m/research/labs/immunology/goronzy_weyand/GoronzyLab_Mayo/Abhinav/miniconda3/lib/python3.9/site-packages/joblib/parallel.py:861\u001b[0m, in \u001b[0;36mParallel.dispatch_one_batch\u001b[0;34m(self, iterator)\u001b[0m\n\u001b[1;32m    859\u001b[0m     \u001b[38;5;28;01mreturn\u001b[39;00m \u001b[38;5;28;01mFalse\u001b[39;00m\n\u001b[1;32m    860\u001b[0m \u001b[38;5;28;01melse\u001b[39;00m:\n\u001b[0;32m--> 861\u001b[0m     \u001b[38;5;28;43mself\u001b[39;49m\u001b[38;5;241;43m.\u001b[39;49m\u001b[43m_dispatch\u001b[49m\u001b[43m(\u001b[49m\u001b[43mtasks\u001b[49m\u001b[43m)\u001b[49m\n\u001b[1;32m    862\u001b[0m     \u001b[38;5;28;01mreturn\u001b[39;00m \u001b[38;5;28;01mTrue\u001b[39;00m\n",
      "File \u001b[0;32m/research/labs/immunology/goronzy_weyand/GoronzyLab_Mayo/Abhinav/miniconda3/lib/python3.9/site-packages/joblib/parallel.py:779\u001b[0m, in \u001b[0;36mParallel._dispatch\u001b[0;34m(self, batch)\u001b[0m\n\u001b[1;32m    777\u001b[0m \u001b[38;5;28;01mwith\u001b[39;00m \u001b[38;5;28mself\u001b[39m\u001b[38;5;241m.\u001b[39m_lock:\n\u001b[1;32m    778\u001b[0m     job_idx \u001b[38;5;241m=\u001b[39m \u001b[38;5;28mlen\u001b[39m(\u001b[38;5;28mself\u001b[39m\u001b[38;5;241m.\u001b[39m_jobs)\n\u001b[0;32m--> 779\u001b[0m     job \u001b[38;5;241m=\u001b[39m \u001b[38;5;28;43mself\u001b[39;49m\u001b[38;5;241;43m.\u001b[39;49m\u001b[43m_backend\u001b[49m\u001b[38;5;241;43m.\u001b[39;49m\u001b[43mapply_async\u001b[49m\u001b[43m(\u001b[49m\u001b[43mbatch\u001b[49m\u001b[43m,\u001b[49m\u001b[43m \u001b[49m\u001b[43mcallback\u001b[49m\u001b[38;5;241;43m=\u001b[39;49m\u001b[43mcb\u001b[49m\u001b[43m)\u001b[49m\n\u001b[1;32m    780\u001b[0m     \u001b[38;5;66;03m# A job can complete so quickly than its callback is\u001b[39;00m\n\u001b[1;32m    781\u001b[0m     \u001b[38;5;66;03m# called before we get here, causing self._jobs to\u001b[39;00m\n\u001b[1;32m    782\u001b[0m     \u001b[38;5;66;03m# grow. To ensure correct results ordering, .insert is\u001b[39;00m\n\u001b[1;32m    783\u001b[0m     \u001b[38;5;66;03m# used (rather than .append) in the following line\u001b[39;00m\n\u001b[1;32m    784\u001b[0m     \u001b[38;5;28mself\u001b[39m\u001b[38;5;241m.\u001b[39m_jobs\u001b[38;5;241m.\u001b[39minsert(job_idx, job)\n",
      "File \u001b[0;32m/research/labs/immunology/goronzy_weyand/GoronzyLab_Mayo/Abhinav/miniconda3/lib/python3.9/site-packages/joblib/_parallel_backends.py:208\u001b[0m, in \u001b[0;36mSequentialBackend.apply_async\u001b[0;34m(self, func, callback)\u001b[0m\n\u001b[1;32m    206\u001b[0m \u001b[38;5;28;01mdef\u001b[39;00m \u001b[38;5;21mapply_async\u001b[39m(\u001b[38;5;28mself\u001b[39m, func, callback\u001b[38;5;241m=\u001b[39m\u001b[38;5;28;01mNone\u001b[39;00m):\n\u001b[1;32m    207\u001b[0m     \u001b[38;5;124;03m\"\"\"Schedule a func to be run\"\"\"\u001b[39;00m\n\u001b[0;32m--> 208\u001b[0m     result \u001b[38;5;241m=\u001b[39m \u001b[43mImmediateResult\u001b[49m\u001b[43m(\u001b[49m\u001b[43mfunc\u001b[49m\u001b[43m)\u001b[49m\n\u001b[1;32m    209\u001b[0m     \u001b[38;5;28;01mif\u001b[39;00m callback:\n\u001b[1;32m    210\u001b[0m         callback(result)\n",
      "File \u001b[0;32m/research/labs/immunology/goronzy_weyand/GoronzyLab_Mayo/Abhinav/miniconda3/lib/python3.9/site-packages/joblib/_parallel_backends.py:572\u001b[0m, in \u001b[0;36mImmediateResult.__init__\u001b[0;34m(self, batch)\u001b[0m\n\u001b[1;32m    569\u001b[0m \u001b[38;5;28;01mdef\u001b[39;00m \u001b[38;5;21m__init__\u001b[39m(\u001b[38;5;28mself\u001b[39m, batch):\n\u001b[1;32m    570\u001b[0m     \u001b[38;5;66;03m# Don't delay the application, to avoid keeping the input\u001b[39;00m\n\u001b[1;32m    571\u001b[0m     \u001b[38;5;66;03m# arguments in memory\u001b[39;00m\n\u001b[0;32m--> 572\u001b[0m     \u001b[38;5;28mself\u001b[39m\u001b[38;5;241m.\u001b[39mresults \u001b[38;5;241m=\u001b[39m \u001b[43mbatch\u001b[49m\u001b[43m(\u001b[49m\u001b[43m)\u001b[49m\n",
      "File \u001b[0;32m/research/labs/immunology/goronzy_weyand/GoronzyLab_Mayo/Abhinav/miniconda3/lib/python3.9/site-packages/joblib/parallel.py:262\u001b[0m, in \u001b[0;36mBatchedCalls.__call__\u001b[0;34m(self)\u001b[0m\n\u001b[1;32m    258\u001b[0m \u001b[38;5;28;01mdef\u001b[39;00m \u001b[38;5;21m__call__\u001b[39m(\u001b[38;5;28mself\u001b[39m):\n\u001b[1;32m    259\u001b[0m     \u001b[38;5;66;03m# Set the default nested backend to self._backend but do not set the\u001b[39;00m\n\u001b[1;32m    260\u001b[0m     \u001b[38;5;66;03m# change the default number of processes to -1\u001b[39;00m\n\u001b[1;32m    261\u001b[0m     \u001b[38;5;28;01mwith\u001b[39;00m parallel_backend(\u001b[38;5;28mself\u001b[39m\u001b[38;5;241m.\u001b[39m_backend, n_jobs\u001b[38;5;241m=\u001b[39m\u001b[38;5;28mself\u001b[39m\u001b[38;5;241m.\u001b[39m_n_jobs):\n\u001b[0;32m--> 262\u001b[0m         \u001b[38;5;28;01mreturn\u001b[39;00m [func(\u001b[38;5;241m*\u001b[39margs, \u001b[38;5;241m*\u001b[39m\u001b[38;5;241m*\u001b[39mkwargs)\n\u001b[1;32m    263\u001b[0m                 \u001b[38;5;28;01mfor\u001b[39;00m func, args, kwargs \u001b[38;5;129;01min\u001b[39;00m \u001b[38;5;28mself\u001b[39m\u001b[38;5;241m.\u001b[39mitems]\n",
      "File \u001b[0;32m/research/labs/immunology/goronzy_weyand/GoronzyLab_Mayo/Abhinav/miniconda3/lib/python3.9/site-packages/joblib/parallel.py:262\u001b[0m, in \u001b[0;36m<listcomp>\u001b[0;34m(.0)\u001b[0m\n\u001b[1;32m    258\u001b[0m \u001b[38;5;28;01mdef\u001b[39;00m \u001b[38;5;21m__call__\u001b[39m(\u001b[38;5;28mself\u001b[39m):\n\u001b[1;32m    259\u001b[0m     \u001b[38;5;66;03m# Set the default nested backend to self._backend but do not set the\u001b[39;00m\n\u001b[1;32m    260\u001b[0m     \u001b[38;5;66;03m# change the default number of processes to -1\u001b[39;00m\n\u001b[1;32m    261\u001b[0m     \u001b[38;5;28;01mwith\u001b[39;00m parallel_backend(\u001b[38;5;28mself\u001b[39m\u001b[38;5;241m.\u001b[39m_backend, n_jobs\u001b[38;5;241m=\u001b[39m\u001b[38;5;28mself\u001b[39m\u001b[38;5;241m.\u001b[39m_n_jobs):\n\u001b[0;32m--> 262\u001b[0m         \u001b[38;5;28;01mreturn\u001b[39;00m [\u001b[43mfunc\u001b[49m\u001b[43m(\u001b[49m\u001b[38;5;241;43m*\u001b[39;49m\u001b[43margs\u001b[49m\u001b[43m,\u001b[49m\u001b[43m \u001b[49m\u001b[38;5;241;43m*\u001b[39;49m\u001b[38;5;241;43m*\u001b[39;49m\u001b[43mkwargs\u001b[49m\u001b[43m)\u001b[49m\n\u001b[1;32m    263\u001b[0m                 \u001b[38;5;28;01mfor\u001b[39;00m func, args, kwargs \u001b[38;5;129;01min\u001b[39;00m \u001b[38;5;28mself\u001b[39m\u001b[38;5;241m.\u001b[39mitems]\n",
      "File \u001b[0;32m/research/labs/immunology/goronzy_weyand/GoronzyLab_Mayo/Abhinav/miniconda3/lib/python3.9/site-packages/sklearn/utils/fixes.py:216\u001b[0m, in \u001b[0;36m_FuncWrapper.__call__\u001b[0;34m(self, *args, **kwargs)\u001b[0m\n\u001b[1;32m    214\u001b[0m \u001b[38;5;28;01mdef\u001b[39;00m \u001b[38;5;21m__call__\u001b[39m(\u001b[38;5;28mself\u001b[39m, \u001b[38;5;241m*\u001b[39margs, \u001b[38;5;241m*\u001b[39m\u001b[38;5;241m*\u001b[39mkwargs):\n\u001b[1;32m    215\u001b[0m     \u001b[38;5;28;01mwith\u001b[39;00m config_context(\u001b[38;5;241m*\u001b[39m\u001b[38;5;241m*\u001b[39m\u001b[38;5;28mself\u001b[39m\u001b[38;5;241m.\u001b[39mconfig):\n\u001b[0;32m--> 216\u001b[0m         \u001b[38;5;28;01mreturn\u001b[39;00m \u001b[38;5;28;43mself\u001b[39;49m\u001b[38;5;241;43m.\u001b[39;49m\u001b[43mfunction\u001b[49m\u001b[43m(\u001b[49m\u001b[38;5;241;43m*\u001b[39;49m\u001b[43margs\u001b[49m\u001b[43m,\u001b[49m\u001b[43m \u001b[49m\u001b[38;5;241;43m*\u001b[39;49m\u001b[38;5;241;43m*\u001b[39;49m\u001b[43mkwargs\u001b[49m\u001b[43m)\u001b[49m\n",
      "File \u001b[0;32m/research/labs/immunology/goronzy_weyand/GoronzyLab_Mayo/Abhinav/miniconda3/lib/python3.9/site-packages/sklearn/linear_model/_logistic.py:806\u001b[0m, in \u001b[0;36m_logistic_regression_path\u001b[0;34m(X, y, pos_class, Cs, fit_intercept, max_iter, tol, verbose, solver, coef, class_weight, dual, penalty, intercept_scaling, multi_class, random_state, check_input, max_squared_sum, sample_weight, l1_ratio)\u001b[0m\n\u001b[1;32m    802\u001b[0m \u001b[38;5;28;01mif\u001b[39;00m solver \u001b[38;5;241m==\u001b[39m \u001b[38;5;124m\"\u001b[39m\u001b[38;5;124mlbfgs\u001b[39m\u001b[38;5;124m\"\u001b[39m:\n\u001b[1;32m    803\u001b[0m     iprint \u001b[38;5;241m=\u001b[39m [\u001b[38;5;241m-\u001b[39m\u001b[38;5;241m1\u001b[39m, \u001b[38;5;241m50\u001b[39m, \u001b[38;5;241m1\u001b[39m, \u001b[38;5;241m100\u001b[39m, \u001b[38;5;241m101\u001b[39m][\n\u001b[1;32m    804\u001b[0m         np\u001b[38;5;241m.\u001b[39msearchsorted(np\u001b[38;5;241m.\u001b[39marray([\u001b[38;5;241m0\u001b[39m, \u001b[38;5;241m1\u001b[39m, \u001b[38;5;241m2\u001b[39m, \u001b[38;5;241m3\u001b[39m]), verbose)\n\u001b[1;32m    805\u001b[0m     ]\n\u001b[0;32m--> 806\u001b[0m     opt_res \u001b[38;5;241m=\u001b[39m \u001b[43moptimize\u001b[49m\u001b[38;5;241;43m.\u001b[39;49m\u001b[43mminimize\u001b[49m\u001b[43m(\u001b[49m\n\u001b[1;32m    807\u001b[0m \u001b[43m        \u001b[49m\u001b[43mfunc\u001b[49m\u001b[43m,\u001b[49m\n\u001b[1;32m    808\u001b[0m \u001b[43m        \u001b[49m\u001b[43mw0\u001b[49m\u001b[43m,\u001b[49m\n\u001b[1;32m    809\u001b[0m \u001b[43m        \u001b[49m\u001b[43mmethod\u001b[49m\u001b[38;5;241;43m=\u001b[39;49m\u001b[38;5;124;43m\"\u001b[39;49m\u001b[38;5;124;43mL-BFGS-B\u001b[39;49m\u001b[38;5;124;43m\"\u001b[39;49m\u001b[43m,\u001b[49m\n\u001b[1;32m    810\u001b[0m \u001b[43m        \u001b[49m\u001b[43mjac\u001b[49m\u001b[38;5;241;43m=\u001b[39;49m\u001b[38;5;28;43;01mTrue\u001b[39;49;00m\u001b[43m,\u001b[49m\n\u001b[1;32m    811\u001b[0m \u001b[43m        \u001b[49m\u001b[43margs\u001b[49m\u001b[38;5;241;43m=\u001b[39;49m\u001b[43m(\u001b[49m\u001b[43mX\u001b[49m\u001b[43m,\u001b[49m\u001b[43m \u001b[49m\u001b[43mtarget\u001b[49m\u001b[43m,\u001b[49m\u001b[43m \u001b[49m\u001b[38;5;241;43m1.0\u001b[39;49m\u001b[43m \u001b[49m\u001b[38;5;241;43m/\u001b[39;49m\u001b[43m \u001b[49m\u001b[43mC\u001b[49m\u001b[43m,\u001b[49m\u001b[43m \u001b[49m\u001b[43msample_weight\u001b[49m\u001b[43m)\u001b[49m\u001b[43m,\u001b[49m\n\u001b[1;32m    812\u001b[0m \u001b[43m        \u001b[49m\u001b[43moptions\u001b[49m\u001b[38;5;241;43m=\u001b[39;49m\u001b[43m{\u001b[49m\u001b[38;5;124;43m\"\u001b[39;49m\u001b[38;5;124;43miprint\u001b[39;49m\u001b[38;5;124;43m\"\u001b[39;49m\u001b[43m:\u001b[49m\u001b[43m \u001b[49m\u001b[43miprint\u001b[49m\u001b[43m,\u001b[49m\u001b[43m \u001b[49m\u001b[38;5;124;43m\"\u001b[39;49m\u001b[38;5;124;43mgtol\u001b[39;49m\u001b[38;5;124;43m\"\u001b[39;49m\u001b[43m:\u001b[49m\u001b[43m \u001b[49m\u001b[43mtol\u001b[49m\u001b[43m,\u001b[49m\u001b[43m \u001b[49m\u001b[38;5;124;43m\"\u001b[39;49m\u001b[38;5;124;43mmaxiter\u001b[39;49m\u001b[38;5;124;43m\"\u001b[39;49m\u001b[43m:\u001b[49m\u001b[43m \u001b[49m\u001b[43mmax_iter\u001b[49m\u001b[43m}\u001b[49m\u001b[43m,\u001b[49m\n\u001b[1;32m    813\u001b[0m \u001b[43m    \u001b[49m\u001b[43m)\u001b[49m\n\u001b[1;32m    814\u001b[0m     n_iter_i \u001b[38;5;241m=\u001b[39m _check_optimize_result(\n\u001b[1;32m    815\u001b[0m         solver,\n\u001b[1;32m    816\u001b[0m         opt_res,\n\u001b[1;32m    817\u001b[0m         max_iter,\n\u001b[1;32m    818\u001b[0m         extra_warning_msg\u001b[38;5;241m=\u001b[39m_LOGISTIC_SOLVER_CONVERGENCE_MSG,\n\u001b[1;32m    819\u001b[0m     )\n\u001b[1;32m    820\u001b[0m     w0, loss \u001b[38;5;241m=\u001b[39m opt_res\u001b[38;5;241m.\u001b[39mx, opt_res\u001b[38;5;241m.\u001b[39mfun\n",
      "File \u001b[0;32m/research/labs/immunology/goronzy_weyand/GoronzyLab_Mayo/Abhinav/miniconda3/lib/python3.9/site-packages/scipy/optimize/_minimize.py:623\u001b[0m, in \u001b[0;36mminimize\u001b[0;34m(fun, x0, args, method, jac, hess, hessp, bounds, constraints, tol, callback, options)\u001b[0m\n\u001b[1;32m    620\u001b[0m     \u001b[38;5;28;01mreturn\u001b[39;00m _minimize_newtoncg(fun, x0, args, jac, hess, hessp, callback,\n\u001b[1;32m    621\u001b[0m                               \u001b[38;5;241m*\u001b[39m\u001b[38;5;241m*\u001b[39moptions)\n\u001b[1;32m    622\u001b[0m \u001b[38;5;28;01melif\u001b[39;00m meth \u001b[38;5;241m==\u001b[39m \u001b[38;5;124m'\u001b[39m\u001b[38;5;124ml-bfgs-b\u001b[39m\u001b[38;5;124m'\u001b[39m:\n\u001b[0;32m--> 623\u001b[0m     \u001b[38;5;28;01mreturn\u001b[39;00m \u001b[43m_minimize_lbfgsb\u001b[49m\u001b[43m(\u001b[49m\u001b[43mfun\u001b[49m\u001b[43m,\u001b[49m\u001b[43m \u001b[49m\u001b[43mx0\u001b[49m\u001b[43m,\u001b[49m\u001b[43m \u001b[49m\u001b[43margs\u001b[49m\u001b[43m,\u001b[49m\u001b[43m \u001b[49m\u001b[43mjac\u001b[49m\u001b[43m,\u001b[49m\u001b[43m \u001b[49m\u001b[43mbounds\u001b[49m\u001b[43m,\u001b[49m\n\u001b[1;32m    624\u001b[0m \u001b[43m                            \u001b[49m\u001b[43mcallback\u001b[49m\u001b[38;5;241;43m=\u001b[39;49m\u001b[43mcallback\u001b[49m\u001b[43m,\u001b[49m\u001b[43m \u001b[49m\u001b[38;5;241;43m*\u001b[39;49m\u001b[38;5;241;43m*\u001b[39;49m\u001b[43moptions\u001b[49m\u001b[43m)\u001b[49m\n\u001b[1;32m    625\u001b[0m \u001b[38;5;28;01melif\u001b[39;00m meth \u001b[38;5;241m==\u001b[39m \u001b[38;5;124m'\u001b[39m\u001b[38;5;124mtnc\u001b[39m\u001b[38;5;124m'\u001b[39m:\n\u001b[1;32m    626\u001b[0m     \u001b[38;5;28;01mreturn\u001b[39;00m _minimize_tnc(fun, x0, args, jac, bounds, callback\u001b[38;5;241m=\u001b[39mcallback,\n\u001b[1;32m    627\u001b[0m                          \u001b[38;5;241m*\u001b[39m\u001b[38;5;241m*\u001b[39moptions)\n",
      "File \u001b[0;32m/research/labs/immunology/goronzy_weyand/GoronzyLab_Mayo/Abhinav/miniconda3/lib/python3.9/site-packages/scipy/optimize/lbfgsb.py:360\u001b[0m, in \u001b[0;36m_minimize_lbfgsb\u001b[0;34m(fun, x0, args, jac, bounds, disp, maxcor, ftol, gtol, eps, maxfun, maxiter, iprint, callback, maxls, finite_diff_rel_step, **unknown_options)\u001b[0m\n\u001b[1;32m    354\u001b[0m task_str \u001b[38;5;241m=\u001b[39m task\u001b[38;5;241m.\u001b[39mtobytes()\n\u001b[1;32m    355\u001b[0m \u001b[38;5;28;01mif\u001b[39;00m task_str\u001b[38;5;241m.\u001b[39mstartswith(\u001b[38;5;124mb\u001b[39m\u001b[38;5;124m'\u001b[39m\u001b[38;5;124mFG\u001b[39m\u001b[38;5;124m'\u001b[39m):\n\u001b[1;32m    356\u001b[0m     \u001b[38;5;66;03m# The minimization routine wants f and g at the current x.\u001b[39;00m\n\u001b[1;32m    357\u001b[0m     \u001b[38;5;66;03m# Note that interruptions due to maxfun are postponed\u001b[39;00m\n\u001b[1;32m    358\u001b[0m     \u001b[38;5;66;03m# until the completion of the current minimization iteration.\u001b[39;00m\n\u001b[1;32m    359\u001b[0m     \u001b[38;5;66;03m# Overwrite f and g:\u001b[39;00m\n\u001b[0;32m--> 360\u001b[0m     f, g \u001b[38;5;241m=\u001b[39m \u001b[43mfunc_and_grad\u001b[49m\u001b[43m(\u001b[49m\u001b[43mx\u001b[49m\u001b[43m)\u001b[49m\n\u001b[1;32m    361\u001b[0m \u001b[38;5;28;01melif\u001b[39;00m task_str\u001b[38;5;241m.\u001b[39mstartswith(\u001b[38;5;124mb\u001b[39m\u001b[38;5;124m'\u001b[39m\u001b[38;5;124mNEW_X\u001b[39m\u001b[38;5;124m'\u001b[39m):\n\u001b[1;32m    362\u001b[0m     \u001b[38;5;66;03m# new iteration\u001b[39;00m\n\u001b[1;32m    363\u001b[0m     n_iterations \u001b[38;5;241m+\u001b[39m\u001b[38;5;241m=\u001b[39m \u001b[38;5;241m1\u001b[39m\n",
      "File \u001b[0;32m/research/labs/immunology/goronzy_weyand/GoronzyLab_Mayo/Abhinav/miniconda3/lib/python3.9/site-packages/scipy/optimize/_differentiable_functions.py:267\u001b[0m, in \u001b[0;36mScalarFunction.fun_and_grad\u001b[0;34m(self, x)\u001b[0m\n\u001b[1;32m    265\u001b[0m \u001b[38;5;28;01mif\u001b[39;00m \u001b[38;5;129;01mnot\u001b[39;00m np\u001b[38;5;241m.\u001b[39marray_equal(x, \u001b[38;5;28mself\u001b[39m\u001b[38;5;241m.\u001b[39mx):\n\u001b[1;32m    266\u001b[0m     \u001b[38;5;28mself\u001b[39m\u001b[38;5;241m.\u001b[39m_update_x_impl(x)\n\u001b[0;32m--> 267\u001b[0m \u001b[38;5;28;43mself\u001b[39;49m\u001b[38;5;241;43m.\u001b[39;49m\u001b[43m_update_fun\u001b[49m\u001b[43m(\u001b[49m\u001b[43m)\u001b[49m\n\u001b[1;32m    268\u001b[0m \u001b[38;5;28mself\u001b[39m\u001b[38;5;241m.\u001b[39m_update_grad()\n\u001b[1;32m    269\u001b[0m \u001b[38;5;28;01mreturn\u001b[39;00m \u001b[38;5;28mself\u001b[39m\u001b[38;5;241m.\u001b[39mf, \u001b[38;5;28mself\u001b[39m\u001b[38;5;241m.\u001b[39mg\n",
      "File \u001b[0;32m/research/labs/immunology/goronzy_weyand/GoronzyLab_Mayo/Abhinav/miniconda3/lib/python3.9/site-packages/scipy/optimize/_differentiable_functions.py:233\u001b[0m, in \u001b[0;36mScalarFunction._update_fun\u001b[0;34m(self)\u001b[0m\n\u001b[1;32m    231\u001b[0m \u001b[38;5;28;01mdef\u001b[39;00m \u001b[38;5;21m_update_fun\u001b[39m(\u001b[38;5;28mself\u001b[39m):\n\u001b[1;32m    232\u001b[0m     \u001b[38;5;28;01mif\u001b[39;00m \u001b[38;5;129;01mnot\u001b[39;00m \u001b[38;5;28mself\u001b[39m\u001b[38;5;241m.\u001b[39mf_updated:\n\u001b[0;32m--> 233\u001b[0m         \u001b[38;5;28;43mself\u001b[39;49m\u001b[38;5;241;43m.\u001b[39;49m\u001b[43m_update_fun_impl\u001b[49m\u001b[43m(\u001b[49m\u001b[43m)\u001b[49m\n\u001b[1;32m    234\u001b[0m         \u001b[38;5;28mself\u001b[39m\u001b[38;5;241m.\u001b[39mf_updated \u001b[38;5;241m=\u001b[39m \u001b[38;5;28;01mTrue\u001b[39;00m\n",
      "File \u001b[0;32m/research/labs/immunology/goronzy_weyand/GoronzyLab_Mayo/Abhinav/miniconda3/lib/python3.9/site-packages/scipy/optimize/_differentiable_functions.py:137\u001b[0m, in \u001b[0;36mScalarFunction.__init__.<locals>.update_fun\u001b[0;34m()\u001b[0m\n\u001b[1;32m    136\u001b[0m \u001b[38;5;28;01mdef\u001b[39;00m \u001b[38;5;21mupdate_fun\u001b[39m():\n\u001b[0;32m--> 137\u001b[0m     \u001b[38;5;28mself\u001b[39m\u001b[38;5;241m.\u001b[39mf \u001b[38;5;241m=\u001b[39m \u001b[43mfun_wrapped\u001b[49m\u001b[43m(\u001b[49m\u001b[38;5;28;43mself\u001b[39;49m\u001b[38;5;241;43m.\u001b[39;49m\u001b[43mx\u001b[49m\u001b[43m)\u001b[49m\n",
      "File \u001b[0;32m/research/labs/immunology/goronzy_weyand/GoronzyLab_Mayo/Abhinav/miniconda3/lib/python3.9/site-packages/scipy/optimize/_differentiable_functions.py:134\u001b[0m, in \u001b[0;36mScalarFunction.__init__.<locals>.fun_wrapped\u001b[0;34m(x)\u001b[0m\n\u001b[1;32m    130\u001b[0m \u001b[38;5;28mself\u001b[39m\u001b[38;5;241m.\u001b[39mnfev \u001b[38;5;241m+\u001b[39m\u001b[38;5;241m=\u001b[39m \u001b[38;5;241m1\u001b[39m\n\u001b[1;32m    131\u001b[0m \u001b[38;5;66;03m# Send a copy because the user may overwrite it.\u001b[39;00m\n\u001b[1;32m    132\u001b[0m \u001b[38;5;66;03m# Overwriting results in undefined behaviour because\u001b[39;00m\n\u001b[1;32m    133\u001b[0m \u001b[38;5;66;03m# fun(self.x) will change self.x, with the two no longer linked.\u001b[39;00m\n\u001b[0;32m--> 134\u001b[0m \u001b[38;5;28;01mreturn\u001b[39;00m \u001b[43mfun\u001b[49m\u001b[43m(\u001b[49m\u001b[43mnp\u001b[49m\u001b[38;5;241;43m.\u001b[39;49m\u001b[43mcopy\u001b[49m\u001b[43m(\u001b[49m\u001b[43mx\u001b[49m\u001b[43m)\u001b[49m\u001b[43m,\u001b[49m\u001b[43m \u001b[49m\u001b[38;5;241;43m*\u001b[39;49m\u001b[43margs\u001b[49m\u001b[43m)\u001b[49m\n",
      "File \u001b[0;32m/research/labs/immunology/goronzy_weyand/GoronzyLab_Mayo/Abhinav/miniconda3/lib/python3.9/site-packages/scipy/optimize/optimize.py:74\u001b[0m, in \u001b[0;36mMemoizeJac.__call__\u001b[0;34m(self, x, *args)\u001b[0m\n\u001b[1;32m     72\u001b[0m \u001b[38;5;28;01mdef\u001b[39;00m \u001b[38;5;21m__call__\u001b[39m(\u001b[38;5;28mself\u001b[39m, x, \u001b[38;5;241m*\u001b[39margs):\n\u001b[1;32m     73\u001b[0m     \u001b[38;5;124;03m\"\"\" returns the the function value \"\"\"\u001b[39;00m\n\u001b[0;32m---> 74\u001b[0m     \u001b[38;5;28;43mself\u001b[39;49m\u001b[38;5;241;43m.\u001b[39;49m\u001b[43m_compute_if_needed\u001b[49m\u001b[43m(\u001b[49m\u001b[43mx\u001b[49m\u001b[43m,\u001b[49m\u001b[43m \u001b[49m\u001b[38;5;241;43m*\u001b[39;49m\u001b[43margs\u001b[49m\u001b[43m)\u001b[49m\n\u001b[1;32m     75\u001b[0m     \u001b[38;5;28;01mreturn\u001b[39;00m \u001b[38;5;28mself\u001b[39m\u001b[38;5;241m.\u001b[39m_value\n",
      "File \u001b[0;32m/research/labs/immunology/goronzy_weyand/GoronzyLab_Mayo/Abhinav/miniconda3/lib/python3.9/site-packages/scipy/optimize/optimize.py:68\u001b[0m, in \u001b[0;36mMemoizeJac._compute_if_needed\u001b[0;34m(self, x, *args)\u001b[0m\n\u001b[1;32m     66\u001b[0m \u001b[38;5;28;01mif\u001b[39;00m \u001b[38;5;129;01mnot\u001b[39;00m np\u001b[38;5;241m.\u001b[39mall(x \u001b[38;5;241m==\u001b[39m \u001b[38;5;28mself\u001b[39m\u001b[38;5;241m.\u001b[39mx) \u001b[38;5;129;01mor\u001b[39;00m \u001b[38;5;28mself\u001b[39m\u001b[38;5;241m.\u001b[39m_value \u001b[38;5;129;01mis\u001b[39;00m \u001b[38;5;28;01mNone\u001b[39;00m \u001b[38;5;129;01mor\u001b[39;00m \u001b[38;5;28mself\u001b[39m\u001b[38;5;241m.\u001b[39mjac \u001b[38;5;129;01mis\u001b[39;00m \u001b[38;5;28;01mNone\u001b[39;00m:\n\u001b[1;32m     67\u001b[0m     \u001b[38;5;28mself\u001b[39m\u001b[38;5;241m.\u001b[39mx \u001b[38;5;241m=\u001b[39m np\u001b[38;5;241m.\u001b[39masarray(x)\u001b[38;5;241m.\u001b[39mcopy()\n\u001b[0;32m---> 68\u001b[0m     fg \u001b[38;5;241m=\u001b[39m \u001b[38;5;28;43mself\u001b[39;49m\u001b[38;5;241;43m.\u001b[39;49m\u001b[43mfun\u001b[49m\u001b[43m(\u001b[49m\u001b[43mx\u001b[49m\u001b[43m,\u001b[49m\u001b[43m \u001b[49m\u001b[38;5;241;43m*\u001b[39;49m\u001b[43margs\u001b[49m\u001b[43m)\u001b[49m\n\u001b[1;32m     69\u001b[0m     \u001b[38;5;28mself\u001b[39m\u001b[38;5;241m.\u001b[39mjac \u001b[38;5;241m=\u001b[39m fg[\u001b[38;5;241m1\u001b[39m]\n\u001b[1;32m     70\u001b[0m     \u001b[38;5;28mself\u001b[39m\u001b[38;5;241m.\u001b[39m_value \u001b[38;5;241m=\u001b[39m fg[\u001b[38;5;241m0\u001b[39m]\n",
      "File \u001b[0;32m/research/labs/immunology/goronzy_weyand/GoronzyLab_Mayo/Abhinav/miniconda3/lib/python3.9/site-packages/sklearn/linear_model/_logistic.py:774\u001b[0m, in \u001b[0;36m_logistic_regression_path.<locals>.func\u001b[0;34m(x, *args)\u001b[0m\n\u001b[1;32m    773\u001b[0m \u001b[38;5;28;01mdef\u001b[39;00m \u001b[38;5;21mfunc\u001b[39m(x, \u001b[38;5;241m*\u001b[39margs):\n\u001b[0;32m--> 774\u001b[0m     \u001b[38;5;28;01mreturn\u001b[39;00m \u001b[43m_multinomial_loss_grad\u001b[49m\u001b[43m(\u001b[49m\u001b[43mx\u001b[49m\u001b[43m,\u001b[49m\u001b[43m \u001b[49m\u001b[38;5;241;43m*\u001b[39;49m\u001b[43margs\u001b[49m\u001b[43m)\u001b[49m[\u001b[38;5;241m0\u001b[39m:\u001b[38;5;241m2\u001b[39m]\n",
      "File \u001b[0;32m/research/labs/immunology/goronzy_weyand/GoronzyLab_Mayo/Abhinav/miniconda3/lib/python3.9/site-packages/sklearn/linear_model/_logistic.py:348\u001b[0m, in \u001b[0;36m_multinomial_loss_grad\u001b[0;34m(w, X, Y, alpha, sample_weight)\u001b[0m\n\u001b[1;32m    346\u001b[0m fit_intercept \u001b[38;5;241m=\u001b[39m w\u001b[38;5;241m.\u001b[39msize \u001b[38;5;241m==\u001b[39m n_classes \u001b[38;5;241m*\u001b[39m (n_features \u001b[38;5;241m+\u001b[39m \u001b[38;5;241m1\u001b[39m)\n\u001b[1;32m    347\u001b[0m grad \u001b[38;5;241m=\u001b[39m np\u001b[38;5;241m.\u001b[39mzeros((n_classes, n_features \u001b[38;5;241m+\u001b[39m \u001b[38;5;28mbool\u001b[39m(fit_intercept)), dtype\u001b[38;5;241m=\u001b[39mX\u001b[38;5;241m.\u001b[39mdtype)\n\u001b[0;32m--> 348\u001b[0m loss, p, w \u001b[38;5;241m=\u001b[39m \u001b[43m_multinomial_loss\u001b[49m\u001b[43m(\u001b[49m\u001b[43mw\u001b[49m\u001b[43m,\u001b[49m\u001b[43m \u001b[49m\u001b[43mX\u001b[49m\u001b[43m,\u001b[49m\u001b[43m \u001b[49m\u001b[43mY\u001b[49m\u001b[43m,\u001b[49m\u001b[43m \u001b[49m\u001b[43malpha\u001b[49m\u001b[43m,\u001b[49m\u001b[43m \u001b[49m\u001b[43msample_weight\u001b[49m\u001b[43m)\u001b[49m\n\u001b[1;32m    349\u001b[0m sample_weight \u001b[38;5;241m=\u001b[39m sample_weight[:, np\u001b[38;5;241m.\u001b[39mnewaxis]\n\u001b[1;32m    350\u001b[0m diff \u001b[38;5;241m=\u001b[39m sample_weight \u001b[38;5;241m*\u001b[39m (p \u001b[38;5;241m-\u001b[39m Y)\n",
      "File \u001b[0;32m/research/labs/immunology/goronzy_weyand/GoronzyLab_Mayo/Abhinav/miniconda3/lib/python3.9/site-packages/sklearn/linear_model/_logistic.py:297\u001b[0m, in \u001b[0;36m_multinomial_loss\u001b[0;34m(w, X, Y, alpha, sample_weight)\u001b[0m\n\u001b[1;32m    295\u001b[0m \u001b[38;5;28;01melse\u001b[39;00m:\n\u001b[1;32m    296\u001b[0m     intercept \u001b[38;5;241m=\u001b[39m \u001b[38;5;241m0\u001b[39m\n\u001b[0;32m--> 297\u001b[0m p \u001b[38;5;241m=\u001b[39m \u001b[43msafe_sparse_dot\u001b[49m\u001b[43m(\u001b[49m\u001b[43mX\u001b[49m\u001b[43m,\u001b[49m\u001b[43m \u001b[49m\u001b[43mw\u001b[49m\u001b[38;5;241;43m.\u001b[39;49m\u001b[43mT\u001b[49m\u001b[43m)\u001b[49m\n\u001b[1;32m    298\u001b[0m p \u001b[38;5;241m+\u001b[39m\u001b[38;5;241m=\u001b[39m intercept\n\u001b[1;32m    299\u001b[0m p \u001b[38;5;241m-\u001b[39m\u001b[38;5;241m=\u001b[39m logsumexp(p, axis\u001b[38;5;241m=\u001b[39m\u001b[38;5;241m1\u001b[39m)[:, np\u001b[38;5;241m.\u001b[39mnewaxis]\n",
      "File \u001b[0;32m/research/labs/immunology/goronzy_weyand/GoronzyLab_Mayo/Abhinav/miniconda3/lib/python3.9/site-packages/sklearn/utils/extmath.py:153\u001b[0m, in \u001b[0;36msafe_sparse_dot\u001b[0;34m(a, b, dense_output)\u001b[0m\n\u001b[1;32m    151\u001b[0m         ret \u001b[38;5;241m=\u001b[39m np\u001b[38;5;241m.\u001b[39mdot(a, b)\n\u001b[1;32m    152\u001b[0m \u001b[38;5;28;01melse\u001b[39;00m:\n\u001b[0;32m--> 153\u001b[0m     ret \u001b[38;5;241m=\u001b[39m \u001b[43ma\u001b[49m\u001b[43m \u001b[49m\u001b[38;5;241;43m@\u001b[39;49m\u001b[43m \u001b[49m\u001b[43mb\u001b[49m\n\u001b[1;32m    155\u001b[0m \u001b[38;5;28;01mif\u001b[39;00m (\n\u001b[1;32m    156\u001b[0m     sparse\u001b[38;5;241m.\u001b[39missparse(a)\n\u001b[1;32m    157\u001b[0m     \u001b[38;5;129;01mand\u001b[39;00m sparse\u001b[38;5;241m.\u001b[39missparse(b)\n\u001b[1;32m    158\u001b[0m     \u001b[38;5;129;01mand\u001b[39;00m dense_output\n\u001b[1;32m    159\u001b[0m     \u001b[38;5;129;01mand\u001b[39;00m \u001b[38;5;28mhasattr\u001b[39m(ret, \u001b[38;5;124m\"\u001b[39m\u001b[38;5;124mtoarray\u001b[39m\u001b[38;5;124m\"\u001b[39m)\n\u001b[1;32m    160\u001b[0m ):\n\u001b[1;32m    161\u001b[0m     \u001b[38;5;28;01mreturn\u001b[39;00m ret\u001b[38;5;241m.\u001b[39mtoarray()\n",
      "\u001b[0;31mKeyboardInterrupt\u001b[0m: "
     ]
    }
   ],
   "source": [
    "# define the method\n",
    "from sklearn.feature_selection import RFE\n",
    "from sklearn.preprocessing import StandardScaler\n",
    "from sklearn.linear_model import LogisticRegression\n",
    "rfe = RFE(estimator=LogisticRegression(max_iter=1000), n_features_to_select=300)\n",
    "# fit the model\n",
    "scaler = preprocessing.StandardScaler().fit(X)\n",
    "print(scaler)\n",
    "X_scaled = scaler.transform(X)\n",
    "\n",
    "rfe.fit(X_scaled, y)\n",
    "# transform the data\n",
    "X, y = rfe.transform(X_scaled, y)"
   ]
  },
  {
   "cell_type": "code",
   "execution_count": null,
   "id": "cd145b7f",
   "metadata": {},
   "outputs": [],
   "source": [
    "# evaluate RFE for classification\n",
    "from numpy import mean\n",
    "from numpy import std\n",
    "from sklearn.model_selection import cross_val_score\n",
    "from sklearn.model_selection import RepeatedStratifiedKFold\n",
    "from sklearn.feature_selection import RFE\n",
    "from sklearn.linear_model import LogisticRegression\n",
    "from sklearn.pipeline import Pipeline\n",
    "from sklearn.preprocessing import StandardScaler\n",
    "\n",
    "# create pipeline\n",
    "rfe = RFE(estimator=LogisticRegression(max_iter=1000), n_features_to_select=5)\n",
    "model = LogisticRegression(max_iter=1000)\n",
    "pipeline = Pipeline(steps=[('standardscaler', StandardScaler()),('s',rfe),('m',model)])\n",
    "# evaluate model\n",
    "cv = RepeatedStratifiedKFold(n_splits=10, n_repeats=3, random_state=1)\n",
    "n_scores = cross_val_score(pipeline, X, y, scoring='accuracy', cv=cv, n_jobs=-1, error_score='raise')\n",
    "# report performance\n",
    "print('Accuracy: %.3f (%.3f)' % (mean(n_scores), std(n_scores)))"
   ]
  },
  {
   "cell_type": "markdown",
   "id": "eba39bbc",
   "metadata": {},
   "source": [
    "### Univariate feature selection\n",
    "SelectKBest removes all but the highest scoring features\n",
    "\n",
    "SelectPercentile removes all but a user-specified highest scoring percentage of features using common univariate statistical tests for each feature: false positive rate SelectFpr, false discovery rate SelectFdr, or family wise error SelectFwe.\n",
    "\n",
    "GenericUnivariateSelect allows to perform univariate feature selection with a configurable strategy. This allows to select the best univariate selection strategy with hyper-parameter search estimator."
   ]
  },
  {
   "cell_type": "code",
   "execution_count": 646,
   "id": "a6515df4",
   "metadata": {},
   "outputs": [
    {
     "name": "stdout",
     "output_type": "stream",
     "text": [
      "(22188, 18575)\n",
      "(22188, 3000)\n"
     ]
    }
   ],
   "source": [
    "from sklearn.feature_selection import SelectKBest\n",
    "from sklearn.feature_selection import chi2\n",
    "print(X.shape)\n",
    "X_new = SelectKBest(chi2, k=3000).fit_transform(X,y)\n",
    "print(X_new.shape)"
   ]
  },
  {
   "cell_type": "code",
   "execution_count": 647,
   "id": "797132dc",
   "metadata": {},
   "outputs": [],
   "source": [
    "scaler = preprocessing.StandardScaler().fit(X_new)\n",
    "scaler\n",
    "X_scaled = scaler.transform(X_new)"
   ]
  },
  {
   "cell_type": "code",
   "execution_count": 648,
   "id": "2468502b",
   "metadata": {},
   "outputs": [
    {
     "data": {
      "text/plain": [
       "(22188, 3000)"
      ]
     },
     "execution_count": 648,
     "metadata": {},
     "output_type": "execute_result"
    }
   ],
   "source": [
    "X_scaled.shape"
   ]
  },
  {
   "cell_type": "code",
   "execution_count": 649,
   "id": "db7fe923",
   "metadata": {
    "collapsed": true
   },
   "outputs": [
    {
     "name": "stderr",
     "output_type": "stream",
     "text": [
      "/research/labs/immunology/goronzy_weyand/GoronzyLab_Mayo/Abhinav/miniconda3/lib/python3.9/site-packages/joblib/externals/loky/process_executor.py:702: UserWarning: A worker stopped while some jobs were given to the executor. This can be caused by a too short worker timeout or by a memory leak.\n",
      "  warnings.warn(\n",
      "/research/labs/immunology/goronzy_weyand/GoronzyLab_Mayo/Abhinav/miniconda3/lib/python3.9/site-packages/sklearn/linear_model/_logistic.py:814: ConvergenceWarning: lbfgs failed to converge (status=1):\n",
      "STOP: TOTAL NO. of ITERATIONS REACHED LIMIT.\n",
      "\n",
      "Increase the number of iterations (max_iter) or scale the data as shown in:\n",
      "    https://scikit-learn.org/stable/modules/preprocessing.html\n",
      "Please also refer to the documentation for alternative solver options:\n",
      "    https://scikit-learn.org/stable/modules/linear_model.html#logistic-regression\n",
      "  n_iter_i = _check_optimize_result(\n",
      "/research/labs/immunology/goronzy_weyand/GoronzyLab_Mayo/Abhinav/miniconda3/lib/python3.9/site-packages/sklearn/linear_model/_logistic.py:814: ConvergenceWarning: lbfgs failed to converge (status=1):\n",
      "STOP: TOTAL NO. of ITERATIONS REACHED LIMIT.\n",
      "\n",
      "Increase the number of iterations (max_iter) or scale the data as shown in:\n",
      "    https://scikit-learn.org/stable/modules/preprocessing.html\n",
      "Please also refer to the documentation for alternative solver options:\n",
      "    https://scikit-learn.org/stable/modules/linear_model.html#logistic-regression\n",
      "  n_iter_i = _check_optimize_result(\n",
      "/research/labs/immunology/goronzy_weyand/GoronzyLab_Mayo/Abhinav/miniconda3/lib/python3.9/site-packages/sklearn/linear_model/_logistic.py:814: ConvergenceWarning: lbfgs failed to converge (status=1):\n",
      "STOP: TOTAL NO. of ITERATIONS REACHED LIMIT.\n",
      "\n",
      "Increase the number of iterations (max_iter) or scale the data as shown in:\n",
      "    https://scikit-learn.org/stable/modules/preprocessing.html\n",
      "Please also refer to the documentation for alternative solver options:\n",
      "    https://scikit-learn.org/stable/modules/linear_model.html#logistic-regression\n",
      "  n_iter_i = _check_optimize_result(\n",
      "/research/labs/immunology/goronzy_weyand/GoronzyLab_Mayo/Abhinav/miniconda3/lib/python3.9/site-packages/sklearn/linear_model/_logistic.py:814: ConvergenceWarning: lbfgs failed to converge (status=1):\n",
      "STOP: TOTAL NO. of ITERATIONS REACHED LIMIT.\n",
      "\n",
      "Increase the number of iterations (max_iter) or scale the data as shown in:\n",
      "    https://scikit-learn.org/stable/modules/preprocessing.html\n",
      "Please also refer to the documentation for alternative solver options:\n",
      "    https://scikit-learn.org/stable/modules/linear_model.html#logistic-regression\n",
      "  n_iter_i = _check_optimize_result(\n",
      "/research/labs/immunology/goronzy_weyand/GoronzyLab_Mayo/Abhinav/miniconda3/lib/python3.9/site-packages/sklearn/linear_model/_logistic.py:814: ConvergenceWarning: lbfgs failed to converge (status=1):\n",
      "STOP: TOTAL NO. of ITERATIONS REACHED LIMIT.\n",
      "\n",
      "Increase the number of iterations (max_iter) or scale the data as shown in:\n",
      "    https://scikit-learn.org/stable/modules/preprocessing.html\n",
      "Please also refer to the documentation for alternative solver options:\n",
      "    https://scikit-learn.org/stable/modules/linear_model.html#logistic-regression\n",
      "  n_iter_i = _check_optimize_result(\n",
      "/research/labs/immunology/goronzy_weyand/GoronzyLab_Mayo/Abhinav/miniconda3/lib/python3.9/site-packages/sklearn/linear_model/_logistic.py:814: ConvergenceWarning: lbfgs failed to converge (status=1):\n",
      "STOP: TOTAL NO. of ITERATIONS REACHED LIMIT.\n",
      "\n",
      "Increase the number of iterations (max_iter) or scale the data as shown in:\n",
      "    https://scikit-learn.org/stable/modules/preprocessing.html\n",
      "Please also refer to the documentation for alternative solver options:\n",
      "    https://scikit-learn.org/stable/modules/linear_model.html#logistic-regression\n",
      "  n_iter_i = _check_optimize_result(\n",
      "/research/labs/immunology/goronzy_weyand/GoronzyLab_Mayo/Abhinav/miniconda3/lib/python3.9/site-packages/sklearn/linear_model/_logistic.py:814: ConvergenceWarning: lbfgs failed to converge (status=1):\n",
      "STOP: TOTAL NO. of ITERATIONS REACHED LIMIT.\n",
      "\n",
      "Increase the number of iterations (max_iter) or scale the data as shown in:\n",
      "    https://scikit-learn.org/stable/modules/preprocessing.html\n",
      "Please also refer to the documentation for alternative solver options:\n",
      "    https://scikit-learn.org/stable/modules/linear_model.html#logistic-regression\n",
      "  n_iter_i = _check_optimize_result(\n",
      "/research/labs/immunology/goronzy_weyand/GoronzyLab_Mayo/Abhinav/miniconda3/lib/python3.9/site-packages/sklearn/linear_model/_logistic.py:814: ConvergenceWarning: lbfgs failed to converge (status=1):\n",
      "STOP: TOTAL NO. of ITERATIONS REACHED LIMIT.\n",
      "\n",
      "Increase the number of iterations (max_iter) or scale the data as shown in:\n",
      "    https://scikit-learn.org/stable/modules/preprocessing.html\n",
      "Please also refer to the documentation for alternative solver options:\n",
      "    https://scikit-learn.org/stable/modules/linear_model.html#logistic-regression\n",
      "  n_iter_i = _check_optimize_result(\n",
      "/research/labs/immunology/goronzy_weyand/GoronzyLab_Mayo/Abhinav/miniconda3/lib/python3.9/site-packages/sklearn/linear_model/_logistic.py:814: ConvergenceWarning: lbfgs failed to converge (status=1):\n",
      "STOP: TOTAL NO. of ITERATIONS REACHED LIMIT.\n",
      "\n",
      "Increase the number of iterations (max_iter) or scale the data as shown in:\n",
      "    https://scikit-learn.org/stable/modules/preprocessing.html\n",
      "Please also refer to the documentation for alternative solver options:\n",
      "    https://scikit-learn.org/stable/modules/linear_model.html#logistic-regression\n",
      "  n_iter_i = _check_optimize_result(\n",
      "/research/labs/immunology/goronzy_weyand/GoronzyLab_Mayo/Abhinav/miniconda3/lib/python3.9/site-packages/sklearn/linear_model/_logistic.py:814: ConvergenceWarning: lbfgs failed to converge (status=1):\n",
      "STOP: TOTAL NO. of ITERATIONS REACHED LIMIT.\n",
      "\n",
      "Increase the number of iterations (max_iter) or scale the data as shown in:\n",
      "    https://scikit-learn.org/stable/modules/preprocessing.html\n",
      "Please also refer to the documentation for alternative solver options:\n",
      "    https://scikit-learn.org/stable/modules/linear_model.html#logistic-regression\n",
      "  n_iter_i = _check_optimize_result(\n",
      "/research/labs/immunology/goronzy_weyand/GoronzyLab_Mayo/Abhinav/miniconda3/lib/python3.9/site-packages/sklearn/linear_model/_logistic.py:814: ConvergenceWarning: lbfgs failed to converge (status=1):\n",
      "STOP: TOTAL NO. of ITERATIONS REACHED LIMIT.\n",
      "\n",
      "Increase the number of iterations (max_iter) or scale the data as shown in:\n",
      "    https://scikit-learn.org/stable/modules/preprocessing.html\n",
      "Please also refer to the documentation for alternative solver options:\n",
      "    https://scikit-learn.org/stable/modules/linear_model.html#logistic-regression\n",
      "  n_iter_i = _check_optimize_result(\n",
      "/research/labs/immunology/goronzy_weyand/GoronzyLab_Mayo/Abhinav/miniconda3/lib/python3.9/site-packages/sklearn/linear_model/_logistic.py:814: ConvergenceWarning: lbfgs failed to converge (status=1):\n",
      "STOP: TOTAL NO. of ITERATIONS REACHED LIMIT.\n",
      "\n",
      "Increase the number of iterations (max_iter) or scale the data as shown in:\n",
      "    https://scikit-learn.org/stable/modules/preprocessing.html\n",
      "Please also refer to the documentation for alternative solver options:\n",
      "    https://scikit-learn.org/stable/modules/linear_model.html#logistic-regression\n",
      "  n_iter_i = _check_optimize_result(\n",
      "/research/labs/immunology/goronzy_weyand/GoronzyLab_Mayo/Abhinav/miniconda3/lib/python3.9/site-packages/sklearn/linear_model/_logistic.py:814: ConvergenceWarning: lbfgs failed to converge (status=1):\n",
      "STOP: TOTAL NO. of ITERATIONS REACHED LIMIT.\n",
      "\n",
      "Increase the number of iterations (max_iter) or scale the data as shown in:\n",
      "    https://scikit-learn.org/stable/modules/preprocessing.html\n",
      "Please also refer to the documentation for alternative solver options:\n",
      "    https://scikit-learn.org/stable/modules/linear_model.html#logistic-regression\n",
      "  n_iter_i = _check_optimize_result(\n",
      "/research/labs/immunology/goronzy_weyand/GoronzyLab_Mayo/Abhinav/miniconda3/lib/python3.9/site-packages/sklearn/linear_model/_logistic.py:814: ConvergenceWarning: lbfgs failed to converge (status=1):\n",
      "STOP: TOTAL NO. of ITERATIONS REACHED LIMIT.\n",
      "\n",
      "Increase the number of iterations (max_iter) or scale the data as shown in:\n",
      "    https://scikit-learn.org/stable/modules/preprocessing.html\n",
      "Please also refer to the documentation for alternative solver options:\n",
      "    https://scikit-learn.org/stable/modules/linear_model.html#logistic-regression\n",
      "  n_iter_i = _check_optimize_result(\n",
      "/research/labs/immunology/goronzy_weyand/GoronzyLab_Mayo/Abhinav/miniconda3/lib/python3.9/site-packages/sklearn/linear_model/_logistic.py:814: ConvergenceWarning: lbfgs failed to converge (status=1):\n",
      "STOP: TOTAL NO. of ITERATIONS REACHED LIMIT.\n",
      "\n",
      "Increase the number of iterations (max_iter) or scale the data as shown in:\n",
      "    https://scikit-learn.org/stable/modules/preprocessing.html\n",
      "Please also refer to the documentation for alternative solver options:\n",
      "    https://scikit-learn.org/stable/modules/linear_model.html#logistic-regression\n",
      "  n_iter_i = _check_optimize_result(\n"
     ]
    },
    {
     "name": "stderr",
     "output_type": "stream",
     "text": [
      "/research/labs/immunology/goronzy_weyand/GoronzyLab_Mayo/Abhinav/miniconda3/lib/python3.9/site-packages/sklearn/linear_model/_logistic.py:814: ConvergenceWarning: lbfgs failed to converge (status=1):\n",
      "STOP: TOTAL NO. of ITERATIONS REACHED LIMIT.\n",
      "\n",
      "Increase the number of iterations (max_iter) or scale the data as shown in:\n",
      "    https://scikit-learn.org/stable/modules/preprocessing.html\n",
      "Please also refer to the documentation for alternative solver options:\n",
      "    https://scikit-learn.org/stable/modules/linear_model.html#logistic-regression\n",
      "  n_iter_i = _check_optimize_result(\n",
      "/research/labs/immunology/goronzy_weyand/GoronzyLab_Mayo/Abhinav/miniconda3/lib/python3.9/site-packages/sklearn/linear_model/_logistic.py:814: ConvergenceWarning: lbfgs failed to converge (status=1):\n",
      "STOP: TOTAL NO. of ITERATIONS REACHED LIMIT.\n",
      "\n",
      "Increase the number of iterations (max_iter) or scale the data as shown in:\n",
      "    https://scikit-learn.org/stable/modules/preprocessing.html\n",
      "Please also refer to the documentation for alternative solver options:\n",
      "    https://scikit-learn.org/stable/modules/linear_model.html#logistic-regression\n",
      "  n_iter_i = _check_optimize_result(\n",
      "/research/labs/immunology/goronzy_weyand/GoronzyLab_Mayo/Abhinav/miniconda3/lib/python3.9/site-packages/sklearn/linear_model/_logistic.py:814: ConvergenceWarning: lbfgs failed to converge (status=1):\n",
      "STOP: TOTAL NO. of ITERATIONS REACHED LIMIT.\n",
      "\n",
      "Increase the number of iterations (max_iter) or scale the data as shown in:\n",
      "    https://scikit-learn.org/stable/modules/preprocessing.html\n",
      "Please also refer to the documentation for alternative solver options:\n",
      "    https://scikit-learn.org/stable/modules/linear_model.html#logistic-regression\n",
      "  n_iter_i = _check_optimize_result(\n",
      "/research/labs/immunology/goronzy_weyand/GoronzyLab_Mayo/Abhinav/miniconda3/lib/python3.9/site-packages/sklearn/linear_model/_logistic.py:814: ConvergenceWarning: lbfgs failed to converge (status=1):\n",
      "STOP: TOTAL NO. of ITERATIONS REACHED LIMIT.\n",
      "\n",
      "Increase the number of iterations (max_iter) or scale the data as shown in:\n",
      "    https://scikit-learn.org/stable/modules/preprocessing.html\n",
      "Please also refer to the documentation for alternative solver options:\n",
      "    https://scikit-learn.org/stable/modules/linear_model.html#logistic-regression\n",
      "  n_iter_i = _check_optimize_result(\n",
      "/research/labs/immunology/goronzy_weyand/GoronzyLab_Mayo/Abhinav/miniconda3/lib/python3.9/site-packages/sklearn/linear_model/_logistic.py:814: ConvergenceWarning: lbfgs failed to converge (status=1):\n",
      "STOP: TOTAL NO. of ITERATIONS REACHED LIMIT.\n",
      "\n",
      "Increase the number of iterations (max_iter) or scale the data as shown in:\n",
      "    https://scikit-learn.org/stable/modules/preprocessing.html\n",
      "Please also refer to the documentation for alternative solver options:\n",
      "    https://scikit-learn.org/stable/modules/linear_model.html#logistic-regression\n",
      "  n_iter_i = _check_optimize_result(\n",
      "/research/labs/immunology/goronzy_weyand/GoronzyLab_Mayo/Abhinav/miniconda3/lib/python3.9/site-packages/sklearn/linear_model/_logistic.py:814: ConvergenceWarning: lbfgs failed to converge (status=1):\n",
      "STOP: TOTAL NO. of ITERATIONS REACHED LIMIT.\n",
      "\n",
      "Increase the number of iterations (max_iter) or scale the data as shown in:\n",
      "    https://scikit-learn.org/stable/modules/preprocessing.html\n",
      "Please also refer to the documentation for alternative solver options:\n",
      "    https://scikit-learn.org/stable/modules/linear_model.html#logistic-regression\n",
      "  n_iter_i = _check_optimize_result(\n",
      "/research/labs/immunology/goronzy_weyand/GoronzyLab_Mayo/Abhinav/miniconda3/lib/python3.9/site-packages/sklearn/linear_model/_logistic.py:814: ConvergenceWarning: lbfgs failed to converge (status=1):\n",
      "STOP: TOTAL NO. of ITERATIONS REACHED LIMIT.\n",
      "\n",
      "Increase the number of iterations (max_iter) or scale the data as shown in:\n",
      "    https://scikit-learn.org/stable/modules/preprocessing.html\n",
      "Please also refer to the documentation for alternative solver options:\n",
      "    https://scikit-learn.org/stable/modules/linear_model.html#logistic-regression\n",
      "  n_iter_i = _check_optimize_result(\n",
      "/research/labs/immunology/goronzy_weyand/GoronzyLab_Mayo/Abhinav/miniconda3/lib/python3.9/site-packages/sklearn/linear_model/_logistic.py:814: ConvergenceWarning: lbfgs failed to converge (status=1):\n",
      "STOP: TOTAL NO. of ITERATIONS REACHED LIMIT.\n",
      "\n",
      "Increase the number of iterations (max_iter) or scale the data as shown in:\n",
      "    https://scikit-learn.org/stable/modules/preprocessing.html\n",
      "Please also refer to the documentation for alternative solver options:\n",
      "    https://scikit-learn.org/stable/modules/linear_model.html#logistic-regression\n",
      "  n_iter_i = _check_optimize_result(\n",
      "/research/labs/immunology/goronzy_weyand/GoronzyLab_Mayo/Abhinav/miniconda3/lib/python3.9/site-packages/sklearn/linear_model/_logistic.py:814: ConvergenceWarning: lbfgs failed to converge (status=1):\n",
      "STOP: TOTAL NO. of ITERATIONS REACHED LIMIT.\n",
      "\n",
      "Increase the number of iterations (max_iter) or scale the data as shown in:\n",
      "    https://scikit-learn.org/stable/modules/preprocessing.html\n",
      "Please also refer to the documentation for alternative solver options:\n",
      "    https://scikit-learn.org/stable/modules/linear_model.html#logistic-regression\n",
      "  n_iter_i = _check_optimize_result(\n",
      "/research/labs/immunology/goronzy_weyand/GoronzyLab_Mayo/Abhinav/miniconda3/lib/python3.9/site-packages/sklearn/linear_model/_logistic.py:814: ConvergenceWarning: lbfgs failed to converge (status=1):\n",
      "STOP: TOTAL NO. of ITERATIONS REACHED LIMIT.\n",
      "\n",
      "Increase the number of iterations (max_iter) or scale the data as shown in:\n",
      "    https://scikit-learn.org/stable/modules/preprocessing.html\n",
      "Please also refer to the documentation for alternative solver options:\n",
      "    https://scikit-learn.org/stable/modules/linear_model.html#logistic-regression\n",
      "  n_iter_i = _check_optimize_result(\n",
      "/research/labs/immunology/goronzy_weyand/GoronzyLab_Mayo/Abhinav/miniconda3/lib/python3.9/site-packages/sklearn/linear_model/_logistic.py:814: ConvergenceWarning: lbfgs failed to converge (status=1):\n",
      "STOP: TOTAL NO. of ITERATIONS REACHED LIMIT.\n",
      "\n",
      "Increase the number of iterations (max_iter) or scale the data as shown in:\n",
      "    https://scikit-learn.org/stable/modules/preprocessing.html\n",
      "Please also refer to the documentation for alternative solver options:\n",
      "    https://scikit-learn.org/stable/modules/linear_model.html#logistic-regression\n",
      "  n_iter_i = _check_optimize_result(\n",
      "/research/labs/immunology/goronzy_weyand/GoronzyLab_Mayo/Abhinav/miniconda3/lib/python3.9/site-packages/sklearn/linear_model/_logistic.py:814: ConvergenceWarning: lbfgs failed to converge (status=1):\n",
      "STOP: TOTAL NO. of ITERATIONS REACHED LIMIT.\n",
      "\n",
      "Increase the number of iterations (max_iter) or scale the data as shown in:\n",
      "    https://scikit-learn.org/stable/modules/preprocessing.html\n",
      "Please also refer to the documentation for alternative solver options:\n",
      "    https://scikit-learn.org/stable/modules/linear_model.html#logistic-regression\n",
      "  n_iter_i = _check_optimize_result(\n",
      "/research/labs/immunology/goronzy_weyand/GoronzyLab_Mayo/Abhinav/miniconda3/lib/python3.9/site-packages/sklearn/linear_model/_logistic.py:814: ConvergenceWarning: lbfgs failed to converge (status=1):\n",
      "STOP: TOTAL NO. of ITERATIONS REACHED LIMIT.\n",
      "\n",
      "Increase the number of iterations (max_iter) or scale the data as shown in:\n",
      "    https://scikit-learn.org/stable/modules/preprocessing.html\n",
      "Please also refer to the documentation for alternative solver options:\n",
      "    https://scikit-learn.org/stable/modules/linear_model.html#logistic-regression\n",
      "  n_iter_i = _check_optimize_result(\n",
      "/research/labs/immunology/goronzy_weyand/GoronzyLab_Mayo/Abhinav/miniconda3/lib/python3.9/site-packages/sklearn/linear_model/_logistic.py:814: ConvergenceWarning: lbfgs failed to converge (status=1):\n",
      "STOP: TOTAL NO. of ITERATIONS REACHED LIMIT.\n",
      "\n",
      "Increase the number of iterations (max_iter) or scale the data as shown in:\n",
      "    https://scikit-learn.org/stable/modules/preprocessing.html\n",
      "Please also refer to the documentation for alternative solver options:\n",
      "    https://scikit-learn.org/stable/modules/linear_model.html#logistic-regression\n",
      "  n_iter_i = _check_optimize_result(\n",
      "/research/labs/immunology/goronzy_weyand/GoronzyLab_Mayo/Abhinav/miniconda3/lib/python3.9/site-packages/sklearn/linear_model/_logistic.py:814: ConvergenceWarning: lbfgs failed to converge (status=1):\n",
      "STOP: TOTAL NO. of ITERATIONS REACHED LIMIT.\n",
      "\n",
      "Increase the number of iterations (max_iter) or scale the data as shown in:\n",
      "    https://scikit-learn.org/stable/modules/preprocessing.html\n",
      "Please also refer to the documentation for alternative solver options:\n",
      "    https://scikit-learn.org/stable/modules/linear_model.html#logistic-regression\n",
      "  n_iter_i = _check_optimize_result(\n"
     ]
    }
   ],
   "source": [
    "cv = RepeatedKFold(n_splits=10, n_repeats=3, random_state=1)\n",
    "model = LogisticRegression(max_iter=1000)\n",
    "# evaluate model\n",
    "scores = cross_val_score(model, X_scaled, y, scoring='accuracy', cv=cv, n_jobs=-1)"
   ]
  },
  {
   "cell_type": "code",
   "execution_count": 650,
   "id": "147cbd48",
   "metadata": {},
   "outputs": [
    {
     "name": "stdout",
     "output_type": "stream",
     "text": [
      "Accuracy: 0.250 (0.008)\n"
     ]
    }
   ],
   "source": [
    "import numpy as np\n",
    "# report performance\n",
    "print('Accuracy: %.3f (%.3f)' % (mean(scores), np.std(scores)))"
   ]
  },
  {
   "cell_type": "markdown",
   "id": "4a02279e",
   "metadata": {},
   "source": [
    "Getting very bad accuracy around 0.250"
   ]
  },
  {
   "cell_type": "markdown",
   "id": "f7047cfa",
   "metadata": {},
   "source": [
    "### L1-based feature selection\n",
    "Lasso used for regression, LogisticRegression and Linear SVC for classification"
   ]
  },
  {
   "cell_type": "code",
   "execution_count": 652,
   "id": "5a31e637",
   "metadata": {
    "collapsed": true
   },
   "outputs": [
    {
     "name": "stdout",
     "output_type": "stream",
     "text": [
      "(22188, 18575)\n"
     ]
    },
    {
     "name": "stderr",
     "output_type": "stream",
     "text": [
      "/research/labs/immunology/goronzy_weyand/GoronzyLab_Mayo/Abhinav/miniconda3/lib/python3.9/site-packages/sklearn/svm/_base.py:1206: ConvergenceWarning: Liblinear failed to converge, increase the number of iterations.\n",
      "  warnings.warn(\n"
     ]
    },
    {
     "name": "stdout",
     "output_type": "stream",
     "text": [
      "(22188, 4168)\n"
     ]
    }
   ],
   "source": [
    "from sklearn.svm import LinearSVC\n",
    "from sklearn.feature_selection import SelectFromModel\n",
    "print(X.shape)\n",
    "lsvc = LinearSVC(C=0.01, penalty=\"l1\",dual=False).fit(X,y)\n",
    "model = SelectFromModel(lsvc, prefit=True)\n",
    "X_new = model.transform(X)\n",
    "print(X_new.shape)"
   ]
  },
  {
   "cell_type": "code",
   "execution_count": 653,
   "id": "db3df43a",
   "metadata": {},
   "outputs": [],
   "source": [
    "scaler = preprocessing.StandardScaler().fit(X_new)\n",
    "scaler\n",
    "X_scaled = scaler.transform(X_new)"
   ]
  },
  {
   "cell_type": "code",
   "execution_count": 660,
   "id": "c98f6999",
   "metadata": {},
   "outputs": [
    {
     "data": {
      "text/plain": [
       "(22188, 4168)"
      ]
     },
     "execution_count": 660,
     "metadata": {},
     "output_type": "execute_result"
    }
   ],
   "source": [
    "X_scaled.shape"
   ]
  },
  {
   "cell_type": "code",
   "execution_count": 658,
   "id": "749d7983",
   "metadata": {
    "collapsed": true
   },
   "outputs": [
    {
     "name": "stderr",
     "output_type": "stream",
     "text": [
      "/research/labs/immunology/goronzy_weyand/GoronzyLab_Mayo/Abhinav/miniconda3/lib/python3.9/site-packages/sklearn/linear_model/_logistic.py:814: ConvergenceWarning: lbfgs failed to converge (status=1):\n",
      "STOP: TOTAL NO. of ITERATIONS REACHED LIMIT.\n",
      "\n",
      "Increase the number of iterations (max_iter) or scale the data as shown in:\n",
      "    https://scikit-learn.org/stable/modules/preprocessing.html\n",
      "Please also refer to the documentation for alternative solver options:\n",
      "    https://scikit-learn.org/stable/modules/linear_model.html#logistic-regression\n",
      "  n_iter_i = _check_optimize_result(\n",
      "/research/labs/immunology/goronzy_weyand/GoronzyLab_Mayo/Abhinav/miniconda3/lib/python3.9/site-packages/sklearn/linear_model/_logistic.py:814: ConvergenceWarning: lbfgs failed to converge (status=1):\n",
      "STOP: TOTAL NO. of ITERATIONS REACHED LIMIT.\n",
      "\n",
      "Increase the number of iterations (max_iter) or scale the data as shown in:\n",
      "    https://scikit-learn.org/stable/modules/preprocessing.html\n",
      "Please also refer to the documentation for alternative solver options:\n",
      "    https://scikit-learn.org/stable/modules/linear_model.html#logistic-regression\n",
      "  n_iter_i = _check_optimize_result(\n",
      "/research/labs/immunology/goronzy_weyand/GoronzyLab_Mayo/Abhinav/miniconda3/lib/python3.9/site-packages/sklearn/linear_model/_logistic.py:814: ConvergenceWarning: lbfgs failed to converge (status=1):\n",
      "STOP: TOTAL NO. of ITERATIONS REACHED LIMIT.\n",
      "\n",
      "Increase the number of iterations (max_iter) or scale the data as shown in:\n",
      "    https://scikit-learn.org/stable/modules/preprocessing.html\n",
      "Please also refer to the documentation for alternative solver options:\n",
      "    https://scikit-learn.org/stable/modules/linear_model.html#logistic-regression\n",
      "  n_iter_i = _check_optimize_result(\n",
      "/research/labs/immunology/goronzy_weyand/GoronzyLab_Mayo/Abhinav/miniconda3/lib/python3.9/site-packages/sklearn/linear_model/_logistic.py:814: ConvergenceWarning: lbfgs failed to converge (status=1):\n",
      "STOP: TOTAL NO. of ITERATIONS REACHED LIMIT.\n",
      "\n",
      "Increase the number of iterations (max_iter) or scale the data as shown in:\n",
      "    https://scikit-learn.org/stable/modules/preprocessing.html\n",
      "Please also refer to the documentation for alternative solver options:\n",
      "    https://scikit-learn.org/stable/modules/linear_model.html#logistic-regression\n",
      "  n_iter_i = _check_optimize_result(\n",
      "/research/labs/immunology/goronzy_weyand/GoronzyLab_Mayo/Abhinav/miniconda3/lib/python3.9/site-packages/sklearn/linear_model/_logistic.py:814: ConvergenceWarning: lbfgs failed to converge (status=1):\n",
      "STOP: TOTAL NO. of ITERATIONS REACHED LIMIT.\n",
      "\n",
      "Increase the number of iterations (max_iter) or scale the data as shown in:\n",
      "    https://scikit-learn.org/stable/modules/preprocessing.html\n",
      "Please also refer to the documentation for alternative solver options:\n",
      "    https://scikit-learn.org/stable/modules/linear_model.html#logistic-regression\n",
      "  n_iter_i = _check_optimize_result(\n",
      "/research/labs/immunology/goronzy_weyand/GoronzyLab_Mayo/Abhinav/miniconda3/lib/python3.9/site-packages/sklearn/linear_model/_logistic.py:814: ConvergenceWarning: lbfgs failed to converge (status=1):\n",
      "STOP: TOTAL NO. of ITERATIONS REACHED LIMIT.\n",
      "\n",
      "Increase the number of iterations (max_iter) or scale the data as shown in:\n",
      "    https://scikit-learn.org/stable/modules/preprocessing.html\n",
      "Please also refer to the documentation for alternative solver options:\n",
      "    https://scikit-learn.org/stable/modules/linear_model.html#logistic-regression\n",
      "  n_iter_i = _check_optimize_result(\n",
      "/research/labs/immunology/goronzy_weyand/GoronzyLab_Mayo/Abhinav/miniconda3/lib/python3.9/site-packages/sklearn/linear_model/_logistic.py:814: ConvergenceWarning: lbfgs failed to converge (status=1):\n",
      "STOP: TOTAL NO. of ITERATIONS REACHED LIMIT.\n",
      "\n",
      "Increase the number of iterations (max_iter) or scale the data as shown in:\n",
      "    https://scikit-learn.org/stable/modules/preprocessing.html\n",
      "Please also refer to the documentation for alternative solver options:\n",
      "    https://scikit-learn.org/stable/modules/linear_model.html#logistic-regression\n",
      "  n_iter_i = _check_optimize_result(\n",
      "/research/labs/immunology/goronzy_weyand/GoronzyLab_Mayo/Abhinav/miniconda3/lib/python3.9/site-packages/sklearn/linear_model/_logistic.py:814: ConvergenceWarning: lbfgs failed to converge (status=1):\n",
      "STOP: TOTAL NO. of ITERATIONS REACHED LIMIT.\n",
      "\n",
      "Increase the number of iterations (max_iter) or scale the data as shown in:\n",
      "    https://scikit-learn.org/stable/modules/preprocessing.html\n",
      "Please also refer to the documentation for alternative solver options:\n",
      "    https://scikit-learn.org/stable/modules/linear_model.html#logistic-regression\n",
      "  n_iter_i = _check_optimize_result(\n",
      "/research/labs/immunology/goronzy_weyand/GoronzyLab_Mayo/Abhinav/miniconda3/lib/python3.9/site-packages/sklearn/linear_model/_logistic.py:814: ConvergenceWarning: lbfgs failed to converge (status=1):\n",
      "STOP: TOTAL NO. of ITERATIONS REACHED LIMIT.\n",
      "\n",
      "Increase the number of iterations (max_iter) or scale the data as shown in:\n",
      "    https://scikit-learn.org/stable/modules/preprocessing.html\n",
      "Please also refer to the documentation for alternative solver options:\n",
      "    https://scikit-learn.org/stable/modules/linear_model.html#logistic-regression\n",
      "  n_iter_i = _check_optimize_result(\n",
      "/research/labs/immunology/goronzy_weyand/GoronzyLab_Mayo/Abhinav/miniconda3/lib/python3.9/site-packages/sklearn/linear_model/_logistic.py:814: ConvergenceWarning: lbfgs failed to converge (status=1):\n",
      "STOP: TOTAL NO. of ITERATIONS REACHED LIMIT.\n",
      "\n",
      "Increase the number of iterations (max_iter) or scale the data as shown in:\n",
      "    https://scikit-learn.org/stable/modules/preprocessing.html\n",
      "Please also refer to the documentation for alternative solver options:\n",
      "    https://scikit-learn.org/stable/modules/linear_model.html#logistic-regression\n",
      "  n_iter_i = _check_optimize_result(\n",
      "/research/labs/immunology/goronzy_weyand/GoronzyLab_Mayo/Abhinav/miniconda3/lib/python3.9/site-packages/sklearn/linear_model/_logistic.py:814: ConvergenceWarning: lbfgs failed to converge (status=1):\n",
      "STOP: TOTAL NO. of ITERATIONS REACHED LIMIT.\n",
      "\n",
      "Increase the number of iterations (max_iter) or scale the data as shown in:\n",
      "    https://scikit-learn.org/stable/modules/preprocessing.html\n",
      "Please also refer to the documentation for alternative solver options:\n",
      "    https://scikit-learn.org/stable/modules/linear_model.html#logistic-regression\n",
      "  n_iter_i = _check_optimize_result(\n",
      "/research/labs/immunology/goronzy_weyand/GoronzyLab_Mayo/Abhinav/miniconda3/lib/python3.9/site-packages/sklearn/linear_model/_logistic.py:814: ConvergenceWarning: lbfgs failed to converge (status=1):\n",
      "STOP: TOTAL NO. of ITERATIONS REACHED LIMIT.\n",
      "\n",
      "Increase the number of iterations (max_iter) or scale the data as shown in:\n",
      "    https://scikit-learn.org/stable/modules/preprocessing.html\n",
      "Please also refer to the documentation for alternative solver options:\n",
      "    https://scikit-learn.org/stable/modules/linear_model.html#logistic-regression\n",
      "  n_iter_i = _check_optimize_result(\n",
      "/research/labs/immunology/goronzy_weyand/GoronzyLab_Mayo/Abhinav/miniconda3/lib/python3.9/site-packages/sklearn/linear_model/_logistic.py:814: ConvergenceWarning: lbfgs failed to converge (status=1):\n",
      "STOP: TOTAL NO. of ITERATIONS REACHED LIMIT.\n",
      "\n",
      "Increase the number of iterations (max_iter) or scale the data as shown in:\n",
      "    https://scikit-learn.org/stable/modules/preprocessing.html\n",
      "Please also refer to the documentation for alternative solver options:\n",
      "    https://scikit-learn.org/stable/modules/linear_model.html#logistic-regression\n",
      "  n_iter_i = _check_optimize_result(\n",
      "/research/labs/immunology/goronzy_weyand/GoronzyLab_Mayo/Abhinav/miniconda3/lib/python3.9/site-packages/sklearn/linear_model/_logistic.py:814: ConvergenceWarning: lbfgs failed to converge (status=1):\n",
      "STOP: TOTAL NO. of ITERATIONS REACHED LIMIT.\n",
      "\n",
      "Increase the number of iterations (max_iter) or scale the data as shown in:\n",
      "    https://scikit-learn.org/stable/modules/preprocessing.html\n",
      "Please also refer to the documentation for alternative solver options:\n",
      "    https://scikit-learn.org/stable/modules/linear_model.html#logistic-regression\n",
      "  n_iter_i = _check_optimize_result(\n",
      "/research/labs/immunology/goronzy_weyand/GoronzyLab_Mayo/Abhinav/miniconda3/lib/python3.9/site-packages/sklearn/linear_model/_logistic.py:814: ConvergenceWarning: lbfgs failed to converge (status=1):\n",
      "STOP: TOTAL NO. of ITERATIONS REACHED LIMIT.\n",
      "\n",
      "Increase the number of iterations (max_iter) or scale the data as shown in:\n",
      "    https://scikit-learn.org/stable/modules/preprocessing.html\n",
      "Please also refer to the documentation for alternative solver options:\n",
      "    https://scikit-learn.org/stable/modules/linear_model.html#logistic-regression\n",
      "  n_iter_i = _check_optimize_result(\n"
     ]
    },
    {
     "name": "stderr",
     "output_type": "stream",
     "text": [
      "/research/labs/immunology/goronzy_weyand/GoronzyLab_Mayo/Abhinav/miniconda3/lib/python3.9/site-packages/sklearn/linear_model/_logistic.py:814: ConvergenceWarning: lbfgs failed to converge (status=1):\n",
      "STOP: TOTAL NO. of ITERATIONS REACHED LIMIT.\n",
      "\n",
      "Increase the number of iterations (max_iter) or scale the data as shown in:\n",
      "    https://scikit-learn.org/stable/modules/preprocessing.html\n",
      "Please also refer to the documentation for alternative solver options:\n",
      "    https://scikit-learn.org/stable/modules/linear_model.html#logistic-regression\n",
      "  n_iter_i = _check_optimize_result(\n",
      "/research/labs/immunology/goronzy_weyand/GoronzyLab_Mayo/Abhinav/miniconda3/lib/python3.9/site-packages/sklearn/linear_model/_logistic.py:814: ConvergenceWarning: lbfgs failed to converge (status=1):\n",
      "STOP: TOTAL NO. of ITERATIONS REACHED LIMIT.\n",
      "\n",
      "Increase the number of iterations (max_iter) or scale the data as shown in:\n",
      "    https://scikit-learn.org/stable/modules/preprocessing.html\n",
      "Please also refer to the documentation for alternative solver options:\n",
      "    https://scikit-learn.org/stable/modules/linear_model.html#logistic-regression\n",
      "  n_iter_i = _check_optimize_result(\n",
      "/research/labs/immunology/goronzy_weyand/GoronzyLab_Mayo/Abhinav/miniconda3/lib/python3.9/site-packages/sklearn/linear_model/_logistic.py:814: ConvergenceWarning: lbfgs failed to converge (status=1):\n",
      "STOP: TOTAL NO. of ITERATIONS REACHED LIMIT.\n",
      "\n",
      "Increase the number of iterations (max_iter) or scale the data as shown in:\n",
      "    https://scikit-learn.org/stable/modules/preprocessing.html\n",
      "Please also refer to the documentation for alternative solver options:\n",
      "    https://scikit-learn.org/stable/modules/linear_model.html#logistic-regression\n",
      "  n_iter_i = _check_optimize_result(\n",
      "/research/labs/immunology/goronzy_weyand/GoronzyLab_Mayo/Abhinav/miniconda3/lib/python3.9/site-packages/sklearn/linear_model/_logistic.py:814: ConvergenceWarning: lbfgs failed to converge (status=1):\n",
      "STOP: TOTAL NO. of ITERATIONS REACHED LIMIT.\n",
      "\n",
      "Increase the number of iterations (max_iter) or scale the data as shown in:\n",
      "    https://scikit-learn.org/stable/modules/preprocessing.html\n",
      "Please also refer to the documentation for alternative solver options:\n",
      "    https://scikit-learn.org/stable/modules/linear_model.html#logistic-regression\n",
      "  n_iter_i = _check_optimize_result(\n",
      "/research/labs/immunology/goronzy_weyand/GoronzyLab_Mayo/Abhinav/miniconda3/lib/python3.9/site-packages/sklearn/linear_model/_logistic.py:814: ConvergenceWarning: lbfgs failed to converge (status=1):\n",
      "STOP: TOTAL NO. of ITERATIONS REACHED LIMIT.\n",
      "\n",
      "Increase the number of iterations (max_iter) or scale the data as shown in:\n",
      "    https://scikit-learn.org/stable/modules/preprocessing.html\n",
      "Please also refer to the documentation for alternative solver options:\n",
      "    https://scikit-learn.org/stable/modules/linear_model.html#logistic-regression\n",
      "  n_iter_i = _check_optimize_result(\n",
      "/research/labs/immunology/goronzy_weyand/GoronzyLab_Mayo/Abhinav/miniconda3/lib/python3.9/site-packages/sklearn/linear_model/_logistic.py:814: ConvergenceWarning: lbfgs failed to converge (status=1):\n",
      "STOP: TOTAL NO. of ITERATIONS REACHED LIMIT.\n",
      "\n",
      "Increase the number of iterations (max_iter) or scale the data as shown in:\n",
      "    https://scikit-learn.org/stable/modules/preprocessing.html\n",
      "Please also refer to the documentation for alternative solver options:\n",
      "    https://scikit-learn.org/stable/modules/linear_model.html#logistic-regression\n",
      "  n_iter_i = _check_optimize_result(\n",
      "/research/labs/immunology/goronzy_weyand/GoronzyLab_Mayo/Abhinav/miniconda3/lib/python3.9/site-packages/sklearn/linear_model/_logistic.py:814: ConvergenceWarning: lbfgs failed to converge (status=1):\n",
      "STOP: TOTAL NO. of ITERATIONS REACHED LIMIT.\n",
      "\n",
      "Increase the number of iterations (max_iter) or scale the data as shown in:\n",
      "    https://scikit-learn.org/stable/modules/preprocessing.html\n",
      "Please also refer to the documentation for alternative solver options:\n",
      "    https://scikit-learn.org/stable/modules/linear_model.html#logistic-regression\n",
      "  n_iter_i = _check_optimize_result(\n",
      "/research/labs/immunology/goronzy_weyand/GoronzyLab_Mayo/Abhinav/miniconda3/lib/python3.9/site-packages/sklearn/linear_model/_logistic.py:814: ConvergenceWarning: lbfgs failed to converge (status=1):\n",
      "STOP: TOTAL NO. of ITERATIONS REACHED LIMIT.\n",
      "\n",
      "Increase the number of iterations (max_iter) or scale the data as shown in:\n",
      "    https://scikit-learn.org/stable/modules/preprocessing.html\n",
      "Please also refer to the documentation for alternative solver options:\n",
      "    https://scikit-learn.org/stable/modules/linear_model.html#logistic-regression\n",
      "  n_iter_i = _check_optimize_result(\n",
      "/research/labs/immunology/goronzy_weyand/GoronzyLab_Mayo/Abhinav/miniconda3/lib/python3.9/site-packages/sklearn/linear_model/_logistic.py:814: ConvergenceWarning: lbfgs failed to converge (status=1):\n",
      "STOP: TOTAL NO. of ITERATIONS REACHED LIMIT.\n",
      "\n",
      "Increase the number of iterations (max_iter) or scale the data as shown in:\n",
      "    https://scikit-learn.org/stable/modules/preprocessing.html\n",
      "Please also refer to the documentation for alternative solver options:\n",
      "    https://scikit-learn.org/stable/modules/linear_model.html#logistic-regression\n",
      "  n_iter_i = _check_optimize_result(\n",
      "/research/labs/immunology/goronzy_weyand/GoronzyLab_Mayo/Abhinav/miniconda3/lib/python3.9/site-packages/sklearn/linear_model/_logistic.py:814: ConvergenceWarning: lbfgs failed to converge (status=1):\n",
      "STOP: TOTAL NO. of ITERATIONS REACHED LIMIT.\n",
      "\n",
      "Increase the number of iterations (max_iter) or scale the data as shown in:\n",
      "    https://scikit-learn.org/stable/modules/preprocessing.html\n",
      "Please also refer to the documentation for alternative solver options:\n",
      "    https://scikit-learn.org/stable/modules/linear_model.html#logistic-regression\n",
      "  n_iter_i = _check_optimize_result(\n",
      "/research/labs/immunology/goronzy_weyand/GoronzyLab_Mayo/Abhinav/miniconda3/lib/python3.9/site-packages/sklearn/linear_model/_logistic.py:814: ConvergenceWarning: lbfgs failed to converge (status=1):\n",
      "STOP: TOTAL NO. of ITERATIONS REACHED LIMIT.\n",
      "\n",
      "Increase the number of iterations (max_iter) or scale the data as shown in:\n",
      "    https://scikit-learn.org/stable/modules/preprocessing.html\n",
      "Please also refer to the documentation for alternative solver options:\n",
      "    https://scikit-learn.org/stable/modules/linear_model.html#logistic-regression\n",
      "  n_iter_i = _check_optimize_result(\n",
      "/research/labs/immunology/goronzy_weyand/GoronzyLab_Mayo/Abhinav/miniconda3/lib/python3.9/site-packages/sklearn/linear_model/_logistic.py:814: ConvergenceWarning: lbfgs failed to converge (status=1):\n",
      "STOP: TOTAL NO. of ITERATIONS REACHED LIMIT.\n",
      "\n",
      "Increase the number of iterations (max_iter) or scale the data as shown in:\n",
      "    https://scikit-learn.org/stable/modules/preprocessing.html\n",
      "Please also refer to the documentation for alternative solver options:\n",
      "    https://scikit-learn.org/stable/modules/linear_model.html#logistic-regression\n",
      "  n_iter_i = _check_optimize_result(\n",
      "/research/labs/immunology/goronzy_weyand/GoronzyLab_Mayo/Abhinav/miniconda3/lib/python3.9/site-packages/sklearn/linear_model/_logistic.py:814: ConvergenceWarning: lbfgs failed to converge (status=1):\n",
      "STOP: TOTAL NO. of ITERATIONS REACHED LIMIT.\n",
      "\n",
      "Increase the number of iterations (max_iter) or scale the data as shown in:\n",
      "    https://scikit-learn.org/stable/modules/preprocessing.html\n",
      "Please also refer to the documentation for alternative solver options:\n",
      "    https://scikit-learn.org/stable/modules/linear_model.html#logistic-regression\n",
      "  n_iter_i = _check_optimize_result(\n",
      "/research/labs/immunology/goronzy_weyand/GoronzyLab_Mayo/Abhinav/miniconda3/lib/python3.9/site-packages/sklearn/linear_model/_logistic.py:814: ConvergenceWarning: lbfgs failed to converge (status=1):\n",
      "STOP: TOTAL NO. of ITERATIONS REACHED LIMIT.\n",
      "\n",
      "Increase the number of iterations (max_iter) or scale the data as shown in:\n",
      "    https://scikit-learn.org/stable/modules/preprocessing.html\n",
      "Please also refer to the documentation for alternative solver options:\n",
      "    https://scikit-learn.org/stable/modules/linear_model.html#logistic-regression\n",
      "  n_iter_i = _check_optimize_result(\n",
      "/research/labs/immunology/goronzy_weyand/GoronzyLab_Mayo/Abhinav/miniconda3/lib/python3.9/site-packages/sklearn/linear_model/_logistic.py:814: ConvergenceWarning: lbfgs failed to converge (status=1):\n",
      "STOP: TOTAL NO. of ITERATIONS REACHED LIMIT.\n",
      "\n",
      "Increase the number of iterations (max_iter) or scale the data as shown in:\n",
      "    https://scikit-learn.org/stable/modules/preprocessing.html\n",
      "Please also refer to the documentation for alternative solver options:\n",
      "    https://scikit-learn.org/stable/modules/linear_model.html#logistic-regression\n",
      "  n_iter_i = _check_optimize_result(\n"
     ]
    }
   ],
   "source": [
    "cv = RepeatedKFold(n_splits=10, n_repeats=3, random_state=1)\n",
    "model = LogisticRegression(max_iter=1000)\n",
    "# evaluate model\n",
    "scores = cross_val_score(model, X_scaled, y, scoring='accuracy', cv=cv, n_jobs=-1)"
   ]
  },
  {
   "cell_type": "code",
   "execution_count": 659,
   "id": "80ba7a3c",
   "metadata": {},
   "outputs": [
    {
     "name": "stdout",
     "output_type": "stream",
     "text": [
      "Accuracy: 0.226 (0.009)\n"
     ]
    }
   ],
   "source": [
    "import numpy as np\n",
    "# report performance\n",
    "print('Accuracy: %.3f (%.3f)' % (mean(scores), np.std(scores)))"
   ]
  },
  {
   "cell_type": "markdown",
   "id": "edcbe1ec",
   "metadata": {},
   "source": [
    "# Using Support Vector Machine \n",
    "SVM: also create the hyperplane to separate out based on the support vector to the line. The hyperplane in which both the distances from different clusters are the same. Those are known as support vectors. This could be the straight line or the polynomials. Basically Kernels provide the dimension to differentiate between the groups.\n",
    "\n",
    "The advantages of support vector machines are:\n",
    "1. Effective in high dimensional spaces.\n",
    "2. Still effective in cases where number of dimensions is greater than the number of samples.\n",
    "3. Uses a subset of training points in the decision function (called support vectors), so it is also memory efficient.\n",
    "4. Versatile: different Kernel functions can be specified for the decision function. Common kernels are provided, but it is also possible to specify custom kernels.\n",
    "\n",
    "Disadvantages:\n",
    "1. If the number of features is much greater than the number of samples, avoid over-fitting in choosing Kernel functions and regularization term is crucial.\n",
    "2. SVMs do not directly provide probability estimates, these are calculated using an expensive five-fold cross-validation (see Scores and probabilities, below).\n"
   ]
  },
  {
   "cell_type": "markdown",
   "id": "6fb09613",
   "metadata": {},
   "source": [
    "In the SVM we will use the CD4 scCITESeq dataset initial we will remove all cell types that is DN DP and unassigned."
   ]
  },
  {
   "cell_type": "code",
   "execution_count": 7,
   "id": "97c84906",
   "metadata": {},
   "outputs": [],
   "source": [
    "# We get both the dataset from the Seurat. In Seurat we have done the Normalization, FindVariableFeature, scaling, RunPCA, and RunUMAP\n",
    "# It provided us the 2000 variable features that we use for the training, validating, and testing our model.\n",
    "\n",
    "import pandas as pd\n",
    "CD4_scaled = pd.read_csv(\"/research/labs/immunology/goronzy_weyand/GoronzyLab_Mayo/Abhinav/scCITESeq/Ines/Run02_and_Run03_analysis/downstream_analysis/Integrated_Run/celltype_annotation/CD4_scale_data.csv\", \n",
    "                         index_col=[0])\n",
    "CD4_celltypes = pd.read_csv(\"/research/labs/immunology/goronzy_weyand/GoronzyLab_Mayo/Abhinav/scCITESeq/Ines/Run02_and_Run03_analysis/downstream_analysis/Integrated_Run/celltype_annotation/CD4_celltypes.csv\")\n"
   ]
  },
  {
   "cell_type": "code",
   "execution_count": 8,
   "id": "fd2e996e",
   "metadata": {},
   "outputs": [
    {
     "data": {
      "text/plain": [
       "EM_CM                   12159\n",
       "Tregs                    5355\n",
       "Naive_stem_cell_like     1708\n",
       "CD4_TEMRA                1190\n",
       "Name: x, dtype: int64"
      ]
     },
     "execution_count": 8,
     "metadata": {},
     "output_type": "execute_result"
    }
   ],
   "source": [
    "CD4_celltypes.iloc[:,-1].value_counts()"
   ]
  },
  {
   "cell_type": "code",
   "execution_count": 9,
   "id": "886af5c6",
   "metadata": {},
   "outputs": [
    {
     "data": {
      "text/plain": [
       "0    12159\n",
       "1     5355\n",
       "2     1708\n",
       "3     1190\n",
       "Name: x, dtype: int64"
      ]
     },
     "execution_count": 9,
     "metadata": {},
     "output_type": "execute_result"
    }
   ],
   "source": [
    "CD4_celltypes_float = CD4_celltypes.iloc[:,-1].map({\"EM_CM\":0,\"Tregs\":1,\"Naive_stem_cell_like\":2,\"CD4_TEMRA\":3})\n",
    "CD4_celltypes_float.value_counts()"
   ]
  },
  {
   "cell_type": "code",
   "execution_count": 10,
   "id": "85c58574",
   "metadata": {},
   "outputs": [
    {
     "name": "stdout",
     "output_type": "stream",
     "text": [
      "(20412, 2000) (20412,)\n"
     ]
    }
   ],
   "source": [
    "print(CD4_scaled.shape,CD4_celltypes_float.shape)"
   ]
  },
  {
   "cell_type": "code",
   "execution_count": 11,
   "id": "9f94bb13",
   "metadata": {},
   "outputs": [],
   "source": [
    "X = CD4_scaled.values\n",
    "y = CD4_celltypes_float.values"
   ]
  },
  {
   "cell_type": "code",
   "execution_count": 12,
   "id": "9d0436a4",
   "metadata": {},
   "outputs": [
    {
     "name": "stdout",
     "output_type": "stream",
     "text": [
      "(20412, 2000) (20412,)\n"
     ]
    }
   ],
   "source": [
    "print(X.shape,y.shape)"
   ]
  },
  {
   "cell_type": "code",
   "execution_count": 13,
   "id": "a68ec1c1",
   "metadata": {},
   "outputs": [],
   "source": [
    "# Import train_test_split function\n",
    "from sklearn.model_selection import train_test_split\n",
    "\n",
    "# Split dataset into training set and test set\n",
    "X_train, X_test, y_train, y_test = train_test_split(X, y,test_size=0.2, random_state=42) \n"
   ]
  },
  {
   "cell_type": "code",
   "execution_count": 14,
   "id": "59d26779",
   "metadata": {},
   "outputs": [
    {
     "name": "stdout",
     "output_type": "stream",
     "text": [
      "(16329, 2000) (4083, 2000) (16329,) (4083,)\n"
     ]
    }
   ],
   "source": [
    "print(X_train.shape, X_test.shape, y_train.shape, y_test.shape)"
   ]
  },
  {
   "cell_type": "code",
   "execution_count": 734,
   "id": "eb31f17c",
   "metadata": {
    "collapsed": true
   },
   "outputs": [
    {
     "name": "stdout",
     "output_type": "stream",
     "text": [
      "Help on class SVC in module sklearn.svm._classes:\n",
      "\n",
      "class SVC(sklearn.svm._base.BaseSVC)\n",
      " |  SVC(*, C=1.0, kernel='rbf', degree=3, gamma='scale', coef0=0.0, shrinking=True, probability=False, tol=0.001, cache_size=200, class_weight=None, verbose=False, max_iter=-1, decision_function_shape='ovr', break_ties=False, random_state=None)\n",
      " |  \n",
      " |  C-Support Vector Classification.\n",
      " |  \n",
      " |  The implementation is based on libsvm. The fit time scales at least\n",
      " |  quadratically with the number of samples and may be impractical\n",
      " |  beyond tens of thousands of samples. For large datasets\n",
      " |  consider using :class:`~sklearn.svm.LinearSVC` or\n",
      " |  :class:`~sklearn.linear_model.SGDClassifier` instead, possibly after a\n",
      " |  :class:`~sklearn.kernel_approximation.Nystroem` transformer.\n",
      " |  \n",
      " |  The multiclass support is handled according to a one-vs-one scheme.\n",
      " |  \n",
      " |  For details on the precise mathematical formulation of the provided\n",
      " |  kernel functions and how `gamma`, `coef0` and `degree` affect each\n",
      " |  other, see the corresponding section in the narrative documentation:\n",
      " |  :ref:`svm_kernels`.\n",
      " |  \n",
      " |  Read more in the :ref:`User Guide <svm_classification>`.\n",
      " |  \n",
      " |  Parameters\n",
      " |  ----------\n",
      " |  C : float, default=1.0\n",
      " |      Regularization parameter. The strength of the regularization is\n",
      " |      inversely proportional to C. Must be strictly positive. The penalty\n",
      " |      is a squared l2 penalty.\n",
      " |  \n",
      " |  kernel : {'linear', 'poly', 'rbf', 'sigmoid', 'precomputed'} or callable,          default='rbf'\n",
      " |      Specifies the kernel type to be used in the algorithm.\n",
      " |      If none is given, 'rbf' will be used. If a callable is given it is\n",
      " |      used to pre-compute the kernel matrix from data matrices; that matrix\n",
      " |      should be an array of shape ``(n_samples, n_samples)``.\n",
      " |  \n",
      " |  degree : int, default=3\n",
      " |      Degree of the polynomial kernel function ('poly').\n",
      " |      Ignored by all other kernels.\n",
      " |  \n",
      " |  gamma : {'scale', 'auto'} or float, default='scale'\n",
      " |      Kernel coefficient for 'rbf', 'poly' and 'sigmoid'.\n",
      " |  \n",
      " |      - if ``gamma='scale'`` (default) is passed then it uses\n",
      " |        1 / (n_features * X.var()) as value of gamma,\n",
      " |      - if 'auto', uses 1 / n_features.\n",
      " |  \n",
      " |      .. versionchanged:: 0.22\n",
      " |         The default value of ``gamma`` changed from 'auto' to 'scale'.\n",
      " |  \n",
      " |  coef0 : float, default=0.0\n",
      " |      Independent term in kernel function.\n",
      " |      It is only significant in 'poly' and 'sigmoid'.\n",
      " |  \n",
      " |  shrinking : bool, default=True\n",
      " |      Whether to use the shrinking heuristic.\n",
      " |      See the :ref:`User Guide <shrinking_svm>`.\n",
      " |  \n",
      " |  probability : bool, default=False\n",
      " |      Whether to enable probability estimates. This must be enabled prior\n",
      " |      to calling `fit`, will slow down that method as it internally uses\n",
      " |      5-fold cross-validation, and `predict_proba` may be inconsistent with\n",
      " |      `predict`. Read more in the :ref:`User Guide <scores_probabilities>`.\n",
      " |  \n",
      " |  tol : float, default=1e-3\n",
      " |      Tolerance for stopping criterion.\n",
      " |  \n",
      " |  cache_size : float, default=200\n",
      " |      Specify the size of the kernel cache (in MB).\n",
      " |  \n",
      " |  class_weight : dict or 'balanced', default=None\n",
      " |      Set the parameter C of class i to class_weight[i]*C for\n",
      " |      SVC. If not given, all classes are supposed to have\n",
      " |      weight one.\n",
      " |      The \"balanced\" mode uses the values of y to automatically adjust\n",
      " |      weights inversely proportional to class frequencies in the input data\n",
      " |      as ``n_samples / (n_classes * np.bincount(y))``.\n",
      " |  \n",
      " |  verbose : bool, default=False\n",
      " |      Enable verbose output. Note that this setting takes advantage of a\n",
      " |      per-process runtime setting in libsvm that, if enabled, may not work\n",
      " |      properly in a multithreaded context.\n",
      " |  \n",
      " |  max_iter : int, default=-1\n",
      " |      Hard limit on iterations within solver, or -1 for no limit.\n",
      " |  \n",
      " |  decision_function_shape : {'ovo', 'ovr'}, default='ovr'\n",
      " |      Whether to return a one-vs-rest ('ovr') decision function of shape\n",
      " |      (n_samples, n_classes) as all other classifiers, or the original\n",
      " |      one-vs-one ('ovo') decision function of libsvm which has shape\n",
      " |      (n_samples, n_classes * (n_classes - 1) / 2). However, one-vs-one\n",
      " |      ('ovo') is always used as multi-class strategy. The parameter is\n",
      " |      ignored for binary classification.\n",
      " |  \n",
      " |      .. versionchanged:: 0.19\n",
      " |          decision_function_shape is 'ovr' by default.\n",
      " |  \n",
      " |      .. versionadded:: 0.17\n",
      " |         *decision_function_shape='ovr'* is recommended.\n",
      " |  \n",
      " |      .. versionchanged:: 0.17\n",
      " |         Deprecated *decision_function_shape='ovo' and None*.\n",
      " |  \n",
      " |  break_ties : bool, default=False\n",
      " |      If true, ``decision_function_shape='ovr'``, and number of classes > 2,\n",
      " |      :term:`predict` will break ties according to the confidence values of\n",
      " |      :term:`decision_function`; otherwise the first class among the tied\n",
      " |      classes is returned. Please note that breaking ties comes at a\n",
      " |      relatively high computational cost compared to a simple predict.\n",
      " |  \n",
      " |      .. versionadded:: 0.22\n",
      " |  \n",
      " |  random_state : int, RandomState instance or None, default=None\n",
      " |      Controls the pseudo random number generation for shuffling the data for\n",
      " |      probability estimates. Ignored when `probability` is False.\n",
      " |      Pass an int for reproducible output across multiple function calls.\n",
      " |      See :term:`Glossary <random_state>`.\n",
      " |  \n",
      " |  Attributes\n",
      " |  ----------\n",
      " |  class_weight_ : ndarray of shape (n_classes,)\n",
      " |      Multipliers of parameter C for each class.\n",
      " |      Computed based on the ``class_weight`` parameter.\n",
      " |  \n",
      " |  classes_ : ndarray of shape (n_classes,)\n",
      " |      The classes labels.\n",
      " |  \n",
      " |  coef_ : ndarray of shape (n_classes * (n_classes - 1) / 2, n_features)\n",
      " |      Weights assigned to the features (coefficients in the primal\n",
      " |      problem). This is only available in the case of a linear kernel.\n",
      " |  \n",
      " |      `coef_` is a readonly property derived from `dual_coef_` and\n",
      " |      `support_vectors_`.\n",
      " |  \n",
      " |  dual_coef_ : ndarray of shape (n_classes -1, n_SV)\n",
      " |      Dual coefficients of the support vector in the decision\n",
      " |      function (see :ref:`sgd_mathematical_formulation`), multiplied by\n",
      " |      their targets.\n",
      " |      For multiclass, coefficient for all 1-vs-1 classifiers.\n",
      " |      The layout of the coefficients in the multiclass case is somewhat\n",
      " |      non-trivial. See the :ref:`multi-class section of the User Guide\n",
      " |      <svm_multi_class>` for details.\n",
      " |  \n",
      " |  fit_status_ : int\n",
      " |      0 if correctly fitted, 1 otherwise (will raise warning)\n",
      " |  \n",
      " |  intercept_ : ndarray of shape (n_classes * (n_classes - 1) / 2,)\n",
      " |      Constants in decision function.\n",
      " |  \n",
      " |  n_features_in_ : int\n",
      " |      Number of features seen during :term:`fit`.\n",
      " |  \n",
      " |      .. versionadded:: 0.24\n",
      " |  \n",
      " |  feature_names_in_ : ndarray of shape (`n_features_in_`,)\n",
      " |      Names of features seen during :term:`fit`. Defined only when `X`\n",
      " |      has feature names that are all strings.\n",
      " |  \n",
      " |      .. versionadded:: 1.0\n",
      " |  \n",
      " |  support_ : ndarray of shape (n_SV)\n",
      " |      Indices of support vectors.\n",
      " |  \n",
      " |  support_vectors_ : ndarray of shape (n_SV, n_features)\n",
      " |      Support vectors.\n",
      " |  \n",
      " |  n_support_ : ndarray of shape (n_classes,), dtype=int32\n",
      " |      Number of support vectors for each class.\n",
      " |  \n",
      " |  probA_ : ndarray of shape (n_classes * (n_classes - 1) / 2)\n",
      " |  probB_ : ndarray of shape (n_classes * (n_classes - 1) / 2)\n",
      " |      If `probability=True`, it corresponds to the parameters learned in\n",
      " |      Platt scaling to produce probability estimates from decision values.\n",
      " |      If `probability=False`, it's an empty array. Platt scaling uses the\n",
      " |      logistic function\n",
      " |      ``1 / (1 + exp(decision_value * probA_ + probB_))``\n",
      " |      where ``probA_`` and ``probB_`` are learned from the dataset [2]_. For\n",
      " |      more information on the multiclass case and training procedure see\n",
      " |      section 8 of [1]_.\n",
      " |  \n",
      " |  shape_fit_ : tuple of int of shape (n_dimensions_of_X,)\n",
      " |      Array dimensions of training vector ``X``.\n",
      " |  \n",
      " |  See Also\n",
      " |  --------\n",
      " |  SVR : Support Vector Machine for Regression implemented using libsvm.\n",
      " |  \n",
      " |  LinearSVC : Scalable Linear Support Vector Machine for classification\n",
      " |      implemented using liblinear. Check the See Also section of\n",
      " |      LinearSVC for more comparison element.\n",
      " |  \n",
      " |  References\n",
      " |  ----------\n",
      " |  .. [1] `LIBSVM: A Library for Support Vector Machines\n",
      " |      <http://www.csie.ntu.edu.tw/~cjlin/papers/libsvm.pdf>`_\n",
      " |  \n",
      " |  .. [2] `Platt, John (1999). \"Probabilistic outputs for support vector\n",
      " |      machines and comparison to regularizedlikelihood methods.\"\n",
      " |      <http://citeseer.ist.psu.edu/viewdoc/summary?doi=10.1.1.41.1639>`_\n",
      " |  \n",
      " |  Examples\n",
      " |  --------\n",
      " |  >>> import numpy as np\n",
      " |  >>> from sklearn.pipeline import make_pipeline\n",
      " |  >>> from sklearn.preprocessing import StandardScaler\n",
      " |  >>> X = np.array([[-1, -1], [-2, -1], [1, 1], [2, 1]])\n",
      " |  >>> y = np.array([1, 1, 2, 2])\n",
      " |  >>> from sklearn.svm import SVC\n",
      " |  >>> clf = make_pipeline(StandardScaler(), SVC(gamma='auto'))\n",
      " |  >>> clf.fit(X, y)\n",
      " |  Pipeline(steps=[('standardscaler', StandardScaler()),\n",
      " |                  ('svc', SVC(gamma='auto'))])\n",
      " |  \n",
      " |  >>> print(clf.predict([[-0.8, -1]]))\n",
      " |  [1]\n",
      " |  \n",
      " |  Method resolution order:\n",
      " |      SVC\n",
      " |      sklearn.svm._base.BaseSVC\n",
      " |      sklearn.base.ClassifierMixin\n",
      " |      sklearn.svm._base.BaseLibSVM\n",
      " |      sklearn.base.BaseEstimator\n",
      " |      builtins.object\n",
      " |  \n",
      " |  Methods defined here:\n",
      " |  \n",
      " |  __init__(self, *, C=1.0, kernel='rbf', degree=3, gamma='scale', coef0=0.0, shrinking=True, probability=False, tol=0.001, cache_size=200, class_weight=None, verbose=False, max_iter=-1, decision_function_shape='ovr', break_ties=False, random_state=None)\n",
      " |      Initialize self.  See help(type(self)) for accurate signature.\n",
      " |  \n",
      " |  ----------------------------------------------------------------------\n",
      " |  Data and other attributes defined here:\n",
      " |  \n",
      " |  __abstractmethods__ = frozenset()\n",
      " |  \n",
      " |  ----------------------------------------------------------------------\n",
      " |  Methods inherited from sklearn.svm._base.BaseSVC:\n",
      " |  \n",
      " |  decision_function(self, X)\n",
      " |      Evaluate the decision function for the samples in X.\n",
      " |      \n",
      " |      Parameters\n",
      " |      ----------\n",
      " |      X : array-like of shape (n_samples, n_features)\n",
      " |          The input samples.\n",
      " |      \n",
      " |      Returns\n",
      " |      -------\n",
      " |      X : ndarray of shape (n_samples, n_classes * (n_classes-1) / 2)\n",
      " |          Returns the decision function of the sample for each class\n",
      " |          in the model.\n",
      " |          If decision_function_shape='ovr', the shape is (n_samples,\n",
      " |          n_classes).\n",
      " |      \n",
      " |      Notes\n",
      " |      -----\n",
      " |      If decision_function_shape='ovo', the function values are proportional\n",
      " |      to the distance of the samples X to the separating hyperplane. If the\n",
      " |      exact distances are required, divide the function values by the norm of\n",
      " |      the weight vector (``coef_``). See also `this question\n",
      " |      <https://stats.stackexchange.com/questions/14876/\n",
      " |      interpreting-distance-from-hyperplane-in-svm>`_ for further details.\n",
      " |      If decision_function_shape='ovr', the decision function is a monotonic\n",
      " |      transformation of ovo decision function.\n",
      " |  \n",
      " |  predict(self, X)\n",
      " |      Perform classification on samples in X.\n",
      " |      \n",
      " |      For an one-class model, +1 or -1 is returned.\n",
      " |      \n",
      " |      Parameters\n",
      " |      ----------\n",
      " |      X : {array-like, sparse matrix} of shape (n_samples, n_features) or                 (n_samples_test, n_samples_train)\n",
      " |          For kernel=\"precomputed\", the expected shape of X is\n",
      " |          (n_samples_test, n_samples_train).\n",
      " |      \n",
      " |      Returns\n",
      " |      -------\n",
      " |      y_pred : ndarray of shape (n_samples,)\n",
      " |          Class labels for samples in X.\n",
      " |  \n",
      " |  predict_log_proba(self, X)\n",
      " |      Compute log probabilities of possible outcomes for samples in X.\n",
      " |      \n",
      " |      The model need to have probability information computed at training\n",
      " |      time: fit with attribute `probability` set to True.\n",
      " |      \n",
      " |      Parameters\n",
      " |      ----------\n",
      " |      X : array-like of shape (n_samples, n_features) or                 (n_samples_test, n_samples_train)\n",
      " |          For kernel=\"precomputed\", the expected shape of X is\n",
      " |          (n_samples_test, n_samples_train).\n",
      " |      \n",
      " |      Returns\n",
      " |      -------\n",
      " |      T : ndarray of shape (n_samples, n_classes)\n",
      " |          Returns the log-probabilities of the sample for each class in\n",
      " |          the model. The columns correspond to the classes in sorted\n",
      " |          order, as they appear in the attribute :term:`classes_`.\n",
      " |      \n",
      " |      Notes\n",
      " |      -----\n",
      " |      The probability model is created using cross validation, so\n",
      " |      the results can be slightly different than those obtained by\n",
      " |      predict. Also, it will produce meaningless results on very small\n",
      " |      datasets.\n",
      " |  \n",
      " |  predict_proba(self, X)\n",
      " |      Compute probabilities of possible outcomes for samples in X.\n",
      " |      \n",
      " |      The model need to have probability information computed at training\n",
      " |      time: fit with attribute `probability` set to True.\n",
      " |      \n",
      " |      Parameters\n",
      " |      ----------\n",
      " |      X : array-like of shape (n_samples, n_features)\n",
      " |          For kernel=\"precomputed\", the expected shape of X is\n",
      " |          (n_samples_test, n_samples_train).\n",
      " |      \n",
      " |      Returns\n",
      " |      -------\n",
      " |      T : ndarray of shape (n_samples, n_classes)\n",
      " |          Returns the probability of the sample for each class in\n",
      " |          the model. The columns correspond to the classes in sorted\n",
      " |          order, as they appear in the attribute :term:`classes_`.\n",
      " |      \n",
      " |      Notes\n",
      " |      -----\n",
      " |      The probability model is created using cross validation, so\n",
      " |      the results can be slightly different than those obtained by\n",
      " |      predict. Also, it will produce meaningless results on very small\n",
      " |      datasets.\n",
      " |  \n",
      " |  ----------------------------------------------------------------------\n",
      " |  Readonly properties inherited from sklearn.svm._base.BaseSVC:\n",
      " |  \n",
      " |  probA_\n",
      " |      Parameter learned in Platt scaling when `probability=True`.\n",
      " |      \n",
      " |      Returns\n",
      " |      -------\n",
      " |      ndarray of shape  (n_classes * (n_classes - 1) / 2)\n",
      " |  \n",
      " |  probB_\n",
      " |      Parameter learned in Platt scaling when `probability=True`.\n",
      " |      \n",
      " |      Returns\n",
      " |      -------\n",
      " |      ndarray of shape  (n_classes * (n_classes - 1) / 2)\n",
      " |  \n",
      " |  ----------------------------------------------------------------------\n",
      " |  Methods inherited from sklearn.base.ClassifierMixin:\n",
      " |  \n",
      " |  score(self, X, y, sample_weight=None)\n",
      " |      Return the mean accuracy on the given test data and labels.\n",
      " |      \n",
      " |      In multi-label classification, this is the subset accuracy\n",
      " |      which is a harsh metric since you require for each sample that\n",
      " |      each label set be correctly predicted.\n",
      " |      \n",
      " |      Parameters\n",
      " |      ----------\n",
      " |      X : array-like of shape (n_samples, n_features)\n",
      " |          Test samples.\n",
      " |      \n",
      " |      y : array-like of shape (n_samples,) or (n_samples, n_outputs)\n",
      " |          True labels for `X`.\n",
      " |      \n",
      " |      sample_weight : array-like of shape (n_samples,), default=None\n",
      " |          Sample weights.\n",
      " |      \n",
      " |      Returns\n",
      " |      -------\n",
      " |      score : float\n",
      " |          Mean accuracy of ``self.predict(X)`` wrt. `y`.\n",
      " |  \n",
      " |  ----------------------------------------------------------------------\n",
      " |  Data descriptors inherited from sklearn.base.ClassifierMixin:\n",
      " |  \n",
      " |  __dict__\n",
      " |      dictionary for instance variables (if defined)\n",
      " |  \n",
      " |  __weakref__\n",
      " |      list of weak references to the object (if defined)\n",
      " |  \n",
      " |  ----------------------------------------------------------------------\n",
      " |  Methods inherited from sklearn.svm._base.BaseLibSVM:\n",
      " |  \n",
      " |  fit(self, X, y, sample_weight=None)\n",
      " |      Fit the SVM model according to the given training data.\n",
      " |      \n",
      " |      Parameters\n",
      " |      ----------\n",
      " |      X : {array-like, sparse matrix} of shape (n_samples, n_features)                 or (n_samples, n_samples)\n",
      " |          Training vectors, where `n_samples` is the number of samples\n",
      " |          and `n_features` is the number of features.\n",
      " |          For kernel=\"precomputed\", the expected shape of X is\n",
      " |          (n_samples, n_samples).\n",
      " |      \n",
      " |      y : array-like of shape (n_samples,)\n",
      " |          Target values (class labels in classification, real numbers in\n",
      " |          regression).\n",
      " |      \n",
      " |      sample_weight : array-like of shape (n_samples,), default=None\n",
      " |          Per-sample weights. Rescale C per sample. Higher weights\n",
      " |          force the classifier to put more emphasis on these points.\n",
      " |      \n",
      " |      Returns\n",
      " |      -------\n",
      " |      self : object\n",
      " |          Fitted estimator.\n",
      " |      \n",
      " |      Notes\n",
      " |      -----\n",
      " |      If X and y are not C-ordered and contiguous arrays of np.float64 and\n",
      " |      X is not a scipy.sparse.csr_matrix, X and/or y may be copied.\n",
      " |      \n",
      " |      If X is a dense array, then the other methods will not support sparse\n",
      " |      matrices as input.\n",
      " |  \n",
      " |  ----------------------------------------------------------------------\n",
      " |  Readonly properties inherited from sklearn.svm._base.BaseLibSVM:\n",
      " |  \n",
      " |  coef_\n",
      " |      Weights assigned to the features when `kernel=\"linear\"`.\n",
      " |      \n",
      " |      Returns\n",
      " |      -------\n",
      " |      ndarray of shape (n_features, n_classes)\n",
      " |  \n",
      " |  n_support_\n",
      " |      Number of support vectors for each class.\n",
      " |  \n",
      " |  ----------------------------------------------------------------------\n",
      " |  Methods inherited from sklearn.base.BaseEstimator:\n",
      " |  \n",
      " |  __getstate__(self)\n",
      " |  \n",
      " |  __repr__(self, N_CHAR_MAX=700)\n",
      " |      Return repr(self).\n",
      " |  \n",
      " |  __setstate__(self, state)\n",
      " |  \n",
      " |  get_params(self, deep=True)\n",
      " |      Get parameters for this estimator.\n",
      " |      \n",
      " |      Parameters\n",
      " |      ----------\n",
      " |      deep : bool, default=True\n",
      " |          If True, will return the parameters for this estimator and\n",
      " |          contained subobjects that are estimators.\n",
      " |      \n",
      " |      Returns\n",
      " |      -------\n",
      " |      params : dict\n",
      " |          Parameter names mapped to their values.\n",
      " |  \n",
      " |  set_params(self, **params)\n",
      " |      Set the parameters of this estimator.\n",
      " |      \n",
      " |      The method works on simple estimators as well as on nested objects\n",
      " |      (such as :class:`~sklearn.pipeline.Pipeline`). The latter have\n",
      " |      parameters of the form ``<component>__<parameter>`` so that it's\n",
      " |      possible to update each component of a nested object.\n",
      " |      \n",
      " |      Parameters\n",
      " |      ----------\n",
      " |      **params : dict\n",
      " |          Estimator parameters.\n",
      " |      \n",
      " |      Returns\n",
      " |      -------\n",
      " |      self : estimator instance\n",
      " |          Estimator instance.\n",
      "\n"
     ]
    }
   ],
   "source": [
    "help(svm.SVC)"
   ]
  },
  {
   "cell_type": "code",
   "execution_count": 15,
   "id": "61c813e3",
   "metadata": {},
   "outputs": [],
   "source": [
    "#Import svm model\n",
    "from sklearn import svm\n",
    "\n",
    "#Create a svm Classifier\n",
    "clf = svm.SVC(kernel='rbf') # Radial Kernel\n",
    "\n",
    "#Train the model using the training sets\n",
    "clf.fit(X_train, y_train)\n",
    "\n",
    "#Predict the response for test dataset\n",
    "y_pred = clf.predict(X_test)"
   ]
  },
  {
   "cell_type": "code",
   "execution_count": 16,
   "id": "c50e43f2",
   "metadata": {},
   "outputs": [
    {
     "name": "stdout",
     "output_type": "stream",
     "text": [
      "Accuracy: 0.8968895420034289\n"
     ]
    }
   ],
   "source": [
    "#Import scikit-learn metrics module for accuracy calculation\n",
    "from sklearn import metrics\n",
    "\n",
    "# Model Accuracy: how often is the classifier correct?\n",
    "print(\"Accuracy:\",metrics.accuracy_score(y_test, y_pred))\n"
   ]
  },
  {
   "cell_type": "code",
   "execution_count": 738,
   "id": "0e531a84",
   "metadata": {},
   "outputs": [
    {
     "data": {
      "text/plain": [
       "['/research/labs/immunology/goronzy_weyand/GoronzyLab_Mayo/Abhinav/scCITESeq/Ines/Run02_and_Run03_analysis/downstream_analysis/Integrated_Run/celltype_annotation/CD4_SVM_rbf_Run02_03_classifier.joblib']"
      ]
     },
     "execution_count": 738,
     "metadata": {},
     "output_type": "execute_result"
    }
   ],
   "source": [
    "## Saving the model\n",
    "import joblib\n",
    "joblib.dump(clf,\"/research/labs/immunology/goronzy_weyand/GoronzyLab_Mayo/Abhinav/scCITESeq/Ines/Run02_and_Run03_analysis/downstream_analysis/Integrated_Run/celltype_annotation/CD4_SVM_rbf_Run02_03_classifier.joblib\")\n"
   ]
  },
  {
   "cell_type": "markdown",
   "id": "012db544",
   "metadata": {},
   "source": [
    "### Performing the testing on the Rerun01\n",
    "Here also we will use the scale data from the rerun as with the same 2000 features as we have in the training model. We will get that from the Seurat normalization and scaling."
   ]
  },
  {
   "cell_type": "code",
   "execution_count": null,
   "id": "5b856036",
   "metadata": {},
   "outputs": [],
   "source": [
    "# Loading the model\n",
    "import joblib\n",
    "joblib.load(\"/research/labs/immunology/goronzy_weyand/GoronzyLab_Mayo/Abhinav/scCITESeq/Ines/Run02_and_Run03_analysis/downstream_analysis/Integrated_Run/celltype_annotation/CD4_SVM_rbf_Run02_03_classifier.joblib\")"
   ]
  },
  {
   "cell_type": "code",
   "execution_count": null,
   "id": "7540eead",
   "metadata": {},
   "outputs": [],
   "source": [
    "import pandas as pd\n",
    "CD4_rerun01_scaled = pd.read_csv(\"/research/labs/immunology/goronzy_weyand/GoronzyLab_Mayo/Abhinav/scCITESeq/Ines/Run02_and_Run03_analysis/downstream_analysis/Integrated_Run/celltype_annotation/CD4_rerun01_scale_data.csv\", \n",
    "                         index_col=[0])"
   ]
  },
  {
   "cell_type": "code",
   "execution_count": 760,
   "id": "71cba966",
   "metadata": {},
   "outputs": [],
   "source": [
    "X_test_2 = CD4_rerun01_scaled.values"
   ]
  },
  {
   "cell_type": "code",
   "execution_count": 762,
   "id": "8ae215fe",
   "metadata": {},
   "outputs": [],
   "source": [
    "y_pred_2 = clf.predict(X_test_2)"
   ]
  },
  {
   "cell_type": "code",
   "execution_count": 32,
   "id": "fc7569f1",
   "metadata": {
    "collapsed": true
   },
   "outputs": [
    {
     "ename": "NameError",
     "evalue": "name 'y_pred_2' is not defined",
     "output_type": "error",
     "traceback": [
      "\u001b[0;31m---------------------------------------------------------------------------\u001b[0m",
      "\u001b[0;31mNameError\u001b[0m                                 Traceback (most recent call last)",
      "Input \u001b[0;32mIn [32]\u001b[0m, in \u001b[0;36m<cell line: 1>\u001b[0;34m()\u001b[0m\n\u001b[0;32m----> 1\u001b[0m np\u001b[38;5;241m.\u001b[39munique(\u001b[43my_pred_2\u001b[49m, return_counts\u001b[38;5;241m=\u001b[39m\u001b[38;5;28;01mTrue\u001b[39;00m)\n",
      "\u001b[0;31mNameError\u001b[0m: name 'y_pred_2' is not defined"
     ]
    }
   ],
   "source": [
    "np.unique(y_pred_2, return_counts=True)"
   ]
  },
  {
   "cell_type": "code",
   "execution_count": 18,
   "id": "d0cbeaf2",
   "metadata": {},
   "outputs": [],
   "source": [
    "import pandas as pd\n",
    "CD4_rerun01_scaled_match = pd.read_csv(\"/research/labs/immunology/goronzy_weyand/GoronzyLab_Mayo/Abhinav/scCITESeq/Ines/Run02_and_Run03_analysis/downstream_analysis/Integrated_Run/celltype_annotation/rerun01_req_feature_normdata_2_ordered_scaled.csv\",\n",
    "                         index_col=[0])"
   ]
  },
  {
   "cell_type": "code",
   "execution_count": 19,
   "id": "722a4750",
   "metadata": {},
   "outputs": [],
   "source": [
    "X_test_3 = CD4_rerun01_scaled_match.values"
   ]
  },
  {
   "cell_type": "code",
   "execution_count": 25,
   "id": "916194c1",
   "metadata": {},
   "outputs": [
    {
     "data": {
      "text/plain": [
       "(3585, 2000)"
      ]
     },
     "execution_count": 25,
     "metadata": {},
     "output_type": "execute_result"
    }
   ],
   "source": [
    "X_test_3[:,:2000].shape"
   ]
  },
  {
   "cell_type": "code",
   "execution_count": 27,
   "id": "dc1c4a1a",
   "metadata": {},
   "outputs": [],
   "source": [
    "y_pred_3 = clf.predict(X_test_3[:,:2000])"
   ]
  },
  {
   "cell_type": "code",
   "execution_count": 29,
   "id": "a7e57605",
   "metadata": {},
   "outputs": [
    {
     "data": {
      "text/plain": [
       "(array([0, 1, 2]), array([3566,   18,    1]))"
      ]
     },
     "execution_count": 29,
     "metadata": {},
     "output_type": "execute_result"
    }
   ],
   "source": [
    "import numpy as np\n",
    "np.unique(y_pred_3, return_counts=True)"
   ]
  },
  {
   "cell_type": "markdown",
   "id": "989185c3",
   "metadata": {},
   "source": [
    "### Trying with the Logistic Regression\n",
    "We have used the SVM, now we are trying with the LR. Using the selected features from the seurat normalization. \n",
    "Logistic Regression is comparitively slower than that of SVM. Also it requires lot of iteration for training."
   ]
  },
  {
   "cell_type": "code",
   "execution_count": 36,
   "id": "4c9cded5",
   "metadata": {},
   "outputs": [],
   "source": [
    "from sklearn.model_selection import RepeatedKFold,cross_val_score\n",
    "from sklearn.linear_model import LogisticRegression\n",
    "cv = RepeatedKFold(n_splits=10, n_repeats=3, random_state=1)\n",
    "model = LogisticRegression(max_iter=10000)\n",
    "# evaluate model\n",
    "scores = cross_val_score(model, X, y, scoring='accuracy', cv=cv, n_jobs=-1)"
   ]
  },
  {
   "cell_type": "code",
   "execution_count": 38,
   "id": "fd3751c6",
   "metadata": {},
   "outputs": [
    {
     "name": "stdout",
     "output_type": "stream",
     "text": [
      "Accuracy: 0.835 (0.010)\n"
     ]
    }
   ],
   "source": [
    "import numpy as np\n",
    "from statistics import mean\n",
    "# report performance\n",
    "print('Accuracy: %.3f (%.3f)' % (mean(scores), np.std(scores)))"
   ]
  },
  {
   "cell_type": "code",
   "execution_count": null,
   "id": "d9d0f1eb",
   "metadata": {},
   "outputs": [],
   "source": [
    "model.fit(X_train,y_train)"
   ]
  },
  {
   "cell_type": "code",
   "execution_count": null,
   "id": "6647abd9",
   "metadata": {},
   "outputs": [],
   "source": [
    "model.score(X_test, y_test)"
   ]
  },
  {
   "cell_type": "code",
   "execution_count": 746,
   "id": "8181db36",
   "metadata": {},
   "outputs": [
    {
     "data": {
      "text/plain": [
       "['/research/labs/immunology/goronzy_weyand/GoronzyLab_Mayo/Abhinav/scCITESeq/Ines/Run02_and_Run03_analysis/downstream_analysis/Integrated_Run/celltype_annotation/CD4_LR_Run02_03_classifier.joblib']"
      ]
     },
     "execution_count": 746,
     "metadata": {},
     "output_type": "execute_result"
    }
   ],
   "source": [
    "## Saving the model\n",
    "import joblib\n",
    "joblib.dump(model,\"/research/labs/immunology/goronzy_weyand/GoronzyLab_Mayo/Abhinav/scCITESeq/Ines/Run02_and_Run03_analysis/downstream_analysis/Integrated_Run/celltype_annotation/CD4_LR_Run02_03_classifier.joblib\")\n"
   ]
  },
  {
   "cell_type": "code",
   "execution_count": 755,
   "id": "0af4440a",
   "metadata": {},
   "outputs": [],
   "source": [
    "## To load the trained model\n",
    "model = joblib.load('/research/labs/immunology/goronzy_weyand/GoronzyLab_Mayo/Abhinav/scCITESeq/Ines/Run02_and_Run03_analysis/downstream_analysis/Integrated_Run/celltype_annotation/CD4_LR_Run02_03_classifier.joblib')\n"
   ]
  },
  {
   "cell_type": "code",
   "execution_count": 777,
   "id": "40b6becc",
   "metadata": {},
   "outputs": [],
   "source": [
    "y_pred_2 = model.predict(X_test_2)"
   ]
  },
  {
   "cell_type": "code",
   "execution_count": 781,
   "id": "7e98a0ad",
   "metadata": {},
   "outputs": [
    {
     "data": {
      "text/plain": [
       "(array([0, 1, 2, 3]), array([2478,  952,  150,    5]))"
      ]
     },
     "execution_count": 781,
     "metadata": {},
     "output_type": "execute_result"
    }
   ],
   "source": [
    "np.unique(y_pred_2, return_counts=True)"
   ]
  },
  {
   "cell_type": "code",
   "execution_count": 788,
   "id": "0bada923",
   "metadata": {},
   "outputs": [],
   "source": [
    "y_pred_2_df = pd.DataFrame(y_pred_2.tolist())"
   ]
  },
  {
   "cell_type": "code",
   "execution_count": 803,
   "id": "c553ddb7",
   "metadata": {},
   "outputs": [],
   "source": [
    "y_pred_2_df_cell_annotation = pd.DataFrame(y_pred_2_df.iloc[:,-1].map({0:\"EM_CM\",1:\"Tregs\",2:\"Naive_stem_cell_like\",3:\"CD4_TEMRA\"}))\n"
   ]
  },
  {
   "cell_type": "code",
   "execution_count": 806,
   "id": "f3740950",
   "metadata": {},
   "outputs": [],
   "source": [
    "y_pred_2_df_cell_annotation.to_csv('/research/labs/immunology/goronzy_weyand/GoronzyLab_Mayo/Abhinav/scCITESeq/Ines/Run02_and_Run03_analysis/downstream_analysis/Integrated_Run/celltype_annotation/celltype_annotation.csv',\n",
    "                                  header=False,index=False)\n"
   ]
  },
  {
   "cell_type": "markdown",
   "id": "de87f309",
   "metadata": {},
   "source": [
    "## Merged Rerun01 and Run02 and Run03\n",
    "This might bring at the same space and we donot have to do the Harmony"
   ]
  },
  {
   "cell_type": "code",
   "execution_count": 40,
   "id": "053f85be",
   "metadata": {},
   "outputs": [],
   "source": [
    "# We get both the dataset from the Seurat. In Seurat we have done the Normalization, FindVariableFeature, scaling, RunPCA, and RunUMAP\n",
    "# It provided us the 2000 variable features that we use for the training, validating, and testing our model.\n",
    "\n",
    "import pandas as pd\n",
    "Run123_scaled = pd.read_csv(\"/research/labs/immunology/goronzy_weyand/GoronzyLab_Mayo/Abhinav/scCITESeq/Ines/Run02_and_Run03_analysis/downstream_analysis/Integrated_Run/celltype_annotation/Run1_2_3_scale_data.csv\", \n",
    "                         index_col=[0])\n",
    "Run123_celltypes = pd.read_csv(\"/research/labs/immunology/goronzy_weyand/GoronzyLab_Mayo/Abhinav/scCITESeq/Ines/Run02_and_Run03_analysis/downstream_analysis/Integrated_Run/celltype_annotation/Run1_2_3_celltypes.csv\")\n"
   ]
  },
  {
   "cell_type": "code",
   "execution_count": 41,
   "id": "8aa60201",
   "metadata": {},
   "outputs": [
    {
     "data": {
      "text/plain": [
       "EM_CM                   13987\n",
       "Tregs                    5771\n",
       "Naive_stem_cell_like     2342\n",
       "CD4_TEMRA                1897\n",
       "Name: x, dtype: int64"
      ]
     },
     "execution_count": 41,
     "metadata": {},
     "output_type": "execute_result"
    }
   ],
   "source": [
    "Run123_celltypes.iloc[:,-1].value_counts()"
   ]
  },
  {
   "cell_type": "code",
   "execution_count": 70,
   "id": "3d7832c5",
   "metadata": {},
   "outputs": [
    {
     "data": {
      "text/plain": [
       "0    13987\n",
       "1     5771\n",
       "2     2342\n",
       "3     1897\n",
       "Name: x, dtype: int64"
      ]
     },
     "execution_count": 70,
     "metadata": {},
     "output_type": "execute_result"
    }
   ],
   "source": [
    "Run123_celltypes_float = Run123_celltypes.iloc[:,-1].map({\"EM_CM\":0,\"Tregs\":1,\"Naive_stem_cell_like\":2,\"CD4_TEMRA\":3})\n",
    "Run123_celltypes_float.value_counts()\n"
   ]
  },
  {
   "cell_type": "code",
   "execution_count": 57,
   "id": "8b3d7f45",
   "metadata": {},
   "outputs": [],
   "source": [
    "index_list = Run123_scaled.index.tolist()"
   ]
  },
  {
   "cell_type": "code",
   "execution_count": 66,
   "id": "ce1fd823",
   "metadata": {},
   "outputs": [],
   "source": [
    "Run01_count = len([s for s in index_list if \"Run01\" in s])"
   ]
  },
  {
   "cell_type": "code",
   "execution_count": 71,
   "id": "8ff251a5",
   "metadata": {},
   "outputs": [
    {
     "name": "stdout",
     "output_type": "stream",
     "text": [
      "(23997, 2000) (23997,)\n"
     ]
    }
   ],
   "source": [
    "print(Run123_scaled.shape,Run123_celltypes_float.shape)"
   ]
  },
  {
   "cell_type": "code",
   "execution_count": 76,
   "id": "c4ef047f",
   "metadata": {},
   "outputs": [],
   "source": [
    "X = Run123_scaled.values\n",
    "y = Run123_celltypes_float.values"
   ]
  },
  {
   "cell_type": "code",
   "execution_count": 84,
   "id": "e95a9678",
   "metadata": {},
   "outputs": [
    {
     "name": "stdout",
     "output_type": "stream",
     "text": [
      "(23997, 2000) (23997,)\n"
     ]
    }
   ],
   "source": [
    "print(X.shape,y.shape)"
   ]
  },
  {
   "cell_type": "markdown",
   "id": "5ad95a3b",
   "metadata": {},
   "source": [
    "Import train_test_split function\n",
    "from sklearn.model_selection import train_test_split\n",
    "\n",
    "Split dataset into training set and test set\n",
    "X_train, X_test, y_train, y_test = train_test_split(X, y,test_size=0.2, random_state=42) \n",
    "\n",
    "Since we already know the put together the data, our new data is in this one only so we will train it again and implement it so we make the X_train, X_test, y_train, and y_test."
   ]
  },
  {
   "cell_type": "code",
   "execution_count": 88,
   "id": "ab5dc38a",
   "metadata": {},
   "outputs": [],
   "source": [
    "X_test = X[:Run01_count,:]\n",
    "X_train = X[Run01_count:,:]\n",
    "y_test = y[:Run01_count]\n",
    "y_train = y[Run01_count:]"
   ]
  },
  {
   "cell_type": "code",
   "execution_count": 89,
   "id": "e0560759",
   "metadata": {},
   "outputs": [
    {
     "name": "stdout",
     "output_type": "stream",
     "text": [
      "(20412, 2000) (3585, 2000) (20412,) (3585,)\n"
     ]
    }
   ],
   "source": [
    "print(X_train.shape, X_test.shape, y_train.shape, y_test.shape)"
   ]
  },
  {
   "cell_type": "code",
   "execution_count": 92,
   "id": "3ffbf879",
   "metadata": {},
   "outputs": [],
   "source": [
    "#Import svm model\n",
    "from sklearn import svm\n",
    "\n",
    "#Create a svm Classifier\n",
    "clf = svm.SVC(kernel='rbf') # Radial Kernel\n",
    "\n",
    "#Train the model using the training sets\n",
    "clf.fit(X_train, y_train)\n",
    "\n",
    "#Predict the response for test dataset\n",
    "y_pred = clf.predict(X_test)"
   ]
  },
  {
   "cell_type": "code",
   "execution_count": 100,
   "id": "91b0a189",
   "metadata": {
    "collapsed": true
   },
   "outputs": [
    {
     "ename": "AttributeError",
     "evalue": "'list' object has no attribute 'counts'",
     "output_type": "error",
     "traceback": [
      "\u001b[0;31m---------------------------------------------------------------------------\u001b[0m",
      "\u001b[0;31mAttributeError\u001b[0m                            Traceback (most recent call last)",
      "Input \u001b[0;32mIn [100]\u001b[0m, in \u001b[0;36m<cell line: 1>\u001b[0;34m()\u001b[0m\n\u001b[0;32m----> 1\u001b[0m \u001b[43my_pred\u001b[49m\u001b[38;5;241;43m.\u001b[39;49m\u001b[43mtolist\u001b[49m\u001b[43m(\u001b[49m\u001b[43m)\u001b[49m\u001b[38;5;241;43m.\u001b[39;49m\u001b[43mcounts\u001b[49m()\n",
      "\u001b[0;31mAttributeError\u001b[0m: 'list' object has no attribute 'counts'"
     ]
    }
   ],
   "source": [
    "y_pred.tolist()"
   ]
  },
  {
   "cell_type": "code",
   "execution_count": 93,
   "id": "5d69369c",
   "metadata": {},
   "outputs": [
    {
     "name": "stdout",
     "output_type": "stream",
     "text": [
      "Accuracy: 0.8518828451882845\n"
     ]
    }
   ],
   "source": [
    "#Import scikit-learn metrics module for accuracy calculation\n",
    "from sklearn import metrics\n",
    "\n",
    "# Model Accuracy: how often is the classifier correct?\n",
    "print(\"Accuracy:\",metrics.accuracy_score(y_test, y_pred))\n"
   ]
  },
  {
   "cell_type": "code",
   "execution_count": null,
   "id": "cba10562",
   "metadata": {},
   "outputs": [],
   "source": [
    "## Saving the model\n",
    "import joblib\n",
    "joblib.dump(clf,\"/research/labs/immunology/goronzy_weyand/GoronzyLab_Mayo/Abhinav/scCITESeq/Ines/Run02_and_Run03_analysis/downstream_analysis/Integrated_Run/celltype_annotation/CD4_SVM_rbf_Run02_03_classifier.joblib\")\n"
   ]
  },
  {
   "cell_type": "markdown",
   "id": "f386e26e",
   "metadata": {},
   "source": [
    "### Getting the features from the Seurat and transforming and scaling it here so that both of them are on same scale\n",
    "Here we have used the raw count dataset and scaling using the StandardScaler using sklearn"
   ]
  },
  {
   "cell_type": "code",
   "execution_count": 2,
   "id": "00fb642f",
   "metadata": {},
   "outputs": [],
   "source": [
    "# We get both the dataset from the Seurat. In Seurat we have done the Normalization, FindVariableFeature, scaling, RunPCA, and RunUMAP\n",
    "# It provided us the 2000 variable features that we use for the training, validating, and testing our model.\n",
    "\n",
    "import pandas as pd\n",
    "X_train = pd.read_csv(\"/research/labs/immunology/goronzy_weyand/GoronzyLab_Mayo/Abhinav/scCITESeq/Ines/Run02_and_Run03_analysis/downstream_analysis/Integrated_Run/celltype_annotation/CD4_req_counts.csv\", \n",
    "                         index_col=[0])\n",
    "y_train = pd.read_csv(\"/research/labs/immunology/goronzy_weyand/GoronzyLab_Mayo/Abhinav/scCITESeq/Ines/Run02_and_Run03_analysis/downstream_analysis/Integrated_Run/celltype_annotation/CD4_req_celltypes.csv\")\n"
   ]
  },
  {
   "cell_type": "code",
   "execution_count": 3,
   "id": "9054c427",
   "metadata": {},
   "outputs": [],
   "source": [
    "X_test = pd.read_csv(\"/research/labs/immunology/goronzy_weyand/GoronzyLab_Mayo/Abhinav/scCITESeq/Ines/Run02_and_Run03_analysis/downstream_analysis/Integrated_Run/celltype_annotation/rerun01_req_counts.csv\", \n",
    "                         index_col=[0])\n",
    "y_test = pd.read_csv(\"/research/labs/immunology/goronzy_weyand/GoronzyLab_Mayo/Abhinav/scCITESeq/Ines/Run02_and_Run03_analysis/downstream_analysis/Integrated_Run/celltype_annotation/rerun_celltypes.csv\")\n",
    "\n"
   ]
  },
  {
   "cell_type": "code",
   "execution_count": 4,
   "id": "a1641b3e",
   "metadata": {},
   "outputs": [
    {
     "data": {
      "text/plain": [
       "EM_CM                   12159\n",
       "Tregs                    5355\n",
       "Naive_stem_cell_like     1708\n",
       "CD4_TEMRA                1190\n",
       "Name: x, dtype: int64"
      ]
     },
     "execution_count": 4,
     "metadata": {},
     "output_type": "execute_result"
    }
   ],
   "source": [
    "y_train.iloc[:,-1].value_counts()"
   ]
  },
  {
   "cell_type": "code",
   "execution_count": 5,
   "id": "8b23c2ed",
   "metadata": {},
   "outputs": [
    {
     "data": {
      "text/plain": [
       "0    12159\n",
       "1     5355\n",
       "2     1708\n",
       "3     1190\n",
       "Name: x, dtype: int64"
      ]
     },
     "execution_count": 5,
     "metadata": {},
     "output_type": "execute_result"
    }
   ],
   "source": [
    "y_train_float = y_train.iloc[:,-1].map({\"EM_CM\":0,\"Tregs\":1,\"Naive_stem_cell_like\":2,\"CD4_TEMRA\":3})\n",
    "y_train_float.value_counts()\n"
   ]
  },
  {
   "cell_type": "code",
   "execution_count": 6,
   "id": "0b3afa19",
   "metadata": {},
   "outputs": [
    {
     "data": {
      "text/plain": [
       "EM_CM                   1828\n",
       "CD4_TEMRA                707\n",
       "Naive_stem_cell_like     634\n",
       "Tregs                    416\n",
       "Name: x, dtype: int64"
      ]
     },
     "execution_count": 6,
     "metadata": {},
     "output_type": "execute_result"
    }
   ],
   "source": [
    "y_test.iloc[:,-1].value_counts()"
   ]
  },
  {
   "cell_type": "code",
   "execution_count": 7,
   "id": "6fa66d62",
   "metadata": {},
   "outputs": [
    {
     "data": {
      "text/plain": [
       "0    1828\n",
       "3     707\n",
       "2     634\n",
       "1     416\n",
       "Name: x, dtype: int64"
      ]
     },
     "execution_count": 7,
     "metadata": {},
     "output_type": "execute_result"
    }
   ],
   "source": [
    "y_test_float = y_test.iloc[:,-1].map({\"EM_CM\":0,\"Tregs\":1,\"Naive_stem_cell_like\":2,\"CD4_TEMRA\":3})\n",
    "y_test_float.value_counts()\n"
   ]
  },
  {
   "cell_type": "code",
   "execution_count": 8,
   "id": "58a2d15f",
   "metadata": {},
   "outputs": [],
   "source": [
    "from sklearn.preprocessing import StandardScaler\n",
    "scaler = StandardScaler()\n",
    "X_train_scaled = scaler.fit_transform(X_train)\n",
    "X_test_scaled = scaler.transform(X_test)"
   ]
  },
  {
   "cell_type": "code",
   "execution_count": 9,
   "id": "9df322a3",
   "metadata": {
    "collapsed": true
   },
   "outputs": [
    {
     "name": "stdout",
     "output_type": "stream",
     "text": [
      "[[-0.0571092  -0.51594669 -0.46648965 ... -0.01747408 -0.01322867\n",
      "  -0.00939102]\n",
      " [-0.0571092   0.45568389 -0.46648965 ... -0.01747408 -0.01322867\n",
      "  -0.00939102]\n",
      " [-0.0571092   0.45568389 -0.46648965 ... -0.01747408 -0.01322867\n",
      "  -0.00939102]\n",
      " ...\n",
      " [-0.0571092   0.45568389 -0.46648965 ... -0.01747408 -0.01322867\n",
      "  -0.00939102]\n",
      " [-0.0571092  -0.51594669 -0.11680229 ... -0.01747408 -0.01322867\n",
      "  -0.00939102]\n",
      " [-0.0571092  -0.51594669 -0.46648965 ... -0.01747408 -0.01322867\n",
      "  -0.00939102]] [[-0.0571092  -0.51594669 -0.46648965 ... -0.01747408 -0.01322867\n",
      "  -0.00939102]\n",
      " [-0.0571092  -0.51594669 -0.46648965 ... -0.01747408 -0.01322867\n",
      "  -0.00939102]\n",
      " [-0.0571092  -0.51594669  0.23288506 ... -0.01747408 -0.01322867\n",
      "  -0.00939102]\n",
      " ...\n",
      " [-0.0571092   9.20035914 -0.46648965 ... -0.01747408 -0.01322867\n",
      "  -0.00939102]\n",
      " [-0.0571092   1.42731447 -0.46648965 ... -0.01747408 -0.01322867\n",
      "  -0.00939102]\n",
      " [-0.0571092   2.39894506 -0.46648965 ... -0.01747408 -0.01322867\n",
      "  -0.00939102]]\n"
     ]
    }
   ],
   "source": [
    "print(X_train_scaled,X_test_scaled)"
   ]
  },
  {
   "cell_type": "code",
   "execution_count": 10,
   "id": "15b33d0a",
   "metadata": {},
   "outputs": [
    {
     "name": "stdout",
     "output_type": "stream",
     "text": [
      "(20412, 2202) (3585, 2202) (20412, 1) (3585, 1)\n"
     ]
    }
   ],
   "source": [
    "print(X_train_scaled.shape, X_test_scaled.shape, y_train.shape, y_test.shape)"
   ]
  },
  {
   "cell_type": "code",
   "execution_count": 11,
   "id": "0a07a507",
   "metadata": {},
   "outputs": [],
   "source": [
    "#Import svm model\n",
    "from sklearn import svm\n",
    "\n",
    "#Create a svm Classifier\n",
    "clf = svm.SVC(kernel='rbf') # Radial Kernel\n",
    "\n",
    "#Train the model using the training sets\n",
    "clf.fit(X_train_scaled, y_train_float)\n",
    "\n",
    "#Predict the response for test dataset\n",
    "y_pred = clf.predict(X_test_scaled)"
   ]
  },
  {
   "cell_type": "code",
   "execution_count": 12,
   "id": "988bf1ef",
   "metadata": {},
   "outputs": [
    {
     "name": "stdout",
     "output_type": "stream",
     "text": [
      "Accuracy: 0.7640167364016737\n"
     ]
    }
   ],
   "source": [
    "#Import scikit-learn metrics module for accuracy calculation\n",
    "from sklearn import metrics\n",
    "\n",
    "# Model Accuracy: how often is the classifier correct?\n",
    "print(\"Accuracy:\",metrics.accuracy_score(y_test_float, y_pred))"
   ]
  },
  {
   "cell_type": "markdown",
   "id": "043c74f0",
   "metadata": {},
   "source": [
    "## Standard Scaler for the normalized raw data\n"
   ]
  },
  {
   "cell_type": "code",
   "execution_count": 13,
   "id": "2829a29e",
   "metadata": {},
   "outputs": [],
   "source": [
    "# We get both the dataset from the Seurat. In Seurat we have done the Normalization, FindVariableFeature, scaling, RunPCA, and RunUMAP\n",
    "# It provided us the 2000 variable features that we use for the training, validating, and testing our model.\n",
    "\n",
    "import pandas as pd\n",
    "X_train = pd.read_csv(\"/research/labs/immunology/goronzy_weyand/GoronzyLab_Mayo/Abhinav/scCITESeq/Ines/Run02_and_Run03_analysis/downstream_analysis/Integrated_Run/celltype_annotation/CD4_req_data.csv\", \n",
    "                         index_col=[0])\n",
    "y_train = pd.read_csv(\"/research/labs/immunology/goronzy_weyand/GoronzyLab_Mayo/Abhinav/scCITESeq/Ines/Run02_and_Run03_analysis/downstream_analysis/Integrated_Run/celltype_annotation/CD4_req_celltypes.csv\")\n"
   ]
  },
  {
   "cell_type": "code",
   "execution_count": 14,
   "id": "56a5a883",
   "metadata": {},
   "outputs": [],
   "source": [
    "X_test = pd.read_csv(\"/research/labs/immunology/goronzy_weyand/GoronzyLab_Mayo/Abhinav/scCITESeq/Ines/Run02_and_Run03_analysis/downstream_analysis/Integrated_Run/celltype_annotation/rerun01_req_data.csv\", \n",
    "                         index_col=[0])\n",
    "y_test = pd.read_csv(\"/research/labs/immunology/goronzy_weyand/GoronzyLab_Mayo/Abhinav/scCITESeq/Ines/Run02_and_Run03_analysis/downstream_analysis/Integrated_Run/celltype_annotation/rerun_celltypes.csv\")\n",
    "\n"
   ]
  },
  {
   "cell_type": "code",
   "execution_count": 15,
   "id": "6fa7f4e0",
   "metadata": {
    "collapsed": true
   },
   "outputs": [
    {
     "data": {
      "text/plain": [
       "0    1828\n",
       "3     707\n",
       "2     634\n",
       "1     416\n",
       "Name: x, dtype: int64"
      ]
     },
     "execution_count": 15,
     "metadata": {},
     "output_type": "execute_result"
    }
   ],
   "source": [
    "y_train.iloc[:,-1].value_counts()\n",
    "\n",
    "y_train_float = y_train.iloc[:,-1].map({\"EM_CM\":0,\"Tregs\":1,\"Naive_stem_cell_like\":2,\"CD4_TEMRA\":3})\n",
    "y_train_float.value_counts()\n",
    "\n",
    "\n",
    "y_test.iloc[:,-1].value_counts()\n",
    "\n",
    "y_test_float = y_test.iloc[:,-1].map({\"EM_CM\":0,\"Tregs\":1,\"Naive_stem_cell_like\":2,\"CD4_TEMRA\":3})\n",
    "y_test_float.value_counts()\n"
   ]
  },
  {
   "cell_type": "code",
   "execution_count": 16,
   "id": "93459ba2",
   "metadata": {
    "collapsed": true
   },
   "outputs": [
    {
     "name": "stdout",
     "output_type": "stream",
     "text": [
      "[[-0.08131129 -0.63396042 -0.7550032  ... -0.01739297 -0.01343039\n",
      "  -0.00987231]\n",
      " [-0.08131129  1.13665094 -0.7550032  ... -0.01739297 -0.01343039\n",
      "  -0.00987231]\n",
      " [-0.08131129  0.72126321 -0.7550032  ... -0.01739297 -0.01343039\n",
      "  -0.00987231]\n",
      " ...\n",
      " [-0.08131129  1.08503317 -0.7550032  ... -0.01739297 -0.01343039\n",
      "  -0.00987231]\n",
      " [-0.08131129 -0.63396042  0.18704244 ... -0.01739297 -0.01343039\n",
      "  -0.00987231]\n",
      " [-0.08131129 -0.63396042 -0.7550032  ... -0.01739297 -0.01343039\n",
      "  -0.00987231]] [[-0.08131129 -0.63396042 -0.7550032  ... -0.01739297 -0.01343039\n",
      "  -0.00987231]\n",
      " [-0.08131129 -0.63396042 -0.7550032  ... -0.01739297 -0.01343039\n",
      "  -0.00987231]\n",
      " [-0.08131129 -0.63396042  0.60114964 ... -0.01739297 -0.01343039\n",
      "  -0.00987231]\n",
      " ...\n",
      " [-0.08131129  4.01124113 -0.7550032  ... -0.01739297 -0.01343039\n",
      "  -0.00987231]\n",
      " [-0.08131129  2.23781282 -0.7550032  ... -0.01739297 -0.01343039\n",
      "  -0.00987231]\n",
      " [-0.08131129  2.95214063 -0.7550032  ... -0.01739297 -0.01343039\n",
      "  -0.00987231]]\n",
      "(20412, 2202) (3585, 2202) (20412, 1) (3585, 1)\n"
     ]
    }
   ],
   "source": [
    "from sklearn.preprocessing import StandardScaler\n",
    "scaler = StandardScaler()\n",
    "X_train_scaled = scaler.fit_transform(X_train)\n",
    "X_test_scaled = scaler.transform(X_test)\n",
    "\n",
    "print(X_train_scaled,X_test_scaled)\n",
    "\n",
    "print(X_train_scaled.shape, X_test_scaled.shape, y_train.shape, y_test.shape)\n"
   ]
  },
  {
   "cell_type": "code",
   "execution_count": 17,
   "id": "060346e3",
   "metadata": {},
   "outputs": [
    {
     "name": "stdout",
     "output_type": "stream",
     "text": [
      "Accuracy: 0.7807531380753138\n"
     ]
    }
   ],
   "source": [
    "#Import svm model\n",
    "from sklearn import svm\n",
    "\n",
    "#Create a svm Classifier\n",
    "clf = svm.SVC(kernel='rbf') # Radial Kernel\n",
    "\n",
    "#Train the model using the training sets\n",
    "clf.fit(X_train_scaled, y_train_float)\n",
    "\n",
    "#Predict the response for test dataset\n",
    "y_pred = clf.predict(X_test_scaled)\n",
    "\n",
    "#Import scikit-learn metrics module for accuracy calculation\n",
    "from sklearn import metrics\n",
    "\n",
    "# Model Accuracy: how often is the classifier correct?\n",
    "print(\"Accuracy:\",metrics.accuracy_score(y_test_float, y_pred))"
   ]
  },
  {
   "cell_type": "code",
   "execution_count": 27,
   "id": "fb246aad",
   "metadata": {},
   "outputs": [
    {
     "data": {
      "text/plain": [
       "0    1828\n",
       "3     707\n",
       "2     634\n",
       "1     416\n",
       "Name: x, dtype: int64"
      ]
     },
     "execution_count": 27,
     "metadata": {},
     "output_type": "execute_result"
    }
   ],
   "source": [
    "y_test_float.value_counts()"
   ]
  },
  {
   "cell_type": "code",
   "execution_count": 34,
   "id": "369037aa",
   "metadata": {},
   "outputs": [
    {
     "data": {
      "text/plain": [
       "pandas.core.series.Series"
      ]
     },
     "execution_count": 34,
     "metadata": {},
     "output_type": "execute_result"
    }
   ],
   "source": [
    "type(y_test_float)"
   ]
  },
  {
   "cell_type": "code",
   "execution_count": 37,
   "id": "40ac1193",
   "metadata": {},
   "outputs": [],
   "source": [
    "y_list = y_pred.tolist()\n",
    "import collections\n",
    "counter = collections.Counter(y_list)"
   ]
  },
  {
   "cell_type": "code",
   "execution_count": 45,
   "id": "3ca44e17",
   "metadata": {},
   "outputs": [
    {
     "data": {
      "image/png": "[encoded data removed]",
      "text/plain": [
       "<Figure size 432x288 with 2 Axes>"
      ]
     },
     "metadata": {
      "needs_background": "light"
     },
     "output_type": "display_data"
    }
   ],
   "source": [
    "import matplotlib.pyplot as plt\n",
    "import seaborn as sns\n",
    "from sklearn.metrics import confusion_matrix\n",
    "cm = confusion_matrix(y_test_float,y_pred)\n",
    "## Call the heatmap() function from the Seaborn Library.\n",
    "## annot=True annotates cells.\n",
    "## fmt='g' disables scientific notation.\n",
    "## The heatmap() function returns a Matplotlib Axes Object.\n",
    "ax = sns.heatmap(cm, annot=True, fmt='g');\n",
    "## Modify the Axes Object directly to set various attributes such as the\n",
    "## Title, X/Y Labels.\n",
    "ax.set_title('SVM Cell types labels');\n",
    "ax.set_xlabel('Predicted Cell Types')\n",
    "ax.set_ylabel('Actual Cell Types');\n",
    "## For the Tick Labels, the labels should be in Alphabetical order\n",
    "ax.xaxis.set_ticklabels(['CM_EM', 'Tregs', 'Naive', 'CD4 TEMRA'])\n",
    "ax.yaxis.set_ticklabels(['CM_EM', 'Tregs', 'Naive', 'CD4 TEMRA'])\n",
    "## Finally call the matplotlib show() function to display the visualization\n",
    "## of the Confusion Matrix.\n",
    "plt.show()"
   ]
  },
  {
   "cell_type": "code",
   "execution_count": 49,
   "id": "386c511b",
   "metadata": {},
   "outputs": [],
   "source": [
    "import numpy as np\n",
    "np.unique(y_pred, return_counts=True)\n",
    "y_pred_df = pd.DataFrame(y_pred.tolist())\n",
    "y_pred_df_cell_annotation = pd.DataFrame(y_pred_df.iloc[:,-1].map({0:\"EM_CM\",1:\"Tregs\",2:\"Naive_stem_cell_like\",3:\"CD4_TEMRA\"}))\n"
   ]
  },
  {
   "cell_type": "code",
   "execution_count": 50,
   "id": "c52abc6b",
   "metadata": {},
   "outputs": [
    {
     "data": {
      "text/html": [
       "<div>\n",
       "<style scoped>\n",
       "    .dataframe tbody tr th:only-of-type {\n",
       "        vertical-align: middle;\n",
       "    }\n",
       "\n",
       "    .dataframe tbody tr th {\n",
       "        vertical-align: top;\n",
       "    }\n",
       "\n",
       "    .dataframe thead th {\n",
       "        text-align: right;\n",
       "    }\n",
       "</style>\n",
       "<table border=\"1\" class=\"dataframe\">\n",
       "  <thead>\n",
       "    <tr style=\"text-align: right;\">\n",
       "      <th></th>\n",
       "      <th>0</th>\n",
       "    </tr>\n",
       "  </thead>\n",
       "  <tbody>\n",
       "    <tr>\n",
       "      <th>0</th>\n",
       "      <td>CD4_TEMRA</td>\n",
       "    </tr>\n",
       "    <tr>\n",
       "      <th>1</th>\n",
       "      <td>EM_CM</td>\n",
       "    </tr>\n",
       "    <tr>\n",
       "      <th>2</th>\n",
       "      <td>EM_CM</td>\n",
       "    </tr>\n",
       "    <tr>\n",
       "      <th>3</th>\n",
       "      <td>EM_CM</td>\n",
       "    </tr>\n",
       "    <tr>\n",
       "      <th>4</th>\n",
       "      <td>CD4_TEMRA</td>\n",
       "    </tr>\n",
       "    <tr>\n",
       "      <th>...</th>\n",
       "      <td>...</td>\n",
       "    </tr>\n",
       "    <tr>\n",
       "      <th>3580</th>\n",
       "      <td>CD4_TEMRA</td>\n",
       "    </tr>\n",
       "    <tr>\n",
       "      <th>3581</th>\n",
       "      <td>EM_CM</td>\n",
       "    </tr>\n",
       "    <tr>\n",
       "      <th>3582</th>\n",
       "      <td>EM_CM</td>\n",
       "    </tr>\n",
       "    <tr>\n",
       "      <th>3583</th>\n",
       "      <td>EM_CM</td>\n",
       "    </tr>\n",
       "    <tr>\n",
       "      <th>3584</th>\n",
       "      <td>CD4_TEMRA</td>\n",
       "    </tr>\n",
       "  </tbody>\n",
       "</table>\n",
       "<p>3585 rows × 1 columns</p>\n",
       "</div>"
      ],
      "text/plain": [
       "              0\n",
       "0     CD4_TEMRA\n",
       "1         EM_CM\n",
       "2         EM_CM\n",
       "3         EM_CM\n",
       "4     CD4_TEMRA\n",
       "...         ...\n",
       "3580  CD4_TEMRA\n",
       "3581      EM_CM\n",
       "3582      EM_CM\n",
       "3583      EM_CM\n",
       "3584  CD4_TEMRA\n",
       "\n",
       "[3585 rows x 1 columns]"
      ]
     },
     "execution_count": 50,
     "metadata": {},
     "output_type": "execute_result"
    }
   ],
   "source": [
    "y_pred_df_cell_annotation"
   ]
  },
  {
   "cell_type": "code",
   "execution_count": 51,
   "id": "fdf087b7",
   "metadata": {},
   "outputs": [],
   "source": [
    "y_pred_df_cell_annotation.to_csv('/research/labs/immunology/goronzy_weyand/GoronzyLab_Mayo/Abhinav/scCITESeq/Ines/Run02_and_Run03_analysis/downstream_analysis/Integrated_Run/celltype_annotation/celltype_annotation_rerun01.csv',\n",
    "                                  header=False,index=False)\n"
   ]
  },
  {
   "cell_type": "markdown",
   "id": "91df8064",
   "metadata": {},
   "source": [
    "### Performing with the Logistic Regression"
   ]
  },
  {
   "cell_type": "code",
   "execution_count": 52,
   "id": "35b9c5f5",
   "metadata": {},
   "outputs": [
    {
     "data": {
      "text/plain": [
       "0.7179916317991631"
      ]
     },
     "execution_count": 52,
     "metadata": {},
     "output_type": "execute_result"
    }
   ],
   "source": [
    "from sklearn.linear_model import LogisticRegression\n",
    "model = LogisticRegression(max_iter=10000)\n",
    "model.fit(X_train_scaled,y_train_float)\n",
    "model.score(X_test_scaled, y_test_float)"
   ]
  },
  {
   "cell_type": "code",
   "execution_count": 54,
   "id": "8d86a76d",
   "metadata": {},
   "outputs": [],
   "source": [
    "y_pred_LR = model.predict(X_test_scaled)"
   ]
  },
  {
   "cell_type": "code",
   "execution_count": 55,
   "id": "d5768819",
   "metadata": {},
   "outputs": [],
   "source": [
    "import numpy as np\n",
    "np.unique(y_pred_LR, return_counts=True)\n",
    "y_pred_LR_df = pd.DataFrame(y_pred_LR.tolist())\n",
    "y_pred_LR_df_cell_annotation = pd.DataFrame(y_pred_LR_df.iloc[:,-1].map({0:\"EM_CM\",1:\"Tregs\",2:\"Naive_stem_cell_like\",3:\"CD4_TEMRA\"}))"
   ]
  },
  {
   "cell_type": "code",
   "execution_count": 56,
   "id": "85f15b11",
   "metadata": {},
   "outputs": [],
   "source": [
    "y_pred_LR_df_cell_annotation.to_csv('/research/labs/immunology/goronzy_weyand/GoronzyLab_Mayo/Abhinav/scCITESeq/Ines/Run02_and_Run03_analysis/downstream_analysis/Integrated_Run/celltype_annotation/celltype_annotation_rerun01_LR.csv',\n",
    "                                  header=False,index=False)"
   ]
  },
  {
   "cell_type": "code",
   "execution_count": 57,
   "id": "2968eb66",
   "metadata": {},
   "outputs": [
    {
     "data": {
      "image/png": "[encoded data removed]",
      "text/plain": [
       "<Figure size 432x288 with 2 Axes>"
      ]
     },
     "metadata": {
      "needs_background": "light"
     },
     "output_type": "display_data"
    }
   ],
   "source": [
    "import matplotlib.pyplot as plt\n",
    "import seaborn as sns\n",
    "from sklearn.metrics import confusion_matrix\n",
    "cm = confusion_matrix(y_test_float,y_pred_LR)\n",
    "## Call the heatmap() function from the Seaborn Library.\n",
    "## annot=True annotates cells.\n",
    "## fmt='g' disables scientific notation.\n",
    "## The heatmap() function returns a Matplotlib Axes Object.\n",
    "ax = sns.heatmap(cm, annot=True, fmt='g');\n",
    "## Modify the Axes Object directly to set various attributes such as the\n",
    "## Title, X/Y Labels.\n",
    "ax.set_title('LR Cell types labels');\n",
    "ax.set_xlabel('Predicted Cell Types')\n",
    "ax.set_ylabel('Actual Cell Types');\n",
    "## For the Tick Labels, the labels should be in Alphabetical order\n",
    "ax.xaxis.set_ticklabels(['CM_EM', 'Tregs', 'Naive', 'CD4 TEMRA'])\n",
    "ax.yaxis.set_ticklabels(['CM_EM', 'Tregs', 'Naive', 'CD4 TEMRA'])\n",
    "## Finally call the matplotlib show() function to display the visualization\n",
    "## of the Confusion Matrix.\n",
    "plt.show()"
   ]
  },
  {
   "cell_type": "code",
   "execution_count": null,
   "id": "d0f8cb36",
   "metadata": {},
   "outputs": [],
   "source": [
    "## Saving the model\n",
    "import joblib\n",
    "joblib.dump(model,\"/research/labs/immunology/goronzy_weyand/GoronzyLab_Mayo/Abhinav/scCITESeq/Ines/Run02_and_Run03_analysis/downstream_analysis/Integrated_Run/celltype_annotation/CD4_LR_Run02_03_classifier.joblib\")"
   ]
  },
  {
   "cell_type": "markdown",
   "id": "3b32d3cf",
   "metadata": {},
   "source": [
    "# Random Forest"
   ]
  },
  {
   "cell_type": "code",
   "execution_count": 58,
   "id": "9c4b809e",
   "metadata": {},
   "outputs": [
    {
     "name": "stdout",
     "output_type": "stream",
     "text": [
      "Accuracy: 0.7919107391910739\n"
     ]
    }
   ],
   "source": [
    "#Import svm model\n",
    "from sklearn.ensemble import RandomForestClassifier\n",
    "\n",
    "#Create a Randomforest Classifier\n",
    "rfc = RandomForestClassifier(n_estimators = 100) \n",
    "\n",
    "#Train the model using the training sets\n",
    "rfc.fit(X_train_scaled, y_train_float)\n",
    "\n",
    "#Predict the response for test dataset\n",
    "y_pred = rfc.predict(X_test_scaled)\n",
    "\n",
    "#Import scikit-learn metrics module for accuracy calculation\n",
    "from sklearn import metrics\n",
    "\n",
    "# Model Accuracy: how often is the classifier correct?\n",
    "print(\"Accuracy:\",metrics.accuracy_score(y_test_float, y_pred))"
   ]
  },
  {
   "cell_type": "code",
   "execution_count": 59,
   "id": "b971230c",
   "metadata": {},
   "outputs": [
    {
     "data": {
      "image/png": "[encoded data removed]",
      "text/plain": [
       "<Figure size 432x288 with 2 Axes>"
      ]
     },
     "metadata": {
      "needs_background": "light"
     },
     "output_type": "display_data"
    }
   ],
   "source": [
    "import matplotlib.pyplot as plt\n",
    "import seaborn as sns\n",
    "from sklearn.metrics import confusion_matrix\n",
    "cm = confusion_matrix(y_test_float,y_pred)\n",
    "## Call the heatmap() function from the Seaborn Library.\n",
    "## annot=True annotates cells.\n",
    "## fmt='g' disables scientific notation.\n",
    "## The heatmap() function returns a Matplotlib Axes Object.\n",
    "ax = sns.heatmap(cm, annot=True, fmt='g');\n",
    "## Modify the Axes Object directly to set various attributes such as the\n",
    "## Title, X/Y Labels.\n",
    "ax.set_title('Random Forest Cell types labels');\n",
    "ax.set_xlabel('Predicted Cell Types')\n",
    "ax.set_ylabel('Actual Cell Types');\n",
    "## For the Tick Labels, the labels should be in Alphabetical order\n",
    "ax.xaxis.set_ticklabels(['CM_EM', 'Tregs', 'Naive', 'CD4 TEMRA'])\n",
    "ax.yaxis.set_ticklabels(['CM_EM', 'Tregs', 'Naive', 'CD4 TEMRA'])\n",
    "## Finally call the matplotlib show() function to display the visualization\n",
    "## of the Confusion Matrix.\n",
    "plt.show()"
   ]
  },
  {
   "cell_type": "code",
   "execution_count": 61,
   "id": "75712adc",
   "metadata": {},
   "outputs": [],
   "source": [
    "import numpy as np\n",
    "np.unique(y_pred, return_counts=True)\n",
    "y_pred_df = pd.DataFrame(y_pred.tolist())\n",
    "y_pred_df_cell_annotation = pd.DataFrame(y_pred_df.iloc[:,-1].map({0:\"EM_CM\",1:\"Tregs\",2:\"Naive_stem_cell_like\",3:\"CD4_TEMRA\"}))\n",
    "\n",
    "y_pred_df_cell_annotation.to_csv('/research/labs/immunology/goronzy_weyand/GoronzyLab_Mayo/Abhinav/scCITESeq/Ines/Run02_and_Run03_analysis/downstream_analysis/Integrated_Run/celltype_annotation/celltype_annotation_rerun01_RF.csv',\n",
    "                                  header=False,index=False)\n"
   ]
  },
  {
   "cell_type": "markdown",
   "id": "684e0bfa",
   "metadata": {},
   "source": [
    "# Naive Bayes Guassian"
   ]
  },
  {
   "cell_type": "code",
   "execution_count": 62,
   "id": "b316f2e3",
   "metadata": {},
   "outputs": [],
   "source": [
    "from sklearn.naive_bayes import GaussianNB\n",
    "gnb = GaussianNB()\n",
    "gnb.fit(X_train_scaled, y_train_float)\n",
    "y_pred = gnb.predict(X_test_scaled)"
   ]
  },
  {
   "cell_type": "code",
   "execution_count": 64,
   "id": "c36632ac",
   "metadata": {
    "collapsed": true
   },
   "outputs": [
    {
     "data": {
      "image/png": "[encoded data removed]",
      "text/plain": [
       "<Figure size 432x288 with 2 Axes>"
      ]
     },
     "metadata": {
      "needs_background": "light"
     },
     "output_type": "display_data"
    }
   ],
   "source": [
    "import matplotlib.pyplot as plt\n",
    "import seaborn as sns\n",
    "from sklearn.metrics import confusion_matrix\n",
    "cm = confusion_matrix(y_test_float,y_pred)\n",
    "## Call the heatmap() function from the Seaborn Library.\n",
    "## annot=True annotates cells.\n",
    "## fmt='g' disables scientific notation.\n",
    "## The heatmap() function returns a Matplotlib Axes Object.\n",
    "ax = sns.heatmap(cm, annot=True, fmt='g');\n",
    "## Modify the Axes Object directly to set various attributes such as the\n",
    "## Title, X/Y Labels.\n",
    "ax.set_title('Naive Bayes Cell types labels');\n",
    "ax.set_xlabel('Predicted Cell Types')\n",
    "ax.set_ylabel('Actual Cell Types');\n",
    "## For the Tick Labels, the labels should be in Alphabetical order\n",
    "ax.xaxis.set_ticklabels(['CM_EM', 'Tregs', 'Naive', 'CD4 TEMRA'])\n",
    "ax.yaxis.set_ticklabels(['CM_EM', 'Tregs', 'Naive', 'CD4 TEMRA'])\n",
    "## Finally call the matplotlib show() function to display the visualization\n",
    "## of the Confusion Matrix.\n",
    "plt.show()"
   ]
  },
  {
   "cell_type": "code",
   "execution_count": 65,
   "id": "e02846b6",
   "metadata": {},
   "outputs": [
    {
     "name": "stdout",
     "output_type": "stream",
     "text": [
      "Accuracy: 0.45439330543933054\n"
     ]
    }
   ],
   "source": [
    "a# Model Accuracy: how often is the classifier correct?\n",
    "print(\"Accuracy:\",metrics.accuracy_score(y_test_float, y_pred))"
   ]
  },
  {
   "cell_type": "markdown",
   "id": "3c916ffe",
   "metadata": {},
   "source": [
    "# SGD Classifier with Logistic Regression"
   ]
  },
  {
   "cell_type": "code",
   "execution_count": 68,
   "id": "8610190d",
   "metadata": {},
   "outputs": [],
   "source": [
    "from sklearn.linear_model import SGDClassifier\n",
    "sgclf = SGDClassifier(loss=\"log\", penalty=\"l2\")\n",
    "sgclf.fit(X_train_scaled,y_train_float)\n",
    "y_pred = sgclf.predict(X_test_scaled)"
   ]
  },
  {
   "cell_type": "code",
   "execution_count": 70,
   "id": "c3c8fa0f",
   "metadata": {},
   "outputs": [
    {
     "name": "stdout",
     "output_type": "stream",
     "text": [
      "Accuracy: 0.7718270571827057\n"
     ]
    }
   ],
   "source": [
    "# Model Accuracy: how often is the classifier correct?\n",
    "print(\"Accuracy:\",metrics.accuracy_score(y_test_float, y_pred))"
   ]
  },
  {
   "cell_type": "markdown",
   "id": "8e104fbb",
   "metadata": {},
   "source": [
    "# SGD Classifier with Linear SVM"
   ]
  },
  {
   "cell_type": "code",
   "execution_count": 71,
   "id": "ed697d92",
   "metadata": {},
   "outputs": [],
   "source": [
    "from sklearn.linear_model import SGDClassifier\n",
    "sgclf = SGDClassifier(loss=\"hinge\", penalty=\"l2\")\n",
    "sgclf.fit(X_train_scaled,y_train_float)\n",
    "y_pred = sgclf.predict(X_test_scaled)"
   ]
  },
  {
   "cell_type": "code",
   "execution_count": 73,
   "id": "6349c1e6",
   "metadata": {},
   "outputs": [
    {
     "name": "stdout",
     "output_type": "stream",
     "text": [
      "Accuracy: 0.7746164574616458\n"
     ]
    }
   ],
   "source": [
    "# Model Accuracy: how often is the classifier correct?\n",
    "print(\"Accuracy:\",metrics.accuracy_score(y_test_float, y_pred))"
   ]
  },
  {
   "cell_type": "markdown",
   "id": "c0556af9",
   "metadata": {},
   "source": [
    "# Merging RNA and ADT dataset\n",
    "We are including the ADT features also for better prediction of the cell types"
   ]
  },
  {
   "cell_type": "code",
   "execution_count": 1,
   "id": "bc72bc5e",
   "metadata": {},
   "outputs": [],
   "source": [
    "# We get both the dataset from the Seurat. In Seurat we have identified the variable features for both the RNA (2500) and ADT (10).\n",
    "# The features has been merged with their raw counts\n",
    "maindir = \"/research/labs/immunology/goronzy_weyand/GoronzyLab_Mayo/Abhinav/scCITESeq/Ines/Run02_and_Run03_analysis/downstream_analysis/Integrated_Run/celltype_annotation/\"\n",
    "import pandas as pd\n",
    "X_train = pd.read_csv(maindir+\"CD4_req_count_RNA_ADT.csv\",index_col=[0])\n",
    "y_train = pd.read_csv(maindir+\"CD4_req_celltypes.csv\")"
   ]
  },
  {
   "cell_type": "code",
   "execution_count": 11,
   "id": "99b4be59",
   "metadata": {},
   "outputs": [
    {
     "data": {
      "text/plain": [
       "array([2, 0, 3, ..., 0, 0, 0])"
      ]
     },
     "execution_count": 11,
     "metadata": {},
     "output_type": "execute_result"
    }
   ],
   "source": [
    "y_train_values"
   ]
  },
  {
   "cell_type": "code",
   "execution_count": 10,
   "id": "78d63895",
   "metadata": {},
   "outputs": [],
   "source": [
    "y_train.iloc[:,-1].value_counts()\n",
    "y_train_float = y_train.iloc[:,-1].map({\"EM_CM\":0,\"Tregs\":1,\"Naive_stem_cell_like\":2,\"CD4_TEMRA\":3})\n",
    "y_train_float.value_counts()\n",
    "y_train_values = y_train_float.values"
   ]
  },
  {
   "cell_type": "code",
   "execution_count": 4,
   "id": "41925408",
   "metadata": {},
   "outputs": [],
   "source": [
    "from sklearn.preprocessing import StandardScaler\n",
    "scaler = StandardScaler()\n",
    "X_train_scaled = scaler.fit_transform(X_train)\n"
   ]
  },
  {
   "cell_type": "code",
   "execution_count": 12,
   "id": "f6cfdf44",
   "metadata": {},
   "outputs": [
    {
     "name": "stdout",
     "output_type": "stream",
     "text": [
      "(20412, 2510) (20412,)\n"
     ]
    }
   ],
   "source": [
    "print(X_train_scaled.shape,y_train_values.shape)"
   ]
  },
  {
   "cell_type": "code",
   "execution_count": 14,
   "id": "46cc4128",
   "metadata": {},
   "outputs": [
    {
     "name": "stdout",
     "output_type": "stream",
     "text": [
      "(16329, 2510) (4083, 2510) (16329,) (4083,)\n"
     ]
    }
   ],
   "source": [
    "print(X_train.shape, X_test.shape, y_train.shape, y_test.shape)"
   ]
  },
  {
   "cell_type": "code",
   "execution_count": 15,
   "id": "1c4a60f8",
   "metadata": {},
   "outputs": [
    {
     "name": "stdout",
     "output_type": "stream",
     "text": [
      "Accuracy: 0.833 (0.007)\n"
     ]
    }
   ],
   "source": [
    "from sklearn.model_selection import RepeatedKFold,cross_val_score\n",
    "from sklearn.linear_model import LogisticRegression\n",
    "cv = RepeatedKFold(n_splits=10, n_repeats=3, random_state=1)\n",
    "model = LogisticRegression(max_iter=10000)\n",
    "# evaluate model\n",
    "scores = cross_val_score(model, X_train_scaled, y_train_values, scoring='accuracy', cv=cv, n_jobs=-1)\n",
    "\n",
    "import numpy as np\n",
    "from statistics import mean\n",
    "# report performance\n",
    "print('Accuracy: %.3f (%.3f)' % (mean(scores), np.std(scores)))"
   ]
  },
  {
   "cell_type": "code",
   "execution_count": 18,
   "id": "11e14fb7",
   "metadata": {},
   "outputs": [
    {
     "name": "stdout",
     "output_type": "stream",
     "text": [
      "Accuracy: 0.882 (0.007)\n"
     ]
    }
   ],
   "source": [
    "#Import svm model\n",
    "from sklearn.ensemble import RandomForestClassifier\n",
    "\n",
    "#Create a svm Classifier\n",
    "model = RandomForestClassifier(n_estimators = 100) # Radial Kernel\n",
    "\n",
    "# evaluate model\n",
    "scores = cross_val_score(model, X_train_scaled, y_train_values, scoring='accuracy', cv=cv, n_jobs=-1)\n",
    "\n",
    "import numpy as np\n",
    "from statistics import mean\n",
    "# report performance\n",
    "print('Accuracy: %.3f (%.3f)' % (mean(scores), np.std(scores)))"
   ]
  },
  {
   "cell_type": "markdown",
   "id": "8d60a145",
   "metadata": {},
   "source": [
    "## How to compare multiple classification models at a instance"
   ]
  },
  {
   "cell_type": "code",
   "execution_count": 4,
   "id": "f4082e02",
   "metadata": {},
   "outputs": [
    {
     "name": "stdout",
     "output_type": "stream",
     "text": [
      "(20412, 2487) (20412,)\n"
     ]
    }
   ],
   "source": [
    "# We get both the dataset from the Seurat. In Seurat we have identified the variable features for both the RNA (2500) and ADT (10).\n",
    "# The features has been merged with their raw counts\n",
    "maindir = \"/research/labs/immunology/goronzy_weyand/GoronzyLab_Mayo/Abhinav/scCITESeq/Ines/Run02_and_Run03_analysis/downstream_analysis/Integrated_Run/celltype_annotation/\"\n",
    "import pandas as pd\n",
    "X_train = pd.read_csv(maindir+\"reference.csv\",index_col=[0])\n",
    "y_train = pd.read_csv(maindir+\"reference_celltypes.csv\")\n",
    "y_train.iloc[:,-1].value_counts()\n",
    "y_train_float = y_train.iloc[:,-1].map({\"EM_CM\":0,\"Tregs\":1,\"Naive_stem_cell_like\":2,\"CD4_TEMRA\":3})\n",
    "y_train_float.value_counts()\n",
    "y_train_values = y_train_float.values\n",
    "from sklearn.preprocessing import StandardScaler\n",
    "scaler = StandardScaler()\n",
    "X_train_scaled = scaler.fit_transform(X_train)\n",
    "print(X_train_scaled.shape,y_train_values.shape)"
   ]
  },
  {
   "cell_type": "code",
   "execution_count": 15,
   "id": "644af6cb",
   "metadata": {},
   "outputs": [],
   "source": [
    "reset-f"
   ]
  },
  {
   "cell_type": "code",
   "execution_count": 1,
   "id": "10760deb",
   "metadata": {},
   "outputs": [
    {
     "data": {
      "text/plain": [
       "[]"
      ]
     },
     "execution_count": 1,
     "metadata": {},
     "output_type": "execute_result"
    }
   ],
   "source": [
    "%who_ls"
   ]
  },
  {
   "cell_type": "code",
   "execution_count": null,
   "id": "f8975752",
   "metadata": {},
   "outputs": [],
   "source": []
  },
  {
   "cell_type": "code",
   "execution_count": 31,
   "id": "b5ba1f08",
   "metadata": {
    "collapsed": true
   },
   "outputs": [
    {
     "name": "stdout",
     "output_type": "stream",
     "text": [
      "LR: 0.833170 (0.009583) 1441.2223763465881 seconds\n",
      "LDA: 0.878045 (0.006067) 574.2151398658752 seconds\n",
      "KNN: 0.673966 (0.014555) 73.36570286750793 seconds\n",
      "DTC: 0.823502 (0.005905) 370.6898281574249 seconds\n",
      "NB: 0.338396 (0.009659) 42.763768434524536 seconds\n",
      "SVM: 0.878535 (0.006090) 9588.5912835598 seconds\n",
      "RF: 0.881981 (0.006651) 263.3356454372406 seconds\n",
      "GBC: 0.902867 (0.006027) 7888.890916824341 seconds\n",
      "SGD: 0.839277 (0.008482) 812.2217900753021 seconds\n",
      "LGBM: 0.912388 (0.006583) 193.18957591056824 seconds\n",
      "XGB: 0.911816 (0.005648) 2105.9630732536316 seconds\n"
     ]
    },
    {
     "data": {
      "image/png": "[encoded data removed]",
      "text/plain": [
       "<Figure size 432x288 with 1 Axes>"
      ]
     },
     "metadata": {
      "needs_background": "light"
     },
     "output_type": "display_data"
    }
   ],
   "source": [
    "# Compare Algorithms\n",
    "import pandas\n",
    "import matplotlib.pyplot as plt\n",
    "from sklearn.model_selection import RepeatedKFold,cross_val_score\n",
    "from sklearn.linear_model import LogisticRegression\n",
    "from sklearn.tree import DecisionTreeClassifier\n",
    "from sklearn.neighbors import KNeighborsClassifier\n",
    "from sklearn.discriminant_analysis import LinearDiscriminantAnalysis\n",
    "from sklearn.naive_bayes import GaussianNB\n",
    "from sklearn.svm import SVC\n",
    "from lightgbm import LGBMClassifier\n",
    "from xgboost import XGBClassifier\n",
    "from sklearn.linear_model import SGDClassifier\n",
    "from sklearn.ensemble import RandomForestClassifier,GradientBoostingClassifier\n",
    "from datetime import datetime\n",
    "import time\n",
    "# prepare configuration for cross validation test harness\n",
    "seed = 7\n",
    "# prepare models\n",
    "models = []\n",
    "models.append(('LR', LogisticRegression(max_iter=10000)))\n",
    "models.append(('LDA', LinearDiscriminantAnalysis()))\n",
    "models.append(('KNN', KNeighborsClassifier()))\n",
    "models.append(('DTC', DecisionTreeClassifier()))\n",
    "models.append(('NB', GaussianNB()))\n",
    "models.append(('SVM', SVC(kernel='rbf')))\n",
    "models.append((\"RF\", RandomForestClassifier(n_estimators = 100)))\n",
    "models.append((\"GBC\", GradientBoostingClassifier(n_estimators=100)))\n",
    "models.append((\"SGD\", SGDClassifier(loss=\"log\", penalty=\"l2\")))\n",
    "models.append((\"LGBM\", LGBMClassifier(objective='multiclass', random_state=5)))\n",
    "models.append((\"XGB\",XGBClassifier()))\n",
    "\n",
    "# evaluate each model in turn\n",
    "results = []\n",
    "names = []\n",
    "scoring = 'accuracy'\n",
    "for name, model in models:\n",
    "    start_time = time.time()\n",
    "    cv = RepeatedKFold(n_splits=10, n_repeats=3, random_state=seed)\n",
    "    cv_results = cross_val_score(model, X_train_scaled, y_train_values, cv=cv, scoring=scoring, n_jobs=-1)\n",
    "    results.append(cv_results)\n",
    "    names.append(name)\n",
    "    msg = \"%s: %f (%f) %s seconds\" % (name, cv_results.mean(), cv_results.std(), time.time() - start_time)\n",
    "    print(msg)\n",
    "\n",
    "# boxplot algorithm comparison\n",
    "fig = plt.figure()\n",
    "fig.suptitle('Algorithm Comparison')\n",
    "ax = fig.add_subplot(111)\n",
    "plt.boxplot(results)\n",
    "ax.set_xticklabels(names)\n",
    "plt.show()"
   ]
  },
  {
   "cell_type": "code",
   "execution_count": 26,
   "id": "18c44f49",
   "metadata": {},
   "outputs": [],
   "source": [
    "from lightgbm import LGBMClassifier"
   ]
  },
  {
   "cell_type": "code",
   "execution_count": 25,
   "id": "5fae2567",
   "metadata": {
    "collapsed": true
   },
   "outputs": [
    {
     "name": "stdout",
     "output_type": "stream",
     "text": [
      "Collecting lightgbm\n",
      "  Downloading lightgbm-3.3.2-py3-none-manylinux1_x86_64.whl (2.0 MB)\n",
      "     |████████████████████████████████| 2.0 MB 1.8 MB/s            \n",
      "\u001b[?25hRequirement already satisfied: numpy in /research/labs/immunology/goronzy_weyand/GoronzyLab_Mayo/Abhinav/miniconda3/lib/python3.9/site-packages (from lightgbm) (1.21.6)\n",
      "Requirement already satisfied: scikit-learn!=0.22.0 in /research/labs/immunology/goronzy_weyand/GoronzyLab_Mayo/Abhinav/miniconda3/lib/python3.9/site-packages (from lightgbm) (1.0.2)\n",
      "Requirement already satisfied: wheel in /research/labs/immunology/goronzy_weyand/GoronzyLab_Mayo/Abhinav/miniconda3/lib/python3.9/site-packages (from lightgbm) (0.37.1)\n",
      "Requirement already satisfied: scipy in /research/labs/immunology/goronzy_weyand/GoronzyLab_Mayo/Abhinav/miniconda3/lib/python3.9/site-packages (from lightgbm) (1.7.3)\n",
      "Requirement already satisfied: joblib>=0.11 in /research/labs/immunology/goronzy_weyand/GoronzyLab_Mayo/Abhinav/miniconda3/lib/python3.9/site-packages (from scikit-learn!=0.22.0->lightgbm) (1.1.0)\n",
      "Requirement already satisfied: threadpoolctl>=2.0.0 in /research/labs/immunology/goronzy_weyand/GoronzyLab_Mayo/Abhinav/miniconda3/lib/python3.9/site-packages (from scikit-learn!=0.22.0->lightgbm) (3.1.0)\n",
      "Installing collected packages: lightgbm\n",
      "Successfully installed lightgbm-3.3.2\n",
      "Note: you may need to restart the kernel to use updated packages.\n"
     ]
    }
   ],
   "source": [
    "pip install lightgbm"
   ]
  },
  {
   "cell_type": "code",
   "execution_count": 38,
   "id": "1f26e357",
   "metadata": {
    "collapsed": true
   },
   "outputs": [
    {
     "data": {
      "image/png": "[encoded data removed]",
      "text/plain": [
       "<Figure size 432x288 with 1 Axes>"
      ]
     },
     "metadata": {
      "needs_background": "light"
     },
     "output_type": "display_data"
    }
   ],
   "source": [
    "# boxplot algorithm comparison\n",
    "fig = plt.figure()\n",
    "fig.suptitle('Algorithm Comparison')\n",
    "ax = fig.add_subplot(111)\n",
    "plt.boxplot(results)\n",
    "ax.set_xticklabels(names)\n",
    "plt.show()"
   ]
  },
  {
   "cell_type": "code",
   "execution_count": 2,
   "id": "90420afc",
   "metadata": {},
   "outputs": [],
   "source": [
    "from sklearn.preprocessing import LabelEncoder\n",
    "labelencoder = LabelEncoder()\n",
    "Y = labelencoder.fit_transform(y_train[\"x\"].values)`"
   ]
  },
  {
   "cell_type": "code",
   "execution_count": 21,
   "id": "d22cf234",
   "metadata": {},
   "outputs": [
    {
     "data": {
      "text/plain": [
       "array([2, 0, 3, ..., 0, 0, 0])"
      ]
     },
     "execution_count": 21,
     "metadata": {},
     "output_type": "execute_result"
    }
   ],
   "source": [
    "y_train_values"
   ]
  },
  {
   "cell_type": "code",
   "execution_count": 5,
   "id": "df29d867",
   "metadata": {},
   "outputs": [
    {
     "name": "stdout",
     "output_type": "stream",
     "text": [
      "0.9273956692248986\n"
     ]
    }
   ],
   "source": [
    "from lightgbm import LGBMClassifier\n",
    "from sklearn.model_selection import RepeatedKFold,cross_val_score\n",
    "from sklearn.linear_model import LogisticRegression\n",
    "model = LGBMClassifier(objective='multiclass',random_state=5)\n",
    "cv = RepeatedKFold(n_splits=10, n_repeats=3, random_state=7)\n",
    "cv_results = cross_val_score(model, X_train_scaled, y_train_values, cv=cv, scoring=\"accuracy\", n_jobs=-1)\n",
    "print(cv_results.mean())"
   ]
  },
  {
   "cell_type": "code",
   "execution_count": 6,
   "id": "77b69a4d",
   "metadata": {},
   "outputs": [
    {
     "data": {
      "text/plain": [
       "LGBMClassifier(objective='multiclass', random_state=5)"
      ]
     },
     "execution_count": 6,
     "metadata": {},
     "output_type": "execute_result"
    }
   ],
   "source": [
    "# training a model\n",
    "model.fit(X_train_scaled,y_train_float.values)"
   ]
  },
  {
   "cell_type": "code",
   "execution_count": 4,
   "id": "b80a37ac",
   "metadata": {},
   "outputs": [
    {
     "data": {
      "text/plain": [
       "['/research/labs/immunology/goronzy_weyand/GoronzyLab_Mayo/Abhinav/scCITESeq/Ines/Run02_and_Run03_analysis/downstream_analysis/Integrated_Run/celltype_annotation/CD4_LGBMC_Run02_03_classifier.joblib']"
      ]
     },
     "execution_count": 4,
     "metadata": {},
     "output_type": "execute_result"
    }
   ],
   "source": [
    "import joblib\n",
    "joblib.dump(model,\"/research/labs/immunology/goronzy_weyand/GoronzyLab_Mayo/Abhinav/scCITESeq/Ines/Run02_and_Run03_analysis/downstream_analysis/Integrated_Run/celltype_annotation/CD4_LGBMC_Run02_03_classifier.joblib\")"
   ]
  },
  {
   "cell_type": "code",
   "execution_count": 2,
   "id": "61e480c0",
   "metadata": {},
   "outputs": [],
   "source": [
    "import joblib\n",
    "model = joblib.load('/research/labs/immunology/goronzy_weyand/GoronzyLab_Mayo/Abhinav/scCITESeq/Ines/Run02_and_Run03_analysis/downstream_analysis/Integrated_Run/celltype_annotation/CD4_LGBMC_Run02_03_classifier.joblib')\n"
   ]
  },
  {
   "cell_type": "markdown",
   "id": "dc954e15",
   "metadata": {},
   "source": [
    "# Performing the model on CD4 Young from Run03 and 05"
   ]
  },
  {
   "cell_type": "code",
   "execution_count": 7,
   "id": "62e786f7",
   "metadata": {
    "collapsed": true
   },
   "outputs": [
    {
     "name": "stdout",
     "output_type": "stream",
     "text": [
      "[[-0.10488564 -0.09793645 -0.08340405 ... -1.46845929 -0.9847065\n",
      "  -1.00684005]\n",
      " [-0.04354634 -0.09793645 -0.08340405 ...  0.06071914 -0.4562832\n",
      "  -0.18148211]\n",
      " [-0.10488564 -0.09793645  0.06671001 ...  0.44301375 -0.31216776\n",
      "  -0.31904177]\n",
      " ...\n",
      " [ 1.48993627 -0.09793645 -0.08340405 ...  0.06071914 -0.50432169\n",
      "   0.02485738]\n",
      " [-0.10488564 -0.09793645 -0.08340405 ... -0.449007    0.02410161\n",
      "   0.16241704]\n",
      " [-0.10488564 -0.09793645 -0.08340405 ... -0.70387007 -0.93666802\n",
      "  -0.38782159]] [[-0.10488564 -0.09793645 -0.08340405 ... -0.83130161 -0.07197535\n",
      "  -0.66294091]\n",
      " [-0.10488564 -0.09793645 -0.08340405 ... -0.83130161  0.40840946\n",
      "  -0.80050057]\n",
      " [-0.10488564 -0.09793645 -0.08340405 ... -1.34102776 -0.93666802\n",
      "  -1.28195937]\n",
      " ...\n",
      " [-0.04354634 -0.09793645 -0.08340405 ... -0.95873315 -0.31216776\n",
      "  -0.11270228]\n",
      " [-0.10488564 -0.09793645 -0.08340405 ... -0.70387007  0.02410161\n",
      "  -0.73172074]\n",
      " [-0.04354634 -0.09793645 -0.08340405 ...  0.06071914  0.55252491\n",
      "  -0.18148211]]\n"
     ]
    }
   ],
   "source": [
    "# We have trained our model on 2500 RNA features and 40 ADT features using LGBMC, we will load it.\n",
    "\n",
    "test_dir = \"/research/labs/immunology/goronzy_weyand/GoronzyLab_Mayo/Abhinav/scCITESeq/Ines/Run02_and_Run03_analysis/downstream_analysis/Integrated_Run/celltype_annotation/\"\n",
    "import pandas as pd\n",
    "X_test = pd.read_csv(test_dir+\"query_count.csv\",index_col=[0])\n",
    "X_test_scaled = scaler.transform(X_test)\n",
    "print(X_train_scaled,X_test_scaled)"
   ]
  },
  {
   "cell_type": "code",
   "execution_count": 8,
   "id": "4f7b83e3",
   "metadata": {},
   "outputs": [],
   "source": [
    "#Predict the response for test dataset\n",
    "y_pred = model.predict(X_test_scaled)\n"
   ]
  },
  {
   "cell_type": "code",
   "execution_count": 9,
   "id": "f48f5a57",
   "metadata": {},
   "outputs": [
    {
     "data": {
      "text/plain": [
       "(array([0, 1, 2, 3]), array([11286,  4027,  5071,  1033]))"
      ]
     },
     "execution_count": 9,
     "metadata": {},
     "output_type": "execute_result"
    }
   ],
   "source": [
    "import numpy as np\n",
    "np.unique(y_pred, return_counts=True)"
   ]
  },
  {
   "cell_type": "code",
   "execution_count": 27,
   "id": "b89d6ba0",
   "metadata": {},
   "outputs": [],
   "source": [
    "y_pred_df = pd.DataFrame(y_pred.tolist())\n",
    "y_pred_df_cell_annotation = pd.DataFrame(y_pred_df.iloc[:,-1].map({0:\"EM_CM\",1:\"Tregs\",2:\"Naive_stem_cell_like\",3:\"CD4_TEMRA\"}))\n",
    "y_pred_df_cell_annotation.to_csv('/research/labs/immunology/goronzy_weyand/GoronzyLab_Mayo/Abhinav/scCITESeq/Ines/Run02_and_Run03_analysis/downstream_analysis/Integrated_Run/celltype_annotation/celltype_annotation_Young_Run03_05_LGBMC.csv',\n",
    "                                  header=False,index=False)\n"
   ]
  },
  {
   "cell_type": "markdown",
   "id": "8188013c",
   "metadata": {},
   "source": [
    "# Performing Analysis for CD8"
   ]
  },
  {
   "cell_type": "code",
   "execution_count": 3,
   "id": "df8bb29b",
   "metadata": {},
   "outputs": [
    {
     "name": "stdout",
     "output_type": "stream",
     "text": [
      "(11596, 2516) (11596,)\n"
     ]
    }
   ],
   "source": [
    "# We get both the dataset from the Seurat. In Seurat we have identified the variable features for both the RNA (2500) and ADT (10).\n",
    "# The features has been merged with their raw counts\n",
    "maindir = \"/research/labs/immunology/goronzy_weyand/GoronzyLab_Mayo/Abhinav/scCITESeq/Ines/Run02_and_Run03_analysis/downstream_analysis/Integrated_Run/celltype_annotation/\"\n",
    "import pandas as pd\n",
    "X_train = pd.read_csv(maindir+\"CD8_reference.csv\",index_col=[0])\n",
    "y_train = pd.read_csv(maindir+\"CD8_reference_celltypes.csv\")\n",
    "y_train.iloc[:,-1].value_counts()\n",
    "y_train_float = y_train.iloc[:,-1].map({\"CM_EM_TEMRA\":0,\"CM_EM_Senescent\":1,\"TEMRA\":2,\"CM_EM\":3,\"DP_EM_nonTERMA\":4})\n",
    "y_train_float.value_counts()\n",
    "y_train_values = y_train_float.values\n",
    "from sklearn.preprocessing import StandardScaler\n",
    "scaler = StandardScaler()\n",
    "X_train_scaled = scaler.fit_transform(X_train)\n",
    "print(X_train_scaled.shape,y_train_values.shape)"
   ]
  },
  {
   "cell_type": "code",
   "execution_count": 4,
   "id": "691e155a",
   "metadata": {},
   "outputs": [
    {
     "name": "stdout",
     "output_type": "stream",
     "text": [
      "0.8921472632967383\n"
     ]
    }
   ],
   "source": [
    "from lightgbm import LGBMClassifier\n",
    "from sklearn.model_selection import RepeatedKFold,cross_val_score\n",
    "from sklearn.linear_model import LogisticRegression\n",
    "model = LGBMClassifier(objective='multiclass',random_state=5)\n",
    "cv = RepeatedKFold(n_splits=10, n_repeats=3, random_state=7)\n",
    "cv_results = cross_val_score(model, X_train_scaled, y_train_values, cv=cv, scoring=\"accuracy\", n_jobs=-1)\n",
    "print(cv_results.mean())"
   ]
  },
  {
   "cell_type": "code",
   "execution_count": 5,
   "id": "8246af97",
   "metadata": {},
   "outputs": [
    {
     "data": {
      "text/plain": [
       "LGBMClassifier(objective='multiclass', random_state=5)"
      ]
     },
     "execution_count": 5,
     "metadata": {},
     "output_type": "execute_result"
    }
   ],
   "source": [
    "# training a model\n",
    "model.fit(X_train_scaled,y_train_float.values)"
   ]
  },
  {
   "cell_type": "code",
   "execution_count": 6,
   "id": "1848bec3",
   "metadata": {},
   "outputs": [
    {
     "data": {
      "text/plain": [
       "['/research/labs/immunology/goronzy_weyand/GoronzyLab_Mayo/Abhinav/scCITESeq/Ines/Run02_and_Run03_analysis/downstream_analysis/Integrated_Run/celltype_annotation/CD8_LGBMC_Run02_03_classifier.joblib']"
      ]
     },
     "execution_count": 6,
     "metadata": {},
     "output_type": "execute_result"
    }
   ],
   "source": [
    "import joblib\n",
    "joblib.dump(model,\"/research/labs/immunology/goronzy_weyand/GoronzyLab_Mayo/Abhinav/scCITESeq/Ines/Run02_and_Run03_analysis/downstream_analysis/Integrated_Run/celltype_annotation/CD8_LGBMC_Run02_03_classifier.joblib\")\n"
   ]
  },
  {
   "cell_type": "code",
   "execution_count": null,
   "id": "845100c9",
   "metadata": {},
   "outputs": [],
   "source": [
    "import joblib\n",
    "model = joblib.load('/research/labs/immunology/goronzy_weyand/GoronzyLab_Mayo/Abhinav/scCITESeq/Ines/Run02_and_Run03_analysis/downstream_analysis/Integrated_Run/celltype_annotation/CD4_LGBMC_Run02_03_classifier.joblib')\n"
   ]
  },
  {
   "cell_type": "code",
   "execution_count": 7,
   "id": "3791107f",
   "metadata": {
    "collapsed": true
   },
   "outputs": [
    {
     "name": "stdout",
     "output_type": "stream",
     "text": [
      "[[-0.1090723  -0.17411401 -0.26332886 ... -0.4292491  -0.15528555\n",
      "   0.14683655]\n",
      " [-0.1090723  -0.17411401 -0.26332886 ... -1.2110434  -0.95010559\n",
      "  -1.46774069]\n",
      " [-0.1090723  -0.08177346 -0.09997391 ...  1.24602439  1.27539051\n",
      "   0.80922721]\n",
      " ...\n",
      " [-0.1090723  -0.17411401 -0.1326449  ...  1.13433949  1.0634385\n",
      "   0.31243421]\n",
      " [-0.1090723  -0.17411401 -0.06730292 ...  0.12917539  0.16264246\n",
      "  -0.43275528]\n",
      " [-0.1090723  -0.17411401 -0.26332886 ... -0.4292491  -0.89711759\n",
      "  -0.84674945]] [[-0.1090723  -0.17411401 -0.19798688 ...  1.02265459  0.05666646\n",
      "   0.51943129]\n",
      " [-0.1090723  -0.17411401 -0.06730292 ...  0.35254519  0.58654648\n",
      "   1.14042254]\n",
      " [-0.1090723  -0.17411401 -0.16531589 ... -0.3175642  -0.36723756\n",
      "   0.22963538]\n",
      " ...\n",
      " [ 0.005597   -0.17411401  0.16139402 ... -0.2058793   0.21563046\n",
      "  -0.97094769]\n",
      " [-0.05173765 -0.08177346 -0.16531589 ...  0.35254519 -0.52620157\n",
      "  -0.55695353]\n",
      " [-0.1090723  -0.17411401 -0.26332886 ... -0.540934   -0.52620157\n",
      "  -0.43275528]]\n"
     ]
    }
   ],
   "source": [
    "# We have trained our model on 2500 RNA features and 40 ADT features using LGBMC, we will load it.\n",
    "\n",
    "test_dir = \"/research/labs/immunology/goronzy_weyand/GoronzyLab_Mayo/Abhinav/scCITESeq/Ines/Run02_and_Run03_analysis/downstream_analysis/Integrated_Run/celltype_annotation/\"\n",
    "import pandas as pd\n",
    "X_test = pd.read_csv(test_dir+\"CD8_query_count.csv\",index_col=[0])\n",
    "X_test_scaled = scaler.transform(X_test)\n",
    "print(X_train_scaled,X_test_scaled)\n"
   ]
  },
  {
   "cell_type": "code",
   "execution_count": 8,
   "id": "bf9fa535",
   "metadata": {},
   "outputs": [
    {
     "data": {
      "text/plain": [
       "(array([0, 1, 2, 3, 4]), array([1277,   60, 1522, 4611,  586]))"
      ]
     },
     "execution_count": 8,
     "metadata": {},
     "output_type": "execute_result"
    }
   ],
   "source": [
    "#Predict the response for test dataset\n",
    "y_pred = model.predict(X_test_scaled)\n",
    "\n",
    "\n",
    "import numpy as np\n",
    "np.unique(y_pred, return_counts=True)\n",
    "\n"
   ]
  },
  {
   "cell_type": "code",
   "execution_count": 9,
   "id": "4aefb95f",
   "metadata": {},
   "outputs": [],
   "source": [
    "y_pred_df = pd.DataFrame(y_pred.tolist())\n",
    "y_pred_df_cell_annotation = pd.DataFrame(y_pred_df.iloc[:,-1].map({0:\"CM_EM_TEMRA\",1:\"CM_EM_Senescent\",2:\"TEMRA\",3:\"CM_EM\",4:\"DP_EM_nonTERMA\"}))\n",
    "y_pred_df_cell_annotation.to_csv('/research/labs/immunology/goronzy_weyand/GoronzyLab_Mayo/Abhinav/scCITESeq/Ines/Run02_and_Run03_analysis/downstream_analysis/Integrated_Run/celltype_annotation/celltype_annotation_Young_Run03_05_LGBMC_CD8.csv',\n",
    "                                  header=False,index=False)\n"
   ]
  },
  {
   "cell_type": "code",
   "execution_count": 8,
   "id": "d9e824be",
   "metadata": {
    "collapsed": true
   },
   "outputs": [
    {
     "name": "stdout",
     "output_type": "stream",
     "text": [
      "LR: 0.793061 (0.009037) 70.03580594062805 seconds\n",
      "LDA: 0.806055 (0.011412) 85.42201256752014 seconds\n",
      "KNN: 0.598136 (0.013296) 3.976545810699463 seconds\n",
      "DTC: 0.791738 (0.010830) 15.538387298583984 seconds\n",
      "NB: 0.176180 (0.007439) 3.1434030532836914 seconds\n",
      "SVM: 0.796654 (0.010617) 1489.2307901382446 seconds\n",
      "RF: 0.811084 (0.011493) 33.97912287712097 seconds\n",
      "GBC: 0.877314 (0.009112) 1751.3965163230896 seconds\n"
     ]
    },
    {
     "name": "stderr",
     "output_type": "stream",
     "text": [
      "/research/labs/immunology/goronzy_weyand/GoronzyLab_Mayo/Abhinav/miniconda3/lib/python3.9/site-packages/sklearn/linear_model/_stochastic_gradient.py:696: ConvergenceWarning: Maximum number of iteration reached before convergence. Consider increasing max_iter to improve the fit.\n",
      "  warnings.warn(\n",
      "/research/labs/immunology/goronzy_weyand/GoronzyLab_Mayo/Abhinav/miniconda3/lib/python3.9/site-packages/sklearn/linear_model/_stochastic_gradient.py:696: ConvergenceWarning: Maximum number of iteration reached before convergence. Consider increasing max_iter to improve the fit.\n",
      "  warnings.warn(\n",
      "/research/labs/immunology/goronzy_weyand/GoronzyLab_Mayo/Abhinav/miniconda3/lib/python3.9/site-packages/sklearn/linear_model/_stochastic_gradient.py:696: ConvergenceWarning: Maximum number of iteration reached before convergence. Consider increasing max_iter to improve the fit.\n",
      "  warnings.warn(\n",
      "/research/labs/immunology/goronzy_weyand/GoronzyLab_Mayo/Abhinav/miniconda3/lib/python3.9/site-packages/sklearn/linear_model/_stochastic_gradient.py:696: ConvergenceWarning: Maximum number of iteration reached before convergence. Consider increasing max_iter to improve the fit.\n",
      "  warnings.warn(\n",
      "/research/labs/immunology/goronzy_weyand/GoronzyLab_Mayo/Abhinav/miniconda3/lib/python3.9/site-packages/sklearn/linear_model/_stochastic_gradient.py:696: ConvergenceWarning: Maximum number of iteration reached before convergence. Consider increasing max_iter to improve the fit.\n",
      "  warnings.warn(\n",
      "/research/labs/immunology/goronzy_weyand/GoronzyLab_Mayo/Abhinav/miniconda3/lib/python3.9/site-packages/sklearn/linear_model/_stochastic_gradient.py:696: ConvergenceWarning: Maximum number of iteration reached before convergence. Consider increasing max_iter to improve the fit.\n",
      "  warnings.warn(\n",
      "/research/labs/immunology/goronzy_weyand/GoronzyLab_Mayo/Abhinav/miniconda3/lib/python3.9/site-packages/sklearn/linear_model/_stochastic_gradient.py:696: ConvergenceWarning: Maximum number of iteration reached before convergence. Consider increasing max_iter to improve the fit.\n",
      "  warnings.warn(\n",
      "/research/labs/immunology/goronzy_weyand/GoronzyLab_Mayo/Abhinav/miniconda3/lib/python3.9/site-packages/sklearn/linear_model/_stochastic_gradient.py:696: ConvergenceWarning: Maximum number of iteration reached before convergence. Consider increasing max_iter to improve the fit.\n",
      "  warnings.warn(\n",
      "/research/labs/immunology/goronzy_weyand/GoronzyLab_Mayo/Abhinav/miniconda3/lib/python3.9/site-packages/sklearn/linear_model/_stochastic_gradient.py:696: ConvergenceWarning: Maximum number of iteration reached before convergence. Consider increasing max_iter to improve the fit.\n",
      "  warnings.warn(\n",
      "/research/labs/immunology/goronzy_weyand/GoronzyLab_Mayo/Abhinav/miniconda3/lib/python3.9/site-packages/sklearn/linear_model/_stochastic_gradient.py:696: ConvergenceWarning: Maximum number of iteration reached before convergence. Consider increasing max_iter to improve the fit.\n",
      "  warnings.warn(\n",
      "/research/labs/immunology/goronzy_weyand/GoronzyLab_Mayo/Abhinav/miniconda3/lib/python3.9/site-packages/sklearn/linear_model/_stochastic_gradient.py:696: ConvergenceWarning: Maximum number of iteration reached before convergence. Consider increasing max_iter to improve the fit.\n",
      "  warnings.warn(\n"
     ]
    },
    {
     "name": "stdout",
     "output_type": "stream",
     "text": [
      "SGD: 0.779091 (0.012932) 423.687659740448 seconds\n"
     ]
    },
    {
     "name": "stderr",
     "output_type": "stream",
     "text": [
      "/research/labs/immunology/goronzy_weyand/GoronzyLab_Mayo/Abhinav/miniconda3/lib/python3.9/site-packages/sklearn/linear_model/_stochastic_gradient.py:696: ConvergenceWarning: Maximum number of iteration reached before convergence. Consider increasing max_iter to improve the fit.\n",
      "  warnings.warn(\n"
     ]
    },
    {
     "name": "stdout",
     "output_type": "stream",
     "text": [
      "LGBM: 0.892147 (0.008948) 71.05766415596008 seconds\n",
      "XGB: 0.893441 (0.007933) 753.316484451294 seconds\n"
     ]
    },
    {
     "data": {
      "image/png": "[encoded data removed]",
      "text/plain": [
       "<Figure size 432x288 with 1 Axes>"
      ]
     },
     "metadata": {
      "needs_background": "light"
     },
     "output_type": "display_data"
    }
   ],
   "source": [
    "# Compare Algorithms\n",
    "import pandas\n",
    "import matplotlib.pyplot as plt\n",
    "from sklearn.model_selection import RepeatedKFold,cross_val_score\n",
    "from sklearn.linear_model import LogisticRegression\n",
    "from sklearn.tree import DecisionTreeClassifier\n",
    "from sklearn.neighbors import KNeighborsClassifier\n",
    "from sklearn.discriminant_analysis import LinearDiscriminantAnalysis\n",
    "from sklearn.naive_bayes import GaussianNB\n",
    "from sklearn.svm import SVC\n",
    "from lightgbm import LGBMClassifier\n",
    "from xgboost import XGBClassifier\n",
    "from sklearn.linear_model import SGDClassifier\n",
    "from sklearn.ensemble import RandomForestClassifier,GradientBoostingClassifier\n",
    "from datetime import datetime\n",
    "import time\n",
    "# prepare configuration for cross validation test harness\n",
    "seed = 7\n",
    "# prepare models\n",
    "models = []\n",
    "models.append(('LR', LogisticRegression(max_iter=10000)))\n",
    "models.append(('LDA', LinearDiscriminantAnalysis()))\n",
    "models.append(('KNN', KNeighborsClassifier()))\n",
    "models.append(('DTC', DecisionTreeClassifier()))\n",
    "models.append(('NB', GaussianNB()))\n",
    "models.append(('SVM', SVC(kernel='rbf')))\n",
    "models.append((\"RF\", RandomForestClassifier(n_estimators = 100)))\n",
    "models.append((\"GBC\", GradientBoostingClassifier(n_estimators=100)))\n",
    "models.append((\"SGD\", SGDClassifier(loss=\"log\", penalty=\"l2\")))\n",
    "models.append((\"LGBM\", LGBMClassifier(objective='multiclass', random_state=5)))\n",
    "models.append((\"XGB\",XGBClassifier()))\n",
    "\n",
    "# evaluate each model in turn\n",
    "results = []\n",
    "names = []\n",
    "scoring = 'accuracy'\n",
    "for name, model in models:\n",
    "    start_time = time.time()\n",
    "    cv = RepeatedKFold(n_splits=10, n_repeats=3, random_state=seed)\n",
    "    cv_results = cross_val_score(model, X_train_scaled, y_train_values, cv=cv, scoring=scoring, n_jobs=-1)\n",
    "    results.append(cv_results)\n",
    "    names.append(name)\n",
    "    msg = \"%s: %f (%f) %s seconds\" % (name, cv_results.mean(), cv_results.std(), time.time() - start_time)\n",
    "    print(msg)\n",
    "\n",
    "# boxplot algorithm comparison\n",
    "fig = plt.figure()\n",
    "fig.suptitle('Algorithm Comparison')\n",
    "ax = fig.add_subplot(111)\n",
    "plt.boxplot(results)\n",
    "ax.set_xticklabels(names)\n",
    "plt.show()"
   ]
  },
  {
   "cell_type": "markdown",
   "id": "57d85aed",
   "metadata": {},
   "source": [
    "# Training using LGBM\n",
    "Since LGBM is the most accurate and time efficient model. We will train our data on that"
   ]
  },
  {
   "cell_type": "code",
   "execution_count": 10,
   "id": "3697f500",
   "metadata": {
    "collapsed": true
   },
   "outputs": [
    {
     "name": "stdout",
     "output_type": "stream",
     "text": [
      "CM_EM              6426\n",
      "TEMRA              3259\n",
      "DP_EM_nonTERMA      789\n",
      "CM_EM_Senescent     631\n",
      "CM_EM_TEMRA         491\n",
      "Name: x, dtype: int64\n"
     ]
    }
   ],
   "source": [
    "import pandas as pd\n",
    "maindir = \"/research/labs/immunology/goronzy_weyand/GoronzyLab_Mayo/Abhinav/scCITESeq/Ines/Run02_and_Run03_analysis/downstream_analysis/Integrated_Run/celltype_annotation/\"\n",
    "\n",
    "X_train = pd.read_csv(maindir+\"CD8_req_count_RNA_ADT_40_var.csv\", index_col=[0])\n",
    "y_train = pd.read_csv(maindir+\"CD8_celltypes.csv\")\n",
    "\n",
    "X_test = pd.read_csv(maindir+\"CD8_rerun_counts.csv\", index_col=[0])\n",
    "print(y_train.iloc[:,-1].value_counts())"
   ]
  },
  {
   "cell_type": "code",
   "execution_count": 36,
   "id": "c704f016",
   "metadata": {},
   "outputs": [],
   "source": [
    "X_test.index = X_test.loc[:,\"Row.names\"]"
   ]
  },
  {
   "cell_type": "code",
   "execution_count": 11,
   "id": "f96c1199",
   "metadata": {},
   "outputs": [
    {
     "name": "stdout",
     "output_type": "stream",
     "text": [
      "3    6426\n",
      "2    3259\n",
      "4     789\n",
      "1     631\n",
      "0     491\n",
      "Name: x, dtype: int64\n"
     ]
    }
   ],
   "source": [
    "y_train.iloc[:,-1].value_counts()\n",
    "y_train_float = y_train.iloc[:,-1].map({\"CM_EM_TEMRA\":0,\"CM_EM_Senescent\":1,\"TEMRA\":2,\"CM_EM\":3,\"DP_EM_nonTERMA\":4})\n",
    "print(y_train_float.value_counts())\n",
    "X_test.pop(\"Row.names\")"
   ]
  },
  {
   "cell_type": "code",
   "execution_count": 52,
   "id": "71fef49d",
   "metadata": {},
   "outputs": [],
   "source": [
    "# assigning the same column name to both the training and test dataset\n",
    "import numpy as np\n",
    "same_column = np.intersect1d(X_train.columns, X_test.columns)\n",
    "X_train_sel = X_train.loc[:,same_column]\n",
    "X_test_sel = X_test.loc[:,same_column]"
   ]
  },
  {
   "cell_type": "code",
   "execution_count": 53,
   "id": "a5b47a9b",
   "metadata": {
    "scrolled": true
   },
   "outputs": [
    {
     "name": "stdout",
     "output_type": "stream",
     "text": [
      "(11596, 2336) (3685, 2336)\n"
     ]
    }
   ],
   "source": [
    "print(X_train_sel.shape,X_test_sel.shape)"
   ]
  },
  {
   "cell_type": "code",
   "execution_count": 55,
   "id": "ed7581e0",
   "metadata": {},
   "outputs": [
    {
     "data": {
      "text/plain": [
       "True"
      ]
     },
     "execution_count": 55,
     "metadata": {},
     "output_type": "execute_result"
    }
   ],
   "source": [
    "# To check it worked and same column name are present\n",
    "X_train_sel.columns.equalsuals(X_test_sel.columns)"
   ]
  },
  {
   "cell_type": "code",
   "execution_count": 56,
   "id": "0fe2fc1c",
   "metadata": {
    "collapsed": true
   },
   "outputs": [
    {
     "name": "stdout",
     "output_type": "stream",
     "text": [
      "[[-0.34690533  0.86893289 -0.01762238 ... -0.35153056 -0.02167328\n",
      "  -0.20294834]\n",
      " [-0.34690533 -0.52049703 -0.01762238 ... -0.35153056 -0.02167328\n",
      "  -0.20294834]\n",
      " [-0.34690533 -0.52049703 -0.01762238 ... -0.35153056 -0.02167328\n",
      "  -0.20294834]\n",
      " ...\n",
      " [ 1.83816487  0.86893289 -0.01762238 ... -0.35153056 -0.02167328\n",
      "  -0.20294834]\n",
      " [-0.34690533 -0.52049703 -0.01762238 ... -0.35153056 -0.02167328\n",
      "  -0.20294834]\n",
      " [-0.34690533 -0.52049703 -0.01762238 ... -0.35153056 -0.02167328\n",
      "  -0.20294834]] [[ 1.83816487 -0.52049703 -0.01762238 ...  1.56584875 -0.02167328\n",
      "  -0.20294834]\n",
      " [-0.34690533 -0.52049703 -0.01762238 ... -0.35153056 -0.02167328\n",
      "  -0.20294834]\n",
      " [-0.34690533  0.86893289 -0.01762238 ... -0.35153056 -0.02167328\n",
      "  -0.20294834]\n",
      " ...\n",
      " [-0.34690533 -0.52049703 -0.01762238 ... -0.35153056 -0.02167328\n",
      "   3.77237087]\n",
      " [-0.34690533 -0.52049703 -0.01762238 ... -0.35153056 -0.02167328\n",
      "  -0.20294834]\n",
      " [-0.34690533 -0.52049703 -0.01762238 ... -0.35153056 -0.02167328\n",
      "  -0.20294834]]\n",
      "(11596, 2336) (3685, 2336) (11596, 1)\n"
     ]
    }
   ],
   "source": [
    "from sklearn.preprocessing import StandardScaler\n",
    "scaler = StandardScaler()\n",
    "X_train_scaled = scaler.fit_transform(X_train_sel)\n",
    "X_test_scaled = scaler.transform(X_test_sel)\n",
    "print(X_train_scaled,X_test_scaled)\n",
    "print(X_train_scaled.shape, X_test_scaled.shape, y_train_float.shape,)"
   ]
  },
  {
   "cell_type": "code",
   "execution_count": 61,
   "id": "99b1ffee",
   "metadata": {},
   "outputs": [
    {
     "data": {
      "text/plain": [
       "LGBMClassifier(objective='multiclass', random_state=5)"
      ]
     },
     "execution_count": 61,
     "metadata": {},
     "output_type": "execute_result"
    }
   ],
   "source": [
    "from lightgbm import LGBMClassifier\n",
    "model = LGBMClassifier(objective='multiclass',random_state=5)\n",
    "\n",
    "# training a model\n",
    "model.fit(X_train_scaled,y_train_float.values)"
   ]
  },
  {
   "cell_type": "code",
   "execution_count": 63,
   "id": "181b2c87",
   "metadata": {},
   "outputs": [],
   "source": [
    "#Predict the response for test dataset\n",
    "y_pred = model.predict(X_test_scaled)\n"
   ]
  },
  {
   "cell_type": "code",
   "execution_count": 65,
   "id": "d70b6caf",
   "metadata": {},
   "outputs": [
    {
     "data": {
      "text/plain": [
       "['/research/labs/immunology/goronzy_weyand/GoronzyLab_Mayo/Abhinav/scCITESeq/Ines/Run02_and_Run03_analysis/downstream_analysis/Integrated_Run/celltype_annotation/CD8_LGBMC_Run02_03_classifier.joblib']"
      ]
     },
     "execution_count": 65,
     "metadata": {},
     "output_type": "execute_result"
    }
   ],
   "source": [
    "import joblib\n",
    "joblib.dump(model,\"/research/labs/immunology/goronzy_weyand/GoronzyLab_Mayo/Abhinav/scCITESeq/Ines/Run02_and_Run03_analysis/downstream_analysis/Integrated_Run/celltype_annotation/CD8_LGBMC_Run02_03_classifier.joblib\")\n"
   ]
  },
  {
   "cell_type": "code",
   "execution_count": 67,
   "id": "b1afde42",
   "metadata": {},
   "outputs": [
    {
     "data": {
      "text/plain": [
       "(array([0, 1, 2, 3, 4]), array([ 818,    4,  776, 2039,   48]))"
      ]
     },
     "execution_count": 67,
     "metadata": {},
     "output_type": "execute_result"
    }
   ],
   "source": [
    "import numpy as np\n",
    "np.unique(y_pred, return_counts=True)"
   ]
  },
  {
   "cell_type": "code",
   "execution_count": null,
   "id": "eb43e134",
   "metadata": {},
   "outputs": [],
   "source": [
    "y_pred_df = pd.DataFrame(y_pred.tolist())\n",
    "\n",
    "y_pred_df_cell_annotation = pd.DataFrame(y_pred_df.iloc[:,-1].map({\"CM_EM_TEMRA\":0,\"CM_EM_Senescent\":1,\"TEMRA\":2,\"CM_EM\":3,\"DP_EM_nonTERMA\":4}))\n",
    "\n",
    "y_pred_df_cell_annotation.to_csv('/research/labs/immunology/goronzy_weyand/GoronzyLab_Mayo/Abhinav/scCITESeq/Ines/Run02_and_Run03_analysis/downstream_analysis/Integrated_Run/celltype_annotation/CD8_rerun01_celltype_annotation.csv',\n",
    "                                  header=False,index=False)\n"
   ]
  },
  {
   "cell_type": "code",
   "execution_count": 77,
   "id": "690c5a60",
   "metadata": {},
   "outputs": [],
   "source": [
    "y_pred_df = pd.DataFrame(y_pred.tolist())\n",
    "y_pred_df_cell_annotation = pd.DataFrame(y_pred_df.iloc[:,-1].map({0:\"CM_EM_TEMRA\",1:\"CM_EM_Senescent\",2:\"TEMRA\",3:\"CM_EM\",4:\"DP_EM_nonTERMA\"}))\n",
    "\n"
   ]
  },
  {
   "cell_type": "code",
   "execution_count": 87,
   "id": "e79af5d5",
   "metadata": {},
   "outputs": [],
   "source": [
    "y_pred_df_cell_annotation.index = X_test.index"
   ]
  },
  {
   "cell_type": "code",
   "execution_count": 90,
   "id": "53c9c524",
   "metadata": {},
   "outputs": [],
   "source": [
    "y_pred_df_cell_annotation.to_csv('/research/labs/immunology/goronzy_weyand/GoronzyLab_Mayo/Abhinav/scCITESeq/Ines/Run02_and_Run03_analysis/downstream_analysis/Integrated_Run/celltype_annotation/CD8_rerun01_celltype_annotation.csv',\n",
    "                                  header=True,index=True)\n"
   ]
  },
  {
   "cell_type": "markdown",
   "id": "1e50f60b",
   "metadata": {
    "collapsed": true
   },
   "source": [
    "## CD4 Old 65 to 80 years "
   ]
  },
  {
   "cell_type": "code",
   "execution_count": 1,
   "id": "2ef7f03d",
   "metadata": {},
   "outputs": [
    {
     "name": "stdout",
     "output_type": "stream",
     "text": [
      "(20412, 2533) (20412,)\n"
     ]
    }
   ],
   "source": [
    "# We get both the dataset from the Seurat. In Seurat we have identified the variable features for both the RNA (2500) and ADT (10).\n",
    "# The features has been merged with their raw counts\n",
    "maindir = \"/research/labs/immunology/goronzy_weyand/GoronzyLab_Mayo/Abhinav/scCITESeq/Ines/Run02_and_Run03_analysis/downstream_analysis/Integrated_Run/celltype_annotation/\"\n",
    "import pandas as pd\n",
    "X_train = pd.read_csv(maindir+\"CD4_reference_old.csv\",index_col=[0])\n",
    "y_train = pd.read_csv(maindir+\"CD4_reference_celltypes_old.csv\")\n",
    "y_train.iloc[:,-1].value_counts()\n",
    "y_train_float = y_train.iloc[:,-1].map({\"EM_CM\":0,\"Tregs\":1,\"Naive_stem_cell_like\":2,\"CD4_TEMRA\":3})\n",
    "y_train_float.value_counts()\n",
    "y_train_values = y_train_float.values\n",
    "from sklearn.preprocessing import StandardScaler\n",
    "scaler = StandardScaler()\n",
    "X_train_scaled = scaler.fit_transform(X_train)\n",
    "print(X_train_scaled.shape,y_train_values.shape)"
   ]
  },
  {
   "cell_type": "code",
   "execution_count": 2,
   "id": "d8658961",
   "metadata": {},
   "outputs": [
    {
     "name": "stdout",
     "output_type": "stream",
     "text": [
      "0.9279018450206931\n"
     ]
    }
   ],
   "source": [
    "from lightgbm import LGBMClassifier\n",
    "from sklearn.model_selection import RepeatedKFold,cross_val_score\n",
    "from sklearn.linear_model import LogisticRegression\n",
    "model = LGBMClassifier(objective='multiclass',random_state=5)\n",
    "cv = RepeatedKFold(n_splits=10, n_repeats=3, random_state=7)\n",
    "cv_results = cross_val_score(model, X_train_scaled, y_train_values, cv=cv, scoring=\"accuracy\", n_jobs=-1)\n",
    "print(cv_results.mean())"
   ]
  },
  {
   "cell_type": "code",
   "execution_count": 3,
   "id": "7386c816",
   "metadata": {},
   "outputs": [
    {
     "data": {
      "text/plain": [
       "LGBMClassifier(objective='multiclass', random_state=5)"
      ]
     },
     "execution_count": 3,
     "metadata": {},
     "output_type": "execute_result"
    }
   ],
   "source": [
    "# training a model\n",
    "model.fit(X_train_scaled,y_train_float.values)"
   ]
  },
  {
   "cell_type": "code",
   "execution_count": 4,
   "id": "44e54956",
   "metadata": {},
   "outputs": [
    {
     "data": {
      "text/plain": [
       "['/research/labs/immunology/goronzy_weyand/GoronzyLab_Mayo/Abhinav/scCITESeq/Ines/Run02_and_Run03_analysis/downstream_analysis/Integrated_Run/celltype_annotation/CD4_LGBMC_Run02_03_classifier_old.joblib']"
      ]
     },
     "execution_count": 4,
     "metadata": {},
     "output_type": "execute_result"
    }
   ],
   "source": [
    "import joblib\n",
    "joblib.dump(model,\"/research/labs/immunology/goronzy_weyand/GoronzyLab_Mayo/Abhinav/scCITESeq/Ines/Run02_and_Run03_analysis/downstream_analysis/Integrated_Run/celltype_annotation/CD4_LGBMC_Run02_03_classifier_old.joblib\")\n"
   ]
  },
  {
   "cell_type": "code",
   "execution_count": null,
   "id": "aa1f3e95",
   "metadata": {},
   "outputs": [],
   "source": [
    "import joblib\n",
    "model = joblib.load('/research/labs/immunology/goronzy_weyand/GoronzyLab_Mayo/Abhinav/scCITESeq/Ines/Run02_and_Run03_analysis/downstream_analysis/Integrated_Run/celltype_annotation/CD4_LGBMC_Run02_03_classifier_old.joblib')\n"
   ]
  },
  {
   "cell_type": "code",
   "execution_count": 5,
   "id": "5adc9130",
   "metadata": {},
   "outputs": [
    {
     "name": "stdout",
     "output_type": "stream",
     "text": [
      "[[-0.10488564 -0.09793645 -0.08340405 ... -1.46845929 -0.9847065\n",
      "  -1.00684005]\n",
      " [-0.04354634 -0.09793645 -0.08340405 ...  0.06071914 -0.4562832\n",
      "  -0.18148211]\n",
      " [-0.10488564 -0.09793645  0.06671001 ...  0.44301375 -0.31216776\n",
      "  -0.31904177]\n",
      " ...\n",
      " [ 1.48993627 -0.09793645 -0.08340405 ...  0.06071914 -0.50432169\n",
      "   0.02485738]\n",
      " [-0.10488564 -0.09793645 -0.08340405 ... -0.449007    0.02410161\n",
      "   0.16241704]\n",
      " [-0.10488564 -0.09793645 -0.08340405 ... -0.70387007 -0.93666802\n",
      "  -0.38782159]] [[-0.10488564 -0.09793645 -0.08340405 ...  1.3350345   0.02410161\n",
      "   0.57509601]\n",
      " [-0.10488564 -0.09793645 -0.08340405 ...  0.44301375  1.75348695\n",
      "   1.05655481]\n",
      " [-0.10488564 -0.09793645 -0.08340405 ...  0.44301375  0.79271732\n",
      "   0.85021532]\n",
      " ...\n",
      " [-0.10488564 -0.09793645 -0.08340405 ... -1.21359622 -0.60039865\n",
      "  -0.31904177]\n",
      " [-0.10488564 -0.09793645 -0.08340405 ... -1.08616468 -0.07197535\n",
      "  -0.93806022]\n",
      " [-0.10488564 -0.09793645 -0.08340405 ... -0.32157547 -0.16805232\n",
      "   0.36875652]]\n"
     ]
    }
   ],
   "source": [
    "# We have trained our model on 2500 RNA features and 40 ADT features using LGBMC, we will load it.\n",
    "\n",
    "test_dir = \"/research/labs/immunology/goronzy_weyand/GoronzyLab_Mayo/Abhinav/scCITESeq/Ines/Run02_and_Run03_analysis/downstream_analysis/Integrated_Run/celltype_annotation/\"\n",
    "import pandas as pd\n",
    "X_test = pd.read_csv(test_dir+\"CD4_query_count_old.csv\",index_col=[0])\n",
    "X_test_scaled = scaler.transform(X_test)\n",
    "print(X_train_scaled,X_test_scaled)\n",
    "\n"
   ]
  },
  {
   "cell_type": "code",
   "execution_count": 6,
   "id": "d3d8000c",
   "metadata": {},
   "outputs": [
    {
     "data": {
      "text/plain": [
       "(array([0, 1, 2, 3]), array([23191,  6094,  3895,  3119]))"
      ]
     },
     "execution_count": 6,
     "metadata": {},
     "output_type": "execute_result"
    }
   ],
   "source": [
    "#Predict the response for test dataset\n",
    "y_pred = model.predict(X_test_scaled)\n",
    "\n",
    "import numpy as np\n",
    "np.unique(y_pred, return_counts=True)\n"
   ]
  },
  {
   "cell_type": "code",
   "execution_count": 7,
   "id": "e79a8117",
   "metadata": {},
   "outputs": [],
   "source": [
    "y_pred_df = pd.DataFrame(y_pred.tolist())\n",
    "y_pred_df_cell_annotation = pd.DataFrame(y_pred_df.iloc[:,-1].map({0:\"EM_CM\",1:\"Tregs\",2:\"Naive_stem_cell_like\",3:\"CD4_TEMRA\"}))\n",
    "y_pred_df_cell_annotation.to_csv('/research/labs/immunology/goronzy_weyand/GoronzyLab_Mayo/Abhinav/scCITESeq/Ines/Run02_and_Run03_analysis/downstream_analysis/Integrated_Run/celltype_annotation/celltype_annotation_Old_65_80_LGBMC.csv',\n",
    "                                  header=False,index=False)\n"
   ]
  },
  {
   "cell_type": "markdown",
   "id": "c8dc58a1",
   "metadata": {},
   "source": [
    "## CD8 Old 65 to 80 years"
   ]
  },
  {
   "cell_type": "code",
   "execution_count": 8,
   "id": "b6b061eb",
   "metadata": {},
   "outputs": [
    {
     "name": "stdout",
     "output_type": "stream",
     "text": [
      "(11596, 2532) (11596,)\n"
     ]
    }
   ],
   "source": [
    "# We get both the dataset from the Seurat. In Seurat we have identified the variable features for both the RNA (2500) and ADT (10).\n",
    "# The features has been merged with their raw counts\n",
    "maindir = \"/research/labs/immunology/goronzy_weyand/GoronzyLab_Mayo/Abhinav/scCITESeq/Ines/Run02_and_Run03_analysis/downstream_analysis/Integrated_Run/celltype_annotation/\"\n",
    "import pandas as pd\n",
    "X_train = pd.read_csv(maindir+\"CD8_reference_old.csv\",index_col=[0])\n",
    "y_train = pd.read_csv(maindir+\"CD8_reference_celltypes_old.csv\")\n",
    "y_train.iloc[:,-1].value_counts()\n",
    "y_train_float = y_train.iloc[:,-1].map({\"CM_EM_TEMRA\":0,\"CM_EM_Senescent\":1,\"TEMRA\":2,\"CM_EM\":3,\"DP_EM_nonTERMA\":4})\n",
    "y_train_float.value_counts()\n",
    "y_train_values = y_train_float.values\n",
    "from sklearn.preprocessing import StandardScaler\n",
    "scaler = StandardScaler()\n",
    "X_train_scaled = scaler.fit_transform(X_train)\n",
    "print(X_train_scaled.shape,y_train_values.shape)"
   ]
  },
  {
   "cell_type": "code",
   "execution_count": 9,
   "id": "ff28a217",
   "metadata": {},
   "outputs": [
    {
     "name": "stdout",
     "output_type": "stream",
     "text": [
      "0.8921472632967383\n"
     ]
    }
   ],
   "source": [
    "from lightgbm import LGBMClassifier\n",
    "from sklearn.model_selection import RepeatedKFold,cross_val_score\n",
    "from sklearn.linear_model import LogisticRegression\n",
    "model = LGBMClassifier(objective='multiclass',random_state=5)\n",
    "cv = RepeatedKFold(n_splits=10, n_repeats=3, random_state=7)\n",
    "cv_results = cross_val_score(model, X_train_scaled, y_train_values, cv=cv, scoring=\"accuracy\", n_jobs=-1)\n",
    "print(cv_results.mean())"
   ]
  },
  {
   "cell_type": "code",
   "execution_count": 10,
   "id": "924d6762",
   "metadata": {},
   "outputs": [
    {
     "data": {
      "text/plain": [
       "LGBMClassifier(objective='multiclass', random_state=5)"
      ]
     },
     "execution_count": 10,
     "metadata": {},
     "output_type": "execute_result"
    }
   ],
   "source": [
    "# training a model\n",
    "model.fit(X_train_scaled,y_train_float.values)\n"
   ]
  },
  {
   "cell_type": "code",
   "execution_count": 11,
   "id": "844f653e",
   "metadata": {},
   "outputs": [
    {
     "data": {
      "text/plain": [
       "['/research/labs/immunology/goronzy_weyand/GoronzyLab_Mayo/Abhinav/scCITESeq/Ines/Run02_and_Run03_analysis/downstream_analysis/Integrated_Run/celltype_annotation/CD8_LGBMC_Run02_03_classifier_old.joblib']"
      ]
     },
     "execution_count": 11,
     "metadata": {},
     "output_type": "execute_result"
    }
   ],
   "source": [
    "import joblib\n",
    "joblib.dump(model,\"/research/labs/immunology/goronzy_weyand/GoronzyLab_Mayo/Abhinav/scCITESeq/Ines/Run02_and_Run03_analysis/downstream_analysis/Integrated_Run/celltype_annotation/CD8_LGBMC_Run02_03_classifier_old.joblib\")\n"
   ]
  },
  {
   "cell_type": "code",
   "execution_count": null,
   "id": "b06a5281",
   "metadata": {},
   "outputs": [],
   "source": [
    "import joblib\n",
    "model = joblib.load('/research/labs/immunology/goronzy_weyand/GoronzyLab_Mayo/Abhinav/scCITESeq/Ines/Run02_and_Run03_analysis/downstream_analysis/Integrated_Run/celltype_annotation/CD8_LGBMC_Run02_03_classifier_old.joblib')\n"
   ]
  },
  {
   "cell_type": "code",
   "execution_count": 12,
   "id": "6d0b2600",
   "metadata": {},
   "outputs": [
    {
     "name": "stdout",
     "output_type": "stream",
     "text": [
      "[[-0.1090723  -0.17411401 -0.26332886 ... -0.4292491  -0.15528555\n",
      "   0.14683655]\n",
      " [-0.1090723  -0.17411401 -0.26332886 ... -1.2110434  -0.95010559\n",
      "  -1.46774069]\n",
      " [-0.1090723  -0.08177346 -0.09997391 ...  1.24602439  1.27539051\n",
      "   0.80922721]\n",
      " ...\n",
      " [-0.1090723  -0.17411401 -0.1326449  ...  1.13433949  1.0634385\n",
      "   0.31243421]\n",
      " [-0.1090723  -0.17411401 -0.06730292 ...  0.12917539  0.16264246\n",
      "  -0.43275528]\n",
      " [-0.1090723  -0.17411401 -0.26332886 ... -0.4292491  -0.89711759\n",
      "  -0.84674945]] [[ 0.06293165 -0.17411401 -0.26332886 ...  0.68759989  2.07021054\n",
      "   1.09902312]\n",
      " [-0.1090723  -0.17411401 -0.16531589 ...  1.69276399  2.91801858\n",
      "   2.21680736]\n",
      " [-0.1090723  -0.17411401 -0.23065787 ...  1.58107909  0.79849849\n",
      "   1.8028132 ]\n",
      " ...\n",
      " [-0.1090723  -0.17411401 -0.26332886 ...  0.57591499  0.26861846\n",
      "  -0.30855703]\n",
      " [-0.1090723  -0.17411401 -0.26332886 ... -0.0941944   0.00367845\n",
      "   0.85062662]\n",
      " [-0.05173765 -0.17411401  0.03071005 ... -0.7643038  -0.36723756\n",
      "  -0.06016054]]\n"
     ]
    }
   ],
   "source": [
    "# We have trained our model on 2500 RNA features and 40 ADT features using LGBMC, we will load it.\n",
    "\n",
    "test_dir = \"/research/labs/immunology/goronzy_weyand/GoronzyLab_Mayo/Abhinav/scCITESeq/Ines/Run02_and_Run03_analysis/downstream_analysis/Integrated_Run/celltype_annotation/\"\n",
    "import pandas as pd\n",
    "X_test = pd.read_csv(test_dir+\"CD8_query_count_old.csv\",index_col=[0])\n",
    "X_test_scaled = scaler.transform(X_test)\n",
    "print(X_train_scaled,X_test_scaled)\n",
    "\n"
   ]
  },
  {
   "cell_type": "code",
   "execution_count": 15,
   "id": "274caaed",
   "metadata": {},
   "outputs": [
    {
     "data": {
      "text/plain": [
       "(array([0, 1, 2, 3, 4]), array([ 562,  568, 4671, 8625,  658]))"
      ]
     },
     "execution_count": 15,
     "metadata": {},
     "output_type": "execute_result"
    }
   ],
   "source": [
    "#Predict the response for test dataset\n",
    "y_pred = model.predict(X_test_scaled)\n",
    "\n",
    "import numpy as np\n",
    "np.unique(y_pred, return_counts=True)\n"
   ]
  },
  {
   "cell_type": "code",
   "execution_count": null,
   "id": "5f92d895",
   "metadata": {},
   "outputs": [],
   "source": [
    "y_pred_df = pd.DataFrame(y_pred.tolist())\n",
    "y_pred_df_cell_annotation = pd.DataFrame(y_pred_df.iloc[:,-1].map({0:\"CM_EM_TEMRA\",1:\"CM_EM_Senescent\",2:\"TEMRA\",3:\"CM_EM\",4:\"DP_EM_nonTERMA\"}))\n",
    "y_pred_df_cell_annotation.to_csv('/research/labs/immunology/goronzy_weyand/GoronzyLab_Mayo/Abhinav/scCITESeq/Ines/Run02_and_Run03_analysis/downstream_analysis/Integrated_Run/celltype_annotation/celltype_annotation_CD8_Old_65_80_LGBMC.csv',\n",
    "                                  header=False,index=False)\n"
   ]
  },
  {
   "cell_type": "code",
   "execution_count": 1,
   "id": "c28e4be2",
   "metadata": {},
   "outputs": [],
   "source": [
    "import pandas as pd"
   ]
  },
  {
   "cell_type": "code",
   "execution_count": 3,
   "id": "10929e1d",
   "metadata": {},
   "outputs": [],
   "source": [
    "maindir=\"/research/labs/immunology/goronzy_weyand/GoronzyLab_Mayo/Abhinav/scCITESeq/Ines/Run02_03_04_age_65_80_analysis/GRN/\"\n",
    "aux_mtx = pd.read_csv(maindir+\"CD8/CD8_AUC_mat.csv\",index_col=[0])\n"
   ]
  },
  {
   "cell_type": "code",
   "execution_count": 4,
   "id": "d16cffed",
   "metadata": {},
   "outputs": [
    {
     "data": {
      "text/html": [
       "<div>\n",
       "<style scoped>\n",
       "    .dataframe tbody tr th:only-of-type {\n",
       "        vertical-align: middle;\n",
       "    }\n",
       "\n",
       "    .dataframe tbody tr th {\n",
       "        vertical-align: top;\n",
       "    }\n",
       "\n",
       "    .dataframe thead th {\n",
       "        text-align: right;\n",
       "    }\n",
       "</style>\n",
       "<table border=\"1\" class=\"dataframe\">\n",
       "  <thead>\n",
       "    <tr style=\"text-align: right;\">\n",
       "      <th></th>\n",
       "      <th>BB22016_gE_TTTATGCAGGACAAGA-1</th>\n",
       "      <th>BB22013_gE_AGGGAGTGTATAATGG-1</th>\n",
       "      <th>BB22014_DMSO_GTAACCACACAAACGG-1</th>\n",
       "      <th>BB22015_gE_CATGCAACACTACTTT-1</th>\n",
       "      <th>BB22013_DMSO_AAAGGATCACTGTCGG-1</th>\n",
       "      <th>BB22013_DMSO_AAAGGTACACGGTGTC-1</th>\n",
       "      <th>BB22013_DMSO_AAAGTGAAGTGAATAC-1</th>\n",
       "      <th>BB22013_DMSO_AACAGGGAGCGTTCAT-1</th>\n",
       "      <th>BB22013_DMSO_AACCACAAGAAGCGAA-1</th>\n",
       "      <th>BB22013_DMSO_AAGGTAATCAGCATTG-1</th>\n",
       "      <th>...</th>\n",
       "      <th>gE_BB22004_TTCGGTCTCTATTCGT-1</th>\n",
       "      <th>gE_BB22004_TTCTAACGTCGTACTA-1</th>\n",
       "      <th>gE_BB22004_TTCTCTCCAATTCTTC-1</th>\n",
       "      <th>gE_BB22004_TTCTTGAGTACGAAAT-1</th>\n",
       "      <th>gE_BB22004_TTGCCTGAGCGAACTG-1</th>\n",
       "      <th>gE_BB22004_TTGGATGCATCCCACT-1</th>\n",
       "      <th>gE_BB22004_TTGGGATAGCCAGTAG-1</th>\n",
       "      <th>gE_BB22004_TTGGGATTCTTCGCTG-1</th>\n",
       "      <th>gE_BB22004_TTTACCAAGCAAATGT-1</th>\n",
       "      <th>gE_BB22004_TTTGACTGTCGTTGGC-1</th>\n",
       "    </tr>\n",
       "  </thead>\n",
       "  <tbody>\n",
       "    <tr>\n",
       "      <th>AHR(+)</th>\n",
       "      <td>0.050806</td>\n",
       "      <td>0.029821</td>\n",
       "      <td>0.050585</td>\n",
       "      <td>0.039430</td>\n",
       "      <td>0.017230</td>\n",
       "      <td>0.172189</td>\n",
       "      <td>0.067374</td>\n",
       "      <td>0.018997</td>\n",
       "      <td>0.083720</td>\n",
       "      <td>0.082836</td>\n",
       "      <td>...</td>\n",
       "      <td>0.161365</td>\n",
       "      <td>0.062845</td>\n",
       "      <td>0.104042</td>\n",
       "      <td>0.076209</td>\n",
       "      <td>0.050806</td>\n",
       "      <td>0.187652</td>\n",
       "      <td>0.094102</td>\n",
       "      <td>0.104042</td>\n",
       "      <td>0.005633</td>\n",
       "      <td>0.150652</td>\n",
       "    </tr>\n",
       "    <tr>\n",
       "      <th>AR(+)</th>\n",
       "      <td>0.019881</td>\n",
       "      <td>0.058524</td>\n",
       "      <td>0.000000</td>\n",
       "      <td>0.019011</td>\n",
       "      <td>0.000000</td>\n",
       "      <td>0.000000</td>\n",
       "      <td>0.000000</td>\n",
       "      <td>0.000000</td>\n",
       "      <td>0.000000</td>\n",
       "      <td>0.043365</td>\n",
       "      <td>...</td>\n",
       "      <td>0.000000</td>\n",
       "      <td>0.000000</td>\n",
       "      <td>0.000000</td>\n",
       "      <td>0.083375</td>\n",
       "      <td>0.000000</td>\n",
       "      <td>0.001740</td>\n",
       "      <td>0.000000</td>\n",
       "      <td>0.000000</td>\n",
       "      <td>0.000000</td>\n",
       "      <td>0.000000</td>\n",
       "    </tr>\n",
       "    <tr>\n",
       "      <th>ARNT(+)</th>\n",
       "      <td>0.048597</td>\n",
       "      <td>0.087530</td>\n",
       "      <td>0.080186</td>\n",
       "      <td>0.005357</td>\n",
       "      <td>0.079468</td>\n",
       "      <td>0.040424</td>\n",
       "      <td>0.071184</td>\n",
       "      <td>0.071847</td>\n",
       "      <td>0.045339</td>\n",
       "      <td>0.009112</td>\n",
       "      <td>...</td>\n",
       "      <td>0.069141</td>\n",
       "      <td>0.105368</td>\n",
       "      <td>0.024520</td>\n",
       "      <td>0.123426</td>\n",
       "      <td>0.085045</td>\n",
       "      <td>0.128507</td>\n",
       "      <td>0.082118</td>\n",
       "      <td>0.100177</td>\n",
       "      <td>0.000000</td>\n",
       "      <td>0.015960</td>\n",
       "    </tr>\n",
       "    <tr>\n",
       "      <th>ATF1(+)</th>\n",
       "      <td>0.051845</td>\n",
       "      <td>0.059922</td>\n",
       "      <td>0.069862</td>\n",
       "      <td>0.028330</td>\n",
       "      <td>0.039389</td>\n",
       "      <td>0.047807</td>\n",
       "      <td>0.039699</td>\n",
       "      <td>0.027243</td>\n",
       "      <td>0.026280</td>\n",
       "      <td>0.034201</td>\n",
       "      <td>...</td>\n",
       "      <td>0.049888</td>\n",
       "      <td>0.016992</td>\n",
       "      <td>0.057872</td>\n",
       "      <td>0.043147</td>\n",
       "      <td>0.000280</td>\n",
       "      <td>0.063494</td>\n",
       "      <td>0.061692</td>\n",
       "      <td>0.037432</td>\n",
       "      <td>0.026777</td>\n",
       "      <td>0.074708</td>\n",
       "    </tr>\n",
       "    <tr>\n",
       "      <th>ATF2(+)</th>\n",
       "      <td>0.000000</td>\n",
       "      <td>0.045891</td>\n",
       "      <td>0.000000</td>\n",
       "      <td>0.136680</td>\n",
       "      <td>0.065938</td>\n",
       "      <td>0.000000</td>\n",
       "      <td>0.000000</td>\n",
       "      <td>0.000000</td>\n",
       "      <td>0.000000</td>\n",
       "      <td>0.000000</td>\n",
       "      <td>...</td>\n",
       "      <td>0.000000</td>\n",
       "      <td>0.000000</td>\n",
       "      <td>0.000000</td>\n",
       "      <td>0.000000</td>\n",
       "      <td>0.000000</td>\n",
       "      <td>0.000000</td>\n",
       "      <td>0.000000</td>\n",
       "      <td>0.000000</td>\n",
       "      <td>0.000000</td>\n",
       "      <td>0.001988</td>\n",
       "    </tr>\n",
       "    <tr>\n",
       "      <th>...</th>\n",
       "      <td>...</td>\n",
       "      <td>...</td>\n",
       "      <td>...</td>\n",
       "      <td>...</td>\n",
       "      <td>...</td>\n",
       "      <td>...</td>\n",
       "      <td>...</td>\n",
       "      <td>...</td>\n",
       "      <td>...</td>\n",
       "      <td>...</td>\n",
       "      <td>...</td>\n",
       "      <td>...</td>\n",
       "      <td>...</td>\n",
       "      <td>...</td>\n",
       "      <td>...</td>\n",
       "      <td>...</td>\n",
       "      <td>...</td>\n",
       "      <td>...</td>\n",
       "      <td>...</td>\n",
       "      <td>...</td>\n",
       "      <td>...</td>\n",
       "    </tr>\n",
       "    <tr>\n",
       "      <th>ZNF880(+)</th>\n",
       "      <td>0.060139</td>\n",
       "      <td>0.103877</td>\n",
       "      <td>0.056163</td>\n",
       "      <td>0.000000</td>\n",
       "      <td>0.000000</td>\n",
       "      <td>0.098907</td>\n",
       "      <td>0.000000</td>\n",
       "      <td>0.000000</td>\n",
       "      <td>0.014579</td>\n",
       "      <td>0.000000</td>\n",
       "      <td>...</td>\n",
       "      <td>0.000000</td>\n",
       "      <td>0.000000</td>\n",
       "      <td>0.070080</td>\n",
       "      <td>0.000000</td>\n",
       "      <td>0.000000</td>\n",
       "      <td>0.000000</td>\n",
       "      <td>0.000000</td>\n",
       "      <td>0.000000</td>\n",
       "      <td>0.000000</td>\n",
       "      <td>0.000000</td>\n",
       "    </tr>\n",
       "    <tr>\n",
       "      <th>ZNF90(+)</th>\n",
       "      <td>0.037247</td>\n",
       "      <td>0.047655</td>\n",
       "      <td>0.049585</td>\n",
       "      <td>0.013566</td>\n",
       "      <td>0.036312</td>\n",
       "      <td>0.044322</td>\n",
       "      <td>0.011870</td>\n",
       "      <td>0.000000</td>\n",
       "      <td>0.028535</td>\n",
       "      <td>0.046018</td>\n",
       "      <td>...</td>\n",
       "      <td>0.032335</td>\n",
       "      <td>0.000000</td>\n",
       "      <td>0.025845</td>\n",
       "      <td>0.045492</td>\n",
       "      <td>0.084902</td>\n",
       "      <td>0.018653</td>\n",
       "      <td>0.026313</td>\n",
       "      <td>0.028125</td>\n",
       "      <td>0.028827</td>\n",
       "      <td>0.026020</td>\n",
       "    </tr>\n",
       "    <tr>\n",
       "      <th>ZSCAN31(+)</th>\n",
       "      <td>0.000000</td>\n",
       "      <td>0.000000</td>\n",
       "      <td>0.000000</td>\n",
       "      <td>0.000000</td>\n",
       "      <td>0.000000</td>\n",
       "      <td>0.000000</td>\n",
       "      <td>0.000000</td>\n",
       "      <td>0.000000</td>\n",
       "      <td>0.000000</td>\n",
       "      <td>0.000000</td>\n",
       "      <td>...</td>\n",
       "      <td>0.000000</td>\n",
       "      <td>0.000000</td>\n",
       "      <td>0.000000</td>\n",
       "      <td>0.000000</td>\n",
       "      <td>0.000000</td>\n",
       "      <td>0.000000</td>\n",
       "      <td>0.000000</td>\n",
       "      <td>0.000000</td>\n",
       "      <td>0.000000</td>\n",
       "      <td>0.000000</td>\n",
       "    </tr>\n",
       "    <tr>\n",
       "      <th>ZSCAN32(+)</th>\n",
       "      <td>0.005151</td>\n",
       "      <td>0.044280</td>\n",
       "      <td>0.061540</td>\n",
       "      <td>0.040033</td>\n",
       "      <td>0.079342</td>\n",
       "      <td>0.096512</td>\n",
       "      <td>0.070938</td>\n",
       "      <td>0.090457</td>\n",
       "      <td>0.000000</td>\n",
       "      <td>0.000000</td>\n",
       "      <td>...</td>\n",
       "      <td>0.069131</td>\n",
       "      <td>0.000000</td>\n",
       "      <td>0.053859</td>\n",
       "      <td>0.088198</td>\n",
       "      <td>0.011748</td>\n",
       "      <td>0.046991</td>\n",
       "      <td>0.060546</td>\n",
       "      <td>0.000000</td>\n",
       "      <td>0.047714</td>\n",
       "      <td>0.053136</td>\n",
       "    </tr>\n",
       "    <tr>\n",
       "      <th>ZXDA(+)</th>\n",
       "      <td>0.027517</td>\n",
       "      <td>0.032442</td>\n",
       "      <td>0.045183</td>\n",
       "      <td>0.036102</td>\n",
       "      <td>0.032487</td>\n",
       "      <td>0.000858</td>\n",
       "      <td>0.003886</td>\n",
       "      <td>0.000000</td>\n",
       "      <td>0.038451</td>\n",
       "      <td>0.030499</td>\n",
       "      <td>...</td>\n",
       "      <td>0.016989</td>\n",
       "      <td>0.000000</td>\n",
       "      <td>0.000000</td>\n",
       "      <td>0.064025</td>\n",
       "      <td>0.020875</td>\n",
       "      <td>0.036463</td>\n",
       "      <td>0.002485</td>\n",
       "      <td>0.007952</td>\n",
       "      <td>0.000000</td>\n",
       "      <td>0.000000</td>\n",
       "    </tr>\n",
       "  </tbody>\n",
       "</table>\n",
       "<p>229 rows × 15084 columns</p>\n",
       "</div>"
      ],
      "text/plain": [
       "            BB22016_gE_TTTATGCAGGACAAGA-1  BB22013_gE_AGGGAGTGTATAATGG-1  \\\n",
       "AHR(+)                           0.050806                       0.029821   \n",
       "AR(+)                            0.019881                       0.058524   \n",
       "ARNT(+)                          0.048597                       0.087530   \n",
       "ATF1(+)                          0.051845                       0.059922   \n",
       "ATF2(+)                          0.000000                       0.045891   \n",
       "...                                   ...                            ...   \n",
       "ZNF880(+)                        0.060139                       0.103877   \n",
       "ZNF90(+)                         0.037247                       0.047655   \n",
       "ZSCAN31(+)                       0.000000                       0.000000   \n",
       "ZSCAN32(+)                       0.005151                       0.044280   \n",
       "ZXDA(+)                          0.027517                       0.032442   \n",
       "\n",
       "            BB22014_DMSO_GTAACCACACAAACGG-1  BB22015_gE_CATGCAACACTACTTT-1  \\\n",
       "AHR(+)                             0.050585                       0.039430   \n",
       "AR(+)                              0.000000                       0.019011   \n",
       "ARNT(+)                            0.080186                       0.005357   \n",
       "ATF1(+)                            0.069862                       0.028330   \n",
       "ATF2(+)                            0.000000                       0.136680   \n",
       "...                                     ...                            ...   \n",
       "ZNF880(+)                          0.056163                       0.000000   \n",
       "ZNF90(+)                           0.049585                       0.013566   \n",
       "ZSCAN31(+)                         0.000000                       0.000000   \n",
       "ZSCAN32(+)                         0.061540                       0.040033   \n",
       "ZXDA(+)                            0.045183                       0.036102   \n",
       "\n",
       "            BB22013_DMSO_AAAGGATCACTGTCGG-1  BB22013_DMSO_AAAGGTACACGGTGTC-1  \\\n",
       "AHR(+)                             0.017230                         0.172189   \n",
       "AR(+)                              0.000000                         0.000000   \n",
       "ARNT(+)                            0.079468                         0.040424   \n",
       "ATF1(+)                            0.039389                         0.047807   \n",
       "ATF2(+)                            0.065938                         0.000000   \n",
       "...                                     ...                              ...   \n",
       "ZNF880(+)                          0.000000                         0.098907   \n",
       "ZNF90(+)                           0.036312                         0.044322   \n",
       "ZSCAN31(+)                         0.000000                         0.000000   \n",
       "ZSCAN32(+)                         0.079342                         0.096512   \n",
       "ZXDA(+)                            0.032487                         0.000858   \n",
       "\n",
       "            BB22013_DMSO_AAAGTGAAGTGAATAC-1  BB22013_DMSO_AACAGGGAGCGTTCAT-1  \\\n",
       "AHR(+)                             0.067374                         0.018997   \n",
       "AR(+)                              0.000000                         0.000000   \n",
       "ARNT(+)                            0.071184                         0.071847   \n",
       "ATF1(+)                            0.039699                         0.027243   \n",
       "ATF2(+)                            0.000000                         0.000000   \n",
       "...                                     ...                              ...   \n",
       "ZNF880(+)                          0.000000                         0.000000   \n",
       "ZNF90(+)                           0.011870                         0.000000   \n",
       "ZSCAN31(+)                         0.000000                         0.000000   \n",
       "ZSCAN32(+)                         0.070938                         0.090457   \n",
       "ZXDA(+)                            0.003886                         0.000000   \n",
       "\n",
       "            BB22013_DMSO_AACCACAAGAAGCGAA-1  BB22013_DMSO_AAGGTAATCAGCATTG-1  \\\n",
       "AHR(+)                             0.083720                         0.082836   \n",
       "AR(+)                              0.000000                         0.043365   \n",
       "ARNT(+)                            0.045339                         0.009112   \n",
       "ATF1(+)                            0.026280                         0.034201   \n",
       "ATF2(+)                            0.000000                         0.000000   \n",
       "...                                     ...                              ...   \n",
       "ZNF880(+)                          0.014579                         0.000000   \n",
       "ZNF90(+)                           0.028535                         0.046018   \n",
       "ZSCAN31(+)                         0.000000                         0.000000   \n",
       "ZSCAN32(+)                         0.000000                         0.000000   \n",
       "ZXDA(+)                            0.038451                         0.030499   \n",
       "\n",
       "            ...  gE_BB22004_TTCGGTCTCTATTCGT-1  gE_BB22004_TTCTAACGTCGTACTA-1  \\\n",
       "AHR(+)      ...                       0.161365                       0.062845   \n",
       "AR(+)       ...                       0.000000                       0.000000   \n",
       "ARNT(+)     ...                       0.069141                       0.105368   \n",
       "ATF1(+)     ...                       0.049888                       0.016992   \n",
       "ATF2(+)     ...                       0.000000                       0.000000   \n",
       "...         ...                            ...                            ...   \n",
       "ZNF880(+)   ...                       0.000000                       0.000000   \n",
       "ZNF90(+)    ...                       0.032335                       0.000000   \n",
       "ZSCAN31(+)  ...                       0.000000                       0.000000   \n",
       "ZSCAN32(+)  ...                       0.069131                       0.000000   \n",
       "ZXDA(+)     ...                       0.016989                       0.000000   \n",
       "\n",
       "            gE_BB22004_TTCTCTCCAATTCTTC-1  gE_BB22004_TTCTTGAGTACGAAAT-1  \\\n",
       "AHR(+)                           0.104042                       0.076209   \n",
       "AR(+)                            0.000000                       0.083375   \n",
       "ARNT(+)                          0.024520                       0.123426   \n",
       "ATF1(+)                          0.057872                       0.043147   \n",
       "ATF2(+)                          0.000000                       0.000000   \n",
       "...                                   ...                            ...   \n",
       "ZNF880(+)                        0.070080                       0.000000   \n",
       "ZNF90(+)                         0.025845                       0.045492   \n",
       "ZSCAN31(+)                       0.000000                       0.000000   \n",
       "ZSCAN32(+)                       0.053859                       0.088198   \n",
       "ZXDA(+)                          0.000000                       0.064025   \n",
       "\n",
       "            gE_BB22004_TTGCCTGAGCGAACTG-1  gE_BB22004_TTGGATGCATCCCACT-1  \\\n",
       "AHR(+)                           0.050806                       0.187652   \n",
       "AR(+)                            0.000000                       0.001740   \n",
       "ARNT(+)                          0.085045                       0.128507   \n",
       "ATF1(+)                          0.000280                       0.063494   \n",
       "ATF2(+)                          0.000000                       0.000000   \n",
       "...                                   ...                            ...   \n",
       "ZNF880(+)                        0.000000                       0.000000   \n",
       "ZNF90(+)                         0.084902                       0.018653   \n",
       "ZSCAN31(+)                       0.000000                       0.000000   \n",
       "ZSCAN32(+)                       0.011748                       0.046991   \n",
       "ZXDA(+)                          0.020875                       0.036463   \n",
       "\n",
       "            gE_BB22004_TTGGGATAGCCAGTAG-1  gE_BB22004_TTGGGATTCTTCGCTG-1  \\\n",
       "AHR(+)                           0.094102                       0.104042   \n",
       "AR(+)                            0.000000                       0.000000   \n",
       "ARNT(+)                          0.082118                       0.100177   \n",
       "ATF1(+)                          0.061692                       0.037432   \n",
       "ATF2(+)                          0.000000                       0.000000   \n",
       "...                                   ...                            ...   \n",
       "ZNF880(+)                        0.000000                       0.000000   \n",
       "ZNF90(+)                         0.026313                       0.028125   \n",
       "ZSCAN31(+)                       0.000000                       0.000000   \n",
       "ZSCAN32(+)                       0.060546                       0.000000   \n",
       "ZXDA(+)                          0.002485                       0.007952   \n",
       "\n",
       "            gE_BB22004_TTTACCAAGCAAATGT-1  gE_BB22004_TTTGACTGTCGTTGGC-1  \n",
       "AHR(+)                           0.005633                       0.150652  \n",
       "AR(+)                            0.000000                       0.000000  \n",
       "ARNT(+)                          0.000000                       0.015960  \n",
       "ATF1(+)                          0.026777                       0.074708  \n",
       "ATF2(+)                          0.000000                       0.001988  \n",
       "...                                   ...                            ...  \n",
       "ZNF880(+)                        0.000000                       0.000000  \n",
       "ZNF90(+)                         0.028827                       0.026020  \n",
       "ZSCAN31(+)                       0.000000                       0.000000  \n",
       "ZSCAN32(+)                       0.047714                       0.053136  \n",
       "ZXDA(+)                          0.000000                       0.000000  \n",
       "\n",
       "[229 rows x 15084 columns]"
      ]
     },
     "execution_count": 4,
     "metadata": {},
     "output_type": "execute_result"
    }
   ],
   "source": [
    "aux_mtx"
   ]
  },
  {
   "cell_type": "code",
   "execution_count": 5,
   "id": "e3d27bf5",
   "metadata": {},
   "outputs": [
    {
     "ename": "ModuleNotFoundError",
     "evalue": "No module named 'pyscenic'",
     "output_type": "error",
     "traceback": [
      "\u001b[0;31m---------------------------------------------------------------------------\u001b[0m",
      "\u001b[0;31mModuleNotFoundError\u001b[0m                       Traceback (most recent call last)",
      "Input \u001b[0;32mIn [5]\u001b[0m, in \u001b[0;36m<cell line: 1>\u001b[0;34m()\u001b[0m\n\u001b[0;32m----> 1\u001b[0m \u001b[38;5;28;01mfrom\u001b[39;00m \u001b[38;5;21;01mpyscenic\u001b[39;00m\u001b[38;5;21;01m.\u001b[39;00m\u001b[38;5;21;01mbinarization\u001b[39;00m \u001b[38;5;28;01mimport\u001b[39;00m binarize\n",
      "\u001b[0;31mModuleNotFoundError\u001b[0m: No module named 'pyscenic'"
     ]
    }
   ],
   "source": [
    "from pyscenic.binarization import binarize"
   ]
  }
 ],
 "metadata": {
  "kernelspec": {
   "display_name": "Python 3 (ipykernel)",
   "language": "python",
   "name": "python3"
  },
  "language_info": {
   "codemirror_mode": {
    "name": "ipython",
    "version": 3
   },
   "file_extension": ".py",
   "mimetype": "text/x-python",
   "name": "python",
   "nbconvert_exporter": "python",
   "pygments_lexer": "ipython3",
   "version": "3.9.15"
  }
 },
 "nbformat": 4,
 "nbformat_minor": 5
}
